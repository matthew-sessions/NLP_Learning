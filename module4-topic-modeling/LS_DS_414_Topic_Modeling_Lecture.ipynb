{
 "cells": [
  {
   "cell_type": "markdown",
   "metadata": {},
   "source": [
    "Lambda School Data Science\n",
    "\n",
    "*Unit 4, Sprint 1, Module 4*\n",
    "\n",
    "---"
   ]
  },
  {
   "cell_type": "markdown",
   "metadata": {},
   "source": [
    "# Topic Modeling (Prepare)"
   ]
  },
  {
   "cell_type": "markdown",
   "metadata": {},
   "source": [
    "# Latent Dirchilet Allocation (LDA) Models (Prepare)\n",
    "<a id=\"#p1\"></a>"
   ]
  },
  {
   "cell_type": "markdown",
   "metadata": {},
   "source": [
    "## Overview\n",
    "LDA is a \"generative probabilistic model\". \n",
    "\n",
    "Let's play with a modoel available [here](https://lettier.com/projects/lda-topic-modeling/)"
   ]
  },
  {
   "cell_type": "markdown",
   "metadata": {},
   "source": [
    "## Follow Along"
   ]
  },
  {
   "cell_type": "markdown",
   "metadata": {},
   "source": [
    "## Challenge "
   ]
  },
  {
   "cell_type": "markdown",
   "metadata": {},
   "source": [
    "# Estimating LDA Models with Gensim (Learn)\n",
    "<a id=\"#p1\"></a>"
   ]
  },
  {
   "cell_type": "markdown",
   "metadata": {
    "toc-hr-collapsed": true
   },
   "source": [
    "## Overview\n",
    "### A Litterary Introduction: *Jane Austen V. Charlotte Bronte*\n",
    "Despite being born nearly forty years apart, modern fans often pit Jane Austen & Charlotte Bronte against one another in a battle for litterary  supremacy. The battle centers around the topics of education for women, courting, and marriage. The authors' similiar backgrounds naturally draw comparisons, but the modern fascination is probably due to novelility of British women publishing novels during the early 19th century. \n",
    "\n",
    "Can we help close a litterary battle for supremacy and simply acknowledge that the authors addressed different topics and deserve to be acknowledged as excellent authors each in their own right?\n",
    "\n",
    "We're going to apply Latent Dirichlet Allocation a machine learning alogrithm for topic modeling to each of the author's novels to compare the distribution of topics in their novels."
   ]
  },
  {
   "cell_type": "code",
   "execution_count": 8,
   "metadata": {},
   "outputs": [],
   "source": [
    "import numpy as np\n",
    "import gensim\n",
    "import os\n",
    "import re\n",
    "\n",
    "from gensim.utils import simple_preprocess\n",
    "from gensim.parsing.preprocessing import STOPWORDS\n",
    "from gensim import corpora\n",
    "\n",
    "from gensim.models.ldamulticore import LdaMulticore\n",
    "\n",
    "import pandas as pd"
   ]
  },
  {
   "cell_type": "markdown",
   "metadata": {},
   "source": [
    "### Novel Data\n",
    "I grabbed the novel data pre-split into a bunch of smaller chuncks"
   ]
  },
  {
   "cell_type": "code",
   "execution_count": 48,
   "metadata": {},
   "outputs": [],
   "source": [
    "path = './data/austen-brontë-split'"
   ]
  },
  {
   "cell_type": "code",
   "execution_count": 5,
   "metadata": {},
   "outputs": [],
   "source": [
    "def tokenize(text):\n",
    "    return([token for token in simple_preprocess(text) if token in STOPWORDS])"
   ]
  },
  {
   "cell_type": "code",
   "execution_count": 6,
   "metadata": {},
   "outputs": [],
   "source": [
    "import os\n",
    "\n",
    "def gather_data(path_to_data): \n",
    "    data = []\n",
    "    \n",
    "    for f in os.listdir(path):\n",
    "        if f[-3:] == 'txt':\n",
    "            with open(os.path.join(path,f)) as t:\n",
    "                text = t.read().strip('\\n')\n",
    "                data.append(tokenize(str(text)))\n",
    "            \n",
    "    return data"
   ]
  },
  {
   "cell_type": "code",
   "execution_count": 9,
   "metadata": {},
   "outputs": [],
   "source": [
    "df = pd.DataFrame([])"
   ]
  },
  {
   "cell_type": "code",
   "execution_count": 10,
   "metadata": {},
   "outputs": [],
   "source": [
    "df['tokens'] = gather_data(path)"
   ]
  },
  {
   "cell_type": "code",
   "execution_count": 12,
   "metadata": {},
   "outputs": [
    {
     "data": {
      "text/plain": [
       "array([list(['by', 'and', 'with', 'and', 'seemed', 'to', 'some', 'of', 'the', 'of', 'and', 'had', 'twenty', 'one', 'in', 'the', 'with', 'very', 'to', 'or', 'her', 'she', 'was', 'the', 'of', 'the', 'two', 'of', 'most', 'and', 'had', 'in', 'of', 'her', 'been', 'of', 'his', 'from', 'very', 'her', 'had', 'too', 'for', 'her', 'to', 'have', 'more', 'than', 'an', 'of', 'her', 'and', 'her', 'had', 'been', 'by', 'an', 'as', 'who', 'had', 'of', 'in', 'had', 'been', 'in', 'less', 'as', 'than', 'very', 'of', 'both', 'but', 'of', 'between', 'it', 'was', 'more', 'the', 'of', 'even', 'before', 'had', 'to', 'the', 'of', 'the', 'of', 'her', 'had', 'her', 'to', 'any', 'and', 'the', 'of', 'being', 'now', 'they', 'had', 'been', 'together', 'as', 'and', 'very', 'and', 'doing', 'just', 'what', 'she', 'but', 'by', 'her', 'own', 'the', 'indeed', 'of', 'were', 'the', 'of', 'rather', 'too', 'much', 'her', 'own', 'and', 'to', 'too', 'well', 'of', 'herself', 'these', 'were', 'the', 'which', 'to', 'her', 'many', 'the', 'however', 'was', 'at', 'so', 'that', 'they', 'did', 'not', 'by', 'any', 'as', 'with', 'her', 'but', 'not', 'at', 'all', 'in', 'the', 'of', 'any', 'it', 'was', 'which', 'first', 'it', 'was', 'on', 'the', 'of', 'this', 'that', 'first', 'in', 'of', 'any', 'the', 'over', 'and', 'the', 'her', 'and', 'herself', 'were', 'to', 'together', 'with', 'no', 'of', 'third', 'to', 'her', 'himself', 'to', 'after', 'as', 'and', 'she', 'had', 'then', 'only', 'to', 'and', 'of', 'what', 'she', 'had', 'the', 'had', 'every', 'of', 'for', 'her', 'was', 'of', 'and', 'and', 'there', 'was', 'some', 'in', 'with', 'what', 'she', 'had', 'always', 'and', 'the', 'but', 'it', 'was', 'for', 'her', 'the', 'of', 'would', 'be', 'every', 'of', 'every', 'she', 'her', 'the', 'the', 'of', 'how', 'she', 'had', 'and', 'how', 'she', 'had', 'with', 'her', 'from', 'five', 'how', 'she', 'had', 'all', 'her', 'to', 'and', 'her', 'in', 'and', 'how', 'her', 'through', 'the', 'various', 'of', 'of', 'was', 'here', 'but', 'the', 'of', 'the', 'last', 'the', 'and', 'which', 'had', 'on', 'their', 'being', 'to', 'each', 'other', 'was', 'yet', 'she', 'had', 'been', 'and', 'such', 'as', 'few', 'well', 'all', 'the', 'of', 'the', 'in', 'all', 'its', 'and', 'in', 'herself', 'in', 'every', 'every', 'of', 'hers', 'one', 'to', 'whom', 'she', 'could', 'every', 'as', 'it', 'and', 'who', 'had', 'such', 'an', 'for', 'her', 'as', 'could', 'never', 'find', 'how', 'was', 'she', 'to', 'the', 'it', 'was', 'that', 'her', 'was', 'only', 'from', 'them', 'but', 'was', 'that', 'must', 'be', 'the', 'between', 'only', 'from', 'them', 'and', 'in', 'the', 'and', 'with', 'all', 'her', 'and', 'she', 'was', 'now', 'in', 'of', 'from', 'she', 'her', 'but', 'he', 'was', 'no', 'for', 'her', 'he', 'could', 'not', 'her', 'in', 'or', 'the', 'of', 'the', 'in', 'their', 'and', 'had', 'not', 'was', 'much', 'by', 'his', 'and', 'for', 'been', 'all', 'his', 'without', 'of', 'or', 'he', 'was', 'much', 'in', 'than', 'in', 'and', 'though', 'everywhere', 'for', 'the', 'of', 'his', 'and', 'his', 'his', 'could', 'not', 'have', 'him', 'at', 'any', 'her', 'though', 'but', 'by', 'being', 'in', 'only', 'off', 'was', 'much', 'beyond', 'her', 'and', 'many', 'and', 'must', 'be', 'through', 'at', 'before', 'the', 'next', 'from', 'and', 'her', 'and', 'their', 'to', 'fill', 'the', 'and', 'give', 'her', 'again', 'the', 'and', 'almost', 'to', 'to', 'which', 'in', 'of', 'its', 'and', 'and', 'name', 'did', 'really', 'her', 'no', 'the', 'were', 'first', 'in', 'there', 'all', 'up', 'to', 'them', 'she', 'had', 'many', 'in', 'the', 'for', 'her', 'was', 'but', 'not', 'one', 'among', 'them', 'who', 'could', 'be', 'in', 'of', 'for', 'even', 'it', 'was', 'and', 'could', 'not', 'but', 'over', 'it', 'and', 'for', 'her', 'and', 'made', 'it', 'to', 'be', 'his', 'he', 'was', 'of', 'every', 'that', 'he', 'was', 'used', 'to', 'and', 'to', 'part', 'with', 'them', 'of', 'every', 'as', 'the', 'of', 'was', 'always', 'and', 'he', 'was', 'by', 'no', 'yet', 'to', 'his', 'own', 'nor', 'could', 'ever', 'of', 'her', 'but', 'with', 'though', 'it', 'had', 'been', 'of', 'when', 'he', 'was', 'now', 'to', 'part', 'with', 'too', 'and', 'from', 'his', 'of', 'and', 'of', 'being', 'never', 'to', 'that', 'other', 'could', 'from', 'himself', 'he', 'was', 'very', 'much', 'to', 'had', 'done', 'as', 'for', 'herself', 'as', 'for', 'them', 'and', 'would', 'have', 'been', 'if', 'she', 'had', 'all', 'the', 'of', 'her', 'at', 'and', 'as', 'as', 'she', 'could', 'to', 'keep', 'him', 'from', 'such', 'but', 'when', 'it', 'was', 'for', 'him', 'not', 'to', 'say', 'as', 'he', 'had', 'at'])],\n",
       "      dtype=object)"
      ]
     },
     "execution_count": 12,
     "metadata": {},
     "output_type": "execute_result"
    }
   ],
   "source": [
    "df.values[0]"
   ]
  },
  {
   "cell_type": "code",
   "execution_count": 14,
   "metadata": {},
   "outputs": [
    {
     "data": {
      "text/plain": [
       "'this is a sample string with a  newline character'"
      ]
     },
     "execution_count": 14,
     "metadata": {},
     "output_type": "execute_result"
    }
   ],
   "source": [
    "\"this is a sample string with a \\n newline character\".replace('\\n', '')"
   ]
  },
  {
   "cell_type": "code",
   "execution_count": 13,
   "metadata": {},
   "outputs": [
    {
     "data": {
      "text/plain": [
       "0    [by, and, with, and, seemed, to, some, of, the...\n",
       "1    [she, were, here, again, what, it, is, that, e...\n",
       "2    [all, every, was, every, in, their, not, and, ...\n",
       "3    [of, and, of, which, for, the, last, two, or, ...\n",
       "4    [some, of, the, had, you, have, of, the, has, ...\n",
       "Name: tokens, dtype: object"
      ]
     },
     "execution_count": 13,
     "metadata": {},
     "output_type": "execute_result"
    }
   ],
   "source": [
    "df['tokens'].head()"
   ]
  },
  {
   "cell_type": "markdown",
   "metadata": {
    "toc-hr-collapsed": true
   },
   "source": [
    "## Follow Along"
   ]
  },
  {
   "cell_type": "markdown",
   "metadata": {},
   "source": [
    "### Text Preprocessing\n",
    "**Challenge**: update the function `tokenize` with any technique you have learned so far this week. "
   ]
  },
  {
   "cell_type": "code",
   "execution_count": 14,
   "metadata": {},
   "outputs": [],
   "source": [
    "titles = [t[:-4] for t in os.listdir(path)]"
   ]
  },
  {
   "cell_type": "code",
   "execution_count": 15,
   "metadata": {},
   "outputs": [
    {
     "data": {
      "text/plain": [
       "['Austen_Emma0000',\n",
       " 'Austen_Emma0001',\n",
       " 'Austen_Emma0002',\n",
       " 'Austen_Emma0003',\n",
       " 'Austen_Emma0004']"
      ]
     },
     "execution_count": 15,
     "metadata": {},
     "output_type": "execute_result"
    }
   ],
   "source": [
    "titles[:5]"
   ]
  },
  {
   "cell_type": "code",
   "execution_count": 16,
   "metadata": {},
   "outputs": [],
   "source": [
    "STOPWORDS = set(STOPWORDS).union(set(['said', 'mr', 'mrs']))\n",
    "\n",
    "def tokenize(text):\n",
    "    return [token for token in simple_preprocess(text) if token not in STOPWORDS]"
   ]
  },
  {
   "cell_type": "code",
   "execution_count": 17,
   "metadata": {},
   "outputs": [
    {
     "data": {
      "text/plain": [
       "['hello', 'world', 'test', 'tokenization', 'method']"
      ]
     },
     "execution_count": 17,
     "metadata": {},
     "output_type": "execute_result"
    }
   ],
   "source": [
    "tokenize(\"Hello World! This a test of the tokenization method\")"
   ]
  },
  {
   "cell_type": "markdown",
   "metadata": {},
   "source": [
    "### Author DataFrame\n"
   ]
  },
  {
   "cell_type": "code",
   "execution_count": 18,
   "metadata": {},
   "outputs": [],
   "source": [
    "df = pd.DataFrame(index=titles)"
   ]
  },
  {
   "cell_type": "code",
   "execution_count": 10,
   "metadata": {},
   "outputs": [
    {
     "data": {
      "text/html": [
       "<div>\n",
       "<style scoped>\n",
       "    .dataframe tbody tr th:only-of-type {\n",
       "        vertical-align: middle;\n",
       "    }\n",
       "\n",
       "    .dataframe tbody tr th {\n",
       "        vertical-align: top;\n",
       "    }\n",
       "\n",
       "    .dataframe thead th {\n",
       "        text-align: right;\n",
       "    }\n",
       "</style>\n",
       "<table border=\"1\" class=\"dataframe\">\n",
       "  <thead>\n",
       "    <tr style=\"text-align: right;\">\n",
       "      <th></th>\n",
       "    </tr>\n",
       "  </thead>\n",
       "  <tbody>\n",
       "    <tr>\n",
       "      <th>Austen_Emma0026</th>\n",
       "    </tr>\n",
       "    <tr>\n",
       "      <th>Austen_Emma0032</th>\n",
       "    </tr>\n",
       "    <tr>\n",
       "      <th>CBronte_Villette0086</th>\n",
       "    </tr>\n",
       "    <tr>\n",
       "      <th>CBronte_Jane0099</th>\n",
       "    </tr>\n",
       "    <tr>\n",
       "      <th>CBronte_Villette0092</th>\n",
       "    </tr>\n",
       "  </tbody>\n",
       "</table>\n",
       "</div>"
      ],
      "text/plain": [
       "Empty DataFrame\n",
       "Columns: []\n",
       "Index: [Austen_Emma0026, Austen_Emma0032, CBronte_Villette0086, CBronte_Jane0099, CBronte_Villette0092]"
      ]
     },
     "execution_count": 10,
     "metadata": {},
     "output_type": "execute_result"
    }
   ],
   "source": [
    "df.head()"
   ]
  },
  {
   "cell_type": "code",
   "execution_count": 20,
   "metadata": {},
   "outputs": [
    {
     "data": {
      "text/html": [
       "<div>\n",
       "<style scoped>\n",
       "    .dataframe tbody tr th:only-of-type {\n",
       "        vertical-align: middle;\n",
       "    }\n",
       "\n",
       "    .dataframe tbody tr th {\n",
       "        vertical-align: top;\n",
       "    }\n",
       "\n",
       "    .dataframe thead th {\n",
       "        text-align: right;\n",
       "    }\n",
       "</style>\n",
       "<table border=\"1\" class=\"dataframe\">\n",
       "  <thead>\n",
       "    <tr style=\"text-align: right;\">\n",
       "      <th></th>\n",
       "      <th>author</th>\n",
       "    </tr>\n",
       "  </thead>\n",
       "  <tbody>\n",
       "    <tr>\n",
       "      <th>Austen_Emma0000</th>\n",
       "      <td>Austen</td>\n",
       "    </tr>\n",
       "    <tr>\n",
       "      <th>Austen_Emma0001</th>\n",
       "      <td>Austen</td>\n",
       "    </tr>\n",
       "    <tr>\n",
       "      <th>Austen_Emma0002</th>\n",
       "      <td>Austen</td>\n",
       "    </tr>\n",
       "    <tr>\n",
       "      <th>Austen_Emma0003</th>\n",
       "      <td>Austen</td>\n",
       "    </tr>\n",
       "    <tr>\n",
       "      <th>Austen_Emma0004</th>\n",
       "      <td>Austen</td>\n",
       "    </tr>\n",
       "  </tbody>\n",
       "</table>\n",
       "</div>"
      ],
      "text/plain": [
       "                 author\n",
       "Austen_Emma0000  Austen\n",
       "Austen_Emma0001  Austen\n",
       "Austen_Emma0002  Austen\n",
       "Austen_Emma0003  Austen\n",
       "Austen_Emma0004  Austen"
      ]
     },
     "execution_count": 20,
     "metadata": {},
     "output_type": "execute_result"
    }
   ],
   "source": [
    "df['author'] = df.reset_index()['index'].apply(lambda x: x.split('_')[0]).tolist()\n",
    "df.head()"
   ]
  },
  {
   "cell_type": "code",
   "execution_count": null,
   "metadata": {},
   "outputs": [],
   "source": [
    "df[j]"
   ]
  },
  {
   "cell_type": "code",
   "execution_count": 21,
   "metadata": {},
   "outputs": [],
   "source": [
    "\n",
    "df['book'] = df.reset_index()['index'].apply(lambda x: x.split('_')[1][:-4]).tolist()\n",
    "df['section'] = df.reset_index()['index'].apply(lambda x: x[-4:]).tolist()\n",
    "df['section'] = df['section'].astype('int')"
   ]
  },
  {
   "cell_type": "code",
   "execution_count": 22,
   "metadata": {},
   "outputs": [
    {
     "data": {
      "text/html": [
       "<div>\n",
       "<style scoped>\n",
       "    .dataframe tbody tr th:only-of-type {\n",
       "        vertical-align: middle;\n",
       "    }\n",
       "\n",
       "    .dataframe tbody tr th {\n",
       "        vertical-align: top;\n",
       "    }\n",
       "\n",
       "    .dataframe thead th {\n",
       "        text-align: right;\n",
       "    }\n",
       "</style>\n",
       "<table border=\"1\" class=\"dataframe\">\n",
       "  <thead>\n",
       "    <tr style=\"text-align: right;\">\n",
       "      <th></th>\n",
       "      <th>author</th>\n",
       "      <th>book</th>\n",
       "      <th>section</th>\n",
       "    </tr>\n",
       "  </thead>\n",
       "  <tbody>\n",
       "    <tr>\n",
       "      <th>Austen_Emma0000</th>\n",
       "      <td>Austen</td>\n",
       "      <td>Emma</td>\n",
       "      <td>0</td>\n",
       "    </tr>\n",
       "    <tr>\n",
       "      <th>Austen_Emma0001</th>\n",
       "      <td>Austen</td>\n",
       "      <td>Emma</td>\n",
       "      <td>1</td>\n",
       "    </tr>\n",
       "    <tr>\n",
       "      <th>Austen_Emma0002</th>\n",
       "      <td>Austen</td>\n",
       "      <td>Emma</td>\n",
       "      <td>2</td>\n",
       "    </tr>\n",
       "    <tr>\n",
       "      <th>Austen_Emma0003</th>\n",
       "      <td>Austen</td>\n",
       "      <td>Emma</td>\n",
       "      <td>3</td>\n",
       "    </tr>\n",
       "    <tr>\n",
       "      <th>Austen_Emma0004</th>\n",
       "      <td>Austen</td>\n",
       "      <td>Emma</td>\n",
       "      <td>4</td>\n",
       "    </tr>\n",
       "  </tbody>\n",
       "</table>\n",
       "</div>"
      ],
      "text/plain": [
       "                 author  book  section\n",
       "Austen_Emma0000  Austen  Emma        0\n",
       "Austen_Emma0001  Austen  Emma        1\n",
       "Austen_Emma0002  Austen  Emma        2\n",
       "Austen_Emma0003  Austen  Emma        3\n",
       "Austen_Emma0004  Austen  Emma        4"
      ]
     },
     "execution_count": 22,
     "metadata": {},
     "output_type": "execute_result"
    }
   ],
   "source": [
    "df.head()"
   ]
  },
  {
   "cell_type": "code",
   "execution_count": 23,
   "metadata": {},
   "outputs": [
    {
     "data": {
      "text/html": [
       "<div>\n",
       "<style scoped>\n",
       "    .dataframe tbody tr th:only-of-type {\n",
       "        vertical-align: middle;\n",
       "    }\n",
       "\n",
       "    .dataframe tbody tr th {\n",
       "        vertical-align: top;\n",
       "    }\n",
       "\n",
       "    .dataframe thead th {\n",
       "        text-align: right;\n",
       "    }\n",
       "</style>\n",
       "<table border=\"1\" class=\"dataframe\">\n",
       "  <thead>\n",
       "    <tr style=\"text-align: right;\">\n",
       "      <th></th>\n",
       "      <th>author</th>\n",
       "      <th>book</th>\n",
       "      <th>section</th>\n",
       "    </tr>\n",
       "  </thead>\n",
       "  <tbody>\n",
       "    <tr>\n",
       "      <th>Austen_Emma0000</th>\n",
       "      <td>1</td>\n",
       "      <td>Emma</td>\n",
       "      <td>0</td>\n",
       "    </tr>\n",
       "    <tr>\n",
       "      <th>Austen_Emma0001</th>\n",
       "      <td>1</td>\n",
       "      <td>Emma</td>\n",
       "      <td>1</td>\n",
       "    </tr>\n",
       "    <tr>\n",
       "      <th>Austen_Emma0002</th>\n",
       "      <td>1</td>\n",
       "      <td>Emma</td>\n",
       "      <td>2</td>\n",
       "    </tr>\n",
       "    <tr>\n",
       "      <th>Austen_Emma0003</th>\n",
       "      <td>1</td>\n",
       "      <td>Emma</td>\n",
       "      <td>3</td>\n",
       "    </tr>\n",
       "    <tr>\n",
       "      <th>Austen_Emma0004</th>\n",
       "      <td>1</td>\n",
       "      <td>Emma</td>\n",
       "      <td>4</td>\n",
       "    </tr>\n",
       "  </tbody>\n",
       "</table>\n",
       "</div>"
      ],
      "text/plain": [
       "                 author  book  section\n",
       "Austen_Emma0000       1  Emma        0\n",
       "Austen_Emma0001       1  Emma        1\n",
       "Austen_Emma0002       1  Emma        2\n",
       "Austen_Emma0003       1  Emma        3\n",
       "Austen_Emma0004       1  Emma        4"
      ]
     },
     "execution_count": 23,
     "metadata": {},
     "output_type": "execute_result"
    }
   ],
   "source": [
    "df['author'] = df['author'].map({'Austen':1, 'CBronte':0})\n",
    "df.head()"
   ]
  },
  {
   "cell_type": "code",
   "execution_count": null,
   "metadata": {},
   "outputs": [],
   "source": []
  },
  {
   "cell_type": "code",
   "execution_count": 24,
   "metadata": {},
   "outputs": [
    {
     "data": {
      "text/plain": [
       "0    441\n",
       "1    372\n",
       "Name: author, dtype: int64"
      ]
     },
     "execution_count": 24,
     "metadata": {},
     "output_type": "execute_result"
    }
   ],
   "source": [
    "df.author.value_counts()"
   ]
  },
  {
   "cell_type": "markdown",
   "metadata": {},
   "source": [
    "### Streaming Documents\n",
    "Here we use a new pythonic thingy: the `yield` statement in our fucntion. This allows us to iterate over a bunch of documents without actually reading them into memory. You can see how we use this fucntion later on. "
   ]
  },
  {
   "cell_type": "code",
   "execution_count": 58,
   "metadata": {},
   "outputs": [],
   "source": [
    "def doc_stream(path):\n",
    "    for f in os.listdir(path):\n",
    "        with open(os.path.join(path,f)) as t:\n",
    "            text = t.read().strip('\\n')\n",
    "            tokens = tokenize(str(text))\n",
    "            yield tokens"
   ]
  },
  {
   "cell_type": "code",
   "execution_count": 59,
   "metadata": {},
   "outputs": [],
   "source": [
    "streaming_data = doc_stream(path)"
   ]
  },
  {
   "cell_type": "code",
   "execution_count": 54,
   "metadata": {},
   "outputs": [
    {
     "name": "stdout",
     "output_type": "stream",
     "text": [
      "['__class__', '__del__', '__delattr__', '__dir__', '__doc__', '__eq__', '__format__', '__ge__', '__getattribute__', '__gt__', '__hash__', '__init__', '__init_subclass__', '__iter__', '__le__', '__lt__', '__name__', '__ne__', '__new__', '__next__', '__qualname__', '__reduce__', '__reduce_ex__', '__repr__', '__setattr__', '__sizeof__', '__str__', '__subclasshook__', 'close', 'gi_code', 'gi_frame', 'gi_running', 'gi_yieldfrom', 'send', 'throw']\n"
     ]
    }
   ],
   "source": [
    "print(dir(streaming_data))"
   ]
  },
  {
   "cell_type": "code",
   "execution_count": 94,
   "metadata": {},
   "outputs": [
    {
     "name": "stdout",
     "output_type": "stream",
     "text": [
      "['taylor', 'wish', 'pity', 'weston', 'thought', 'agree', 'papa', 'know', 'weston', 'good', 'humoured', 'pleasant', 'excellent', 'man', 'thoroughly', 'deserves', 'good', 'wife', 'miss', 'taylor', 'live', 'bear', 'odd', 'humours', 'house', 'house', 'advantage', 'house', 'times', 'large', 'odd', 'humours', 'dear', 'shall', 'going', 'coming', 'shall', 'meeting', 'begin', 'pay', 'wedding', 'visit', 'soon', 'dear', 'far', 'randalls', 'distance', 'walk', 'half', 'far', 'papa', 'thought', 'walking', 'carriage', 'sure', 'carriage', 'james', 'like', 'horses', 'little', 'way', 'poor', 'horses', 'paying', 'visit', 'weston', 'stable', 'papa', 'know', 'settled', 'talked', 'weston', 'night', 'james', 'sure', 'like', 'going', 'randalls', 'daughter', 'housemaid', 'doubt', 'papa', 'got', 'hannah', 'good', 'place', 'thought', 'hannah', 'till', 'mentioned', 'james', 'obliged', 'glad', 'think', 'lucky', 'poor', 'james', 'think', 'slighted', 'account', 'sure', 'good', 'servant', 'civil', 'pretty', 'spoken', 'girl', 'great', 'opinion', 'curtseys', 'asks', 'pretty', 'manner', 'needlework', 'observe', 'turns', 'lock', 'door', 'right', 'way', 'bangs', 'sure', 'excellent', 'servant', 'great', 'comfort', 'poor', 'miss', 'taylor', 'somebody', 'james', 'goes', 'daughter', 'know', 'hearing', 'able', 'tell', 'emma', 'spared', 'exertions', 'maintain', 'happier', 'flow', 'ideas', 'hoped', 'help', 'backgammon', 'father', 'tolerably', 'evening', 'attacked', 'regrets', 'backgammon', 'table', 'placed', 'visitor', 'immediately', 'walked', 'unnecessary', 'knightley', 'sensible', 'man', 'seven', 'thirty', 'old', 'intimate', 'friend', 'family', 'particularly', 'connected', 'elder', 'brother', 'isabella', 'husband', 'lived', 'mile', 'highbury', 'frequent', 'visitor', 'welcome', 'time', 'welcome', 'usual', 'coming', 'directly', 'mutual', 'connexions', 'london', 'returned', 'late', 'dinner', 'days', 'absence', 'walked', 'hartfield', 'brunswick', 'square', 'happy', 'circumstance', 'animated', 'woodhouse', 'time', 'knightley', 'cheerful', 'manner', 'good', 'inquiries', 'poor', 'isabella', 'children', 'answered', 'satisfactorily', 'woodhouse', 'gratefully', 'observed', 'kind', 'knightley', 'come', 'late', 'hour', 'afraid', 'shocking', 'walk', 'sir', 'beautiful', 'moonlight', 'night', 'mild', 'draw', 'great', 'damp', 'dirty', 'wish', 'catch', 'cold', 'dirty', 'sir', 'look', 'shoes', 'speck', 'surprising', 'vast', 'deal', 'rain', 'rained', 'dreadfully', 'hard', 'half', 'hour', 'breakfast', 'wanted', 'wedding', 'bye', 'wished', 'joy', 'pretty', 'aware', 'sort', 'joy', 'feeling', 'hurry', 'congratulations', 'hope', 'went', 'tolerably', 'behave', 'cried', 'ah', 'poor', 'miss', 'taylor', 'tis', 'sad', 'business', 'poor', 'miss', 'woodhouse', 'possibly', 'poor', 'miss', 'taylor', 'great', 'regard', 'emma', 'comes', 'question', 'dependence', 'independence', 'rate', 'better', 'especially', 'fanciful', 'troublesome', 'creature', 'emma', 'playfully', 'head', 'know', 'certainly', 'father', 'believe', 'true', 'dear', 'woodhouse', 'sigh', 'afraid', 'fanciful', 'troublesome', 'dearest', 'papa', 'think', 'mean', 'suppose', 'knightley', 'mean', 'horrible', 'idea', 'oh', 'meant', 'knightley', 'loves', 'fault', 'know', 'joke', 'joke', 'like', 'knightley', 'fact', 'people', 'faults', 'emma', 'woodhouse', 'told', 'particularly', 'agreeable', 'emma', 'knew', 'father', 'suspect', 'circumstance', 'thought', 'perfect', 'body', 'emma', 'knows', 'flatter', 'knightley', 'meant', 'reflection', 'body', 'miss', 'taylor', 'persons', 'chances', 'gainer', 'emma', 'willing', 'let', 'pass', 'want', 'hear', 'wedding', 'shall', 'happy', 'tell']\n"
     ]
    }
   ],
   "source": [
    "print(next(streaming_data))"
   ]
  },
  {
   "cell_type": "markdown",
   "metadata": {},
   "source": [
    "### Gensim LDA Topic Modeling"
   ]
  },
  {
   "cell_type": "code",
   "execution_count": 78,
   "metadata": {},
   "outputs": [],
   "source": [
    "# A Dictionary Representation of all the words in our corpus\n",
    "id2word = corpora.Dictionary(doc_stream(path))"
   ]
  },
  {
   "cell_type": "code",
   "execution_count": 83,
   "metadata": {},
   "outputs": [
    {
     "data": {
      "text/plain": [
       "8882"
      ]
     },
     "execution_count": 83,
     "metadata": {},
     "output_type": "execute_result"
    }
   ],
   "source": [
    "id2word.token2id['gun']"
   ]
  },
  {
   "cell_type": "code",
   "execution_count": 84,
   "metadata": {},
   "outputs": [
    {
     "data": {
      "text/plain": [
       "'domestic'"
      ]
     },
     "execution_count": 84,
     "metadata": {},
     "output_type": "execute_result"
    }
   ],
   "source": [
    "id2word[86]"
   ]
  },
  {
   "cell_type": "code",
   "execution_count": 90,
   "metadata": {},
   "outputs": [
    {
     "data": {
      "text/plain": [
       "[(2754, 1), (3987, 3), (6602, 1), (6819, 1)]"
      ]
     },
     "execution_count": 90,
     "metadata": {},
     "output_type": "execute_result"
    }
   ],
   "source": [
    "id2word.doc2bow(tokenize(\"This is a sample message Darcy England England England\"))"
   ]
  },
  {
   "cell_type": "code",
   "execution_count": 91,
   "metadata": {},
   "outputs": [
    {
     "data": {
      "text/plain": [
       "56"
      ]
     },
     "execution_count": 91,
     "metadata": {},
     "output_type": "execute_result"
    }
   ],
   "source": [
    "import sys\n",
    "sys.getsizeof(id2word)"
   ]
  },
  {
   "cell_type": "code",
   "execution_count": 92,
   "metadata": {},
   "outputs": [
    {
     "data": {
      "text/plain": [
       "22098"
      ]
     },
     "execution_count": 92,
     "metadata": {},
     "output_type": "execute_result"
    }
   ],
   "source": [
    "len(id2word.keys())"
   ]
  },
  {
   "cell_type": "code",
   "execution_count": 95,
   "metadata": {},
   "outputs": [],
   "source": [
    "# Let's remove extreme values from the dataset\n",
    "id2word.filter_extremes(no_below=5, no_above=0.95)"
   ]
  },
  {
   "cell_type": "code",
   "execution_count": 96,
   "metadata": {},
   "outputs": [
    {
     "data": {
      "text/plain": [
       "8103"
      ]
     },
     "execution_count": 96,
     "metadata": {},
     "output_type": "execute_result"
    }
   ],
   "source": [
    "len(id2word.keys())"
   ]
  },
  {
   "cell_type": "code",
   "execution_count": 97,
   "metadata": {},
   "outputs": [],
   "source": [
    "# a bag of words(bow) representation of our corpus\n",
    "# Note: we haven't actually read any text into memory here\n",
    "corpus = [id2word.doc2bow(text) for text in doc_stream(path)]"
   ]
  },
  {
   "cell_type": "code",
   "execution_count": 98,
   "metadata": {},
   "outputs": [
    {
     "data": {
      "text/plain": [
       "[(0, 1),\n",
       " (1, 1),\n",
       " (2, 1),\n",
       " (3, 1),\n",
       " (4, 1),\n",
       " (5, 1),\n",
       " (6, 4),\n",
       " (7, 1),\n",
       " (8, 1),\n",
       " (9, 1)]"
      ]
     },
     "execution_count": 98,
     "metadata": {},
     "output_type": "execute_result"
    }
   ],
   "source": [
    "corpus[0][:10]"
   ]
  },
  {
   "cell_type": "code",
   "execution_count": 99,
   "metadata": {},
   "outputs": [],
   "source": [
    "lda = LdaMulticore(corpus=corpus,\n",
    "                   id2word=id2word,\n",
    "                   random_state=723812,\n",
    "                   num_topics = 15,\n",
    "                   passes=10,\n",
    "                   workers=8\n",
    "                  )"
   ]
  },
  {
   "cell_type": "code",
   "execution_count": 100,
   "metadata": {},
   "outputs": [
    {
     "data": {
      "text/plain": [
       "[(0,\n",
       "  '0.025*\"elinor\" + 0.021*\"marianne\" + 0.010*\"edward\" + 0.009*\"dashwood\" + 0.008*\"jennings\" + 0.008*\"willoughby\" + 0.008*\"sister\" + 0.007*\"mother\" + 0.007*\"lucy\" + 0.006*\"time\"'),\n",
       " (1,\n",
       "  '0.006*\"little\" + 0.005*\"like\" + 0.004*\"thought\" + 0.004*\"monsieur\" + 0.004*\"madame\" + 0.004*\"know\" + 0.004*\"good\" + 0.004*\"hand\" + 0.003*\"day\" + 0.003*\"time\"'),\n",
       " (2,\n",
       "  '0.005*\"like\" + 0.005*\"night\" + 0.004*\"long\" + 0.004*\"thought\" + 0.004*\"door\" + 0.004*\"little\" + 0.004*\"time\" + 0.004*\"day\" + 0.003*\"house\" + 0.003*\"saw\"'),\n",
       " (3,\n",
       "  '0.009*\"sir\" + 0.005*\"like\" + 0.005*\"jane\" + 0.005*\"know\" + 0.005*\"thought\" + 0.004*\"good\" + 0.004*\"heart\" + 0.004*\"man\" + 0.004*\"life\" + 0.003*\"right\"'),\n",
       " (4,\n",
       "  '0.009*\"miss\" + 0.008*\"little\" + 0.005*\"like\" + 0.005*\"papa\" + 0.004*\"new\" + 0.004*\"thought\" + 0.004*\"day\" + 0.004*\"came\" + 0.004*\"come\" + 0.004*\"think\"'),\n",
       " (5,\n",
       "  '0.008*\"room\" + 0.006*\"dancing\" + 0.006*\"thought\" + 0.005*\"way\" + 0.005*\"dance\" + 0.005*\"like\" + 0.004*\"day\" + 0.004*\"door\" + 0.004*\"time\" + 0.003*\"little\"'),\n",
       " (6,\n",
       "  '0.005*\"jane\" + 0.004*\"heart\" + 0.004*\"old\" + 0.004*\"eye\" + 0.004*\"monsieur\" + 0.004*\"live\" + 0.004*\"lane\" + 0.003*\"like\" + 0.003*\"man\" + 0.003*\"look\"'),\n",
       " (7,\n",
       "  '0.011*\"graham\" + 0.009*\"little\" + 0.007*\"papa\" + 0.006*\"like\" + 0.005*\"bretton\" + 0.005*\"know\" + 0.005*\"door\" + 0.004*\"think\" + 0.004*\"hand\" + 0.004*\"come\"'),\n",
       " (8,\n",
       "  '0.007*\"home\" + 0.005*\"soon\" + 0.005*\"sir\" + 0.005*\"hannah\" + 0.004*\"rochester\" + 0.004*\"like\" + 0.004*\"better\" + 0.004*\"diana\" + 0.004*\"saw\" + 0.003*\"john\"'),\n",
       " (9,\n",
       "  '0.007*\"like\" + 0.007*\"little\" + 0.006*\"rochester\" + 0.006*\"sir\" + 0.005*\"jane\" + 0.004*\"think\" + 0.004*\"good\" + 0.004*\"thought\" + 0.004*\"miss\" + 0.004*\"room\"'),\n",
       " (10,\n",
       "  '0.023*\"emma\" + 0.015*\"harriet\" + 0.014*\"miss\" + 0.012*\"elton\" + 0.010*\"knightley\" + 0.009*\"thing\" + 0.008*\"woodhouse\" + 0.008*\"weston\" + 0.007*\"think\" + 0.007*\"jane\"'),\n",
       " (11,\n",
       "  '0.008*\"elizabeth\" + 0.007*\"miss\" + 0.007*\"know\" + 0.006*\"think\" + 0.005*\"good\" + 0.005*\"little\" + 0.005*\"time\" + 0.005*\"darcy\" + 0.005*\"soon\" + 0.005*\"jane\"'),\n",
       " (12,\n",
       "  '0.009*\"madame\" + 0.006*\"child\" + 0.006*\"good\" + 0.005*\"little\" + 0.004*\"day\" + 0.004*\"reed\" + 0.004*\"dr\" + 0.004*\"brocklehurst\" + 0.004*\"eye\" + 0.004*\"room\"'),\n",
       " (13,\n",
       "  '0.007*\"church\" + 0.005*\"little\" + 0.004*\"time\" + 0.004*\"rome\" + 0.004*\"strange\" + 0.003*\"half\" + 0.003*\"heart\" + 0.003*\"god\" + 0.003*\"great\" + 0.003*\"forward\"'),\n",
       " (14,\n",
       "  '0.020*\"bessie\" + 0.010*\"reed\" + 0.008*\"abbot\" + 0.007*\"miss\" + 0.007*\"like\" + 0.005*\"room\" + 0.005*\"long\" + 0.004*\"thought\" + 0.004*\"school\" + 0.004*\"nursery\"')]"
      ]
     },
     "execution_count": 100,
     "metadata": {},
     "output_type": "execute_result"
    }
   ],
   "source": [
    "lda.print_topics()"
   ]
  },
  {
   "cell_type": "code",
   "execution_count": null,
   "metadata": {},
   "outputs": [],
   "source": []
  },
  {
   "cell_type": "code",
   "execution_count": 101,
   "metadata": {},
   "outputs": [],
   "source": [
    "words = [re.findall(r'\"([^\"]*)\"',t[1]) for t in lda.print_topics()]"
   ]
  },
  {
   "cell_type": "code",
   "execution_count": 102,
   "metadata": {},
   "outputs": [],
   "source": [
    "topics = [' '.join(t[0:5]) for t in words]"
   ]
  },
  {
   "cell_type": "code",
   "execution_count": 103,
   "metadata": {},
   "outputs": [
    {
     "name": "stdout",
     "output_type": "stream",
     "text": [
      "elinor marianne edward dashwood jennings\n",
      "\n",
      "\n",
      "little like thought monsieur madame\n",
      "\n",
      "\n",
      "like night long thought door\n",
      "\n",
      "\n",
      "sir like jane know thought\n",
      "\n",
      "\n",
      "miss little like papa new\n",
      "\n",
      "\n",
      "room dancing thought way dance\n",
      "\n",
      "\n",
      "jane heart old eye monsieur\n",
      "\n",
      "\n",
      "graham little papa like bretton\n",
      "\n",
      "\n",
      "home soon sir hannah rochester\n",
      "\n",
      "\n",
      "like little rochester sir jane\n",
      "\n",
      "\n",
      "emma harriet miss elton knightley\n",
      "\n",
      "\n",
      "elizabeth miss know think good\n",
      "\n",
      "\n",
      "madame child good little day\n",
      "\n",
      "\n",
      "church little time rome strange\n",
      "\n",
      "\n",
      "bessie reed abbot miss like\n",
      "\n",
      "\n"
     ]
    }
   ],
   "source": [
    "for t in topics: \n",
    "    print(t)\n",
    "    print(\"\\n\")"
   ]
  },
  {
   "cell_type": "markdown",
   "metadata": {},
   "source": [
    "## Challenge \n",
    "\n",
    "You will apply an LDA model to a customer review dataset to practice the fitting and estimation of LDA. "
   ]
  },
  {
   "cell_type": "markdown",
   "metadata": {},
   "source": [
    "# Interpret LDA Results (Learn)\n",
    "<a id=\"#p3\"></a>"
   ]
  },
  {
   "cell_type": "markdown",
   "metadata": {},
   "source": [
    "## Overview"
   ]
  },
  {
   "cell_type": "markdown",
   "metadata": {
    "toc-hr-collapsed": true
   },
   "source": [
    "## Follow Along"
   ]
  },
  {
   "cell_type": "markdown",
   "metadata": {},
   "source": [
    "### Topic Distance Visualization"
   ]
  },
  {
   "cell_type": "code",
   "execution_count": 104,
   "metadata": {},
   "outputs": [],
   "source": [
    "import pyLDAvis.gensim\n",
    "\n",
    "pyLDAvis.enable_notebook()"
   ]
  },
  {
   "cell_type": "code",
   "execution_count": 105,
   "metadata": {},
   "outputs": [
    {
     "name": "stderr",
     "output_type": "stream",
     "text": [
      "C:\\Users\\WIN 10\\Anaconda3\\envs\\unit-4\\lib\\site-packages\\pyLDAvis\\_prepare.py:257: FutureWarning: Sorting because non-concatenation axis is not aligned. A future version\n",
      "of pandas will change to not sort by default.\n",
      "\n",
      "To accept the future behavior, pass 'sort=False'.\n",
      "\n",
      "To retain the current behavior and silence the warning, pass 'sort=True'.\n",
      "\n",
      "  return pd.concat([default_term_info] + list(topic_dfs))\n"
     ]
    },
    {
     "data": {
      "text/html": [
       "\n",
       "<link rel=\"stylesheet\" type=\"text/css\" href=\"https://cdn.rawgit.com/bmabey/pyLDAvis/files/ldavis.v1.0.0.css\">\n",
       "\n",
       "\n",
       "<div id=\"ldavis_el172430517747886167892355830\"></div>\n",
       "<script type=\"text/javascript\">\n",
       "\n",
       "var ldavis_el172430517747886167892355830_data = {\"mdsDat\": {\"x\": [-0.1350949202379991, 0.03303566579925853, 0.003466665935503695, -0.16546071005720717, 0.06111319177376362, -0.16662444506827398, 0.015242209371718626, 0.029475741411357708, 0.06115366575361409, 0.0051768525470232436, -0.002029885925468612, 0.04337879183278368, 0.0739005900809812, 0.0888666467773724, 0.054399940005571655], \"y\": [0.035689047481355554, -0.016663053512251183, -0.051298681407216815, 0.008276797368671792, -0.059924467585271486, 0.01799860233322027, -0.10028560860950675, -0.0655235510332797, -0.031203713347184404, -0.033240962785077696, 0.03061727890010595, 0.023180452517725998, 0.09568577175530381, 0.09069491807757281, 0.05599716984583182], \"topics\": [1, 2, 3, 4, 5, 6, 7, 8, 9, 10, 11, 12, 13, 14, 15], \"cluster\": [1, 1, 1, 1, 1, 1, 1, 1, 1, 1, 1, 1, 1, 1, 1], \"Freq\": [25.826873779296875, 22.53860092163086, 14.055024147033691, 11.031938552856445, 9.308050155639648, 8.690083503723145, 3.7605860233306885, 1.433410882949829, 0.8111405372619629, 0.73345547914505, 0.5658472180366516, 0.4456883370876312, 0.29172641038894653, 0.25458404421806335, 0.2529892027378082]}, \"tinfo\": {\"Category\": [\"Default\", \"Default\", \"Default\", \"Default\", \"Default\", \"Default\", \"Default\", \"Default\", \"Default\", \"Default\", \"Default\", \"Default\", \"Default\", \"Default\", \"Default\", \"Default\", \"Default\", \"Default\", \"Default\", \"Default\", \"Default\", \"Default\", \"Default\", \"Default\", \"Default\", \"Default\", \"Default\", \"Default\", \"Default\", \"Default\", \"Topic1\", \"Topic1\", \"Topic1\", \"Topic1\", \"Topic1\", \"Topic1\", \"Topic1\", \"Topic1\", \"Topic1\", \"Topic1\", \"Topic1\", \"Topic1\", \"Topic1\", \"Topic1\", \"Topic1\", \"Topic1\", \"Topic1\", \"Topic1\", \"Topic1\", \"Topic1\", \"Topic1\", \"Topic1\", \"Topic1\", \"Topic1\", \"Topic1\", \"Topic1\", \"Topic1\", \"Topic1\", \"Topic1\", \"Topic1\", \"Topic1\", \"Topic1\", \"Topic1\", \"Topic1\", \"Topic1\", \"Topic1\", \"Topic1\", \"Topic1\", \"Topic1\", \"Topic1\", \"Topic1\", \"Topic1\", \"Topic1\", \"Topic1\", \"Topic1\", \"Topic1\", \"Topic1\", \"Topic1\", \"Topic1\", \"Topic1\", \"Topic1\", \"Topic1\", \"Topic1\", \"Topic1\", \"Topic1\", \"Topic1\", \"Topic1\", \"Topic1\", \"Topic1\", \"Topic1\", \"Topic1\", \"Topic1\", \"Topic1\", \"Topic1\", \"Topic1\", \"Topic1\", \"Topic1\", \"Topic1\", \"Topic1\", \"Topic2\", \"Topic2\", \"Topic2\", \"Topic2\", \"Topic2\", \"Topic2\", \"Topic2\", \"Topic2\", \"Topic2\", \"Topic2\", \"Topic2\", \"Topic2\", \"Topic2\", \"Topic2\", \"Topic2\", \"Topic2\", \"Topic2\", \"Topic2\", \"Topic2\", \"Topic2\", \"Topic2\", \"Topic2\", \"Topic2\", \"Topic2\", \"Topic2\", \"Topic2\", \"Topic2\", \"Topic2\", \"Topic2\", \"Topic2\", \"Topic2\", \"Topic2\", \"Topic2\", \"Topic2\", \"Topic2\", \"Topic2\", \"Topic2\", \"Topic2\", \"Topic2\", \"Topic2\", \"Topic2\", \"Topic2\", \"Topic2\", \"Topic2\", \"Topic2\", \"Topic2\", \"Topic2\", \"Topic2\", \"Topic2\", \"Topic2\", \"Topic2\", \"Topic2\", \"Topic2\", \"Topic2\", \"Topic2\", \"Topic2\", \"Topic2\", \"Topic2\", \"Topic2\", \"Topic2\", \"Topic2\", \"Topic2\", \"Topic2\", \"Topic2\", \"Topic2\", \"Topic2\", \"Topic2\", \"Topic2\", \"Topic2\", \"Topic2\", \"Topic2\", \"Topic2\", \"Topic2\", \"Topic2\", \"Topic2\", \"Topic2\", \"Topic2\", \"Topic2\", \"Topic2\", \"Topic2\", \"Topic2\", \"Topic2\", \"Topic2\", \"Topic2\", \"Topic3\", \"Topic3\", \"Topic3\", \"Topic3\", \"Topic3\", \"Topic3\", \"Topic3\", \"Topic3\", \"Topic3\", \"Topic3\", \"Topic3\", \"Topic3\", \"Topic3\", \"Topic3\", \"Topic3\", \"Topic3\", \"Topic3\", \"Topic3\", \"Topic3\", \"Topic3\", \"Topic3\", \"Topic3\", \"Topic3\", \"Topic3\", \"Topic3\", \"Topic3\", \"Topic3\", \"Topic3\", \"Topic3\", \"Topic3\", \"Topic3\", \"Topic3\", \"Topic3\", \"Topic3\", \"Topic3\", \"Topic3\", \"Topic3\", \"Topic3\", \"Topic3\", \"Topic3\", \"Topic3\", \"Topic3\", \"Topic3\", \"Topic3\", \"Topic3\", \"Topic3\", \"Topic3\", \"Topic3\", \"Topic3\", \"Topic3\", \"Topic3\", \"Topic3\", \"Topic3\", \"Topic3\", \"Topic3\", \"Topic3\", \"Topic3\", \"Topic3\", \"Topic3\", \"Topic3\", \"Topic3\", \"Topic3\", \"Topic3\", \"Topic3\", \"Topic3\", \"Topic3\", \"Topic3\", \"Topic3\", \"Topic3\", \"Topic3\", \"Topic3\", \"Topic3\", \"Topic3\", \"Topic3\", \"Topic3\", \"Topic3\", \"Topic3\", \"Topic3\", \"Topic3\", \"Topic4\", \"Topic4\", \"Topic4\", \"Topic4\", \"Topic4\", \"Topic4\", \"Topic4\", \"Topic4\", \"Topic4\", \"Topic4\", \"Topic4\", \"Topic4\", \"Topic4\", \"Topic4\", \"Topic4\", \"Topic4\", \"Topic4\", \"Topic4\", \"Topic4\", \"Topic4\", \"Topic4\", \"Topic4\", \"Topic4\", \"Topic4\", \"Topic4\", \"Topic4\", \"Topic4\", \"Topic4\", \"Topic4\", \"Topic4\", \"Topic4\", \"Topic4\", \"Topic4\", \"Topic4\", \"Topic4\", \"Topic4\", \"Topic4\", \"Topic4\", \"Topic4\", \"Topic4\", \"Topic4\", \"Topic4\", \"Topic4\", \"Topic4\", \"Topic4\", \"Topic4\", \"Topic4\", \"Topic4\", \"Topic4\", \"Topic4\", \"Topic4\", \"Topic4\", \"Topic4\", \"Topic4\", \"Topic4\", \"Topic4\", \"Topic4\", \"Topic4\", \"Topic4\", \"Topic4\", \"Topic4\", \"Topic4\", \"Topic5\", \"Topic5\", \"Topic5\", \"Topic5\", \"Topic5\", \"Topic5\", \"Topic5\", \"Topic5\", \"Topic5\", \"Topic5\", \"Topic5\", \"Topic5\", \"Topic5\", \"Topic5\", \"Topic5\", \"Topic5\", \"Topic5\", \"Topic5\", \"Topic5\", \"Topic5\", \"Topic5\", \"Topic5\", \"Topic5\", \"Topic5\", \"Topic5\", \"Topic5\", \"Topic5\", \"Topic5\", \"Topic5\", \"Topic5\", \"Topic5\", \"Topic5\", \"Topic5\", \"Topic5\", \"Topic5\", \"Topic5\", \"Topic5\", \"Topic5\", \"Topic5\", \"Topic5\", \"Topic5\", \"Topic5\", \"Topic5\", \"Topic5\", \"Topic5\", \"Topic5\", \"Topic5\", \"Topic5\", \"Topic5\", \"Topic5\", \"Topic5\", \"Topic5\", \"Topic5\", \"Topic5\", \"Topic5\", \"Topic5\", \"Topic5\", \"Topic5\", \"Topic5\", \"Topic5\", \"Topic5\", \"Topic5\", \"Topic5\", \"Topic5\", \"Topic5\", \"Topic5\", \"Topic5\", \"Topic5\", \"Topic5\", \"Topic5\", \"Topic5\", \"Topic5\", \"Topic5\", \"Topic5\", \"Topic5\", \"Topic5\", \"Topic5\", \"Topic5\", \"Topic5\", \"Topic5\", \"Topic5\", \"Topic5\", \"Topic5\", \"Topic5\", \"Topic5\", \"Topic5\", \"Topic5\", \"Topic5\", \"Topic5\", \"Topic5\", \"Topic5\", \"Topic5\", \"Topic5\", \"Topic5\", \"Topic5\", \"Topic5\", \"Topic5\", \"Topic5\", \"Topic6\", \"Topic6\", \"Topic6\", \"Topic6\", \"Topic6\", \"Topic6\", \"Topic6\", \"Topic6\", \"Topic6\", \"Topic6\", \"Topic6\", \"Topic6\", \"Topic6\", \"Topic6\", \"Topic6\", \"Topic6\", \"Topic6\", \"Topic6\", \"Topic6\", \"Topic6\", \"Topic6\", \"Topic6\", \"Topic6\", \"Topic6\", \"Topic6\", \"Topic6\", \"Topic6\", \"Topic6\", \"Topic6\", \"Topic6\", \"Topic6\", \"Topic6\", \"Topic6\", \"Topic6\", \"Topic6\", \"Topic6\", \"Topic6\", \"Topic6\", \"Topic6\", \"Topic6\", \"Topic6\", \"Topic6\", \"Topic6\", \"Topic6\", \"Topic6\", \"Topic6\", \"Topic6\", \"Topic6\", \"Topic6\", \"Topic6\", \"Topic6\", \"Topic6\", \"Topic6\", \"Topic6\", \"Topic6\", \"Topic6\", \"Topic6\", \"Topic7\", \"Topic7\", \"Topic7\", \"Topic7\", \"Topic7\", \"Topic7\", \"Topic7\", \"Topic7\", \"Topic7\", \"Topic7\", \"Topic7\", \"Topic7\", \"Topic7\", \"Topic7\", \"Topic7\", \"Topic7\", \"Topic7\", \"Topic7\", \"Topic7\", \"Topic7\", \"Topic7\", \"Topic7\", \"Topic7\", \"Topic7\", \"Topic7\", \"Topic7\", \"Topic7\", \"Topic7\", \"Topic7\", \"Topic7\", \"Topic7\", \"Topic7\", \"Topic7\", \"Topic7\", \"Topic7\", \"Topic7\", \"Topic7\", \"Topic7\", \"Topic7\", \"Topic7\", \"Topic7\", \"Topic7\", \"Topic7\", \"Topic7\", \"Topic7\", \"Topic7\", \"Topic7\", \"Topic7\", \"Topic7\", \"Topic7\", \"Topic7\", \"Topic7\", \"Topic7\", \"Topic7\", \"Topic7\", \"Topic7\", \"Topic7\", \"Topic7\", \"Topic7\", \"Topic7\", \"Topic7\", \"Topic7\", \"Topic7\", \"Topic7\", \"Topic7\", \"Topic7\", \"Topic7\", \"Topic7\", \"Topic7\", \"Topic7\", \"Topic7\", \"Topic8\", \"Topic8\", \"Topic8\", \"Topic8\", \"Topic8\", \"Topic8\", \"Topic8\", \"Topic8\", \"Topic8\", \"Topic8\", \"Topic8\", \"Topic8\", \"Topic8\", \"Topic8\", \"Topic8\", \"Topic8\", \"Topic8\", \"Topic8\", \"Topic8\", \"Topic8\", \"Topic8\", \"Topic8\", \"Topic8\", \"Topic8\", \"Topic8\", \"Topic8\", \"Topic8\", \"Topic8\", \"Topic8\", \"Topic8\", \"Topic8\", \"Topic8\", \"Topic8\", \"Topic8\", \"Topic8\", \"Topic8\", \"Topic8\", \"Topic8\", \"Topic8\", \"Topic8\", \"Topic8\", \"Topic8\", \"Topic8\", \"Topic8\", \"Topic8\", \"Topic8\", \"Topic8\", \"Topic8\", \"Topic8\", \"Topic8\", \"Topic8\", \"Topic8\", \"Topic8\", \"Topic8\", \"Topic8\", \"Topic8\", \"Topic8\", \"Topic8\", \"Topic8\", \"Topic8\", \"Topic8\", \"Topic8\", \"Topic8\", \"Topic8\", \"Topic8\", \"Topic8\", \"Topic8\", \"Topic8\", \"Topic8\", \"Topic8\", \"Topic8\", \"Topic8\", \"Topic8\", \"Topic8\", \"Topic8\", \"Topic9\", \"Topic9\", \"Topic9\", \"Topic9\", \"Topic9\", \"Topic9\", \"Topic9\", \"Topic9\", \"Topic9\", \"Topic9\", \"Topic9\", \"Topic9\", \"Topic9\", \"Topic9\", \"Topic9\", \"Topic9\", \"Topic9\", \"Topic9\", \"Topic9\", \"Topic9\", \"Topic9\", \"Topic9\", \"Topic9\", \"Topic9\", \"Topic9\", \"Topic9\", \"Topic9\", \"Topic9\", \"Topic9\", \"Topic9\", \"Topic9\", \"Topic9\", \"Topic9\", \"Topic9\", \"Topic9\", \"Topic9\", \"Topic9\", \"Topic9\", \"Topic9\", \"Topic9\", \"Topic9\", \"Topic9\", \"Topic9\", \"Topic9\", \"Topic9\", \"Topic9\", \"Topic9\", \"Topic9\", \"Topic9\", \"Topic9\", \"Topic9\", \"Topic9\", \"Topic9\", \"Topic9\", \"Topic9\", \"Topic9\", \"Topic9\", \"Topic9\", \"Topic9\", \"Topic9\", \"Topic9\", \"Topic9\", \"Topic9\", \"Topic9\", \"Topic9\", \"Topic10\", \"Topic10\", \"Topic10\", \"Topic10\", \"Topic10\", \"Topic10\", \"Topic10\", \"Topic10\", \"Topic10\", \"Topic10\", \"Topic10\", \"Topic10\", \"Topic10\", \"Topic10\", \"Topic10\", \"Topic10\", \"Topic10\", \"Topic10\", \"Topic10\", \"Topic10\", \"Topic10\", \"Topic10\", \"Topic10\", \"Topic10\", \"Topic10\", \"Topic10\", \"Topic10\", \"Topic10\", \"Topic10\", \"Topic10\", \"Topic10\", \"Topic10\", \"Topic10\", \"Topic10\", \"Topic10\", \"Topic10\", \"Topic10\", \"Topic10\", \"Topic10\", \"Topic10\", \"Topic10\", \"Topic10\", \"Topic10\", \"Topic10\", \"Topic10\", \"Topic10\", \"Topic10\", \"Topic10\", \"Topic10\", \"Topic10\", \"Topic10\", \"Topic10\", \"Topic10\", \"Topic10\", \"Topic10\", \"Topic10\", \"Topic10\", \"Topic10\", \"Topic10\", \"Topic10\", \"Topic10\", \"Topic10\", \"Topic10\", \"Topic10\", \"Topic10\", \"Topic10\", \"Topic10\", \"Topic10\", \"Topic10\", \"Topic10\", \"Topic10\", \"Topic10\", \"Topic10\", \"Topic11\", \"Topic11\", \"Topic11\", \"Topic11\", \"Topic11\", \"Topic11\", \"Topic11\", \"Topic11\", \"Topic11\", \"Topic11\", \"Topic11\", \"Topic11\", \"Topic11\", \"Topic11\", \"Topic11\", \"Topic11\", \"Topic11\", \"Topic11\", \"Topic11\", \"Topic11\", \"Topic11\", \"Topic11\", \"Topic11\", \"Topic11\", \"Topic11\", \"Topic11\", \"Topic11\", \"Topic11\", \"Topic11\", \"Topic11\", \"Topic11\", \"Topic11\", \"Topic11\", \"Topic11\", \"Topic11\", \"Topic11\", \"Topic11\", \"Topic11\", \"Topic11\", \"Topic11\", \"Topic11\", \"Topic11\", \"Topic11\", \"Topic11\", \"Topic11\", \"Topic11\", \"Topic11\", \"Topic11\", \"Topic11\", \"Topic11\", \"Topic11\", \"Topic11\", \"Topic11\", \"Topic11\", \"Topic11\", \"Topic11\", \"Topic11\", \"Topic11\", \"Topic11\", \"Topic11\", \"Topic11\", \"Topic11\", \"Topic11\", \"Topic11\", \"Topic11\", \"Topic11\", \"Topic11\", \"Topic11\", \"Topic11\", \"Topic12\", \"Topic12\", \"Topic12\", \"Topic12\", \"Topic12\", \"Topic12\", \"Topic12\", \"Topic12\", \"Topic12\", \"Topic12\", \"Topic12\", \"Topic12\", \"Topic12\", \"Topic12\", \"Topic12\", \"Topic12\", \"Topic12\", \"Topic12\", \"Topic12\", \"Topic12\", \"Topic12\", \"Topic12\", \"Topic12\", \"Topic12\", \"Topic12\", \"Topic12\", \"Topic12\", \"Topic12\", \"Topic12\", \"Topic12\", \"Topic12\", \"Topic12\", \"Topic12\", \"Topic12\", \"Topic12\", \"Topic12\", \"Topic12\", \"Topic12\", \"Topic12\", \"Topic12\", \"Topic12\", \"Topic12\", \"Topic12\", \"Topic12\", \"Topic12\", \"Topic12\", \"Topic12\", \"Topic12\", \"Topic12\", \"Topic12\", \"Topic12\", \"Topic12\", \"Topic12\", \"Topic12\", \"Topic12\", \"Topic12\", \"Topic12\", \"Topic12\", \"Topic12\", \"Topic12\", \"Topic12\", \"Topic12\", \"Topic12\", \"Topic12\", \"Topic12\", \"Topic12\", \"Topic12\", \"Topic12\", \"Topic12\", \"Topic12\", \"Topic12\", \"Topic12\", \"Topic13\", \"Topic13\", \"Topic13\", \"Topic13\", \"Topic13\", \"Topic13\", \"Topic13\", \"Topic13\", \"Topic13\", \"Topic13\", \"Topic13\", \"Topic13\", \"Topic13\", \"Topic13\", \"Topic13\", \"Topic13\", \"Topic13\", \"Topic13\", \"Topic13\", \"Topic13\", \"Topic13\", \"Topic13\", \"Topic13\", \"Topic13\", \"Topic13\", \"Topic13\", \"Topic13\", \"Topic13\", \"Topic13\", \"Topic13\", \"Topic13\", \"Topic13\", \"Topic13\", \"Topic13\", \"Topic13\", \"Topic13\", \"Topic13\", \"Topic13\", \"Topic13\", \"Topic13\", \"Topic13\", \"Topic13\", \"Topic13\", \"Topic13\", \"Topic13\", \"Topic13\", \"Topic13\", \"Topic13\", \"Topic13\", \"Topic13\", \"Topic13\", \"Topic13\", \"Topic13\", \"Topic13\", \"Topic13\", \"Topic13\", \"Topic13\", \"Topic13\", \"Topic13\", \"Topic13\", \"Topic13\", \"Topic13\", \"Topic13\", \"Topic13\", \"Topic13\", \"Topic13\", \"Topic13\", \"Topic13\", \"Topic13\", \"Topic13\", \"Topic13\", \"Topic13\", \"Topic14\", \"Topic14\", \"Topic14\", \"Topic14\", \"Topic14\", \"Topic14\", \"Topic14\", \"Topic14\", \"Topic14\", \"Topic14\", \"Topic14\", \"Topic14\", \"Topic14\", \"Topic14\", \"Topic14\", \"Topic14\", \"Topic14\", \"Topic14\", \"Topic14\", \"Topic14\", \"Topic14\", \"Topic14\", \"Topic14\", \"Topic14\", \"Topic14\", \"Topic14\", \"Topic14\", \"Topic14\", \"Topic14\", \"Topic14\", \"Topic14\", \"Topic14\", \"Topic14\", \"Topic14\", \"Topic14\", \"Topic14\", \"Topic14\", \"Topic14\", \"Topic14\", \"Topic14\", \"Topic14\", \"Topic14\", \"Topic14\", \"Topic14\", \"Topic14\", \"Topic14\", \"Topic14\", \"Topic14\", \"Topic14\", \"Topic14\", \"Topic14\", \"Topic14\", \"Topic14\", \"Topic14\", \"Topic14\", \"Topic14\", \"Topic14\", \"Topic14\", \"Topic14\", \"Topic14\", \"Topic14\", \"Topic14\", \"Topic14\", \"Topic14\", \"Topic14\", \"Topic14\", \"Topic14\", \"Topic14\", \"Topic14\", \"Topic14\", \"Topic14\", \"Topic14\", \"Topic14\", \"Topic14\", \"Topic14\", \"Topic14\", \"Topic14\", \"Topic14\", \"Topic14\", \"Topic14\", \"Topic14\", \"Topic15\", \"Topic15\", \"Topic15\", \"Topic15\", \"Topic15\", \"Topic15\", \"Topic15\", \"Topic15\", \"Topic15\", \"Topic15\", \"Topic15\", \"Topic15\", \"Topic15\", \"Topic15\", \"Topic15\", \"Topic15\", \"Topic15\", \"Topic15\", \"Topic15\", \"Topic15\", \"Topic15\", \"Topic15\", \"Topic15\", \"Topic15\", \"Topic15\", \"Topic15\", \"Topic15\", \"Topic15\", \"Topic15\", \"Topic15\", \"Topic15\", \"Topic15\", \"Topic15\", \"Topic15\", \"Topic15\", \"Topic15\", \"Topic15\", \"Topic15\", \"Topic15\", \"Topic15\", \"Topic15\", \"Topic15\", \"Topic15\", \"Topic15\", \"Topic15\", \"Topic15\", \"Topic15\", \"Topic15\", \"Topic15\", \"Topic15\", \"Topic15\", \"Topic15\", \"Topic15\", \"Topic15\", \"Topic15\", \"Topic15\", \"Topic15\", \"Topic15\", \"Topic15\", \"Topic15\", \"Topic15\", \"Topic15\", \"Topic15\", \"Topic15\", \"Topic15\", \"Topic15\", \"Topic15\", \"Topic15\", \"Topic15\", \"Topic15\", \"Topic15\", \"Topic15\", \"Topic15\", \"Topic15\"], \"Freq\": [915.0, 1718.0, 694.0, 1323.0, 1542.0, 573.0, 1352.0, 931.0, 1142.0, 561.0, 873.0, 1053.0, 409.0, 588.0, 1313.0, 1429.0, 1313.0, 920.0, 827.0, 935.0, 773.0, 488.0, 697.0, 415.0, 653.0, 686.0, 901.0, 615.0, 449.0, 286.0, 392.7805480957031, 305.0439453125, 289.00701904296875, 169.01239013671875, 607.852294921875, 182.98451232910156, 161.08270263671875, 122.58269500732422, 89.67157745361328, 83.09605407714844, 68.9622573852539, 66.11048889160156, 53.831058502197266, 50.10661315917969, 46.288516998291016, 90.68292236328125, 36.913230895996094, 38.727264404296875, 36.84747314453125, 34.03076934814453, 29.3240966796875, 30.125638961791992, 23.655925750732422, 22.685344696044922, 68.41021728515625, 22.592832565307617, 13.283409118652344, 13.286026000976562, 14.169295310974121, 12.323211669921875, 14.055014610290527, 94.83372497558594, 43.81708908081055, 46.47924041748047, 31.245393753051758, 269.13311767578125, 133.5913848876953, 112.18740844726562, 127.0643081665039, 326.8460998535156, 290.74200439453125, 171.70919799804688, 295.63812255859375, 117.89012145996094, 218.2779998779297, 530.7606201171875, 552.0478515625, 378.64019775390625, 367.56829833984375, 335.26544189453125, 458.4305725097656, 347.82537841796875, 432.21771240234375, 340.7093505859375, 260.4063415527344, 407.1936340332031, 254.8936004638672, 222.1270294189453, 180.64382934570312, 414.9950866699219, 252.68258666992188, 294.7303771972656, 207.9117431640625, 223.2554931640625, 240.27651977539062, 221.12615966796875, 226.52993774414062, 234.12562561035156, 220.88478088378906, 114.37626647949219, 275.3590393066406, 53.80404281616211, 19.951597213745117, 14.117494583129883, 27.423486709594727, 30.2439022064209, 16.92613410949707, 26.42626953125, 108.97071075439453, 36.624534606933594, 45.03527069091797, 13.954635620117188, 25.07489776611328, 11.061721801757812, 11.979206085205078, 11.923362731933594, 11.885160446166992, 34.01826477050781, 9.099650382995605, 12.763389587402344, 9.070446014404297, 35.712425231933594, 9.969422340393066, 17.86721420288086, 11.75697135925293, 8.089503288269043, 11.736781120300293, 21.69060707092285, 169.65512084960938, 100.92091369628906, 72.49472045898438, 107.22134399414062, 99.32137298583984, 58.18086624145508, 43.171260833740234, 64.600830078125, 94.41454315185547, 35.557552337646484, 101.71308135986328, 120.65045928955078, 55.06924057006836, 44.763099670410156, 54.81427001953125, 121.46183013916016, 168.9339599609375, 274.7588806152344, 50.01767349243164, 77.06919860839844, 103.68427276611328, 137.9931182861328, 73.52449035644531, 112.36820983886719, 248.1194610595703, 94.26759338378906, 62.59306716918945, 433.4339599609375, 351.2561340332031, 123.8646469116211, 162.3961181640625, 211.29473876953125, 280.8839416503906, 188.7360076904297, 244.9244384765625, 262.41156005859375, 264.5146484375, 165.3232879638672, 184.62095642089844, 244.39263916015625, 200.81063842773438, 162.27267456054688, 164.51588439941406, 152.29139709472656, 181.26417541503906, 162.41783142089844, 162.474853515625, 145.75767517089844, 163.607421875, 141.48902893066406, 135.0122833251953, 136.6284637451172, 136.4312744140625, 137.2062225341797, 137.04345703125, 14.543604850769043, 10.622483253479004, 18.346345901489258, 11.30805492401123, 25.844558715820312, 7.768701553344727, 5.847030162811279, 5.836880683898926, 22.965951919555664, 5.79984712600708, 24.19639778137207, 4.897073745727539, 4.88796329498291, 12.331432342529297, 73.3304443359375, 4.833681106567383, 4.814258098602295, 4.794112682342529, 4.808355808258057, 49.721405029296875, 4.793106555938721, 4.786624431610107, 8.7612886428833, 6.301638603210449, 4.646305084228516, 6.7726874351501465, 15.988040924072266, 76.9637680053711, 279.6646728515625, 6.779604911804199, 75.81649780273438, 95.2259292602539, 21.22220802307129, 11.3712797164917, 14.860431671142578, 21.491111755371094, 10.239481925964355, 30.240018844604492, 256.3062438964844, 43.50925827026367, 20.440587997436523, 73.84893035888672, 23.709320068359375, 108.91207885742188, 80.53057098388672, 25.750017166137695, 28.71395492553711, 56.402061462402344, 314.0306701660156, 152.63827514648438, 53.032386779785156, 216.8204345703125, 136.83668518066406, 161.7240447998047, 155.76275634765625, 295.7557067871094, 145.09146118164062, 178.6139678955078, 181.37425231933594, 142.8052978515625, 91.93029022216797, 139.43377685546875, 186.0076141357422, 196.35496520996094, 84.79999542236328, 189.97129821777344, 134.3858642578125, 137.722900390625, 147.15858459472656, 184.5664825439453, 144.0860595703125, 161.30482482910156, 153.39578247070312, 140.2208709716797, 110.09443664550781, 110.90673828125, 105.8489990234375, 104.73678588867188, 106.35184478759766, 399.68780517578125, 533.7898559570312, 87.19525146484375, 52.71821975708008, 20.082834243774414, 14.036721229553223, 17.864469528198242, 22.676305770874023, 31.233264923095703, 13.573410034179688, 146.32354736328125, 42.76585388183594, 58.69158935546875, 25.49567222595215, 55.89008331298828, 22.419700622558594, 75.12543487548828, 5.453893661499023, 7.308813095092773, 10.079617500305176, 5.438165664672852, 29.51580810546875, 5.425069332122803, 34.45005416870117, 7.19681978225708, 9.938789367675781, 13.581440925598145, 786.47216796875, 19.007230758666992, 12.161310195922852, 276.04901123046875, 335.50335693359375, 138.8229217529297, 106.049072265625, 176.50352478027344, 92.20044708251953, 41.644588470458984, 176.30789184570312, 28.051345825195312, 240.83355712890625, 271.815673828125, 155.8218994140625, 299.0696716308594, 474.03936767578125, 245.4215087890625, 57.86592483520508, 52.67692184448242, 140.25257873535156, 161.3452911376953, 252.70188903808594, 144.49742126464844, 224.632080078125, 218.6492919921875, 153.09857177734375, 181.85531616210938, 160.51580810546875, 165.94473266601562, 120.20532989501953, 133.26495361328125, 128.6555633544922, 118.97572326660156, 122.48802947998047, 12.553980827331543, 6.056707382202148, 6.005496978759766, 6.8685383796691895, 5.945119380950928, 5.0604681968688965, 5.036144733428955, 5.022900581359863, 5.013216972351074, 5.8361101150512695, 4.98997688293457, 5.786568641662598, 16.261186599731445, 4.688769817352295, 4.685353755950928, 7.831803321838379, 8.567028999328613, 5.062125205993652, 5.322841644287109, 5.046366214752197, 57.36183166503906, 6.031131744384766, 6.040072441101074, 7.515561580657959, 7.450841903686523, 5.1202850341796875, 7.078694820404053, 7.4099249839782715, 7.982559680938721, 4.038547039031982, 17.990859985351562, 25.774581909179688, 42.960514068603516, 13.269996643066406, 14.366355895996094, 29.425460815429688, 45.42241287231445, 20.283031463623047, 8.068939208984375, 31.30912208557129, 12.18368911743164, 13.331709861755371, 11.463586807250977, 18.546588897705078, 10.814255714416504, 20.36566162109375, 23.847614288330078, 16.76457405090332, 23.903047561645508, 26.07732582092285, 44.933387756347656, 22.401023864746094, 22.741943359375, 40.231163024902344, 16.18378257751465, 145.51026916503906, 59.226985931396484, 83.8580551147461, 61.071197509765625, 57.132564544677734, 120.92239379882812, 67.23046112060547, 89.98097229003906, 51.13868713378906, 90.31493377685547, 77.87735748291016, 63.7842903137207, 54.03715896606445, 39.104408264160156, 39.97970199584961, 130.78944396972656, 62.11737823486328, 153.22677612304688, 58.24758529663086, 36.39331817626953, 120.98800659179688, 41.6821403503418, 77.1680679321289, 92.20079040527344, 106.4572525024414, 88.56202697753906, 91.23815155029297, 108.79780578613281, 83.52974700927734, 89.0681381225586, 111.91047668457031, 79.11723327636719, 78.22644805908203, 71.24986267089844, 66.1747055053711, 69.8005599975586, 81.46923828125, 67.5400390625, 65.46430969238281, 66.07154083251953, 66.46954345703125, 65.98006439208984, 66.56398010253906, 229.05043029785156, 561.5722045898438, 101.93632507324219, 677.6856079101562, 88.48429870605469, 142.35348510742188, 128.35385131835938, 211.73619079589844, 30.050613403320312, 35.90610122680664, 75.7541275024414, 26.860599517822266, 35.490478515625, 25.86336326599121, 242.99588012695312, 17.153615951538086, 19.0328311920166, 29.53792953491211, 37.03840637207031, 46.437469482421875, 17.893598556518555, 15.940451622009277, 15.709571838378906, 14.750953674316406, 49.446800231933594, 7.986658096313477, 8.869939804077148, 6.9923224449157715, 6.101653575897217, 6.100527763366699, 262.7568359375, 9.532920837402344, 10.364505767822266, 62.561893463134766, 14.825103759765625, 161.73036193847656, 183.25839233398438, 209.208740234375, 200.8358917236328, 135.90538024902344, 47.67014694213867, 70.19851684570312, 109.90957641601562, 161.8349609375, 121.26327514648438, 111.7688980102539, 118.95272064208984, 100.00330352783203, 90.08750915527344, 119.13263702392578, 114.88003540039062, 85.1534194946289, 99.5863265991211, 100.25182342529297, 101.22016906738281, 85.90632629394531, 83.63005828857422, 5.49589204788208, 4.605477809906006, 4.366482257843018, 5.52490234375, 6.120676040649414, 126.6207275390625, 43.04671859741211, 3.1507883071899414, 3.1627752780914307, 3.716564655303955, 3.435535430908203, 3.6412267684936523, 3.4096920490264893, 4.304347515106201, 2.7896623611450195, 3.2710320949554443, 4.227095127105713, 2.806438446044922, 2.739494800567627, 80.08619689941406, 3.558096408843994, 2.5405664443969727, 3.0596745014190674, 3.521564245223999, 5.59301233291626, 2.5242819786071777, 2.5043983459472656, 9.207846641540527, 3.3429975509643555, 2.476639986038208, 9.459823608398438, 15.697094917297363, 22.270862579345703, 5.162717342376709, 64.8212661743164, 17.760997772216797, 18.920299530029297, 15.601763725280762, 19.375694274902344, 37.450706481933594, 6.184183120727539, 58.802860260009766, 22.05790901184082, 46.62492752075195, 23.346595764160156, 12.187143325805664, 110.04878234863281, 35.04135513305664, 50.29685974121094, 10.660654067993164, 38.241119384765625, 71.59441375732422, 22.652088165283203, 34.228271484375, 64.34574127197266, 48.62728500366211, 31.0599308013916, 39.635536193847656, 47.17316436767578, 31.433015823364258, 38.817142486572266, 51.78111267089844, 42.20786666870117, 48.03749084472656, 40.310035705566406, 36.327110290527344, 33.61033630371094, 34.84276580810547, 36.853023529052734, 32.011661529541016, 36.03017807006836, 3.456458806991577, 3.4689528942108154, 3.2983312606811523, 2.587327480316162, 2.5982930660247803, 6.552612781524658, 2.409165859222412, 2.622836112976074, 2.167088508605957, 2.3645057678222656, 1.7648487091064453, 2.458120584487915, 1.7661402225494385, 1.7557458877563477, 2.5933985710144043, 1.7596802711486816, 2.276642084121704, 2.0016965866088867, 1.624886155128479, 2.2269599437713623, 2.639897108078003, 1.7654848098754883, 1.6059794425964355, 1.6328015327453613, 1.6537984609603882, 1.7237296104431152, 3.1125986576080322, 1.7569953203201294, 1.7177784442901611, 3.3006179332733154, 1.769209623336792, 3.441634178161621, 5.165436267852783, 2.62750244140625, 2.3184027671813965, 8.292214393615723, 39.88883972167969, 9.85830307006836, 3.230660915374756, 10.759414672851562, 9.535238265991211, 4.01233434677124, 5.956191062927246, 3.4768502712249756, 9.394432067871094, 12.134483337402344, 5.027376174926758, 15.406311988830566, 19.15019416809082, 22.519515991210938, 23.619951248168945, 15.939074516296387, 12.659056663513184, 6.894774436950684, 20.290395736694336, 17.720041275024414, 12.866779327392578, 20.981842041015625, 19.896770477294922, 13.05254077911377, 13.592141151428223, 14.695562362670898, 14.177743911743164, 10.545345306396484, 12.904372215270996, 10.579985618591309, 13.062897682189941, 10.813970565795898, 10.595261573791504, 13.868816375732422, 11.218170166015625, 11.112262725830078, 11.453818321228027, 10.522863388061523, 10.166421890258789, 19.43777084350586, 8.322070121765137, 51.733612060546875, 1.750556230545044, 1.71391761302948, 1.6547633409500122, 1.6076408624649048, 1.8135182857513428, 6.4713521003723145, 2.0120718479156494, 2.470315456390381, 1.712398886680603, 1.4813170433044434, 1.6983338594436646, 1.6522685289382935, 1.713212490081787, 1.4299873113632202, 1.3497449159622192, 1.7190635204315186, 2.6286911964416504, 1.5073944330215454, 1.7096648216247559, 1.7173492908477783, 1.4335769414901733, 9.208600997924805, 25.109209060668945, 2.506727457046509, 1.744869351387024, 1.2966514825820923, 1.714858055114746, 6.286766052246094, 3.903421401977539, 7.421008110046387, 7.221395969390869, 2.9930918216705322, 6.308779239654541, 5.951519966125488, 2.430264949798584, 2.1635801792144775, 10.074052810668945, 3.4730145931243896, 4.585046291351318, 17.596351623535156, 17.75619888305664, 2.551426887512207, 12.524008750915527, 4.2223734855651855, 6.299633026123047, 12.091897010803223, 6.507233619689941, 4.15905237197876, 7.086737155914307, 10.942070007324219, 7.655257225036621, 4.243795871734619, 6.860586643218994, 7.909863471984863, 8.239177703857422, 7.730385780334473, 9.029389381408691, 8.015626907348633, 7.024868011474609, 8.657797813415527, 6.962381362915039, 6.628599643707275, 3.5679659843444824, 5.014261245727539, 4.7374653816223145, 4.881678104400635, 2.2493584156036377, 2.245697021484375, 1.537056803703308, 6.620028972625732, 3.0841450691223145, 2.223471164703369, 4.201541900634766, 1.8643968105316162, 1.5340306758880615, 4.027351379394531, 1.5386942625045776, 5.144969940185547, 1.541438341140747, 1.763529658317566, 1.5266436338424683, 2.232694625854492, 1.5566104650497437, 2.982193946838379, 1.417054533958435, 1.5525267124176025, 1.5377087593078613, 2.283742904663086, 1.4250694513320923, 0.9855424761772156, 0.79451584815979, 0.7984323501586914, 1.5376121997833252, 1.536413311958313, 1.5483522415161133, 2.2771432399749756, 3.036266326904297, 10.944124221801758, 6.851624965667725, 5.531157493591309, 5.675429344177246, 4.283023834228516, 3.354492664337158, 5.308894157409668, 9.950393676757812, 20.55149269104004, 4.292973518371582, 3.0257303714752197, 17.321168899536133, 6.881327152252197, 11.665837287902832, 5.33988618850708, 9.129426956176758, 6.1804070472717285, 9.399645805358887, 8.529330253601074, 9.132550239562988, 6.34902811050415, 5.71159553527832, 6.187094688415527, 7.392012119293213, 8.31441593170166, 6.945242881774902, 6.823390960693359, 6.532845497131348, 6.601644039154053, 6.492509841918945, 6.348673343658447, 6.27821683883667, 6.151124477386475, 6.1371989250183105, 6.365710735321045, 6.011623382568359, 6.169596195220947, 5.8758625984191895, 2.023892641067505, 1.9717434644699097, 2.0494778156280518, 1.345547080039978, 1.3744691610336304, 1.3784070014953613, 1.3816765546798706, 1.725294828414917, 1.3816133737564087, 1.373817801475525, 3.3907036781311035, 1.3814105987548828, 1.355924367904663, 0.9965471029281616, 1.355939507484436, 1.369704246520996, 2.014538526535034, 1.1631357669830322, 1.3822627067565918, 11.317076683044434, 1.3905328512191772, 4.0547308921813965, 1.1526952981948853, 0.7142506241798401, 1.3795405626296997, 1.378806233406067, 5.461831092834473, 0.8885937333106995, 2.526992082595825, 0.7111339569091797, 1.9191715717315674, 5.613187313079834, 8.721210479736328, 2.0594284534454346, 3.0696065425872803, 13.724723815917969, 2.732491970062256, 8.857283592224121, 9.859952926635742, 3.54945969581604, 6.777285099029541, 2.642925500869751, 5.049304485321045, 5.161334991455078, 3.0231897830963135, 8.27750015258789, 4.637373924255371, 7.35714054107666, 3.405482053756714, 5.3883957862854, 3.5562803745269775, 4.763090133666992, 5.3205742835998535, 6.42600154876709, 5.616730213165283, 6.076077938079834, 3.8647470474243164, 5.517906188964844, 3.816614866256714, 3.946054697036743, 4.8332743644714355, 4.354154586791992, 4.711069583892822, 4.354221820831299, 4.078857898712158, 4.046875953674316, 4.186716556549072, 4.050772666931152, 3.9688849449157715, 4.883738040924072, 4.8759260177612305, 2.1087069511413574, 1.4271842241287231, 1.4222729206085205, 2.113539695739746, 1.4223277568817139, 0.7367352843284607, 0.7358271479606628, 0.7354671359062195, 0.7347726821899414, 0.7362505793571472, 0.7318121790885925, 1.4306094646453857, 0.736824095249176, 0.7362386584281921, 0.7231104373931885, 0.7307563424110413, 0.736793041229248, 0.7366894483566284, 0.726386308670044, 0.7348455786705017, 0.7361668348312378, 0.733449399471283, 0.7346634864807129, 0.7363364100456238, 0.7333135604858398, 0.7312631607055664, 0.7361048460006714, 0.7363533973693848, 5.534196376800537, 1.4252513647079468, 3.4845056533813477, 3.42348575592041, 13.137391090393066, 5.5922088623046875, 1.4130363464355469, 1.42586350440979, 8.919145584106445, 2.707096576690674, 3.255532741546631, 3.4265682697296143, 1.4189295768737793, 1.4331010580062866, 1.4255836009979248, 5.556296348571777, 1.4217064380645752, 2.8141543865203857, 2.124401807785034, 1.9773229360580444, 2.1232473850250244, 3.216547966003418, 5.473294258117676, 4.224818706512451, 8.317390441894531, 3.4524214267730713, 6.258744716644287, 7.277629375457764, 3.539106845855713, 4.974398136138916, 5.470432281494141, 5.040666103363037, 3.55739688873291, 2.829394578933716, 3.5071938037872314, 4.990147113800049, 4.032444953918457, 3.8747637271881104, 3.7012131214141846, 3.5185508728027344, 3.6007566452026367, 3.2831780910491943, 2.293015480041504, 1.1558887958526611, 1.1960445642471313, 1.1997289657592773, 1.1944605112075806, 1.1941711902618408, 3.3465359210968018, 2.3628129959106445, 1.199721097946167, 1.1985342502593994, 0.6124905347824097, 0.6166657209396362, 0.6191701889038086, 0.6223172545433044, 0.6169539093971252, 0.620668351650238, 0.613333523273468, 0.6199223399162292, 0.6181113719940186, 0.6190052032470703, 0.6201205849647522, 0.6192834973335266, 0.6172429919242859, 0.6105426549911499, 0.6084527373313904, 0.6021217703819275, 0.6169514060020447, 0.6104118824005127, 0.618427574634552, 0.6197744607925415, 1.19385826587677, 1.1942076683044434, 1.2010338306427002, 6.436209678649902, 1.1957266330718994, 2.3384110927581787, 2.340766668319702, 1.193678379058838, 1.7739230394363403, 0.9718099236488342, 1.188353180885315, 2.70150089263916, 1.77444589138031, 1.7928508520126343, 3.2294912338256836, 1.199540615081787, 2.9716553688049316, 1.1865216493606567, 1.1960612535476685, 1.7843713760375977, 1.7907105684280396, 4.399574279785156, 2.9903082847595215, 2.1362805366516113, 2.976318836212158, 3.4778389930725098, 2.9620745182037354, 2.55252742767334, 2.496840000152588, 2.400386333465576, 2.0062270164489746, 1.929276943206787, 1.8195443153381348, 1.7895175218582153, 2.0537617206573486, 2.147536516189575, 1.8130316734313965, 1.8768978118896484, 2.0143232345581055, 2.020886182785034, 2.010946035385132, 1.8445136547088623, 1.2131985425949097, 1.209196925163269, 1.2098710536956787, 0.6199131608009338, 0.6240633726119995, 0.6256335377693176, 0.6233692169189453, 0.6224709153175354, 0.6214829683303833, 0.6256524324417114, 0.6237057447433472, 0.6216861605644226, 0.6249000430107117, 0.6237385869026184, 0.6171020865440369, 1.2051808834075928, 1.2115288972854614, 0.6251322031021118, 0.6224895715713501, 0.6257341504096985, 0.6320279240608215, 0.6229817867279053, 0.6193376183509827, 0.6249465942382812, 0.6266540288925171, 0.6234931349754333, 0.6220661401748657, 0.6218758225440979, 0.6253665685653687, 0.6226699948310852, 1.2077913284301758, 2.9677562713623047, 2.3784232139587402, 1.211661696434021, 1.2099906206130981, 1.2120212316513062, 1.2123463153839111, 1.2094802856445312, 1.2136105298995972, 1.80642831325531, 1.2113337516784668, 1.2117196321487427, 3.0069525241851807, 2.4146904945373535, 1.208067536354065, 2.389594078063965, 1.7933368682861328, 3.0077030658721924, 1.2171857357025146, 1.2095792293548584, 3.03842830657959, 1.214036464691162, 3.045985221862793, 3.6486544609069824, 1.813266396522522, 3.0660934448242188, 1.812024474143982, 2.4619009494781494, 1.8033779859542847, 1.8127399682998657, 1.816382646560669, 2.447819709777832, 2.4685280323028564, 2.4466044902801514, 2.5315496921539307, 2.459261417388916, 2.6110870838165283, 1.8442884683609009, 1.8316468000411987, 1.813003659248352, 1.8228353261947632, 1.8443490266799927, 1.8303624391555786, 1.9831485748291016, 1.8818796873092651, 1.882879614830017, 1.8750324249267578, 1.8507450819015503, 1.8552796840667725, 1.8327406644821167, 1.8281282186508179, 1.7602113485336304, 1.186972737312317, 1.7630277872085571, 0.6154876947402954, 0.610632598400116, 0.6116616725921631, 1.1857200860977173, 0.6137892603874207, 0.6280614137649536, 0.6132675409317017, 0.6134396195411682, 0.6112204194068909, 0.6132829189300537, 1.1879171133041382, 0.6113786101341248, 0.612733781337738, 0.6118200421333313, 0.6106913089752197, 0.6158402562141418, 0.6221699118614197, 0.6118687391281128, 0.608769953250885, 0.6127083897590637, 0.6127841472625732, 0.6130430102348328, 0.6120466589927673, 0.6139844655990601, 1.1887749433517456, 0.6131652593612671, 0.6131201982498169, 3.569584846496582, 1.1874972581863403, 3.032412528991699, 1.1872777938842773, 2.3629488945007324, 5.324441432952881, 1.1875654458999634, 1.7728430032730103, 1.188663125038147, 2.4326398372650146, 3.5589420795440674, 1.2059471607208252, 1.1928514242172241, 2.546701669692993, 3.6334519386291504, 1.7726190090179443, 2.371894121170044, 1.1962560415267944, 3.6960461139678955, 2.3480308055877686, 3.050724506378174, 2.373629570007324, 1.7882572412490845, 3.030320644378662, 2.395233392715454, 3.1544666290283203, 2.5737478733062744, 2.4837639331817627, 1.8081719875335693, 1.8325830698013306, 1.9264438152313232, 1.7868062257766724, 1.829072117805481, 1.7966824769973755, 1.8518562316894531, 1.9329626560211182, 1.997442364692688, 1.9049233198165894, 2.0161564350128174, 1.8757317066192627, 1.8920283317565918, 1.8628408908843994, 1.8331724405288696, 1.830729365348816], \"Term\": [\"emma\", \"little\", \"elinor\", \"like\", \"miss\", \"marianne\", \"good\", \"jane\", \"thought\", \"harriet\", \"room\", \"day\", \"madame\", \"sir\", \"time\", \"know\", \"think\", \"soon\", \"come\", \"long\", \"saw\", \"home\", \"looked\", \"elton\", \"heart\", \"way\", \"man\", \"hand\", \"weston\", \"monsieur\", \"darcy\", \"bennet\", \"bingley\", \"collins\", \"elizabeth\", \"wickham\", \"lydia\", \"catherine\", \"gardiner\", \"longbourn\", \"netherfield\", \"lucas\", \"meryton\", \"pemberley\", \"rosings\", \"lizzy\", \"bourgh\", \"hertfordshire\", \"forster\", \"fitzwilliam\", \"phillips\", \"officers\", \"hunsford\", \"derbyshire\", \"kitty\", \"brighton\", \"kent\", \"lucases\", \"churchills\", \"arguments\", \"intending\", \"charlotte\", \"taylor\", \"ladyship\", \"hurst\", \"family\", \"sisters\", \"uncle\", \"aunt\", \"sister\", \"father\", \"brother\", \"dear\", \"marriage\", \"letter\", \"know\", \"miss\", \"soon\", \"jane\", \"great\", \"think\", \"man\", \"good\", \"shall\", \"lady\", \"time\", \"sure\", \"hope\", \"replied\", \"little\", \"young\", \"day\", \"wish\", \"mother\", \"room\", \"away\", \"thing\", \"thought\", \"long\", \"frances\", \"monsieur\", \"henri\", \"paletot\", \"swiss\", \"zoraide\", \"pierre\", \"zelie\", \"sylvie\", \"mdlle\", \"estrade\", \"directress\", \"grec\", \"elle\", \"ambitious\", \"plus\", \"cette\", \"messieurs\", \"ne\", \"mender\", \"bouquet\", \"violets\", \"une\", \"hovering\", \"bon\", \"femme\", \"item\", \"definite\", \"victor\", \"paul\", \"pelet\", \"reuter\", \"vous\", \"est\", \"professor\", \"bien\", \"je\", \"emanuel\", \"les\", \"mademoiselle\", \"hunsden\", \"que\", \"ce\", \"lessons\", \"pupils\", \"english\", \"madame\", \"pas\", \"desk\", \"beck\", \"school\", \"la\", \"st\", \"hand\", \"french\", \"et\", \"little\", \"like\", \"work\", \"eye\", \"heart\", \"thought\", \"eyes\", \"day\", \"good\", \"know\", \"knew\", \"looked\", \"time\", \"long\", \"life\", \"night\", \"face\", \"man\", \"felt\", \"saw\", \"took\", \"think\", \"half\", \"door\", \"look\", \"house\", \"shall\", \"room\", \"briggs\", \"tynedale\", \"lynn\", \"varens\", \"dent\", \"pledge\", \"lighting\", \"seed\", \"sophie\", \"furrowed\", \"eshton\", \"disk\", \"sped\", \"celine\", \"ingram\", \"roman\", \"nightmare\", \"chafed\", \"blond\", \"mason\", \"oriental\", \"necks\", \"lunatic\", \"precocious\", \"reminiscences\", \"dart\", \"janet\", \"thornfield\", \"rochester\", \"tap\", \"eyre\", \"adele\", \"millcote\", \"passengers\", \"missis\", \"poole\", \"blew\", \"curtain\", \"sir\", \"bassompierre\", \"satin\", \"ll\", \"fairy\", \"bretton\", \"hall\", \"gateshead\", \"ve\", \"reed\", \"like\", \"face\", \"bessie\", \"jane\", \"old\", \"eyes\", \"night\", \"little\", \"yes\", \"come\", \"room\", \"john\", \"years\", \"look\", \"thought\", \"think\", \"child\", \"good\", \"looked\", \"saw\", \"long\", \"miss\", \"shall\", \"know\", \"time\", \"day\", \"came\", \"house\", \"lady\", \"heard\", \"man\", \"elton\", \"harriet\", \"martin\", \"campbell\", \"hawkins\", \"nash\", \"vicarage\", \"eltons\", \"abbey\", \"martins\", \"bates\", \"dixon\", \"cole\", \"campbells\", \"goddard\", \"charade\", \"perry\", \"littleness\", \"bragge\", \"selina\", \"boarder\", \"maple\", \"unsuspected\", \"surprize\", \"knightleys\", \"smallridge\", \"suckling\", \"emma\", \"connexion\", \"grandmama\", \"woodhouse\", \"knightley\", \"hartfield\", \"highbury\", \"churchill\", \"smith\", \"donwell\", \"frank\", \"surprized\", \"fairfax\", \"weston\", \"body\", \"thing\", \"miss\", \"jane\", \"extremely\", \"randalls\", \"friend\", \"dear\", \"think\", \"oh\", \"good\", \"little\", \"great\", \"know\", \"thought\", \"time\", \"sure\", \"soon\", \"man\", \"young\", \"like\", \"winding\", \"drenched\", \"eighty\", \"inscription\", \"pervaded\", \"flinging\", \"jacket\", \"unnumbered\", \"scrutinised\", \"load\", \"trampled\", \"achieve\", \"alfred\", \"visionary\", \"treading\", \"orb\", \"grenier\", \"sworn\", \"latticed\", \"venerable\", \"temple\", \"boulevard\", \"extending\", \"malady\", \"nests\", \"paved\", \"slate\", \"porte\", \"royal\", \"cultivated\", \"miller\", \"dormitory\", \"helen\", \"turf\", \"refectory\", \"nun\", \"wall\", \"burns\", \"fragments\", \"brocklehurst\", \"drops\", \"oak\", \"horizon\", \"midnight\", \"signal\", \"prayer\", \"fields\", \"stars\", \"hollow\", \"dim\", \"sun\", \"city\", \"inn\", \"wind\", \"ghost\", \"night\", \"deep\", \"light\", \"high\", \"garden\", \"door\", \"dark\", \"round\", \"sound\", \"madame\", \"stood\", \"white\", \"black\", \"heaven\", \"trees\", \"long\", \"strange\", \"like\", \"rose\", \"sky\", \"thought\", \"clock\", \"far\", \"house\", \"day\", \"looked\", \"saw\", \"time\", \"came\", \"room\", \"little\", \"come\", \"great\", \"life\", \"hour\", \"heard\", \"miss\", \"eyes\", \"went\", \"moment\", \"felt\", \"hand\", \"know\", \"jennings\", \"marianne\", \"middleton\", \"elinor\", \"barton\", \"brandon\", \"ferrars\", \"willoughby\", \"delaford\", \"margaret\", \"palmer\", \"cleveland\", \"dashwoods\", \"devonshire\", \"dashwood\", \"berkeley\", \"middletons\", \"steeles\", \"steele\", \"fanny\", \"allenham\", \"harley\", \"combe\", \"exeter\", \"norland\", \"longstaple\", \"sussex\", \"conduit\", \"enquire\", \"bartlett\", \"edward\", \"palmers\", \"magna\", \"cottage\", \"tomorrow\", \"colonel\", \"lucy\", \"sister\", \"mother\", \"john\", \"engagement\", \"town\", \"lady\", \"time\", \"thing\", \"house\", \"soon\", \"heart\", \"sir\", \"know\", \"think\", \"moment\", \"day\", \"good\", \"miss\", \"saw\", \"room\", \"causeway\", \"auburn\", \"sire\", \"warren\", \"benefactress\", \"graham\", \"polly\", \"elders\", \"retiring\", \"jack\", \"criminal\", \"pit\", \"signified\", \"tramp\", \"rocking\", \"heights\", \"whip\", \"commented\", \"suggestive\", \"papa\", \"eyelids\", \"turk\", \"couldn\", \"influences\", \"naughty\", \"foam\", \"proves\", \"doll\", \"pony\", \"extremities\", \"lingered\", \"gallery\", \"snowe\", \"echoed\", \"bretton\", \"horse\", \"boy\", \"knee\", \"paulina\", \"dr\", \"tales\", \"door\", \"reed\", \"lucy\", \"adele\", \"staircase\", \"little\", \"child\", \"hand\", \"descended\", \"letter\", \"like\", \"hall\", \"asked\", \"know\", \"come\", \"rochester\", \"yes\", \"room\", \"sat\", \"john\", \"think\", \"shall\", \"good\", \"long\", \"came\", \"tell\", \"heard\", \"thought\", \"eyes\", \"time\", \"bondage\", \"perishing\", \"withered\", \"blot\", \"panels\", \"remorse\", \"legitimate\", \"bloody\", \"revolted\", \"fiend\", \"divert\", \"resulting\", \"unclose\", \"shudder\", \"granite\", \"inflicting\", \"avert\", \"wipe\", \"hag\", \"nations\", \"transformed\", \"chink\", \"robes\", \"mysteries\", \"purer\", \"woes\", \"err\", \"tractable\", \"organs\", \"simpleton\", \"sets\", \"breadth\", \"pilot\", \"cultivate\", \"piqued\", \"mason\", \"sir\", \"blood\", \"delusion\", \"water\", \"eyre\", \"faculty\", \"doctor\", \"terrasse\", \"glass\", \"lips\", \"error\", \"right\", \"heart\", \"jane\", \"like\", \"life\", \"rochester\", \"act\", \"thought\", \"man\", \"head\", \"know\", \"good\", \"speak\", \"face\", \"look\", \"eyes\", \"feeling\", \"night\", \"voice\", \"long\", \"old\", \"seen\", \"think\", \"half\", \"come\", \"time\", \"little\", \"day\", \"abbot\", \"lloyd\", \"bessie\", \"paintings\", \"refreshments\", \"punished\", \"settlement\", \"nailed\", \"scatcherd\", \"embers\", \"apothecary\", \"sarah\", \"consecration\", \"malicious\", \"dislikes\", \"vicar\", \"reported\", \"chastisement\", \"presentiment\", \"boards\", \"handling\", \"strings\", \"brightly\", \"crushing\", \"nursery\", \"reed\", \"greek\", \"glare\", \"liberally\", \"pleasantest\", \"burns\", \"missis\", \"gateshead\", \"mama\", \"crib\", \"georgiana\", \"dread\", \"meals\", \"regions\", \"school\", \"plate\", \"cruel\", \"like\", \"miss\", \"sewing\", \"room\", \"gathered\", \"book\", \"long\", \"truth\", \"putting\", \"child\", \"thought\", \"poor\", \"severe\", \"passed\", \"young\", \"saw\", \"felt\", \"good\", \"day\", \"heard\", \"little\", \"night\", \"half\", \"rivet\", \"institution\", \"patty\", \"baked\", \"lend\", \"job\", \"ostensible\", \"apples\", \"lowton\", \"parcels\", \"apple\", \"womanly\", \"bedtime\", \"ford\", \"herd\", \"spectacles\", \"purchases\", \"lisped\", \"tablet\", \"sympathies\", \"chatter\", \"pattern\", \"hears\", \"herald\", \"mission\", \"waiter\", \"coarseness\", \"polish\", \"joyfully\", \"intimating\", \"pet\", \"amy\", \"whim\", \"prolonged\", \"shy\", \"papa\", \"ingram\", \"polly\", \"post\", \"office\", \"shop\", \"paulina\", \"new\", \"miss\", \"aspect\", \"eshton\", \"little\", \"bretton\", \"like\", \"mary\", \"came\", \"dr\", \"thought\", \"come\", \"day\", \"years\", \"returned\", \"want\", \"mother\", \"think\", \"lady\", \"heard\", \"oh\", \"look\", \"half\", \"took\", \"yes\", \"door\", \"tell\", \"know\", \"old\", \"good\", \"room\", \"fathers\", \"dancer\", \"semicircle\", \"contemplated\", \"maintaining\", \"panels\", \"vases\", \"disparity\", \"understands\", \"soliloquy\", \"sold\", \"amazing\", \"lessened\", \"hire\", \"glimpses\", \"privations\", \"threatening\", \"terribly\", \"piled\", \"dancing\", \"matches\", \"leah\", \"recommendations\", \"fifth\", \"grapes\", \"handled\", \"partner\", \"draughts\", \"dances\", \"develop\", \"april\", \"couple\", \"dance\", \"gets\", \"crowd\", \"room\", \"crown\", \"way\", \"thought\", \"ball\", \"door\", \"pictures\", \"frank\", \"minutes\", \"passage\", \"like\", \"churchill\", \"day\", \"crimsworth\", \"weston\", \"clock\", \"word\", \"better\", \"time\", \"emma\", \"little\", \"bed\", \"know\", \"wonder\", \"set\", \"long\", \"harriet\", \"good\", \"great\", \"hope\", \"evening\", \"miss\", \"came\", \"oh\", \"fifine\", \"desiree\", \"consistency\", \"cries\", \"liar\", \"surgeon\", \"augusta\", \"intentionally\", \"dejected\", \"unaccountably\", \"manager\", \"palate\", \"admirably\", \"feigned\", \"bandaged\", \"vices\", \"preoccupied\", \"turk\", \"perils\", \"commonest\", \"adieus\", \"antagonist\", \"personages\", \"conformity\", \"ordinarily\", \"infirm\", \"holland\", \"launched\", \"ca\", \"froid\", \"brocklehurst\", \"robust\", \"doctor\", \"fossette\", \"madame\", \"reed\", \"substitute\", \"promptly\", \"child\", \"thirty\", \"mamma\", \"rue\", \"complain\", \"portress\", \"containing\", \"dr\", \"physician\", \"madam\", \"nursery\", \"illness\", \"bien\", \"age\", \"eye\", \"work\", \"good\", \"beck\", \"day\", \"little\", \"bed\", \"hand\", \"room\", \"looked\", \"english\", \"arm\", \"air\", \"like\", \"mother\", \"john\", \"came\", \"woman\", \"young\", \"new\", \"sermon\", \"fifth\", \"precept\", \"monitor\", \"chapters\", \"protestants\", \"rome\", \"creed\", \"drooping\", \"relatives\", \"clay\", \"dejected\", \"thrusting\", \"patron\", \"performances\", \"exceeded\", \"ciel\", \"heap\", \"fathers\", \"paralysed\", \"summits\", \"romanism\", \"magi\", \"cultivated\", \"fervid\", \"reine\", \"purer\", \"protect\", \"hardships\", \"criminal\", \"holy\", \"spiritual\", \"remainder\", \"church\", \"fold\", \"silas\", \"pere\", \"director\", \"march\", \"september\", \"works\", \"forward\", \"schoolroom\", \"helen\", \"strange\", \"shoes\", \"god\", \"glory\", \"example\", \"bread\", \"feet\", \"little\", \"half\", \"high\", \"heart\", \"time\", \"great\", \"evening\", \"looked\", \"way\", \"strong\", \"power\", \"girls\", \"men\", \"come\", \"good\", \"cold\", \"world\", \"thought\", \"like\", \"miss\", \"hour\", \"slavery\", \"insane\", \"moss\", \"clay\", \"aching\", \"unselfish\", \"dilated\", \"thirdly\", \"embracing\", \"flaming\", \"frequented\", \"sanctioned\", \"crimsoned\", \"philanthropy\", \"brittle\", \"strained\", \"realized\", \"chimneys\", \"ominous\", \"maniac\", \"accursed\", \"comply\", \"captive\", \"abide\", \"frail\", \"opens\", \"serving\", \"beech\", \"vapid\", \"verdure\", \"assigned\", \"lane\", \"maid\", \"abundance\", \"grasp\", \"torture\", \"vandenhuten\", \"region\", \"wicked\", \"fate\", \"void\", \"injured\", \"live\", \"death\", \"individual\", \"hunsden\", \"wood\", \"monsieur\", \"principles\", \"lawn\", \"eye\", \"residence\", \"old\", \"jane\", \"wild\", \"heart\", \"strength\", \"voice\", \"soul\", \"consider\", \"glance\", \"love\", \"look\", \"hand\", \"man\", \"come\", \"like\", \"mean\", \"end\", \"rose\", \"wife\", \"nature\", \"years\", \"know\", \"left\", \"looked\", \"shall\", \"tell\", \"house\", \"oh\", \"gone\", \"driver\", \"carlo\", \"stile\", \"develop\", \"joyfully\", \"intimating\", \"whitcross\", \"overtaken\", \"conducting\", \"meets\", \"imply\", \"population\", \"dubious\", \"unchanged\", \"vases\", \"patted\", \"chilled\", \"coast\", \"cursed\", \"steadfast\", \"leader\", \"fluency\", \"elixir\", \"lantern\", \"bonnets\", \"firelight\", \"shift\", \"glee\", \"pagan\", \"sworn\", \"hannah\", \"rosamond\", \"diana\", \"inform\", \"parlour\", \"home\", \"scattered\", \"charm\", \"merry\", \"mary\", \"rochester\", \"noon\", \"oliver\", \"st\", \"sir\", \"event\", \"added\", \"domestic\", \"soon\", \"return\", \"better\", \"coming\", \"adele\", \"saw\", \"fairfax\", \"like\", \"john\", \"night\", \"master\", \"power\", \"words\", \"glad\", \"feeling\", \"happiness\", \"asked\", \"yes\", \"jane\", \"tell\", \"little\", \"half\", \"come\", \"door\", \"till\", \"morning\"], \"Total\": [915.0, 1718.0, 694.0, 1323.0, 1542.0, 573.0, 1352.0, 931.0, 1142.0, 561.0, 873.0, 1053.0, 409.0, 588.0, 1313.0, 1429.0, 1313.0, 920.0, 827.0, 935.0, 773.0, 488.0, 697.0, 415.0, 653.0, 686.0, 901.0, 615.0, 449.0, 286.0, 395.2495422363281, 307.08734130859375, 290.9615478515625, 170.52908325195312, 613.5360717773438, 184.76263427734375, 162.92469787597656, 124.09963989257812, 90.9341812133789, 84.26992797851562, 70.04148864746094, 67.19087219238281, 54.879154205322266, 51.088539123535156, 47.28322982788086, 92.78533935546875, 37.814449310302734, 39.70238494873047, 37.817962646484375, 34.954830169677734, 30.22565269470215, 31.182565689086914, 24.537456512451172, 23.599021911621094, 71.19718933105469, 23.567760467529297, 14.106565475463867, 14.110743522644043, 15.06193733215332, 13.16109561920166, 15.06131362915039, 108.73826599121094, 48.71428680419922, 53.210201263427734, 35.05060958862305, 374.1821594238281, 181.29794311523438, 149.72482299804688, 177.14369201660156, 578.3283081054688, 504.0479431152344, 283.17059326171875, 593.714599609375, 180.1442108154297, 419.30389404296875, 1429.406494140625, 1542.15625, 920.1074829101562, 931.3895263671875, 826.53955078125, 1313.241943359375, 901.8006591796875, 1352.800048828125, 922.1502685546875, 615.2032470703125, 1313.6881103515625, 617.2503051757812, 504.5313720703125, 346.9346923828125, 1718.123779296875, 663.6425170898438, 1053.6240234375, 518.4295654296875, 662.8363647460938, 873.5499267578125, 678.0743408203125, 807.040283203125, 1142.715576171875, 935.175537109375, 118.62765502929688, 286.2931823730469, 56.227359771728516, 20.972431182861328, 14.9415283203125, 29.02832794189453, 32.03622055053711, 17.934486389160156, 28.033035278320312, 115.62149810791016, 39.100101470947266, 48.16217803955078, 14.92887020111084, 26.990053176879883, 11.914253234863281, 12.920784950256348, 12.923665046691895, 12.910045623779297, 37.00975799560547, 9.90267276763916, 13.903186798095703, 9.900653839111328, 39.027523040771484, 10.89716625213623, 19.54236602783203, 12.919203758239746, 8.896320343017578, 12.91375732421875, 23.901994705200195, 187.10281372070312, 111.37212371826172, 80.37950897216797, 119.89143371582031, 112.00789642333984, 65.13075256347656, 48.17567443847656, 72.7928237915039, 108.8573989868164, 39.887611389160156, 121.71817779541016, 148.92457580566406, 64.6943130493164, 52.67234802246094, 66.1354751586914, 158.76348876953125, 231.31150817871094, 409.9205627441406, 61.56184768676758, 104.68173217773438, 165.5213623046875, 246.798583984375, 106.96102905273438, 195.408447265625, 615.0692749023438, 159.20303344726562, 86.62203979492188, 1718.123779296875, 1323.185302734375, 254.85260009765625, 396.2440490722656, 653.9967041015625, 1142.715576171875, 636.976806640625, 1053.6240234375, 1352.800048828125, 1429.406494140625, 548.4116821289062, 697.5631713867188, 1313.6881103515625, 935.175537109375, 582.032958984375, 622.992431640625, 497.180908203125, 901.8006591796875, 667.8906860351562, 773.863037109375, 494.7320251464844, 1313.241943359375, 587.6289672851562, 531.8104248046875, 639.5403442382812, 750.2857666015625, 922.1502685546875, 873.5499267578125, 15.424599647521973, 11.534099578857422, 20.047313690185547, 12.488932609558105, 28.561511993408203, 8.611016273498535, 6.6658782958984375, 6.668847560882568, 26.33868408203125, 6.6685099601745605, 28.14752769470215, 5.697397708892822, 5.6980977058410645, 14.385805130004883, 86.0023422241211, 5.686962604522705, 5.68808126449585, 5.675566673278809, 5.700436115264893, 59.06821060180664, 5.694487571716309, 5.6885833740234375, 10.449065208435059, 7.607428550720215, 5.721076965332031, 8.340310096740723, 19.82534408569336, 95.95145416259766, 350.05792236328125, 8.562093734741211, 98.3931655883789, 130.85340881347656, 27.899763107299805, 14.529565811157227, 19.640945434570312, 30.73025894165039, 13.563864707946777, 47.91643524169922, 588.8135986328125, 73.5592269897461, 30.606182098388672, 145.9290313720703, 37.17015838623047, 233.5967559814453, 168.24017333984375, 41.38313293457031, 48.75102233886719, 118.99372100830078, 1323.185302734375, 497.180908203125, 118.99046325683594, 931.3895263671875, 481.8707580566406, 636.976806640625, 622.992431640625, 1718.123779296875, 594.1692504882812, 827.3339233398438, 873.5499267578125, 622.6393432617188, 313.3422546386719, 639.5403442382812, 1142.715576171875, 1313.241943359375, 290.3435974121094, 1352.800048828125, 697.5631713867188, 773.863037109375, 935.175537109375, 1542.15625, 922.1502685546875, 1429.406494140625, 1313.6881103515625, 1053.6240234375, 686.1185302734375, 750.2857666015625, 615.2032470703125, 621.3622436523438, 901.8006591796875, 415.5048828125, 561.3367309570312, 91.97569274902344, 55.64503860473633, 21.250076293945312, 14.873344421386719, 19.131349563598633, 24.46894645690918, 34.04500198364258, 14.80965518951416, 161.54649353027344, 47.7858772277832, 65.83409881591797, 28.601804733276367, 63.23117446899414, 25.49342918395996, 85.75955963134766, 6.235300540924072, 8.359152793884277, 11.543477058410645, 6.231600284576416, 33.84108352661133, 6.226679801940918, 39.8066291809082, 8.344347953796387, 11.527170181274414, 15.765979766845703, 915.1966552734375, 22.120208740234375, 14.265006065368652, 329.88531494140625, 409.69122314453125, 168.90020751953125, 132.32212829589844, 232.9580535888672, 121.859375, 52.36333465576172, 246.7296600341797, 34.521854400634766, 388.133056640625, 449.0381774902344, 288.6622619628906, 807.040283203125, 1542.15625, 931.3895263671875, 104.89448547363281, 92.08560943603516, 442.7465515136719, 593.714599609375, 1313.241943359375, 561.5155029296875, 1352.800048828125, 1718.123779296875, 826.53955078125, 1429.406494140625, 1142.715576171875, 1313.6881103515625, 617.2503051757812, 920.1074829101562, 901.8006591796875, 663.6425170898438, 1323.185302734375, 13.88720417022705, 6.873493671417236, 6.867380619049072, 7.87498664855957, 6.864986896514893, 5.8683037757873535, 5.8620171546936035, 5.869998931884766, 5.858900547027588, 6.855966091156006, 5.865091323852539, 6.863541603088379, 19.969406127929688, 5.856147766113281, 5.868029594421387, 9.861977577209473, 10.863733291625977, 6.446293354034424, 6.809045791625977, 6.468770503997803, 74.00076293945312, 7.792517185211182, 7.818065643310547, 9.884851455688477, 9.855405807495117, 6.7906904220581055, 9.3881196975708, 9.8761568069458, 10.757936477661133, 5.450014591217041, 24.503047943115234, 36.01696014404297, 61.693756103515625, 18.194669723510742, 19.950170516967773, 44.16706848144531, 76.7373275756836, 31.323163986206055, 10.903412818908691, 52.3922233581543, 17.869503021240234, 19.991491317749023, 16.676708221435547, 30.379077911376953, 15.680978775024414, 35.415653228759766, 43.37546920776367, 28.03899574279785, 44.96653366088867, 50.98270034790039, 105.5097427368164, 42.873451232910156, 43.852108001708984, 96.99475860595703, 27.552852630615234, 622.992431640625, 182.90841674804688, 306.0396423339844, 192.74607849121094, 175.75440979003906, 531.8104248046875, 226.4934539794922, 356.3105163574219, 157.76751708984375, 409.9205627441406, 325.15771484375, 236.2218017578125, 182.01828002929688, 106.46697235107422, 110.89433288574219, 935.175537109375, 251.46725463867188, 1323.185302734375, 230.24404907226562, 96.11895751953125, 1142.715576171875, 131.7305450439453, 464.62408447265625, 750.2857666015625, 1053.6240234375, 697.5631713867188, 773.863037109375, 1313.6881103515625, 686.1185302734375, 873.5499267578125, 1718.123779296875, 827.3339233398438, 826.53955078125, 582.032958984375, 434.0224609375, 621.3622436523438, 1542.15625, 636.976806640625, 491.7345275878906, 580.5825805664062, 667.8906860351562, 615.0692749023438, 1429.406494140625, 233.7635498046875, 573.8014526367188, 104.16576385498047, 694.0807495117188, 90.92527770996094, 146.5084228515625, 132.30247497558594, 219.35482788085938, 31.221328735351562, 37.314266204833984, 78.77462768554688, 28.171098709106445, 37.25817108154297, 27.166942596435547, 255.5694122314453, 18.05873680114746, 20.080455780029297, 31.203536987304688, 39.276100158691406, 49.347747802734375, 19.06159210205078, 17.029348373413086, 17.0223388671875, 16.015514373779297, 54.18564987182617, 8.937155723571777, 9.93842601776123, 7.92205810546875, 6.9151811599731445, 6.914760589599609, 320.3553161621094, 10.929596900939941, 11.933877944946289, 86.39542388916016, 17.996131896972656, 307.8731384277344, 377.14752197265625, 578.3283081054688, 662.8363647460938, 622.6393432617188, 115.84750366210938, 235.76443481445312, 615.2032470703125, 1313.6881103515625, 807.040283203125, 750.2857666015625, 920.1074829101562, 653.9967041015625, 588.8135986328125, 1429.406494140625, 1313.241943359375, 580.5825805664062, 1053.6240234375, 1352.800048828125, 1542.15625, 773.863037109375, 873.5499267578125, 7.3599853515625, 6.436397552490234, 6.432311534881592, 8.296496391296387, 10.084129333496094, 212.68983459472656, 74.50761413574219, 5.51788330078125, 5.548683166503906, 6.524267673492432, 6.0674309730529785, 6.515700817108154, 6.4183454513549805, 8.159623146057129, 5.530566692352295, 6.5065531730651855, 8.428412437438965, 5.605777740478516, 5.56611967086792, 162.96104431152344, 7.425610542297363, 5.321323871612549, 6.49432897567749, 7.549560070037842, 11.991366386413574, 5.553003787994385, 5.547759056091309, 20.402528762817383, 7.5045881271362305, 5.593362331390381, 21.518707275390625, 39.500186920166016, 58.101261138916016, 12.09322452545166, 233.5967559814453, 60.8767204284668, 67.0077133178711, 54.5527229309082, 80.57401275634766, 229.73858642578125, 16.92502784729004, 531.8104248046875, 118.99372100830078, 377.14752197265625, 130.85340881347656, 48.47688293457031, 1718.123779296875, 290.3435974121094, 615.0692749023438, 42.770912170410156, 419.30389404296875, 1323.185302734375, 168.24017333984375, 394.26318359375, 1429.406494140625, 827.3339233398438, 350.05792236328125, 594.1692504882812, 873.5499267578125, 367.47979736328125, 622.6393432617188, 1313.241943359375, 922.1502685546875, 1352.800048828125, 935.175537109375, 686.1185302734375, 538.444580078125, 621.3622436523438, 1142.715576171875, 636.976806640625, 1313.6881103515625, 5.28373384475708, 6.256824493408203, 6.320556640625, 5.282320499420166, 5.683900833129883, 14.669270515441895, 6.32572603225708, 7.342409133911133, 6.4800238609313965, 7.121105194091797, 5.370609760284424, 7.546457767486572, 5.486325740814209, 5.509273052215576, 8.280482292175293, 5.656238079071045, 7.325140953063965, 6.443727016448975, 5.268815040588379, 7.501217365264893, 8.90408992767334, 6.017296314239502, 5.479438304901123, 5.602212905883789, 5.736920356750488, 6.101546287536621, 11.144752502441406, 6.431370258331299, 6.330348491668701, 12.163769721984863, 6.525282859802246, 13.172831535339355, 23.012920379638672, 10.407160758972168, 9.24489974975586, 59.06821060180664, 588.8135986328125, 88.1334228515625, 15.641027450561523, 111.38108825683594, 98.3931655883789, 23.17305564880371, 46.55744934082031, 18.162296295166016, 118.524658203125, 192.91029357910156, 36.994876861572266, 359.2730407714844, 653.9967041015625, 931.3895263671875, 1323.185302734375, 582.032958984375, 350.05792236328125, 85.60623931884766, 1142.715576171875, 901.8006591796875, 407.3456115722656, 1429.406494140625, 1352.800048828125, 446.4449768066406, 497.180908203125, 639.5403442382812, 636.976806640625, 281.49969482421875, 622.992431640625, 395.94622802734375, 935.175537109375, 481.8707580566406, 446.7970886230469, 1313.241943359375, 587.6289672851562, 827.3339233398438, 1313.6881103515625, 1718.123779296875, 1053.6240234375, 21.834226608276367, 11.133355140686035, 118.99046325683594, 5.204777717590332, 5.428917407989502, 5.445888996124268, 5.42756986618042, 6.173532485961914, 22.168676376342773, 7.434067249298096, 9.224292755126953, 6.4185028076171875, 5.5669660568237305, 6.4170989990234375, 6.299139499664307, 6.625741004943848, 5.582924842834473, 5.473628044128418, 7.0676374435424805, 11.039381980895996, 6.359166622161865, 7.283438682556152, 7.5404229164123535, 6.335507392883301, 42.626258850097656, 118.99372100830078, 12.091897010803223, 8.463868141174316, 6.363484859466553, 8.508050918579102, 31.323163986206055, 19.640945434570312, 41.38313293457031, 46.57929611206055, 15.98896598815918, 57.31613540649414, 56.4482421875, 13.47576904296875, 11.270013809204102, 246.798583984375, 29.63776206970215, 55.44554138183594, 1323.185302734375, 1542.15625, 16.657108306884766, 873.5499267578125, 59.5287971496582, 165.6092987060547, 935.175537109375, 207.992919921875, 61.9404411315918, 290.3435974121094, 1142.715576171875, 394.0640563964844, 72.36952209472656, 384.5515441894531, 663.6425170898438, 773.863037109375, 667.8906860351562, 1352.800048828125, 1053.6240234375, 621.3622436523438, 1718.123779296875, 622.992431640625, 587.6289672851562, 7.832913875579834, 11.09080696105957, 11.668338775634766, 14.697550773620605, 6.796103477478027, 6.9730634689331055, 5.166867256164551, 22.985055923461914, 10.864280700683594, 8.021517753601074, 15.774499893188477, 7.136502265930176, 5.9461669921875, 16.159738540649414, 6.197572231292725, 20.772539138793945, 6.319499969482422, 7.2806172370910645, 7.346823215484619, 10.963004112243652, 8.112347602844238, 15.5584077835083, 7.523536205291748, 8.3710355758667, 8.376426696777344, 13.14410400390625, 8.330143928527832, 6.15908145904541, 5.012229919433594, 5.1502790451049805, 10.064533233642578, 10.112959861755371, 10.255285263061523, 15.945903778076172, 24.487821578979492, 162.96104431152344, 86.0023422241211, 74.50761413574219, 78.42192840576172, 51.5510139465332, 33.65544128417969, 80.57401275634766, 291.30645751953125, 1542.15625, 60.87215042114258, 28.14752769470215, 1718.123779296875, 233.5967559814453, 1323.185302734375, 143.29217529296875, 686.1185302734375, 229.73858642578125, 1142.715576171875, 827.3339233398438, 1053.6240234375, 313.3422546386719, 236.13064575195312, 324.6849670410156, 662.8363647460938, 1313.241943359375, 615.2032470703125, 621.3622436523438, 561.5155029296875, 639.5403442382812, 587.6289672851562, 494.7320251464844, 594.1692504882812, 531.8104248046875, 538.444580078125, 1429.406494140625, 481.8707580566406, 1352.800048828125, 873.5499267578125, 5.395334720611572, 5.805438041687012, 6.689876556396484, 5.093634128570557, 5.206699848175049, 5.683900833129883, 5.7430524826049805, 7.245269775390625, 6.001461029052734, 6.213901996612549, 16.0082950592041, 6.920142650604248, 7.211846828460693, 5.304721355438232, 7.218070030212402, 7.314159870147705, 10.760123252868652, 6.3963704109191895, 7.779827117919922, 63.821895599365234, 7.950101852416992, 24.651559829711914, 7.134530067443848, 4.6653618812561035, 9.100236892700195, 9.220815658569336, 37.13418960571289, 6.111962795257568, 17.728235244750977, 5.0406365394592285, 13.616945266723633, 45.69084548950195, 79.52049255371094, 15.57518482208252, 34.966739654541016, 873.5499267578125, 42.004642486572266, 686.7096557617188, 1142.715576171875, 85.02462768554688, 531.8104248046875, 42.311405181884766, 246.7296600341797, 290.3052062988281, 63.069366455078125, 1323.185302734375, 232.9580535888672, 1053.6240234375, 97.40389251708984, 449.0381774902344, 131.7305450439453, 396.9488220214844, 613.0646362304688, 1313.6881103515625, 915.1966552734375, 1718.123779296875, 218.63832092285156, 1429.406494140625, 206.3667449951172, 265.86785888671875, 935.175537109375, 561.3367309570312, 1352.800048828125, 826.53955078125, 504.5313720703125, 483.3564453125, 1542.15625, 686.1185302734375, 561.5155029296875, 10.721363067626953, 16.769351959228516, 7.652797222137451, 6.237709999084473, 7.806006908416748, 13.240307807922363, 9.117459297180176, 5.049906253814697, 5.0822367668151855, 5.1175665855407715, 5.158121585845947, 5.194634914398193, 5.1851091384887695, 10.139172554016113, 5.252600193023682, 5.2831244468688965, 5.215195178985596, 5.321323871612549, 5.371438026428223, 5.388603210449219, 5.325139999389648, 5.435611248016357, 5.499162197113037, 5.487454414367676, 5.497716426849365, 5.515069961547852, 5.519735336303711, 5.510289192199707, 5.555212020874023, 5.5586700439453125, 52.3922233581543, 13.110417366027832, 46.55744934082031, 48.82965850830078, 409.9205627441406, 118.99372100830078, 15.240734100341797, 15.585469245910645, 290.3435974121094, 47.53335189819336, 65.01531219482422, 72.69068145751953, 16.732778549194336, 17.291961669921875, 17.21311378479004, 229.73858642578125, 17.970369338989258, 66.388427734375, 42.626258850097656, 40.839874267578125, 48.17567443847656, 117.25945281982422, 396.2440490722656, 254.85260009765625, 1352.800048828125, 165.5213623046875, 1053.6240234375, 1718.123779296875, 218.63832092285156, 615.0692749023438, 873.5499267578125, 697.5631713867188, 231.31150817871094, 115.7342758178711, 265.1517333984375, 1323.185302734375, 662.8363647460938, 622.6393432617188, 686.1185302734375, 477.2165222167969, 663.6425170898438, 291.30645751953125, 7.111657619476318, 4.6653618812561035, 5.029219627380371, 6.032914638519287, 7.029013633728027, 7.045684814453125, 20.415082931518555, 15.032411575317383, 8.817635536193848, 9.15120792388916, 5.040865421295166, 5.0822367668151855, 5.17202615737915, 5.210007190704346, 5.241177558898926, 5.300159931182861, 5.288691520690918, 5.38671350479126, 5.395334720611572, 5.413543701171875, 5.4429192543029785, 5.448887348175049, 5.449797630310059, 5.450014591217041, 5.454557418823242, 5.461596965789795, 5.736920356750488, 5.940354824066162, 6.023573398590088, 6.0674309730529785, 12.991127967834473, 13.038216590881348, 13.76364803314209, 113.73837280273438, 14.021891593933105, 36.191368103027344, 39.18726348876953, 14.90987491607666, 27.821626663208008, 11.986554145812988, 21.964582443237305, 140.7350311279297, 56.41047286987305, 61.693756103515625, 251.46725463867188, 24.970611572265625, 227.63404846191406, 24.89158058166504, 26.38328742980957, 73.02177429199219, 89.20783996582031, 1718.123779296875, 587.6289672851562, 192.74607849121094, 653.9967041015625, 1313.6881103515625, 826.53955078125, 483.3564453125, 697.5631713867188, 686.7096557617188, 242.33543395996094, 247.16119384765625, 164.12660217285156, 173.4071502685547, 827.3339233398438, 1352.800048828125, 282.6329650878906, 411.15924072265625, 1142.715576171875, 1323.185302734375, 1542.15625, 434.0224609375, 5.908987522125244, 9.003320693969727, 9.558566093444824, 5.040865421295166, 5.135496139526367, 5.219809055328369, 5.251865863800049, 5.267635345458984, 5.303379058837891, 5.363093376159668, 5.353940963745117, 5.34460973739624, 5.415004730224609, 5.417825222015381, 5.399795055389404, 10.744057655334473, 10.943558692932129, 6.038900375366211, 6.107982158660889, 6.17550802230835, 6.247529983520508, 6.282469749450684, 6.26582670211792, 6.357827186584473, 6.37679386138916, 6.3665080070495605, 6.354544639587402, 6.409963130950928, 6.453572750091553, 6.429895877838135, 13.014734268188477, 46.98629379272461, 42.654788970947266, 16.963361740112305, 19.32535743713379, 20.609458923339844, 20.865921020507812, 21.34004783630371, 24.596223831176758, 59.94978332519531, 25.95166778564453, 26.549495697021484, 209.78512573242188, 134.1259002685547, 26.48867416381836, 148.92457580566406, 74.53456115722656, 286.2931823730469, 29.725008010864258, 30.540971755981445, 396.2440490722656, 32.58820343017578, 481.8707580566406, 931.3895263671875, 120.10755920410156, 653.9967041015625, 120.46118927001953, 395.94622802734375, 125.72734069824219, 141.92129516601562, 147.97592163085938, 567.95458984375, 639.5403442382812, 615.0692749023438, 901.8006591796875, 827.3339233398438, 1323.185302734375, 237.244384765625, 241.35462951660156, 230.24404907226562, 277.1570129394531, 312.6164245605469, 313.3422546386719, 1429.406494140625, 534.6260375976562, 697.5631713867188, 922.1502685546875, 538.444580078125, 750.2857666015625, 561.5155029296875, 344.4631042480469, 10.381270408630371, 8.019543647766113, 13.095826148986816, 5.0406365394592285, 5.012229919433594, 5.1502790451049805, 10.046626091003418, 5.2038140296936035, 5.379279136657715, 5.26038122177124, 5.269649505615234, 5.267892360687256, 5.5148820877075195, 10.78307056427002, 5.7430524826049805, 5.89856481552124, 6.025394439697266, 6.135011672973633, 6.211903095245361, 6.283635139465332, 6.1927595138549805, 6.17499303817749, 6.318907260894775, 6.340498924255371, 6.358306407928467, 6.394043445587158, 6.419735431671143, 12.474857330322266, 6.442497730255127, 6.446293354034424, 38.91352844238281, 15.860222816467285, 73.95205688476562, 18.448894500732422, 78.07791900634766, 488.5646057128906, 24.602060317993164, 58.52558135986328, 25.948514938354492, 143.29217529296875, 350.05792236328125, 30.397415161132812, 30.011539459228516, 195.408447265625, 588.8135986328125, 100.14398193359375, 227.61947631835938, 34.04087829589844, 920.1074829101562, 274.7575378417969, 613.0646362304688, 302.52630615234375, 130.85340881347656, 773.863037109375, 388.133056640625, 1323.185302734375, 622.6393432617188, 622.992431640625, 199.96939086914062, 247.16119384765625, 342.7372131347656, 230.27516174316406, 281.49969482421875, 274.18597412109375, 394.26318359375, 594.1692504882812, 931.3895263671875, 538.444580078125, 1718.123779296875, 587.6289672851562, 827.3339233398438, 531.8104248046875, 518.2391357421875, 513.078125], \"loglift\": [30.0, 29.0, 28.0, 27.0, 26.0, 25.0, 24.0, 23.0, 22.0, 21.0, 20.0, 19.0, 18.0, 17.0, 16.0, 15.0, 14.0, 13.0, 12.0, 11.0, 10.0, 9.0, 8.0, 7.0, 6.0, 5.0, 4.0, 3.0, 2.0, 1.0, 1.347499966621399, 1.347100019454956, 1.347000002861023, 1.3447999954223633, 1.3444000482559204, 1.344099998474121, 1.3423999547958374, 1.3415000438690186, 1.3398000001907349, 1.3396999835968018, 1.3381999731063843, 1.337499976158142, 1.3344999551773071, 1.3343000411987305, 1.3324999809265137, 1.3308000564575195, 1.3295999765396118, 1.3288999795913696, 1.3278000354766846, 1.3270000219345093, 1.3235000371932983, 1.3193000555038452, 1.317199945449829, 1.3142999410629272, 1.3137999773025513, 1.3114999532699585, 1.2935999631881714, 1.2934999465942383, 1.2927000522613525, 1.2879999876022339, 1.284600019454956, 1.2168999910354614, 1.2477999925613403, 1.218500018119812, 1.238800048828125, 1.0241999626159668, 1.0484000444412231, 1.0650999546051025, 1.0214999914169312, 0.7831000089645386, 0.8034999966621399, 0.8535000085830688, 0.656499981880188, 0.9297000169754028, 0.7009000182151794, 0.36309999227523804, 0.3264999985694885, 0.4659000039100647, 0.42399999499320984, 0.4514000117778778, 0.3012999892234802, 0.4011000096797943, 0.21279999613761902, 0.3580999970436096, 0.49399998784065247, 0.18240000307559967, 0.4693000018596649, 0.5333999991416931, 0.7010999917984009, -0.06700000166893005, 0.3880999982357025, 0.07980000227689743, 0.4401000142097473, 0.265500009059906, 0.06300000101327896, 0.23319999873638153, 0.08330000191926956, -0.23160000145435333, -0.0892999991774559, 1.4534000158309937, 1.4509999752044678, 1.4458999633789062, 1.440000057220459, 1.4332000017166138, 1.4330999851226807, 1.4323999881744385, 1.4321000576019287, 1.430899977684021, 1.4306999444961548, 1.4244999885559082, 1.4227999448776245, 1.4225000143051147, 1.4163000583648682, 1.4156999588012695, 1.4142999649047852, 1.4093999862670898, 1.4071999788284302, 1.4056999683380127, 1.405400037765503, 1.4043999910354614, 1.402400016784668, 1.4012000560760498, 1.4010000228881836, 1.4003000259399414, 1.3956999778747559, 1.3948999643325806, 1.3944000005722046, 1.392899990081787, 1.3920999765396118, 1.3913999795913696, 1.3867000341415405, 1.3782000541687012, 1.3696999549865723, 1.3770999908447266, 1.3803000450134277, 1.3705999851226807, 1.347599983215332, 1.375, 1.3104000091552734, 1.2793999910354614, 1.3288999795913696, 1.3272000551223755, 1.3021999597549438, 1.222100019454956, 1.1756999492645264, 1.089900016784668, 1.2822999954223633, 1.1836999654769897, 1.0221999883651733, 0.9085999727249146, 1.1151000261306763, 0.9366000294685364, 0.582099974155426, 0.9659000039100647, 1.1649999618530273, 0.11270000040531158, 0.16369999945163727, 0.7684000134468079, 0.5978999733924866, 0.36010000109672546, 0.08669999986886978, 0.2736000120639801, 0.030899999663233757, -0.1500999927520752, -0.1972000002861023, 0.290800005197525, 0.1606999933719635, -0.19189999997615814, -0.04839999973773956, 0.2126999944448471, 0.15839999914169312, 0.3068000078201294, -0.1145000010728836, 0.07599999755620956, -0.07090000063180923, 0.2678999900817871, -0.5928000211715698, 0.06610000133514404, 0.11900000274181366, -0.05350000038743019, -0.21469999849796295, -0.41530001163482666, -0.36230000853538513, 1.90339994430542, 1.8798999786376953, 1.8734999895095825, 1.8629000186920166, 1.8622000217437744, 1.8593000173568726, 1.8310999870300293, 1.8288999795913696, 1.8251999616622925, 1.82260000705719, 1.8108999729156494, 1.8107999563217163, 1.8087999820709229, 1.8080999851226807, 1.8028000593185425, 1.7996000051498413, 1.7954000234603882, 1.7934000492095947, 1.7920000553131104, 1.7898999452590942, 1.7898999452590942, 1.7896000146865845, 1.7860000133514404, 1.773900032043457, 1.75409996509552, 1.753999948501587, 1.7470999956130981, 1.7417000532150269, 1.7376999855041504, 1.7288000583648682, 1.7015000581741333, 1.6444000005722046, 1.688599944114685, 1.7171000242233276, 1.6833000183105469, 1.604599952697754, 1.680999994277954, 1.5018999576568604, 1.1304999589920044, 1.4371000528335571, 1.558500051498413, 1.2811000347137451, 1.5125999450683594, 1.1991000175476074, 1.2253999710083008, 1.4878000020980835, 1.432800054550171, 1.2156000137329102, 0.5238999724388123, 0.7813000082969666, 1.1540000438690186, 0.5045999884605408, 0.7032999992370605, 0.5913000106811523, 0.5759999752044678, 0.20270000398159027, 0.5523999929428101, 0.4291999936103821, 0.3901999890804291, 0.48969998955726624, 0.7358999848365784, 0.4390000104904175, 0.1467999964952469, 0.061900001019239426, 0.7314000129699707, -0.0008999999845400453, 0.31529998779296875, 0.23600000143051147, 0.11299999803304672, -0.1606999933719635, 0.10589999705553055, -0.21950000524520874, -0.18539999425411224, -0.05460000038146973, 0.13249999284744263, 0.05040000006556511, 0.20229999721050262, 0.18170000612735748, -0.17550000548362732, 2.165600061416626, 2.154099941253662, 2.1510000228881836, 2.1503000259399414, 2.147900104522705, 2.1465001106262207, 2.1359000205993652, 2.1282999515533447, 2.1182000637054443, 2.1171998977661133, 2.1054000854492188, 2.093400001525879, 2.0894999504089355, 2.089400053024292, 2.0810000896453857, 2.075900077819824, 2.072000026702881, 2.070499897003174, 2.0701000690460205, 2.0687999725341797, 2.06820011138916, 2.0676000118255615, 2.0666000843048096, 2.0599000453948975, 2.0564000606536865, 2.0560998916625977, 2.0552000999450684, 2.052799940109253, 2.0527000427246094, 2.044800043106079, 2.02620005607605, 2.0046000480651855, 2.0083000659942627, 1.9830000400543213, 1.926900029182434, 1.9255000352859497, 1.9752999544143677, 1.868299961090088, 1.9967999458312988, 1.7271000146865845, 1.7023999691009521, 1.5878000259399414, 1.2116999626159668, 1.0247000455856323, 0.8707000017166138, 1.6095000505447388, 1.645799994468689, 1.054800033569336, 0.9014999866485596, 0.5562999844551086, 0.847000002861023, 0.4088999927043915, 0.1429000049829483, 0.5181999802589417, 0.14259999990463257, 0.24160000681877136, 0.13539999723434448, 0.5683000087738037, 0.27219998836517334, 0.257099986076355, 0.48559999465942383, -0.1754000037908554, 2.273400068283081, 2.24780011177063, 2.2402000427246094, 2.237600088119507, 2.2304000854492188, 2.2262001037597656, 2.222399950027466, 2.218400001525879, 2.218400001525879, 2.213200092315674, 2.2126998901367188, 2.2035999298095703, 2.1689000129699707, 2.1519999504089355, 2.149199962615967, 2.1438000202178955, 2.1368000507354736, 2.1326000690460205, 2.128000020980835, 2.125999927520752, 2.1196000576019287, 2.1180999279022217, 2.116300106048584, 2.1003000736236572, 2.094599962234497, 2.091900110244751, 2.091900110244751, 2.0869998931884766, 2.075900077819824, 2.0745999813079834, 2.0653998851776123, 2.0397000312805176, 2.012399911880493, 2.0587000846862793, 2.0459001064300537, 1.9681999683380127, 1.8499000072479248, 1.9397000074386597, 2.073199987411499, 1.8594000339508057, 1.9912999868392944, 1.969099998474121, 1.999500036239624, 1.8808000087738037, 2.002700090408325, 1.8209999799728394, 1.7761000394821167, 1.8600000143051147, 1.742400050163269, 1.7038999795913696, 1.5206999778747559, 1.725100040435791, 1.7177000045776367, 1.4943000078201294, 1.8422000408172607, 0.9200000166893005, 1.2467000484466553, 1.079699993133545, 1.225000023841858, 1.250599980354309, 0.8931999802589417, 1.1597000360488892, 0.9980999827384949, 1.2476999759674072, 0.8615999817848206, 0.9451000094413757, 1.065000057220459, 1.1598999500274658, 1.3726999759674072, 1.354099988937378, 0.40709999203681946, 0.9760000109672546, 0.2184000015258789, 0.9998999834060669, 1.4031000137329102, 0.12880000472068787, 1.2236000299453735, 0.5789999961853027, 0.2777999937534332, 0.0820000022649765, 0.31040000915527344, 0.23639999330043793, -0.11680000275373459, 0.26840001344680786, 0.09109999984502792, -0.3569999933242798, 0.027000000700354576, 0.016699999570846558, 0.27399998903274536, 0.4934999942779541, 0.18799999356269836, -0.5663999915122986, 0.13030000030994415, 0.3578999936580658, 0.20100000500679016, 0.06689999997615814, 0.14190000295639038, -0.6926000118255615, 2.422600030899048, 2.4214000701904297, 2.4214000701904297, 2.419100046157837, 2.415800094604492, 2.4142000675201416, 2.4126999378204346, 2.407599925994873, 2.4047999382019043, 2.4045000076293945, 2.403899908065796, 2.395400047302246, 2.394399881362915, 2.3938000202178955, 2.3924999237060547, 2.3915998935699463, 2.389400005340576, 2.3880999088287354, 2.3842999935150146, 2.382200002670288, 2.3798000812530518, 2.3768999576568604, 2.3626999855041504, 2.3606998920440674, 2.3515000343322754, 2.3304998874664307, 2.329200029373169, 2.3180999755859375, 2.3178000450134277, 2.317699909210205, 2.244800090789795, 2.306299924850464, 2.302000045776367, 2.1201999187469482, 2.2492001056671143, 1.7992000579833984, 1.7211999893188477, 1.426200032234192, 1.248900055885315, 0.9210000038146973, 1.5549999475479126, 1.2315000295639038, 0.7207000255584717, 0.3490000069141388, 0.5475999712944031, 0.5389999747276306, 0.39719998836517334, 0.5651000142097473, 0.5656999945640564, -0.04179999977350235, 0.006599999964237213, 0.5234000086784363, 0.08399999886751175, -0.15929999947547913, -0.2806999981403351, 0.24490000307559967, 0.09679999947547913, 2.9885001182556152, 2.9458999633789062, 2.893199920654297, 2.874000072479248, 2.7813000679016113, 2.76200008392334, 2.7320001125335693, 2.7202999591827393, 2.7184998989105225, 2.717900037765503, 2.7118000984191895, 2.698699951171875, 2.648099899291992, 2.6410000324249268, 2.5961999893188477, 2.592900037765503, 2.5905001163482666, 2.58870005607605, 2.571700096130371, 2.570199966430664, 2.5448999404907227, 2.541300058364868, 2.5280001163482666, 2.5179998874664307, 2.517899990081787, 2.4921998977661133, 2.4851999282836914, 2.484999895095825, 2.47189998626709, 2.46589994430542, 2.458699941635132, 2.357800006866455, 2.321700096130371, 2.4293999671936035, 1.9986000061035156, 2.0487000942230225, 2.0160000324249268, 2.0288000106811523, 1.8553999662399292, 1.4666999578475952, 2.2737998962402344, 1.0785000324249268, 1.5951999425888062, 1.1900999546051025, 1.5570000410079956, 1.899899959564209, 0.5325000286102295, 1.166100025177002, 0.7767999768257141, 1.8912999629974365, 0.8859000205993652, 0.3637999892234802, 1.2755000591278076, 0.8366000056266785, 0.17990000545978546, 0.4465999901294708, 0.8583999872207642, 0.573199987411499, 0.3619000017642975, 0.8217999935150146, 0.5055000185966492, 0.04740000143647194, 0.1965000033378601, -0.05739999935030937, 0.13650000095367432, 0.34209999442100525, 0.5066999793052673, 0.3995000123977661, -0.15360000729560852, 0.28999999165534973, -0.3156000077724457, 3.82069993019104, 3.6552999019622803, 3.5947000980377197, 3.531399965286255, 3.4623000621795654, 3.439199924468994, 3.2797999382019043, 3.2156999111175537, 3.1498000621795654, 3.1426000595092773, 3.132200002670288, 3.1233999729156494, 3.1117000579833984, 3.101599931716919, 3.084199905395508, 3.077500104904175, 3.0764999389648438, 3.0759999752044678, 3.068700075149536, 3.0306999683380127, 3.0292999744415283, 3.018899917602539, 3.0178000926971436, 3.012200117111206, 3.001300096511841, 2.981100082397461, 2.969599962234497, 2.947499990463257, 2.9407999515533447, 2.9407999515533447, 2.940000057220459, 2.902899980545044, 2.750999927520752, 2.8687000274658203, 2.8619000911712646, 2.2816998958587646, 1.5530999898910522, 2.0546000003814697, 2.6679000854492188, 1.9078999757766724, 1.9111000299453735, 2.491499900817871, 2.1888999938964844, 2.591900110244751, 1.7101000547409058, 1.4788999557495117, 2.2492001056671143, 1.0958000421524048, 0.7142999768257141, 0.5228000283241272, 0.21940000355243683, 0.6474000215530396, 0.9254000186920166, 1.726099967956543, 0.21410000324249268, 0.31540000438690186, 0.7900999784469604, 0.023800000548362732, 0.025699999183416367, 0.7128000259399414, 0.6456999778747559, 0.47189998626708984, 0.4401000142097473, 0.9606999754905701, 0.36809998750686646, 0.6227999925613403, -0.025800000876188278, 0.44830000400543213, 0.5034000277519226, -0.30550000071525574, 0.2865999937057495, -0.06499999761581421, -0.49720001220703125, -0.8503000140190125, -0.39579999446868896, 4.698200225830078, 4.523399829864502, 3.9814999103546143, 3.7248001098632812, 3.6614999771118164, 3.623300075531006, 3.5978000164031982, 3.5894999504089355, 3.583199977874756, 3.5076000690460205, 3.496999979019165, 3.4932000637054443, 3.490600109100342, 3.4851999282836914, 3.4762001037597656, 3.461899995803833, 3.452399969100952, 3.4144999980926514, 3.400700092315674, 3.379499912261963, 3.375, 3.3652000427246094, 3.3350000381469727, 3.3285000324249268, 3.2822000980377197, 3.2585999965667725, 3.2409000396728516, 3.2353999614715576, 3.2237000465393066, 3.2128000259399414, 3.2086000442504883, 3.198699951171875, 3.095900058746338, 2.9504001140594482, 3.1389000415802, 2.607800006866455, 2.5648000240325928, 3.101599931716919, 3.164099931716919, 1.6159000396728516, 2.6705000400543213, 2.321899890899658, 0.4943999946117401, 0.35030001401901245, 2.9382998943328857, 0.569599986076355, 2.1684000492095947, 1.545300006866455, 0.46630001068115234, 1.3499000072479248, 2.113600015640259, 1.1016000509262085, 0.16590000689029694, 0.8733999729156494, 1.9781999588012695, 0.7882000207901001, 0.3849000036716461, 0.2720000147819519, 0.3555000126361847, -0.19499999284744263, -0.0640999972820282, 0.3319999873638153, -0.47600001096725464, 0.320499986410141, 0.329800009727478, 4.128799915313721, 4.121300220489502, 4.013800144195557, 3.812999963760376, 3.809499979019165, 3.782099962234497, 3.7028000354766846, 3.6703999042510986, 3.6559998989105225, 3.6321001052856445, 3.5922000408172607, 3.5729000568389893, 3.56030011177063, 3.525700092315674, 3.521899938583374, 3.5195000171661377, 3.504199981689453, 3.497299909591675, 3.3440001010894775, 3.3238000869750977, 3.2643001079559326, 3.263200044631958, 3.245699882507324, 3.230299949645996, 3.2200000286102295, 3.1649999618530273, 3.1494998931884766, 3.08270001411438, 3.0732998847961426, 3.0510001182556152, 3.036400079727173, 3.0308001041412354, 3.024600028991699, 2.968899965286255, 2.8276000022888184, 2.2144999504089355, 2.3852999210357666, 2.31469988822937, 2.2892000675201416, 2.4272000789642334, 2.609299898147583, 2.1953999996185303, 1.5384000539779663, 0.5971999764442444, 2.263400077819824, 2.6849000453948975, 0.3181000053882599, 1.3904000520706177, 0.18400000035762787, 1.625499963760376, 0.5956000089645386, 1.2996000051498413, 0.11469999700784683, 0.34049999713897705, 0.16699999570846558, 1.0161999464035034, 1.1933000087738037, 0.954800009727478, 0.4189999997615814, -0.14710000157356262, 0.43130001425743103, 0.4036000072956085, 0.46140000224113464, 0.3416999876499176, 0.4097000062465668, 0.5594000220298767, 0.3650999963283539, 0.4555000066757202, 0.4408000111579895, -0.49889999628067017, 0.5311999917030334, -0.47510001063346863, -0.08659999817609787, 4.1940999031066895, 4.094699859619141, 3.9916000366210938, 3.843400001525879, 3.8427000045776367, 3.7578999996185303, 3.7499001026153564, 3.7397000789642334, 3.705899953842163, 3.6654000282287598, 3.622499942779541, 3.5632998943328857, 3.5034000873565674, 3.502500057220459, 3.502500057220459, 3.4993999004364014, 3.4990999698638916, 3.4700000286102295, 3.4467999935150146, 3.4447999000549316, 3.4310998916625977, 3.3696000576019287, 3.351799964904785, 3.2978999614715576, 3.288100004196167, 3.274399995803833, 3.2578001022338867, 3.2462000846862793, 3.2265000343322754, 3.216200113296509, 3.2151999473571777, 3.0778000354766846, 2.9642999172210693, 3.151400089263916, 2.74180006980896, 1.0211999416351318, 2.441999912261963, 0.8238999843597412, 0.4219000041484833, 1.9984999895095825, 0.8119000196456909, 2.401400089263916, 1.285599946975708, 1.1448999643325806, 2.136699914932251, 0.10029999911785126, 1.2578999996185303, 0.2102999985218048, 1.8210999965667725, 0.7516999840736389, 1.562600016593933, 0.7516999840736389, 0.427700012922287, -0.14560000598430634, 0.0812000036239624, -0.4699999988079071, 1.1390999555587769, -0.3824000060558319, 1.1842999458312988, 0.9642999768257141, -0.09059999883174896, 0.31540000438690186, -0.48539999127388, -0.07150000333786011, 0.35679998993873596, 0.3917999863624573, -0.7343999743461609, 0.042500000447034836, 0.2223999947309494, 4.626999855041504, 4.178100109100342, 4.124300003051758, 3.9384000301361084, 3.710700035095215, 3.578399896621704, 3.5553998947143555, 3.4883999824523926, 3.480799913406372, 3.473400115966797, 3.4644999504089355, 3.4595000743865967, 3.4553000926971436, 3.4549999237060547, 3.449199914932251, 3.4426000118255615, 3.4375, 3.4279000759124756, 3.426800012588501, 3.4233999252319336, 3.4212000370025635, 3.4121999740600586, 3.402400016784668, 3.4007999897003174, 3.400599956512451, 3.3998000621795654, 3.3947999477386475, 3.393699884414673, 3.392199993133545, 3.391900062561035, 3.1654999256134033, 3.194200038909912, 2.8208999633789062, 2.7555999755859375, 1.9728000164031982, 2.355600118637085, 3.035099983215332, 3.021699905395508, 1.930400013923645, 2.547800064086914, 2.4189999103546143, 2.3587000370025635, 2.9458000659942627, 2.9228999614715576, 2.9221999645233154, 1.6913000345230103, 2.8763999938964844, 2.2523999214172363, 2.414299964904785, 2.3854000568389893, 2.2913999557495117, 1.817199945449829, 1.1311999559402466, 1.313599944114685, 0.32170000672340393, 1.5433000326156616, 0.2872999906539917, -0.05090000107884407, 1.2898000478744507, 0.5958999991416931, 0.3400999903678894, 0.48330000042915344, 1.2386000156402588, 1.7021000385284424, 1.0878000259399414, -0.16699999570846558, 0.31119999289512634, 0.33379998803138733, 0.19089999794960022, 0.5034000277519226, 0.19670000672340393, 0.9276999831199646, 4.7052001953125, 4.441800117492676, 4.400899887084961, 4.2220001220703125, 4.064799785614014, 4.062099933624268, 4.028800010681152, 3.986799955368042, 3.842400074005127, 3.80430006980896, 3.729300022125244, 3.7279000282287598, 3.7144999504089355, 3.7121999263763428, 3.6975998878479004, 3.6923999786376953, 3.6826999187469482, 3.674999952316284, 3.6705000400543213, 3.668600082397461, 3.6649999618530273, 3.6624999046325684, 3.6589999198913574, 3.648099899291992, 3.6438000202178955, 3.6321001052856445, 3.6071999073028564, 3.5617001056671143, 3.5608999729156494, 3.555799961090088, 3.450000047683716, 3.446700096130371, 3.3982999324798584, 2.965100049972534, 3.375200033187866, 3.0978000164031982, 3.019200086593628, 3.3120999336242676, 3.0845000743865967, 3.324700117111206, 2.9202001094818115, 1.8839999437332153, 2.3778998851776123, 2.2987000942230225, 1.482100009918213, 2.801300048828125, 1.4984999895095825, 2.793600082397461, 2.7434000968933105, 2.1254000663757324, 1.9287999868392944, -0.13040000200271606, 0.5564000010490417, 1.3348000049591064, 0.4447000026702881, -0.09709999710321426, 0.20579999685287476, 0.5934000015258789, 0.2045000046491623, 0.18080000579357147, 1.0429999828338623, 0.9842000007629395, 1.3351000547409058, 1.2633999586105347, -0.16140000522136688, -0.6085000038146973, 0.7879999876022339, 0.44769999384880066, -0.5037999749183655, -0.6471999883651733, -0.8051999807357788, 0.37619999051094055, 4.390100002288818, 3.9656999111175537, 3.906399965286255, 3.877500057220459, 3.865600109100342, 3.851799964904785, 3.842099905014038, 3.8376998901367188, 3.8292999267578125, 3.8248000144958496, 3.8234000205993652, 3.821899890899658, 3.813999891281128, 3.8115999698638916, 3.8041999340057373, 3.785599946975708, 3.77239990234375, 3.7053000926971436, 3.68969988822937, 3.6839001178741455, 3.682300090789795, 3.6623001098632812, 3.65910005569458, 3.6535000801086426, 3.6533000469207764, 3.6498000621795654, 3.649399995803833, 3.640399932861328, 3.63919997215271, 3.6386001110076904, 3.5959999561309814, 3.211199998855591, 3.0866000652313232, 3.334199905395508, 3.202500104904175, 3.1398000717163086, 3.127700090408325, 3.1029000282287598, 2.9642999172210693, 2.471100091934204, 2.908799886703491, 2.8863000869750977, 1.7280999422073364, 1.9560999870300293, 2.8856000900268555, 1.840999960899353, 2.2460999488830566, 1.4175000190734863, 2.7778000831604004, 2.744499921798706, 1.1025999784469604, 2.683300018310547, 0.9093999862670898, 0.4309999942779541, 1.7799999713897705, 0.6105999946594238, 1.7763999700546265, 0.8928999900817871, 1.7288000583648682, 1.6129000186920166, 1.573099970817566, 0.5264999866485596, 0.41620001196861267, 0.4462999999523163, 0.09769999980926514, 0.15489999949932098, -0.2547000050544739, 1.1162999868392944, 1.0922000408172607, 1.12909996509552, 0.9491000175476074, 0.840399980545044, 0.8305000066757202, -0.6069999933242798, 0.3240000009536743, 0.05849999934434891, -0.2248000055551529, 0.3001999855041504, -0.029100000858306885, 0.2485000044107437, 0.7346000075340271, 4.204999923706055, 4.0690999031066895, 3.974299907684326, 3.876699924468994, 3.8743999004364014, 3.8489999771118164, 3.8427000045776367, 3.842099905014038, 3.831899881362915, 3.830399990081787, 3.828900098800659, 3.825700044631958, 3.7832000255584717, 3.7737998962402344, 3.739500045776367, 3.7149999141693115, 3.6923000812530518, 3.6723999977111816, 3.668299913406372, 3.667099952697754, 3.6649999618530273, 3.6628000736236572, 3.646199941635132, 3.642899990081787, 3.640500068664551, 3.6333000659942627, 3.6324000358581543, 3.6287999153137207, 3.627500057220459, 3.6268999576568604, 3.5906999111175537, 3.3875999450683594, 2.7855000495910645, 3.2362000942230225, 2.481800079345703, 1.4603999853134155, 2.948699951171875, 2.4827001094818115, 2.8963000774383545, 1.9036999940872192, 1.3909000158309937, 2.752500057220459, 2.754300117492676, 1.639299988746643, 0.891700029373169, 1.9453999996185303, 1.4155999422073364, 2.631200075149536, 0.46239998936653137, 1.2173000574111938, 0.6765000224113464, 1.1318000555038452, 1.6866999864578247, 0.43689998984336853, 0.891700029373169, -0.05939999967813492, 0.4909999966621399, 0.454800009727478, 1.2736999988555908, 1.0752999782562256, 0.79830002784729, 1.1207000017166138, 0.9433000087738037, 0.95169997215271, 0.6187000274658203, 0.2515000104904175, -0.16519999504089355, 0.3352999985218048, -0.7681999802589417, 0.23250000178813934, -0.10100000351667404, 0.3253999948501587, 0.3352000117301941, 0.34389999508857727], \"logprob\": [30.0, 29.0, 28.0, 27.0, 26.0, 25.0, 24.0, 23.0, 22.0, 21.0, 20.0, 19.0, 18.0, 17.0, 16.0, 15.0, 14.0, 13.0, 12.0, 11.0, 10.0, 9.0, 8.0, 7.0, 6.0, 5.0, 4.0, 3.0, 2.0, 1.0, -5.328499794006348, -5.581299781799316, -5.635300159454346, -6.171800136566162, -4.8917999267578125, -6.092299938201904, -6.219799995422363, -6.4928998947143555, -6.805600166320801, -6.881700038909912, -7.06820011138916, -7.110400199890137, -7.315899848937988, -7.387599945068359, -7.466800212860107, -6.794400215148926, -7.69320011138916, -7.645199775695801, -7.694900035858154, -7.774499893188477, -7.923299789428711, -7.896399974822998, -8.138099670410156, -8.180000305175781, -7.076200008392334, -8.184100151062012, -8.715200424194336, -8.71500015258789, -8.650699615478516, -8.790200233459473, -8.65880012512207, -6.749599933624268, -7.521699905395508, -7.462699890136719, -7.859899997711182, -5.706500053405762, -6.406899929046631, -6.581600189208984, -6.456999778747559, -5.512199878692627, -5.629300117492676, -6.155900001525879, -5.612599849700928, -6.5320000648498535, -5.915999889373779, -5.027400016784668, -4.988100051879883, -5.365099906921387, -5.394800186157227, -5.486800193786621, -5.173900127410889, -5.449999809265137, -5.232800006866455, -5.470699787139893, -5.739500045776367, -5.292399883270264, -5.760900020599365, -5.898499965667725, -6.105199813842773, -5.273499965667725, -5.769599914550781, -5.615699768066406, -5.964600086212158, -5.893400192260742, -5.819900035858154, -5.9029998779296875, -5.878900051116943, -5.845900058746338, -5.904099941253662, -6.426000118255615, -5.547500133514404, -7.180200099945068, -8.172200202941895, -8.518099784851074, -7.854100227355957, -7.756199836730957, -8.336700439453125, -7.891200065612793, -6.4745001792907715, -7.564799785614014, -7.358099937438965, -8.52970027923584, -7.943699836730957, -8.762100219726562, -8.68239974975586, -8.687000274658203, -8.690299987792969, -7.638599872589111, -8.957300186157227, -8.619000434875488, -8.96049976348877, -7.590000152587891, -8.866000175476074, -8.282600402832031, -8.70110034942627, -9.074999809265137, -8.702799797058105, -8.088700294494629, -6.031799793243408, -6.551199913024902, -6.881999969482422, -6.490600109100342, -6.567200183868408, -7.1020002365112305, -7.400400161743164, -6.997300148010254, -6.617800235748291, -7.594399929046631, -6.543399810791016, -6.372600078582764, -7.1570000648498535, -7.364200115203857, -7.161600112915039, -6.365900039672852, -6.035999774932861, -5.549600124359131, -7.253200054168701, -6.820799827575684, -6.524199962615967, -6.23829984664917, -6.8678998947143555, -6.44379997253418, -5.651599884033203, -6.6194000244140625, -7.028900146484375, -5.093800067901611, -5.303999900817871, -6.346399784088135, -6.075500011444092, -5.812300205230713, -5.527599811553955, -5.92519998550415, -5.664599895477295, -5.595600128173828, -5.587600231170654, -6.057600021362305, -5.947199821472168, -5.666800022125244, -5.8632001876831055, -6.076300144195557, -6.0625, -6.139699935913086, -5.96560001373291, -6.075399875640869, -6.074999809265137, -6.183599948883057, -6.0680999755859375, -6.2133002281188965, -6.260200023651123, -6.248300075531006, -6.24970006942749, -6.244100093841553, -6.245200157165527, -8.01609992980957, -8.330300331115723, -7.783899784088135, -8.267800331115723, -7.441199779510498, -8.643199920654297, -8.927399635314941, -8.929100036621094, -7.559299945831299, -8.935500144958496, -7.5071001052856445, -9.104700088500977, -9.106499671936035, -8.181099891662598, -6.3983001708984375, -9.11769962310791, -9.121700286865234, -9.125900268554688, -9.122900009155273, -6.786900043487549, -9.126099586486816, -9.1274995803833, -8.52299976348877, -8.852499961853027, -9.15719985961914, -8.780400276184082, -7.921500205993652, -6.349999904632568, -5.059700012207031, -8.779399871826172, -6.364999771118164, -6.13700008392334, -7.638199806213379, -8.262200355529785, -7.99459981918335, -7.625699996948242, -8.366999626159668, -7.28410005569458, -5.146900177001953, -6.920300006866455, -7.67579984664917, -6.391300201416016, -7.527400016784668, -6.002799987792969, -6.304699897766113, -7.444900035858154, -7.335899829864502, -6.660799980163574, -4.94379997253418, -5.665200233459473, -6.722400188446045, -5.314199924468994, -5.774499893188477, -5.607399940490723, -5.644999980926514, -5.003799915313721, -5.71589994430542, -5.5081000328063965, -5.492700099945068, -5.731800079345703, -6.172299861907959, -5.75570011138916, -5.46750020980835, -5.413400173187256, -6.252999782562256, -5.446400165557861, -5.792600154876709, -5.768099784851074, -5.7017998695373535, -5.475299835205078, -5.722899913787842, -5.610000133514404, -5.660299777984619, -5.750100135803223, -5.992000102996826, -5.984600067138672, -6.031300067901611, -6.041800022125244, -6.026500225067139, -4.460400104522705, -4.17110013961792, -5.982999801635742, -6.486100196838379, -7.451200008392334, -7.8094000816345215, -7.568299770355225, -7.329800128936768, -7.0096001625061035, -7.8429999351501465, -5.4653000831604, -6.695400238037109, -6.378799915313721, -7.212600231170654, -6.427700042724609, -7.34119987487793, -6.131999969482422, -8.754799842834473, -8.461999893188477, -8.140600204467773, -8.757699966430664, -7.066199779510498, -8.760100364685059, -6.911600112915039, -8.477499961853027, -8.15470027923584, -7.842400074005127, -3.783600091934204, -7.50629997253418, -7.9527997970581055, -4.83050012588501, -4.635499954223633, -5.517899990081787, -5.787199974060059, -5.2778000831604, -5.92710018157959, -6.72189998626709, -5.278900146484375, -7.117099761962891, -4.9670000076293945, -4.8460001945495605, -5.402400016784668, -4.750400066375732, -4.28980016708374, -4.9481000900268555, -6.39300012588501, -6.4868998527526855, -5.507699966430664, -5.367599964141846, -4.918900012969971, -5.477799892425537, -5.036600112915039, -5.063600063323975, -5.420000076293945, -5.247900009155273, -5.372700214385986, -5.3394999504089355, -5.661900043487549, -5.558800220489502, -5.593999862670898, -5.6722002029418945, -5.643099784851074, -7.751200199127197, -8.479999542236328, -8.488499641418457, -8.35420036315918, -8.498600006103516, -8.659700393676758, -8.664600372314453, -8.667200088500977, -8.669099807739258, -8.51710033416748, -8.673800468444824, -8.525699615478516, -7.492400169372559, -8.736000061035156, -8.736800193786621, -8.222999572753906, -8.133299827575684, -8.65939998626709, -8.609199523925781, -8.662500381469727, -6.231800079345703, -8.484299659729004, -8.482799530029297, -8.264200210571289, -8.272899627685547, -8.64799976348877, -8.32409954071045, -8.278400421142578, -8.203900337219238, -8.885299682617188, -7.391300201416016, -7.031799793243408, -6.520899772644043, -7.695700168609619, -7.616300106048584, -6.8993000984191895, -6.465199947357178, -7.271399974822998, -8.19320011138916, -6.837299823760986, -7.781099796295166, -7.690999984741211, -7.8420000076293945, -7.360899925231934, -7.900300025939941, -7.267300128936768, -7.109499931335449, -7.461900234222412, -7.1072001457214355, -7.020100116729736, -6.47599983215332, -7.172100067138672, -7.1570000648498535, -6.586599826812744, -7.497200012207031, -5.300899982452393, -6.19980001449585, -5.852099895477295, -6.1691999435424805, -6.235799789428711, -5.486000061035156, -6.0731000900268555, -5.781599998474121, -6.346700191497803, -5.777900218963623, -5.92609977722168, -6.125699996948242, -6.291500091552734, -6.614999771118164, -6.592800140380859, -5.407599925994873, -6.152200222015381, -5.249300003051758, -6.2164998054504395, -6.686800003051758, -5.485499858856201, -6.55109977722168, -5.935200214385986, -5.757199764251709, -5.613500118255615, -5.797500133514404, -5.7677001953125, -5.591700077056885, -5.855999946594238, -5.791800022125244, -5.563499927520752, -5.910299777984619, -5.921599864959717, -6.014999866485596, -6.088900089263916, -6.035600185394287, -5.88100004196167, -6.06850004196167, -6.099699974060059, -6.0904998779296875, -6.084499835968018, -6.091800212860107, -6.083000183105469, -4.778600215911865, -3.8817999362945557, -5.588099956512451, -3.6937999725341797, -5.729700088500977, -5.254199981689453, -5.357699871063232, -4.8572001457214355, -6.809599876403809, -6.6315999031066895, -5.885000228881836, -6.921800136566162, -6.643199920654297, -6.959700107574463, -4.7195000648498535, -7.370299816131592, -7.266300201416016, -6.8267998695373535, -6.600500106811523, -6.3744001388549805, -7.328100204467773, -7.443600177764893, -7.458199977874756, -7.521200180053711, -6.311600208282471, -8.134699821472168, -8.029800415039062, -8.2677001953125, -8.403900146484375, -8.40410041809082, -4.641300201416016, -7.957699775695801, -7.874100208282471, -6.076300144195557, -7.516200065612793, -5.1265997886657715, -5.0015997886657715, -4.869200229644775, -4.909999847412109, -5.30049991607666, -6.348199844360352, -5.96120023727417, -5.512800216674805, -5.125899791717529, -5.4145002365112305, -5.496099948883057, -5.433800220489502, -5.6072998046875, -5.711699962615967, -5.432300090789795, -5.468599796295166, -5.76800012588501, -5.611499786376953, -5.604800224304199, -5.595200061798096, -5.759200096130371, -5.786099910736084, -7.670899868011475, -7.847599983215332, -7.900899887084961, -7.665599822998047, -7.563199996948242, -4.533699989318848, -5.612599849700928, -8.22719955444336, -8.223400115966797, -8.062100410461426, -8.140700340270996, -8.082599639892578, -8.148300170898438, -7.915299892425537, -8.348999977111816, -8.189800262451172, -7.9334001541137695, -8.343000411987305, -8.36709976196289, -4.991799831390381, -8.10569953918457, -8.442500114440918, -8.256600379943848, -8.116000175476074, -7.65339994430542, -8.44890022277832, -8.45680046081543, -7.154799938201904, -8.168000221252441, -8.468000411987305, -7.127799987792969, -6.621399879455566, -6.271599769592285, -7.733399868011475, -5.2032999992370605, -6.497900009155273, -6.434700012207031, -6.627500057220459, -6.410900115966797, -5.7519001960754395, -7.5528998374938965, -5.3007001876831055, -6.281199932098389, -5.532800197601318, -6.224400043487549, -6.874499797821045, -4.673999786376953, -5.818399906158447, -5.456900119781494, -7.008299827575684, -5.730999946594238, -5.103899955749512, -6.2546000480651855, -5.841800212860107, -5.210599899291992, -5.490699768066406, -5.939000129699707, -5.695199966430664, -5.521100044250488, -5.927000045776367, -5.716000080108643, -5.4278998374938965, -5.632299900054932, -5.502900123596191, -5.678299903869629, -5.782299995422363, -5.860099792480469, -5.823999881744385, -5.76800012588501, -5.90880012512207, -5.790500164031982, -7.170100212097168, -7.166500091552734, -7.2170000076293945, -7.459700107574463, -7.45550012588501, -6.5304999351501465, -7.531099796295166, -7.446100234985352, -7.63700008392334, -7.549799919128418, -7.842299938201904, -7.511000156402588, -7.841599941253662, -7.847499847412109, -7.457399845123291, -7.845200061798096, -7.587699890136719, -7.716400146484375, -7.924900054931641, -7.6097002029418945, -7.439599990844727, -7.841899871826172, -7.936600208282471, -7.920100212097168, -7.907299995422363, -7.865900039672852, -7.274899959564209, -7.846799850463867, -7.86929988861084, -7.216300010681152, -7.839799880981445, -7.1743998527526855, -6.768400192260742, -7.444300174713135, -7.569499969482422, -6.295100212097168, -4.724299907684326, -6.122099876403809, -7.23769998550415, -6.034599781036377, -6.155399799346924, -7.020999908447266, -6.625899791717529, -7.1641998291015625, -6.170300006866455, -5.914299964904785, -6.795499801635742, -5.675600051879883, -5.458099842071533, -5.296000003814697, -5.248300075531006, -5.641600131988525, -5.872000217437744, -6.479599952697754, -5.400199890136719, -5.535699844360352, -5.8557000160217285, -5.366700172424316, -5.4197998046875, -5.841400146484375, -5.800899982452393, -5.722799777984619, -5.758699893951416, -6.054699897766113, -5.852799892425537, -6.051400184631348, -5.84060001373291, -6.0295000076293945, -6.050000190734863, -5.780700206756592, -5.992800235748291, -6.002299785614014, -5.9720001220703125, -6.05679988861084, -6.091300010681152, -4.873799800872803, -5.722099781036377, -3.89490008354187, -7.281099796295166, -7.302199840545654, -7.337299823760986, -7.366199970245361, -7.245699882507324, -5.973599910736084, -7.1417999267578125, -6.936699867248535, -7.303100109100342, -7.4481000900268555, -7.311399936676025, -7.338900089263916, -7.302599906921387, -7.48330020904541, -7.541100025177002, -7.299200057983398, -6.874499797821045, -7.430600166320801, -7.304699897766113, -7.30019998550415, -7.480800151824951, -5.6209001541137695, -4.617800235748291, -6.921999931335449, -7.284299850463867, -7.581200122833252, -7.301700115203857, -6.002600193023682, -6.479100227355957, -5.836699962615967, -5.863999843597412, -6.744699954986572, -5.999100208282471, -6.057400226593018, -6.953000068664551, -7.069200038909912, -5.531000137329102, -6.5960001945495605, -6.31820011138916, -4.973299980163574, -4.964300155639648, -6.904300212860107, -5.313399791717529, -6.400599956512451, -6.000500202178955, -5.348499774932861, -5.968100070953369, -6.4156999588012695, -5.882800102233887, -5.448400020599365, -5.805600166320801, -6.395500183105469, -5.915200233459473, -5.772900104522705, -5.732100009918213, -5.79580020904541, -5.640500068664551, -5.7596001625061035, -5.891499996185303, -5.682499885559082, -5.9004998207092285, -5.9496002197265625, -6.468299865722656, -6.127999782562256, -6.184800148010254, -6.154799938201904, -6.929699897766113, -6.931300163269043, -7.310500144958496, -5.850200176239014, -6.614099979400635, -6.941299915313721, -6.304900169372559, -7.117400169372559, -7.312399864196777, -6.3471999168396, -7.3094000816345215, -6.10230016708374, -7.307600021362305, -7.172999858856201, -7.317299842834473, -6.937099933624268, -7.297800064086914, -6.64769983291626, -7.39169979095459, -7.3003997802734375, -7.309999942779541, -6.9145002365112305, -7.386099815368652, -7.754899978637695, -7.970300197601318, -7.965400218963623, -7.310100078582764, -7.3109002113342285, -7.303100109100342, -6.917399883270264, -6.629700183868408, -5.347499847412109, -5.815800189971924, -6.029900074005127, -6.004199981689453, -6.285699844360352, -6.53000020980835, -6.070899963378906, -5.442699909210205, -4.717400074005127, -6.283299922943115, -6.633200168609619, -4.888400077819824, -5.811500072479248, -5.283699989318848, -6.065100193023682, -5.528800010681152, -5.918900012969971, -5.49970006942749, -5.596799850463867, -5.528500080108643, -5.892000198364258, -5.997799873352051, -5.917900085449219, -5.7399001121521, -5.622300148010254, -5.802299976348877, -5.820000171661377, -5.863500118255615, -5.853000164031982, -5.869699954986572, -5.892099857330322, -5.903200149536133, -5.923699855804443, -5.926000118255615, -5.889400005340576, -5.946599960327148, -5.9207000732421875, -5.9695000648498535, -6.775899887084961, -6.802000045776367, -6.763299942016602, -7.184100151062012, -7.162799835205078, -7.159999847412109, -7.157599925994873, -6.935500144958496, -7.157599925994873, -7.163300037384033, -6.259799957275391, -7.157800197601318, -7.176400184631348, -7.484300136566162, -7.176400184631348, -7.166299819946289, -6.7804999351501465, -7.329800128936768, -7.157199859619141, -5.054599761962891, -7.151199817657471, -6.080999851226807, -7.338799953460693, -7.817399978637695, -7.15910005569458, -7.1596999168396, -5.783100128173828, -7.598999977111816, -6.553899765014648, -7.821800231933594, -6.828999996185303, -5.755799770355225, -5.315100193023682, -6.758500099182129, -6.359300136566162, -4.861700057983398, -6.4756999015808105, -5.299600124359131, -5.192399978637695, -6.214099884033203, -5.567299842834473, -6.508999824523926, -5.861599922180176, -5.839700222015381, -6.374599933624268, -5.367300033569336, -5.946700096130371, -5.485199928283691, -6.255499839782715, -5.796599864959717, -6.212200164794922, -5.920000076293945, -5.809299945831299, -5.620500087738037, -5.755099773406982, -5.676499843597412, -6.129000186920166, -5.772900104522705, -6.141499996185303, -6.1082000732421875, -5.905399799346924, -6.009799957275391, -5.931000232696533, -6.009699821472168, -6.075099945068359, -6.082900047302246, -6.048999786376953, -6.081999778747559, -6.102399826049805, -5.656300067901611, -5.657899856567383, -6.496099948883057, -6.886499881744385, -6.889900207519531, -6.493800163269043, -6.889900207519531, -7.547699928283691, -7.548900127410889, -7.5493998527526855, -7.5503997802734375, -7.548399925231934, -7.5543999671936035, -6.884099960327148, -7.547599792480469, -7.548399925231934, -7.566400051116943, -7.5559000968933105, -7.547599792480469, -7.547800064086914, -7.5619001388549805, -7.550300121307373, -7.548500061035156, -7.552199840545654, -7.55049991607666, -7.5482001304626465, -7.5524001121521, -7.555200099945068, -7.548600196838379, -7.5482001304626465, -5.531199932098389, -6.887800216674805, -5.993899822235107, -6.011499881744385, -4.6666998863220215, -5.5208001136779785, -6.896399974822998, -6.887400150299072, -5.053999900817871, -6.246300220489502, -6.061800003051758, -6.0106000900268555, -6.892300128936768, -6.882299900054932, -6.887599945068359, -5.527200222015381, -6.8902997970581055, -6.207499980926514, -6.488699913024902, -6.560400009155273, -6.489200115203857, -6.07390022277832, -5.542300224304199, -5.801199913024902, -5.123799800872803, -6.0030999183654785, -5.408199787139893, -5.257400035858154, -5.978300094604492, -5.637899875640869, -5.542799949645996, -5.624599933624268, -5.973100185394287, -6.202099800109863, -5.987400054931641, -5.634699821472168, -5.847799777984619, -5.887700080871582, -5.933499813079834, -5.984099864959717, -5.960999965667725, -6.053400039672852, -5.988500118255615, -6.673500061035156, -6.639400005340576, -6.636300086975098, -6.640699863433838, -6.640900135040283, -5.610400199890137, -5.958499908447266, -6.636300086975098, -6.63730001449585, -7.308599948883057, -7.301799774169922, -7.297800064086914, -7.292699813842773, -7.301300048828125, -7.295300006866455, -7.307199954986572, -7.296500205993652, -7.299499988555908, -7.297999858856201, -7.296199798583984, -7.297599792480469, -7.300899982452393, -7.311800003051758, -7.315199851989746, -7.325699806213379, -7.301300048828125, -7.311999797821045, -7.298999786376953, -7.296800136566162, -6.641200065612793, -6.640900135040283, -6.635200023651123, -4.956399917602539, -6.639599800109863, -5.968900203704834, -5.967899799346924, -6.641300201416016, -6.245200157165527, -6.8470001220703125, -6.6458001136779785, -5.8246002197265625, -6.244900226593018, -6.234600067138672, -5.646100044250488, -6.63640022277832, -5.729300022125244, -6.64739990234375, -6.6392998695373535, -6.239299774169922, -6.235799789428711, -5.336900234222412, -5.7230000495910645, -6.059299945831299, -5.727700233459473, -5.572000026702881, -5.732500076293945, -5.88129997253418, -5.90339994430542, -5.942699909210205, -6.122099876403809, -6.161200046539307, -6.219799995422363, -6.236400127410889, -6.098700046539307, -6.054100036621094, -6.223400115966797, -6.188799858093262, -6.118100166320801, -6.114799976348877, -6.119800090789795, -6.206200122833252, -6.488900184631348, -6.492199897766113, -6.491700172424316, -7.160399913787842, -7.15369987487793, -7.151199817657471, -7.154799938201904, -7.156199932098389, -7.157800197601318, -7.151199817657471, -7.154300212860107, -7.15749979019165, -7.152400016784668, -7.154200077056885, -7.164899826049805, -6.49560022354126, -6.490300178527832, -7.1519999504089355, -7.156199932098389, -7.151000022888184, -7.140999794006348, -7.155399799346924, -7.161300182342529, -7.152299880981445, -7.149600028991699, -7.154600143432617, -7.156899929046631, -7.157199859619141, -7.151599884033203, -7.155900001525879, -6.4934000968933105, -5.594399929046631, -5.815800189971924, -6.490200042724609, -6.491600036621094, -6.4899001121521, -6.48960018157959, -6.492000102996826, -6.48859977722168, -6.090799808502197, -6.490499973297119, -6.490099906921387, -5.581299781799316, -5.800600051879883, -6.493199825286865, -5.811100006103516, -6.098100185394287, -5.580999851226807, -6.485599994659424, -6.4918999671936035, -5.570799827575684, -6.4882001876831055, -5.568399906158447, -5.387800216674805, -6.087100028991699, -5.561800003051758, -6.087699890136719, -5.781300067901611, -6.09250020980835, -6.087399959564209, -6.085299968719482, -5.7870001792907715, -5.778600215911865, -5.787499904632568, -5.753399848937988, -5.782299995422363, -5.722400188446045, -6.070099830627441, -6.077000141143799, -6.087200164794922, -6.0817999839782715, -6.070099830627441, -6.077700138092041, -5.997499942779541, -6.049900054931641, -6.0493998527526855, -6.053599834442139, -6.0665998458862305, -6.064199924468994, -6.076399803161621, -6.07889986038208, -6.110499858856201, -6.504499912261963, -6.10890007019043, -7.161200046539307, -7.1691999435424805, -7.167500019073486, -6.5055999755859375, -7.164000034332275, -7.140999794006348, -7.164899826049805, -7.164599895477295, -7.1682000160217285, -7.16480016708374, -6.503699779510498, -7.167900085449219, -7.1656999588012695, -7.167200088500977, -7.169099807739258, -7.160699844360352, -7.150400161743164, -7.167099952697754, -7.1722002029418945, -7.165800094604492, -7.165599822998047, -7.165200233459473, -7.166900157928467, -7.163700103759766, -6.502999782562256, -7.164999961853027, -7.16510009765625, -5.403500080108643, -6.5040998458862305, -5.566500186920166, -6.504199981689453, -5.815999984741211, -5.003600120544434, -6.504000186920166, -6.103300094604492, -6.5030999183654785, -5.786900043487549, -5.406400203704834, -6.48859977722168, -6.499599933624268, -5.741099834442139, -5.385700225830078, -6.103400230407715, -5.81220006942749, -6.496699810028076, -5.368599891662598, -5.822299957275391, -5.560500144958496, -5.811500072479248, -6.094699859619141, -5.567200183868408, -5.8024001121521, -5.527100086212158, -5.730500221252441, -5.76609992980957, -6.083600044250488, -6.070199966430664, -6.020199775695801, -6.0954999923706055, -6.0721001625061035, -6.090000152587891, -6.059700012207031, -6.016900062561035, -5.984000205993652, -6.031499862670898, -5.974699974060059, -6.046899795532227, -6.038300037384033, -6.053800106048584, -6.069900035858154, -6.071199893951416]}, \"token.table\": {\"Topic\": [1, 4, 3, 9, 1, 3, 4, 14, 1, 2, 4, 5, 10, 14, 2, 3, 8, 14, 5, 1, 3, 9, 14, 1, 2, 3, 4, 5, 6, 8, 10, 11, 15, 1, 2, 3, 4, 5, 6, 7, 8, 9, 10, 11, 14, 15, 3, 5, 7, 8, 11, 15, 1, 12, 1, 3, 11, 12, 1, 2, 3, 4, 5, 6, 7, 8, 10, 12, 13, 1, 2, 3, 4, 5, 6, 7, 8, 9, 10, 12, 13, 15, 2, 5, 6, 1, 11, 2, 3, 10, 1, 2, 5, 12, 1, 6, 9, 1, 2, 3, 4, 9, 10, 13, 1, 2, 3, 4, 8, 9, 10, 11, 1, 2, 3, 6, 11, 1, 1, 2, 3, 4, 5, 6, 7, 8, 9, 12, 14, 1, 2, 3, 4, 5, 6, 7, 8, 9, 10, 11, 12, 14, 15, 1, 2, 3, 5, 6, 7, 8, 9, 10, 12, 2, 3, 5, 6, 14, 5, 7, 1, 4, 12, 1, 2, 3, 4, 5, 7, 9, 12, 15, 1, 3, 8, 1, 2, 3, 4, 5, 6, 7, 8, 9, 10, 11, 12, 13, 14, 15, 2, 3, 4, 5, 7, 9, 10, 11, 1, 2, 3, 4, 5, 6, 8, 11, 3, 7, 8, 12, 6, 1, 6, 2, 3, 5, 7, 10, 1, 4, 7, 10, 2, 3, 5, 7, 8, 9, 10, 12, 13, 1, 2, 3, 4, 5, 6, 7, 8, 9, 10, 11, 12, 2, 8, 10, 11, 2, 3, 5, 14, 1, 5, 7, 9, 1, 6, 3, 5, 7, 9, 1, 2, 3, 4, 5, 6, 7, 8, 9, 10, 11, 12, 14, 15, 2, 3, 5, 12, 1, 1, 2, 3, 4, 5, 7, 8, 9, 10, 11, 3, 5, 3, 1, 2, 3, 4, 5, 7, 8, 13, 3, 5, 8, 1, 7, 8, 4, 2, 5, 9, 11, 1, 2, 3, 4, 5, 6, 7, 10, 11, 14, 2, 15, 5, 8, 3, 5, 15, 1, 2, 3, 4, 5, 6, 7, 9, 10, 12, 13, 15, 5, 7, 2, 1, 1, 2, 3, 4, 5, 6, 7, 8, 14, 4, 1, 6, 2, 3, 4, 5, 7, 8, 9, 10, 13, 2, 3, 5, 7, 8, 2, 3, 5, 7, 8, 10, 3, 2, 9, 1, 1, 2, 14, 3, 5, 7, 9, 10, 12, 13, 1, 2, 3, 4, 5, 6, 7, 8, 11, 2, 5, 9, 13, 2, 12, 1, 2, 3, 4, 5, 6, 7, 8, 9, 10, 11, 12, 13, 1, 4, 1, 4, 2, 5, 10, 14, 2, 15, 1, 5, 7, 2, 3, 5, 9, 3, 7, 2, 3, 2, 4, 7, 13, 2, 4, 1, 3, 6, 1, 2, 3, 4, 5, 6, 7, 9, 10, 15, 2, 3, 5, 8, 9, 1, 3, 7, 10, 1, 2, 3, 4, 5, 6, 7, 9, 10, 12, 15, 2, 3, 11, 15, 5, 7, 11, 14, 5, 7, 8, 9, 12, 1, 2, 3, 4, 5, 6, 7, 13, 1, 4, 11, 1, 2, 5, 7, 13, 1, 2, 3, 5, 6, 2, 13, 14, 6, 1, 2, 3, 4, 5, 6, 7, 9, 11, 13, 15, 1, 2, 3, 5, 10, 1, 5, 7, 15, 1, 2, 3, 4, 5, 6, 7, 8, 9, 10, 12, 13, 14, 15, 1, 4, 1, 1, 2, 3, 4, 6, 7, 10, 1, 6, 1, 2, 3, 4, 5, 6, 7, 8, 9, 10, 11, 12, 13, 14, 15, 1, 2, 3, 4, 5, 6, 7, 8, 9, 10, 11, 12, 13, 15, 5, 7, 1, 2, 12, 1, 2, 3, 4, 11, 12, 1, 2, 14, 1, 2, 5, 15, 6, 1, 2, 5, 12, 1, 4, 2, 5, 9, 1, 2, 3, 4, 5, 6, 7, 8, 14, 1, 3, 7, 12, 1, 2, 3, 4, 5, 6, 10, 12, 1, 3, 11, 1, 2, 3, 4, 6, 7, 9, 3, 7, 1, 2, 3, 4, 6, 11, 2, 3, 9, 13, 2, 3, 7, 9, 5, 6, 12, 1, 7, 13, 2, 3, 6, 14, 2, 3, 5, 7, 11, 14, 1, 2, 3, 5, 6, 7, 11, 1, 2, 3, 4, 5, 7, 11, 1, 2, 3, 4, 5, 6, 7, 8, 9, 11, 1, 2, 8, 9, 2, 3, 5, 8, 5, 13, 2, 3, 5, 8, 15, 2, 3, 5, 7, 10, 11, 1, 2, 3, 4, 5, 6, 11, 3, 11, 1, 8, 11, 1, 2, 3, 4, 7, 11, 1, 1, 2, 3, 4, 5, 6, 7, 8, 9, 10, 11, 12, 14, 15, 3, 12, 1, 3, 6, 1, 6, 1, 2, 3, 4, 5, 6, 7, 8, 9, 10, 11, 12, 13, 15, 1, 2, 3, 4, 5, 6, 7, 8, 9, 10, 11, 12, 1, 2, 3, 4, 5, 6, 7, 8, 11, 12, 13, 14, 1, 2, 3, 4, 5, 6, 7, 8, 9, 10, 13, 2, 2, 3, 12, 13, 6, 2, 4, 8, 3, 10, 1, 1, 2, 3, 5, 7, 2, 5, 12, 1, 2, 3, 5, 7, 10, 1, 2, 11, 15, 6, 1, 2, 3, 4, 5, 15, 2, 3, 7, 14, 2, 3, 5, 7, 9, 2, 3, 8, 13, 2, 5, 3, 1, 3, 7, 9, 1, 4, 11, 1, 7, 8, 1, 4, 2, 3, 6, 7, 8, 10, 12, 2, 3, 7, 9, 1, 2, 3, 6, 15, 1, 4, 1, 2, 3, 4, 5, 6, 7, 8, 9, 10, 11, 12, 14, 15, 2, 5, 2, 3, 4, 5, 6, 7, 8, 9, 10, 12, 1, 3, 8, 11, 1, 2, 3, 4, 5, 6, 7, 8, 9, 5, 3, 5, 7, 15, 1, 2, 5, 7, 13, 1, 2, 5, 6, 2, 4, 5, 15, 2, 3, 7, 10, 1, 2, 3, 4, 5, 6, 7, 11, 13, 5, 3, 7, 1, 2, 3, 4, 6, 12, 13, 2, 3, 5, 7, 15, 1, 3, 4, 5, 2, 3, 1, 4, 11, 1, 4, 2, 3, 5, 9, 10, 13, 2, 3, 9, 1, 2, 3, 14, 1, 3, 4, 6, 10, 11, 1, 2, 3, 4, 5, 6, 7, 10, 11, 13, 14, 1, 2, 4, 6, 1, 2, 3, 4, 5, 7, 8, 10, 12, 13, 14, 6, 1, 2, 3, 5, 8, 1, 2, 3, 4, 5, 6, 8, 3, 10, 2, 3, 5, 7, 9, 2, 5, 2, 3, 5, 7, 8, 9, 12, 1, 2, 3, 4, 5, 6, 7, 8, 9, 10, 11, 12, 13, 14, 15, 1, 2, 3, 4, 5, 6, 7, 15, 1, 2, 4, 5, 7, 8, 13, 1, 3, 5, 13, 6, 1, 5, 1, 2, 3, 4, 6, 11, 3, 5, 7, 1, 2, 3, 4, 5, 6, 7, 8, 9, 10, 11, 12, 14, 15, 2, 7, 8, 1, 2, 3, 4, 5, 6, 7, 8, 9, 10, 11, 12, 13, 14, 15, 3, 5, 7, 8, 9, 12, 15, 1, 2, 3, 4, 5, 6, 7, 8, 9, 10, 11, 12, 13, 14, 15, 2, 3, 5, 7, 8, 1, 3, 4, 5, 7, 8, 11, 15, 2, 3, 4, 5, 7, 9, 10, 15, 1, 2, 3, 4, 5, 6, 9, 10, 12, 1, 6, 1, 2, 3, 4, 5, 6, 7, 8, 9, 10, 11, 13, 14, 15, 1, 2, 3, 4, 5, 6, 7, 8, 9, 14, 1, 2, 3, 4, 5, 6, 7, 8, 9, 10, 11, 12, 13, 14, 3, 11, 13, 1, 2, 3, 4, 5, 6, 7, 8, 9, 10, 14, 15, 1, 2, 3, 5, 6, 7, 8, 9, 13, 15, 2, 3, 6, 12, 1, 2, 3, 4, 5, 6, 7, 8, 9, 10, 11, 12, 13, 14, 15, 2, 1, 6, 5, 13, 2, 3, 4, 5, 7, 9, 3, 7, 8, 9, 2, 5, 12, 1, 2, 11, 13, 3, 5, 15, 1, 1, 3, 5, 14, 5, 2, 3, 10, 15, 3, 7, 2, 3, 4, 5, 13, 1, 4, 10, 1, 1, 2, 3, 4, 5, 6, 7, 8, 11, 13, 2, 3, 5, 7, 8, 12, 13, 2, 5, 3, 5, 14, 2, 8, 14, 1, 2, 3, 4, 5, 7, 11, 12, 13, 1, 2, 3, 5, 7, 8, 9, 10, 11, 12, 13, 14, 3, 5, 14, 1, 2, 3, 4, 5, 6, 7, 8, 12, 13, 15, 2, 6, 12, 3, 1, 2, 3, 5, 7, 11, 1, 2, 3, 4, 5, 6, 7, 8, 9, 12, 13, 14, 1, 3, 5, 9, 10, 1, 2, 3, 5, 6, 7, 8, 9, 11, 12, 13, 1, 2, 3, 7, 9, 12, 1, 2, 3, 4, 7, 10, 11, 2, 3, 5, 7, 1, 2, 3, 4, 5, 6, 7, 10, 12, 13, 1, 2, 3, 4, 5, 6, 7, 8, 9, 10, 11, 12, 15, 1, 2, 3, 4, 5, 6, 7, 8, 9, 10, 11, 14, 3, 5, 9, 1, 2, 3, 4, 5, 6, 7, 8, 9, 11, 12, 2, 3, 7, 11, 15, 2, 5, 11, 2, 4, 5, 8, 13, 1, 2, 3, 4, 5, 6, 7, 8, 9, 11, 13, 14, 1, 4, 10, 1, 2, 3, 4, 5, 6, 7, 8, 9, 10, 14, 1, 2, 3, 4, 5, 6, 7, 8, 9, 10, 11, 12, 13, 14, 15, 2, 3, 4, 5, 7, 8, 10, 4, 11, 2, 5, 7, 8, 1, 2, 7, 11, 1, 2, 3, 7, 9, 14, 1, 2, 3, 4, 5, 6, 7, 8, 9, 10, 11, 13, 15, 2, 3, 5, 7, 9, 2, 5, 3, 8, 10, 1, 2, 3, 4, 5, 6, 7, 8, 9, 10, 11, 12, 13, 14, 15, 1, 2, 3, 4, 5, 6, 7, 8, 9, 10, 11, 12, 15, 1, 2, 3, 4, 5, 6, 7, 8, 9, 10, 11, 12, 13, 14, 15, 2, 11, 3, 5, 8, 9, 1, 2, 3, 15, 1, 2, 3, 4, 5, 6, 7, 8, 10, 14, 15, 1, 2, 11, 13, 6, 1, 3, 4, 7, 11, 1, 4, 10, 4, 1, 2, 3, 4, 5, 6, 7, 8, 10, 11, 12, 13, 1, 2, 13, 1, 2, 3, 4, 5, 6, 7, 8, 9, 10, 11, 12, 13, 15, 1, 4, 10, 1, 2, 3, 4, 5, 6, 7, 8, 9, 10, 11, 12, 13, 14, 1, 2, 3, 4, 5, 6, 7, 8, 9, 13, 14, 1, 2, 7, 2, 5, 7, 9, 11, 13, 2, 5, 5, 10, 2, 7, 10, 1, 1, 2, 3, 4, 5, 6, 7, 8, 9, 11, 13, 14, 1, 4, 5, 7, 11, 2, 3, 5, 12, 2, 3, 5, 6, 8, 10, 12, 2, 3, 5, 13, 1, 2, 3, 4, 5, 6, 7, 8, 9, 10, 11, 12, 13, 14, 15, 1, 2, 3, 4, 5, 6, 7, 8, 9, 10, 11, 13, 14, 15, 2, 5, 7, 1, 2, 3, 4, 5, 6, 7, 1, 2, 3, 4, 5, 6, 7, 8, 9, 10, 11, 13, 14, 15, 1, 2, 3, 4, 5, 6, 7, 8, 10, 11, 12, 14, 15, 2, 2, 3, 5, 7, 11, 14, 1, 1, 3, 1, 2, 3, 4, 5, 6, 7, 8, 9, 12, 1, 6, 15, 1, 2, 3, 5, 7, 14, 3, 5, 12, 2, 4, 6, 8, 2, 5, 7, 1, 3, 5, 6, 15, 3, 5, 7, 8, 10, 1, 2, 4, 6, 7, 14, 1, 3, 5, 6, 8, 10, 1, 2, 5, 14, 5, 1, 3, 5, 10, 1, 1, 11, 12, 2, 3, 10, 15, 2, 5, 7, 5, 1, 2, 3, 4, 5, 7, 8, 9, 10, 11, 12, 14, 15, 3, 5, 8, 15, 2, 3, 5, 7, 9, 1, 6, 2, 3, 7, 10, 1, 2, 3, 4, 5, 6, 7, 8, 9, 10, 11, 12, 15, 1, 10, 15, 1, 1, 4, 2, 3, 4, 5, 7, 9, 10, 1, 2, 3, 4, 5, 6, 7, 8, 9, 10, 11, 12, 13, 15, 1, 4, 11, 4, 1, 2, 3, 4, 5, 6, 7, 8, 9, 10, 11, 12, 13, 14, 1, 2, 3, 5, 6, 7, 8, 9, 1, 2, 3, 4, 5, 6, 7, 8, 10, 11, 15, 1, 3, 6, 1, 2, 3, 4, 5, 7, 14, 3, 5, 15, 5, 7, 2, 3, 12, 1, 2, 3, 4, 5, 7, 14, 2, 10, 15, 3, 7, 11, 15, 1, 2, 3, 4, 5, 6, 7, 8, 9, 10, 11, 12, 13, 14, 2, 7, 8, 2, 7, 9, 10, 2, 7, 1, 3, 4, 6, 11, 2, 3, 4, 5, 9, 1, 2, 3, 4, 5, 6, 7, 8, 10, 15, 2, 3, 5, 12, 14, 1, 7, 9, 1, 2, 3, 4, 5, 6, 7, 8, 9, 10, 13, 14, 15, 1, 2, 3, 4, 5, 6, 7, 8, 9, 10, 11, 12, 13, 15, 3, 1, 2, 3, 4, 5, 6, 7, 8, 9, 10, 11, 12, 13, 14, 15, 2, 3, 6, 7, 12, 1, 2, 3, 4, 5, 6, 7, 8, 9, 10, 11, 15, 2, 10, 1, 2, 3, 4, 5, 6, 7, 8, 9, 10, 11, 12, 13, 14, 15, 4, 1, 2, 3, 4, 5, 6, 7, 8, 10, 12, 13, 14, 15, 1, 7, 1, 2, 3, 5, 6, 7, 8, 9, 10, 11, 13, 15, 2, 3, 9, 5, 1, 2, 3, 4, 5, 6, 7, 8, 9, 10, 11, 12, 13, 14, 15, 1, 6, 1, 2, 3, 4, 5, 6, 7, 8, 9, 10, 11, 12, 13, 14, 15, 1, 2, 3, 4, 5, 6, 7, 8, 9, 10, 11, 12, 13, 14, 15, 1, 2, 3, 4, 5, 6, 7, 8, 9, 10, 11, 12, 13, 14, 5, 10, 1, 1, 1, 2, 3, 4, 5, 6, 7, 8, 10, 3, 8, 1, 3, 10, 1, 3, 4, 5, 6, 7, 12, 1, 2, 3, 5, 6, 7, 8, 9, 10, 12, 13, 2, 3, 7, 12, 2, 13, 1, 6, 1, 2, 3, 4, 6, 14, 2, 11, 3, 5, 6, 1, 5, 9, 1, 3, 6, 7, 9, 10, 12, 1, 2, 3, 5, 6, 7, 12, 1, 2, 3, 4, 5, 6, 7, 8, 9, 10, 11, 12, 13, 14, 15, 1, 3, 10, 12, 3, 8, 14, 1, 4, 1, 2, 3, 5, 6, 7, 9, 11, 13, 6, 1, 2, 4, 6, 12, 1, 2, 3, 4, 5, 6, 7, 8, 9, 14, 15, 1, 4, 4, 1, 2, 3, 5, 6, 7, 8, 10, 15, 3, 8, 1, 2, 3, 4, 5, 7, 8, 9, 11, 12, 14, 15, 1, 3, 5, 11, 2, 3, 5, 1, 2, 6, 9, 13, 15, 1, 2, 3, 4, 5, 6, 7, 8, 10, 11, 12, 14, 1, 5, 15, 1, 2, 3, 4, 5, 6, 7, 8, 9, 10, 11, 13, 2, 1, 2, 3, 5, 6, 7, 10, 15, 1, 2, 1, 6, 6, 1, 2, 3, 5, 8, 15, 3, 5, 7, 11, 15, 1, 2, 5, 13, 1, 2, 3, 4, 5, 6, 7, 8, 9, 10, 11, 12, 13, 15, 1, 2, 3, 4, 5, 6, 7, 8, 9, 10, 11, 12, 13, 2, 5, 10, 3, 9, 1, 2, 3, 4, 5, 6, 7, 8, 9, 11, 12, 14, 15, 2, 5, 13, 2, 3, 5, 6, 7, 13, 14, 1, 2, 3, 4, 5, 6, 7, 8, 9, 10, 11, 12, 13, 15, 2, 5, 6, 7, 14, 15, 1, 2, 3, 4, 5, 6, 7, 8, 9, 10, 11, 12, 15, 2, 8, 5, 9, 11, 4, 2, 5, 8, 1, 2, 3, 4, 5, 6, 7, 8, 9, 10, 11, 14, 15, 3, 5, 7, 12, 2, 3, 3, 2, 3, 5, 1, 1, 2, 3, 4, 5, 6, 7, 8, 9, 10, 11, 12, 13, 15, 1, 2, 3, 4, 5, 6, 7, 8, 9, 10, 11, 12, 15, 3, 1, 2, 3, 5, 6, 7, 8, 9, 15, 1, 6, 2, 3, 5, 7, 8, 9, 1, 2, 3, 4, 5, 7, 9, 12, 3, 5, 7, 11, 14, 1, 2, 3, 4, 5, 6, 7, 10, 12, 1, 1, 2, 3, 4, 5, 6, 7, 8, 9, 10, 11, 12, 13, 14, 15, 1, 2, 3, 4, 5, 6, 7, 8, 9, 10, 11, 12, 14, 15, 1, 2, 3, 15, 2, 5, 9, 10, 14, 1, 4, 5, 14, 2, 5, 1, 2, 12, 2, 5, 8, 10, 3, 1, 10, 1, 15, 2, 5, 15, 1, 2, 9, 11, 2, 5, 11, 12, 2, 1, 6, 1, 6, 7, 8, 11, 1, 2, 3, 4, 5, 7, 8, 9, 10, 12, 2, 3, 5, 13, 1, 2, 6, 10, 1, 2, 3, 4, 5, 6, 7, 8, 15, 1, 2, 3, 4, 11, 2, 3, 7, 9, 1, 2, 3, 4, 5, 6, 7, 8, 11, 15, 1, 2, 3, 4, 5, 6, 7, 8, 9, 10, 11, 12, 13, 14, 3, 5, 1, 13, 2, 7, 8, 12, 15, 1, 2, 3, 4, 10, 12, 4, 10, 2, 3, 5, 7, 9, 10, 13, 2, 3, 4, 5, 7, 9, 10, 5, 7, 2, 3, 5, 8, 1, 2, 3, 5, 8, 13, 1, 3, 13, 2, 5, 10, 12, 2, 3, 8, 1, 4, 1, 2, 12, 5, 3, 5, 7, 10, 2, 3, 5, 14, 1, 2, 3, 4, 5, 8, 12, 1, 2, 3, 5, 7, 9, 10, 11, 2, 5, 3, 5, 7, 9, 11, 3, 5, 7, 8, 11, 1, 3, 8, 3, 5, 7, 1, 2, 3, 6, 7, 9, 11, 1, 4, 5, 9, 3, 2, 1, 2, 10, 11, 3, 7, 10, 2, 3, 7, 3, 7, 8, 11, 1, 2, 3, 4, 5, 6, 7, 8, 9, 12, 13, 15, 2, 9, 15, 2, 3, 5, 2, 3, 12, 1, 2, 3, 4, 5, 6, 7, 8, 10, 1, 2, 3, 4, 5, 6, 7, 8, 9, 10, 11, 12, 13, 14, 15, 2, 3, 5, 10, 12, 13, 15, 2, 5, 13, 3, 2, 7, 9, 12, 3, 9, 11, 1, 2, 3, 4, 6, 11, 14, 4, 8, 11, 2, 3, 5, 10, 14, 2, 3, 4, 5, 7, 9, 10, 2, 3, 8, 12, 14, 3, 5, 7, 12, 13, 2, 13, 1, 2, 3, 7, 5, 7, 9, 2, 3, 5, 7, 10, 13, 3, 6, 10, 3, 8, 11, 13, 1, 2, 3, 4, 5, 6, 7, 8, 9, 15, 2, 3, 5, 7, 9, 1, 4, 11, 2, 3, 5, 14, 1, 4, 11, 1, 2, 3, 5, 7, 9, 12, 14, 2, 5, 1, 3, 6, 9, 2, 3, 5, 7, 11, 14, 3, 5, 7, 9, 2, 5, 13, 3, 8, 9, 13, 14, 1, 2, 5, 9, 13, 3, 1, 2, 5, 6, 7, 8, 1, 2, 3, 4, 5, 6, 7, 8, 10, 2, 9, 1, 2, 3, 4, 5, 6, 14, 2, 4, 8, 3, 5, 7, 1, 2, 3, 4, 5, 6, 7, 8, 9, 10, 11, 12, 13, 14, 15, 1, 2, 3, 4, 5, 6, 7, 8, 9, 10, 12, 13, 2, 5, 1, 2, 5, 8, 1, 2, 3, 4, 5, 6, 7, 8, 9, 10, 12, 13, 14, 15, 4, 5, 10, 3, 8, 2, 3, 5, 12, 1, 2, 3, 5, 7, 8, 11, 14, 15, 3, 7, 3, 2, 13, 2, 3, 5, 13, 1, 2, 3, 4, 5, 6, 7, 8, 9, 10, 11, 12, 15, 2, 3, 15, 1, 2, 3, 4, 5, 6, 7, 8, 9, 10, 11, 13, 14, 1, 1, 2, 3, 4, 5, 6, 7, 8, 9, 10, 11, 13, 14, 15, 2, 5, 8, 2, 3, 5, 7, 8, 12, 13, 1, 2, 14, 1, 2, 9, 1, 2, 3, 4, 5, 6, 7, 8, 9, 10, 11, 12, 15, 1, 2, 3, 4, 5, 9, 10, 11, 1, 2, 3, 4, 5, 6, 7, 8, 9, 10, 11, 12, 13, 14, 15, 2, 5, 9, 13, 1, 2, 3, 4, 5, 6, 7, 10, 15, 1, 2, 3, 4, 5, 6, 7, 8, 9, 10, 11, 12, 13, 1, 2, 3, 5, 7, 9, 11, 13, 5, 3, 1, 2, 3, 4, 5, 6, 7, 8, 9, 10, 11, 12, 1, 4, 3, 7, 11, 1, 2, 4, 13, 1, 2, 13, 1, 2, 5, 14, 1, 2, 3, 4, 5, 6, 7, 8, 9, 11, 12, 13, 15, 1, 2, 8, 1, 2, 9, 1, 2, 3, 4, 5, 6, 7, 9, 13, 2, 3, 7, 9, 10, 12, 1, 2, 3, 4, 5, 6, 7, 8, 10, 11, 12, 14, 1, 3, 4, 15, 1, 2, 4, 5, 7, 10, 11, 12, 13, 1, 2, 3, 4, 5, 6, 10, 2, 3, 8, 1, 2, 3, 4, 6, 7, 10, 1, 3, 5, 7, 1, 7, 2, 3, 5, 8, 13, 1, 3, 4, 8, 1, 2, 3, 4, 5, 6, 7, 8, 10, 12, 15, 3, 7, 1, 2, 3, 4, 5, 6, 7, 10, 1, 2, 3, 4, 5, 6, 7, 8, 9, 12, 15, 2, 3, 4, 5, 6, 7, 8, 11, 5, 7, 13, 1, 2, 7, 14, 1, 4, 1, 4, 5, 6, 10, 11, 2, 3, 5, 7, 10, 1, 2, 4, 6, 7, 8, 11, 2, 11, 1, 2, 3, 4, 5, 6, 7, 8, 9, 10, 11, 12, 14, 15, 3, 7, 11, 15, 1, 2, 3, 4, 5, 6, 7, 8, 9, 11, 12, 14, 1, 2, 3, 4, 5, 6, 7, 8, 9, 10, 11, 12, 1, 2, 3, 4, 5, 6, 7, 8, 9, 10, 11, 12, 15, 2, 3, 4, 5, 10, 11, 3, 2, 5, 7, 13, 1, 2, 3, 4, 5, 7, 8, 11, 13, 15, 1, 2, 3, 5, 6, 7, 11, 12, 2, 3, 4, 5, 1, 2, 3, 6, 15, 1, 6, 1, 6, 3, 5, 7, 15, 1, 2, 3, 4, 5, 6, 7, 8, 9, 10, 15, 2, 5, 8, 9, 14, 1, 2, 3, 4, 5, 6, 7, 8, 9, 10, 13, 14, 1, 2, 3, 4, 5, 6, 7, 8, 9, 10, 11, 12, 14, 15, 3, 5, 8, 9, 1, 2, 3, 4, 5, 6, 7, 8, 9, 11, 12, 13, 14, 1, 2, 4, 12, 1, 4, 3, 7, 5, 13, 2, 3, 4, 5, 6, 7, 8, 1, 2, 3, 4, 5, 6, 7, 8, 9, 10, 11, 14, 15, 3, 7, 8, 12, 1, 4, 11, 1, 4, 6, 2, 5, 15, 2, 5, 2, 7, 8, 10, 2, 3, 10, 2, 3, 5, 7, 9, 3, 7, 1, 4, 1, 2, 3, 4, 5, 6, 7, 8, 9, 10, 13, 14, 15, 1, 2, 3, 5, 6, 7, 8, 9, 10, 12, 13, 2, 3, 5, 8, 2, 4, 11, 1, 2, 3, 4, 5, 6, 7, 8, 9, 10, 11, 14, 1, 2, 3, 4, 5, 6, 7, 8, 9, 10, 11, 12, 14, 15, 1, 3, 14, 1, 2, 3, 4, 5, 6, 7, 8, 12, 14, 3, 5, 7, 8, 11, 15, 1, 2, 3, 4, 5, 6, 7, 8, 9, 10, 11, 12, 13, 14, 15, 2, 4, 5, 7, 8, 11, 3, 8, 13, 1, 2, 3, 4, 5, 6, 7, 8, 9, 10, 11, 12, 13, 15, 1, 2, 3, 4, 5, 6, 7, 8, 9, 10, 11, 12, 13, 14, 15, 2, 3, 6, 1, 2, 3, 4, 5, 6, 7, 8, 9, 10, 11, 12, 13, 15, 2, 3, 6, 13, 14, 1, 2, 3, 4, 5, 6, 9, 10, 12, 1, 5, 7, 8, 3, 7, 10, 5, 2, 3, 7, 8, 14, 5, 1, 2, 3, 4, 5, 6, 7, 9, 11, 12, 1, 2, 3, 4, 5, 6, 7, 8, 9, 12, 13, 2, 5, 9, 14, 2, 7, 12, 3, 3, 11, 12, 1, 2, 6, 8, 15, 1, 2, 3, 4, 5, 6, 8, 9, 5, 7, 8, 1, 3, 11, 2, 3, 5, 1, 2, 9, 14, 4, 2, 8, 14, 2, 5, 14, 3, 2, 3, 11, 15, 1, 2, 3, 5, 7, 5, 13, 1, 4, 5, 14, 1, 3, 4, 9, 4, 1, 3, 8, 12, 2, 7, 2, 5, 1, 2, 3, 4, 5, 6, 7, 8, 9, 10, 11, 12, 14, 15, 1, 2, 3, 5, 7, 14, 2, 3, 5, 7, 9, 2, 5, 10, 2, 3, 4, 5, 7, 8, 9, 12, 1, 2, 3, 4, 5, 6, 7, 8, 10, 14, 3, 7, 1, 2, 3, 4, 5, 6, 7, 8, 10, 1, 2, 3, 4, 5, 6, 7, 8, 9, 10, 11, 12, 13, 14, 15, 1, 2, 3, 4, 5, 6, 7, 8, 9, 10, 11, 12, 13, 15, 1, 4, 10, 11, 1, 2, 3, 10, 1, 5, 7, 2, 5, 15, 1, 2, 3, 4, 5, 6, 7, 8, 9, 10, 11, 1, 2, 5, 7, 9, 11, 14, 1, 1, 2, 3, 4, 5, 6, 7, 8, 11, 14, 1, 2, 3, 4, 5, 6, 7, 8, 9, 11, 14, 15, 1, 6, 1, 2, 3, 4, 5, 6, 8, 9, 10, 13, 15, 5, 2, 5, 7, 8, 1, 2, 3, 4, 5, 6, 7, 8, 9, 10, 11, 12, 13, 14, 15, 2, 8, 2, 3, 8, 13, 1, 2, 3, 4, 5, 6, 7, 8, 9, 10, 11, 12, 1, 2, 10, 1, 2, 3, 4, 5, 6, 7, 9, 10, 11, 12, 1, 2, 3, 4, 5, 6, 7, 10, 14, 1, 4, 10, 11, 1, 2, 3, 4, 5, 6, 7, 8, 9, 10, 11, 12, 13, 14, 15, 1, 2, 3, 4, 5, 6, 7, 8, 9, 10, 11, 12, 15, 1, 2, 3, 4, 5, 6, 7, 8, 9, 10, 11, 12, 13, 1, 2, 3, 5, 6, 13, 1, 2, 3, 4, 5, 6, 7, 8, 9, 10, 11, 12, 13, 14, 15, 1, 2, 3, 4, 5, 6, 7, 8, 10, 12, 14, 1, 2, 3, 4, 5, 6, 7, 8, 9, 10, 11, 14, 15, 1, 2, 3, 4, 5, 6, 7, 8, 9, 10, 11, 12, 14, 2, 2], \"Freq\": [0.05874577537178993, 0.9105594754219055, 0.045799653977155685, 0.8701934218406677, 0.15728643536567688, 0.47185930609703064, 0.15728643536567688, 0.15728643536567688, 0.17685173451900482, 0.29475289583206177, 0.2358023226261139, 0.11790116131305695, 0.05895058065652847, 0.05895058065652847, 0.3201265037059784, 0.3201265037059784, 0.1600632518529892, 0.1600632518529892, 0.874184250831604, 0.38944631814956665, 0.19472315907478333, 0.19472315907478333, 0.19472315907478333, 0.3270789682865143, 0.3387603461742401, 0.10513252019882202, 0.07008834928274155, 0.0233627837151289, 0.03504417464137077, 0.08176974207162857, 0.01168139185756445, 0.01168139185756445, 0.01168139185756445, 0.496442586183548, 0.11861902475357056, 0.1361922174692154, 0.07468605041503906, 0.026359783485531807, 0.08347264677286148, 0.026359783485531807, 0.0043932972475886345, 0.008786594495177269, 0.0043932972475886345, 0.0043932972475886345, 0.0043932972475886345, 0.008786594495177269, 0.7260032296180725, 0.007642139680683613, 0.17576920986175537, 0.04585283622145653, 0.015284279361367226, 0.015284279361367226, 0.7511539459228516, 0.1877884864807129, 0.1928599774837494, 0.3857199549674988, 0.1928599774837494, 0.1928599774837494, 0.34112387895584106, 0.10233716666698456, 0.23025862872600555, 0.10233716666698456, 0.05969667807221413, 0.034112390130758286, 0.06822478026151657, 0.02558429166674614, 0.008528097532689571, 0.02558429166674614, 0.008528097532689571, 0.20365697145462036, 0.27154263854026794, 0.11691419035196304, 0.09428563714027405, 0.1998855471611023, 0.03771425411105156, 0.022628553211688995, 0.011314276605844498, 0.007542850915342569, 0.0037714254576712847, 0.015085701830685139, 0.0037714254576712847, 0.0037714254576712847, 0.150229811668396, 0.8012256026268005, 0.944307267665863, 0.7225284576416016, 0.14450569450855255, 0.9232639074325562, 0.7910641431808472, 0.1977660357952118, 0.3679439127445221, 0.3679439127445221, 0.18397195637226105, 0.18397195637226105, 0.32522818446159363, 0.32522818446159363, 0.21681879460811615, 0.06339345127344131, 0.12678690254688263, 0.316967248916626, 0.06339345127344131, 0.06339345127344131, 0.25357380509376526, 0.06339345127344131, 0.08701305836439133, 0.21753264963626862, 0.1305195838212967, 0.1305195838212967, 0.04350652918219566, 0.04350652918219566, 0.30454570055007935, 0.04350652918219566, 0.29375162720680237, 0.14687581360340118, 0.29375162720680237, 0.07343790680170059, 0.14687581360340118, 0.9117782115936279, 0.06048337742686272, 0.2851359248161316, 0.3024168908596039, 0.12096675485372543, 0.06912386417388916, 0.01728096604347229, 0.06048337742686272, 0.03456193208694458, 0.008640483021736145, 0.025921447202563286, 0.008640483021736145, 0.17500999569892883, 0.30436521768569946, 0.23841942846775055, 0.05072753503918648, 0.08116405457258224, 0.027900144457817078, 0.08623681217432022, 0.00507275341078639, 0.01014550682157278, 0.00507275341078639, 0.00507275341078639, 0.002536376705393195, 0.002536376705393195, 0.00507275341078639, 0.09856723994016647, 0.2792738676071167, 0.1314229965209961, 0.24641810357570648, 0.03285574913024902, 0.08213936537504196, 0.03285574913024902, 0.01642787456512451, 0.06571149826049805, 0.01642787456512451, 0.2305079698562622, 0.2305079698562622, 0.2305079698562622, 0.1536719799041748, 0.0768359899520874, 0.15536640584468842, 0.7768320441246033, 0.5483983755111694, 0.2193593531847, 0.10967967659235, 0.7169321179389954, 0.05645134672522545, 0.05645134672522545, 0.13548323512077332, 0.00564513448625803, 0.00564513448625803, 0.01129026897251606, 0.00564513448625803, 0.00564513448625803, 0.13651613891124725, 0.40954843163490295, 0.2730322778224945, 0.32592296600341797, 0.1474764496088028, 0.1489512175321579, 0.1106073409318924, 0.08258681744337082, 0.10913257300853729, 0.0383438766002655, 0.011798116378486156, 0.008848587051033974, 0.005899058189243078, 0.002949529094621539, 0.0014747645473107696, 0.0014747645473107696, 0.0014747645473107696, 0.0014747645473107696, 0.06803854554891586, 0.13607709109783173, 0.13607709109783173, 0.13607709109783173, 0.06803854554891586, 0.06803854554891586, 0.3401927351951599, 0.06803854554891586, 0.6703940033912659, 0.09409038722515106, 0.1058516800403595, 0.04704519361257553, 0.023522596806287766, 0.011761298403143883, 0.011761298403143883, 0.04704519361257553, 0.38076379895210266, 0.19038189947605133, 0.19038189947605133, 0.19038189947605133, 0.8677089810371399, 0.010998041369020939, 0.9678276777267456, 0.12235038727521896, 0.5981574654579163, 0.20391730964183807, 0.027188975363969803, 0.040783461183309555, 0.06190168485045433, 0.9037646055221558, 0.01857050508260727, 0.006190168205648661, 0.6283177137374878, 0.04229061305522919, 0.2658267021179199, 0.006041516084223986, 0.006041516084223986, 0.006041516084223986, 0.018124548718333244, 0.018124548718333244, 0.006041516084223986, 0.04573763534426689, 0.17837677896022797, 0.26985204219818115, 0.04573763534426689, 0.17380301654338837, 0.10977032780647278, 0.09147527068853378, 0.022868817672133446, 0.022868817672133446, 0.009147527627646923, 0.018295055255293846, 0.018295055255293846, 0.3363511264324188, 0.1681755632162094, 0.3363511264324188, 0.1681755632162094, 0.31201428174972534, 0.31201428174972534, 0.15600714087486267, 0.15600714087486267, 0.09916572272777557, 0.09916572272777557, 0.5949943661689758, 0.09916572272777557, 0.993202805519104, 0.9413725733757019, 0.44541385769844055, 0.016808070242404938, 0.09244438260793686, 0.4370098114013672, 0.3327544629573822, 0.1614837944507599, 0.1533280462026596, 0.17290183901786804, 0.045672181993722916, 0.06361482292413712, 0.029360689222812653, 0.014680344611406326, 0.00326229864731431, 0.00652459729462862, 0.008155747316777706, 0.00326229864731431, 0.001631149323657155, 0.004893448203802109, 0.8925666213035583, 0.020757364109158516, 0.020757364109158516, 0.04151472821831703, 0.9932584166526794, 0.02746976912021637, 0.2527218759059906, 0.2966735064983368, 0.005493953824043274, 0.2966735064983368, 0.08790326118469238, 0.016481861472129822, 0.010987907648086548, 0.005493953824043274, 0.005493953824043274, 0.7372530102729797, 0.2211758941411972, 0.8771258592605591, 0.03403929993510246, 0.3177001178264618, 0.2723143994808197, 0.045385733246803284, 0.14750362932682037, 0.056732166558504105, 0.11346433311700821, 0.011346433311700821, 0.40858525037765503, 0.1361950784921646, 0.40858525037765503, 0.18931074440479279, 0.18931074440479279, 0.5679322481155396, 0.8023621439933777, 0.3623391389846802, 0.27175435423851013, 0.27175435423851013, 0.09058478474617004, 0.23556941747665405, 0.055428098887205124, 0.017321281135082245, 0.5404239296913147, 0.0069285123609006405, 0.12124896049499512, 0.010392768308520317, 0.0034642561804503202, 0.0034642561804503202, 0.0034642561804503202, 0.9210757613182068, 0.05117087811231613, 0.1892600953578949, 0.5677803158760071, 0.4718237519264221, 0.31454917788505554, 0.15727458894252777, 0.15095770359039307, 0.3441835641860962, 0.16907262802124023, 0.054344773292541504, 0.09057462215423584, 0.018114924430847168, 0.09057462215423584, 0.036229848861694336, 0.02415323257446289, 0.006038308143615723, 0.006038308143615723, 0.006038308143615723, 0.7699694037437439, 0.12832823395729065, 0.9350374341011047, 0.9784619808197021, 0.1940075159072876, 0.08954192698001862, 0.2537021338939667, 0.11938924342393875, 0.014923655427992344, 0.014923655427992344, 0.2835494577884674, 0.014923655427992344, 0.014923655427992344, 0.8374054431915283, 0.013651092536747456, 0.9692275524139404, 0.47930908203125, 0.16433455049991608, 0.02738909050822258, 0.23280726373195648, 0.02738909050822258, 0.01369454525411129, 0.01369454525411129, 0.01369454525411129, 0.02738909050822258, 0.3795691132545471, 0.1518276482820511, 0.07591382414102554, 0.07591382414102554, 0.22774146497249603, 0.11558379977941513, 0.46661606431007385, 0.08989851176738739, 0.27825728058815, 0.01284264400601387, 0.029966169968247414, 0.9724725484848022, 0.6630927920341492, 0.26523712277412415, 0.9759094715118408, 0.18519221246242523, 0.5555766224861145, 0.18519221246242523, 0.019086802378296852, 0.5916908383369446, 0.19086802005767822, 0.019086802378296852, 0.038173604756593704, 0.11452081054449081, 0.019086802378296852, 0.6074076890945435, 0.056503042578697205, 0.10594320297241211, 0.049440160393714905, 0.010594320483505726, 0.14125759899616241, 0.007062880322337151, 0.010594320483505726, 0.0035314401611685753, 0.09577576816082001, 0.6385051012039185, 0.19155153632164001, 0.0319252535700798, 0.7200445532798767, 0.18001113831996918, 0.24631312489509583, 0.19238658249378204, 0.1603221595287323, 0.10202319175004959, 0.12242782860994339, 0.08453349769115448, 0.05246906727552414, 0.008744845166802406, 0.004372422583401203, 0.013117266818881035, 0.0058298963122069836, 0.0058298963122069836, 0.0014574740780517459, 0.03594210743904114, 0.9524658918380737, 0.06992565840482712, 0.8740707039833069, 0.31919172406196594, 0.4787875711917877, 0.15959586203098297, 0.15959586203098297, 0.7481722235679626, 0.12469537556171417, 0.9911390542984009, 0.1358698308467865, 0.6793491840362549, 0.8543382287025452, 0.07594117522239685, 0.018985293805599213, 0.037970587611198425, 0.8341556191444397, 0.06951297074556351, 0.9285291433334351, 0.8809692859649658, 0.4268024265766144, 0.14226746559143066, 0.14226746559143066, 0.14226746559143066, 0.07845158874988556, 0.8629674911499023, 0.8736574649810791, 0.009196394123136997, 0.10116034001111984, 0.2221250832080841, 0.15377891063690186, 0.18795199692249298, 0.11960581690073013, 0.20503854751586914, 0.017086545005440712, 0.017086545005440712, 0.034173090010881424, 0.017086545005440712, 0.034173090010881424, 0.1826941817998886, 0.1826941817998886, 0.1826941817998886, 0.1826941817998886, 0.1826941817998886, 0.12326887995004654, 0.49307551980018616, 0.12326887995004654, 0.24653775990009308, 0.18598653376102448, 0.14810039103031158, 0.292756587266922, 0.05166292563080788, 0.05510712042450905, 0.07577229291200638, 0.12054683268070221, 0.024109365418553352, 0.01033258531242609, 0.030997756868600845, 0.0034441950265318155, 0.1659642457962036, 0.49789270758628845, 0.1659642457962036, 0.1659642457962036, 0.4967791736125946, 0.16559305787086487, 0.16559305787086487, 0.16559305787086487, 0.1661875993013382, 0.1661875993013382, 0.3323751986026764, 0.1661875993013382, 0.1661875993013382, 0.15825793147087097, 0.28134745359420776, 0.25497111678123474, 0.043960537761449814, 0.14067372679710388, 0.017584215849637985, 0.043960537761449814, 0.05275264382362366, 0.21463091671466827, 0.7597934603691101, 0.021463090553879738, 0.9294952750205994, 0.18908268213272095, 0.18908268213272095, 0.3781653642654419, 0.18908268213272095, 0.023324457928538322, 0.30321794748306274, 0.09329783171415329, 0.5131380558013916, 0.023324457928538322, 0.5951359272003174, 0.19837863743305206, 0.19837863743305206, 0.9584290981292725, 0.09868630021810532, 0.1897813379764557, 0.21255511045455933, 0.007591253612190485, 0.318832665681839, 0.09109504520893097, 0.03036501444876194, 0.01518250722438097, 0.03036501444876194, 0.007591253612190485, 0.007591253612190485, 0.12004594504833221, 0.48018378019332886, 0.12004594504833221, 0.12004594504833221, 0.12004594504833221, 0.16299887001514435, 0.16299887001514435, 0.48899662494659424, 0.16299887001514435, 0.18044604361057281, 0.24767103791236877, 0.19459867477416992, 0.10968288779258728, 0.10260657221078873, 0.05661052465438843, 0.05661052465438843, 0.014152631163597107, 0.0070763155817985535, 0.014152631163597107, 0.0035381577908992767, 0.0070763155817985535, 0.0035381577908992767, 0.0035381577908992767, 0.09113818407058716, 0.8961921334266663, 0.9910333156585693, 0.29882436990737915, 0.009744273498654366, 0.05196945741772652, 0.09744273126125336, 0.5261907577514648, 0.006496182177215815, 0.006496182177215815, 0.0587463341653347, 0.9399413466453552, 0.23207074403762817, 0.1426268070936203, 0.21635761857032776, 0.12691368162631989, 0.09548744559288025, 0.08581782877445221, 0.0592263862490654, 0.013295719400048256, 0.00725221075117588, 0.01087831612676382, 0.0012087017530575395, 0.002417403506115079, 0.002417403506115079, 0.002417403506115079, 0.002417403506115079, 0.4131872057914734, 0.11238691955804825, 0.08594293892383575, 0.14213639497756958, 0.10247042775154114, 0.05949895828962326, 0.04297146946191788, 0.0033054975792765617, 0.009916492737829685, 0.0066109951585531235, 0.0066109951585531235, 0.0033054975792765617, 0.0033054975792765617, 0.0066109951585531235, 0.3567747473716736, 0.5351621508598328, 0.5567305684089661, 0.18557684123516083, 0.18557684123516083, 0.4183405637741089, 0.1792888194322586, 0.05976293608546257, 0.1792888194322586, 0.05976293608546257, 0.05976293608546257, 0.4775192141532898, 0.31834614276885986, 0.15917307138442993, 0.18589851260185242, 0.37179702520370483, 0.18589851260185242, 0.18589851260185242, 0.8836087584495544, 0.18223385512828827, 0.36446771025657654, 0.18223385512828827, 0.18223385512828827, 0.09041506052017212, 0.8589430451393127, 0.3592621088027954, 0.3592621088027954, 0.1796310544013977, 0.4932311177253723, 0.13387702405452728, 0.07750774919986725, 0.1550154983997345, 0.021138476207852364, 0.07750774919986725, 0.007046158891171217, 0.014092317782342434, 0.014092317782342434, 0.2613423466682434, 0.2613423466682434, 0.1306711733341217, 0.2613423466682434, 0.17428572475910187, 0.17428572475910187, 0.11619048565626144, 0.2904762029647827, 0.05809524282813072, 0.05809524282813072, 0.05809524282813072, 0.05809524282813072, 0.1963234841823578, 0.3926469683647156, 0.1963234841823578, 0.03472406044602394, 0.13889624178409576, 0.02314937487244606, 0.03472406044602394, 0.729205310344696, 0.02314937487244606, 0.01157468743622303, 0.4619414806365967, 0.4619414806365967, 0.39395201206207275, 0.08754488825798035, 0.04377244412899017, 0.1532035619020462, 0.19697600603103638, 0.13131733238697052, 0.5987063050270081, 0.06652292609214783, 0.06652292609214783, 0.13304585218429565, 0.18762938678264618, 0.5003450512886047, 0.06254313141107559, 0.18762938678264618, 0.48094573616981506, 0.16031524538993835, 0.16031524538993835, 0.16481439769268036, 0.49444320797920227, 0.16481439769268036, 0.1846720427274704, 0.1846720427274704, 0.3693440854549408, 0.1846720427274704, 0.3285289704799652, 0.45172733068466187, 0.05133265256881714, 0.12319836020469666, 0.030799590051174164, 0.010266530327498913, 0.1143944263458252, 0.3717818856239319, 0.0857958197593689, 0.1429930329322815, 0.0857958197593689, 0.0571972131729126, 0.0857958197593689, 0.23806892335414886, 0.11903446167707443, 0.07142067700624466, 0.3571033775806427, 0.11903446167707443, 0.023806892335414886, 0.07142067700624466, 0.16232143342494965, 0.360714316368103, 0.09017857909202576, 0.03607143089175224, 0.03607143089175224, 0.10821428894996643, 0.03607143089175224, 0.054107144474983215, 0.09017857909202576, 0.01803571544587612, 0.1578405499458313, 0.3156810998916626, 0.1578405499458313, 0.1578405499458313, 0.3843507468700409, 0.19217537343502045, 0.09608768671751022, 0.2882630527019501, 0.733942985534668, 0.183485746383667, 0.16098126769065857, 0.32196253538131714, 0.16098126769065857, 0.16098126769065857, 0.16098126769065857, 0.1043483316898346, 0.6260899901390076, 0.1252179890871048, 0.0626089945435524, 0.02086966671049595, 0.02086966671049595, 0.5030149817466736, 0.07545224577188492, 0.13832911849021912, 0.05030149966478348, 0.01257537491619587, 0.11317837238311768, 0.11317837238311768, 0.5167568922042847, 0.34450459480285645, 0.7897006869316101, 0.05640719458460808, 0.16922158002853394, 0.5484011173248291, 0.03133720904588699, 0.09401161968708038, 0.12534883618354797, 0.015668604522943497, 0.17235463857650757, 0.9943085312843323, 0.01324541587382555, 0.3178899884223938, 0.19426609575748444, 0.03090597130358219, 0.29581427574157715, 0.004415138624608517, 0.07947249710559845, 0.022075694054365158, 0.004415138624608517, 0.008830277249217033, 0.01324541587382555, 0.004415138624608517, 0.004415138624608517, 0.004415138624608517, 0.839297354221344, 0.11989961564540863, 0.03912831470370293, 0.00391283119097352, 0.9508180022239685, 0.02683974988758564, 0.9393912553787231, 0.27998602390289307, 0.23253075778484344, 0.1328747272491455, 0.09206320345401764, 0.10060514509677887, 0.09491051733493805, 0.025625839829444885, 0.00949105154722929, 0.007592841517180204, 0.008541946299374104, 0.006643736269325018, 0.0056946310214698315, 0.001898210379295051, 0.0009491051896475255, 0.4985560476779938, 0.026948975399136543, 0.030317597091197968, 0.2711740732192993, 0.025264663621783257, 0.11284883320331573, 0.01684311032295227, 0.006737243849784136, 0.001684310962446034, 0.001684310962446034, 0.003368621924892068, 0.003368621924892068, 0.1342022716999054, 0.2385818064212799, 0.1714806705713272, 0.052189771085977554, 0.23112612962722778, 0.05964545160531998, 0.03727840632200241, 0.02982272580265999, 0.007455681450664997, 0.007455681450664997, 0.007455681450664997, 0.014911362901329994, 0.07107382267713547, 0.31163138151168823, 0.10934434086084366, 0.06560660153627396, 0.32256579399108887, 0.010934433899819851, 0.049204953014850616, 0.03280330076813698, 0.0054672169499099255, 0.010934433899819851, 0.0054672169499099255, 0.9292415380477905, 0.1967637538909912, 0.3935275077819824, 0.1967637538909912, 0.1967637538909912, 0.9608815908432007, 0.5114753246307373, 0.25573766231536865, 0.19180326163768768, 0.9103159308433533, 0.07002430409193039, 0.9746166467666626, 0.023380376398563385, 0.23380376398563385, 0.1636626273393631, 0.2805645167827606, 0.25718414783477783, 0.5366933941841125, 0.11926519125699997, 0.2981629967689514, 0.01910552941262722, 0.7355629205703735, 0.05731659010052681, 0.133738711476326, 0.028658295050263405, 0.00955276470631361, 0.19838763773441315, 0.3967752754688263, 0.19838763773441315, 0.19838763773441315, 0.9570454955101013, 0.06761137396097183, 0.45975732803344727, 0.3651013970375061, 0.013522273860871792, 0.05408909544348717, 0.0405668243765831, 0.19040851294994354, 0.19040851294994354, 0.3808170258998871, 0.19040851294994354, 0.17653046548366547, 0.1373014748096466, 0.5099769234657288, 0.15691597759723663, 0.01961449719965458, 0.7377660870552063, 0.0670696422457695, 0.0670696422457695, 0.0670696422457695, 0.9343430995941162, 0.04152636229991913, 0.8775936365127563, 0.3175036907196045, 0.15875184535980225, 0.15875184535980225, 0.3175036907196045, 0.1380210816860199, 0.5520843267440796, 0.2760421633720398, 0.37239718437194824, 0.18619859218597412, 0.37239718437194824, 0.08370673656463623, 0.8998474478721619, 0.2792249321937561, 0.21478839218616486, 0.19330956041812897, 0.04295767843723297, 0.1288730353116989, 0.04295767843723297, 0.06443651765584946, 0.14704059064388275, 0.24506765604019165, 0.44112178683280945, 0.14704059064388275, 0.5287759900093079, 0.17625866830348969, 0.058752890676259995, 0.14688222110271454, 0.029376445338129997, 0.19097332656383514, 0.8020879626274109, 0.10906141996383667, 0.2538498640060425, 0.14290806651115417, 0.05829145014286041, 0.22752468287944794, 0.04512886330485344, 0.11094179004430771, 0.015042954124510288, 0.00564110791310668, 0.01128221582621336, 0.013162584975361824, 0.001880369265563786, 0.001880369265563786, 0.003760738531127572, 0.2498822808265686, 0.7218821048736572, 0.4352773427963257, 0.24810808897018433, 0.004352773539721966, 0.06529159843921661, 0.013058319687843323, 0.1610526144504547, 0.013058319687843323, 0.004352773539721966, 0.026116639375686646, 0.026116639375686646, 0.4908406734466553, 0.16361355781555176, 0.16361355781555176, 0.16361355781555176, 0.12400740385055542, 0.14172275364398956, 0.14172275364398956, 0.14172275364398956, 0.17715343832969666, 0.10629206150770187, 0.03543068841099739, 0.017715344205498695, 0.10629206150770187, 0.8729185461997986, 0.3853093087673187, 0.28898197412490845, 0.09632732719182968, 0.19265465438365936, 0.11340908706188202, 0.34022727608680725, 0.22681817412376404, 0.22681817412376404, 0.11340908706188202, 0.05596126616001129, 0.16788379848003387, 0.6715351939201355, 0.05596126616001129, 0.36265507340431213, 0.18132753670215607, 0.18132753670215607, 0.18132753670215607, 0.2480727881193161, 0.16538186371326447, 0.41345465183258057, 0.08269093185663223, 0.018729204311966896, 0.006243067793548107, 0.12486135959625244, 0.0031215338967740536, 0.006243067793548107, 0.820963442325592, 0.015607669949531555, 0.0031215338967740536, 0.0031215338967740536, 0.8736955523490906, 0.36245784163475037, 0.5436867475509644, 0.015848299488425255, 0.0014407545095309615, 0.0014407545095309615, 0.0014407545095309615, 0.9768316149711609, 0.0014407545095309615, 0.0014407545095309615, 0.1582552045583725, 0.1582552045583725, 0.316510409116745, 0.1582552045583725, 0.1582552045583725, 0.9909767508506775, 0.0016298959963023663, 0.0016298959963023663, 0.0016298959963023663, 0.926267147064209, 0.03705068677663803, 0.031287238001823425, 0.9626842141151428, 0.0024067105259746313, 0.0408681258559227, 0.9399669170379639, 0.8635150194168091, 0.018372660502791405, 0.06430430710315704, 0.027558989822864532, 0.009186330251395702, 0.009186330251395702, 0.40354761481285095, 0.13451586663722992, 0.26903173327445984, 0.3771180510520935, 0.18855902552604675, 0.18855902552604675, 0.18855902552604675, 0.1300266981124878, 0.0010926612885668874, 0.8588318228721619, 0.0010926612885668874, 0.0010926612885668874, 0.006555967964231968, 0.29831621050834656, 0.15744467079639435, 0.09943874180316925, 0.11186858266592026, 0.10358201712369919, 0.16158795356750488, 0.033146247267723083, 0.016573123633861542, 0.008286561816930771, 0.0041432809084653854, 0.008286561816930771, 0.44023391604423523, 0.008632037788629532, 0.12948055565357208, 0.41433781385421753, 0.012969523668289185, 0.7306165099143982, 0.10375618934631348, 0.017292696982622147, 0.08214031159877777, 0.017292696982622147, 0.012969523668289185, 0.004323174245655537, 0.017292696982622147, 0.004323174245655537, 0.004323174245655537, 0.8676562309265137, 0.26918497681617737, 0.1794566512107849, 0.1794566512107849, 0.08972832560539246, 0.26918497681617737, 0.2703076899051666, 0.21624615788459778, 0.027030769735574722, 0.16218462586402893, 0.10812307894229889, 0.054061539471149445, 0.1351538449525833, 0.8526503443717957, 0.10658129304647446, 0.8838662505149841, 0.07142353802919388, 0.008927942253649235, 0.008927942253649235, 0.01785588450729847, 0.9462891221046448, 0.02557538077235222, 0.7272976040840149, 0.15007728338241577, 0.023088812828063965, 0.04617762565612793, 0.011544406414031982, 0.011544406414031982, 0.011544406414031982, 0.2710215151309967, 0.2544705867767334, 0.10551219433546066, 0.1117187961935997, 0.07241033017635345, 0.07241033017635345, 0.057928264141082764, 0.02068866603076458, 0.006206599995493889, 0.004137733019888401, 0.008275466039776802, 0.0020688665099442005, 0.006206599995493889, 0.0020688665099442005, 0.0020688665099442005, 0.4094105362892151, 0.08987060189247131, 0.09985622763633728, 0.129813089966774, 0.03994249179959297, 0.1897268295288086, 0.019971245899796486, 0.019971245899796486, 0.416930615901947, 0.22741669416427612, 0.11370834708213806, 0.07580556720495224, 0.03790278360247612, 0.03790278360247612, 0.03790278360247612, 0.37734711170196533, 0.18867355585098267, 0.18867355585098267, 0.18867355585098267, 0.9365918636322021, 0.1279088705778122, 0.7674532532691956, 0.3241352438926697, 0.04766694828867912, 0.00953338947147131, 0.5529366135597229, 0.04766694828867912, 0.00953338947147131, 0.1787833422422409, 0.1787833422422409, 0.3575666844844818, 0.047950245440006256, 0.4088389575481415, 0.17665880918502808, 0.07066351920366287, 0.12870855629444122, 0.03785545751452446, 0.0630924329161644, 0.022713275626301765, 0.01261848583817482, 0.0050473944284021854, 0.0025236972142010927, 0.01261848583817482, 0.0075710914097726345, 0.0025236972142010927, 0.26933813095092773, 0.5386762619018555, 0.13466906547546387, 0.11931360512971878, 0.29671409726142883, 0.25432637333869934, 0.06279663741588593, 0.10675428062677383, 0.06279663741588593, 0.05023730918765068, 0.021978821605443954, 0.00784957967698574, 0.0047097476199269295, 0.0047097476199269295, 0.0031398318242281675, 0.0031398318242281675, 0.0015699159121140838, 0.0015699159121140838, 0.7724113464355469, 0.030489923432469368, 0.05081653594970703, 0.10163307189941406, 0.010163307189941406, 0.010163307189941406, 0.010163307189941406, 0.08648763597011566, 0.30572372674942017, 0.30773505568504333, 0.04626082628965378, 0.12068042159080505, 0.030170105397701263, 0.04626082628965378, 0.02815876342356205, 0.008045361377298832, 0.00603402080014348, 0.004022680688649416, 0.00603402080014348, 0.002011340344324708, 0.002011340344324708, 0.002011340344324708, 0.6473035216331482, 0.043153565376996994, 0.08630713075399399, 0.043153565376996994, 0.17261426150798798, 0.04379941150546074, 0.24733786284923553, 0.6209210753440857, 0.015458616428077221, 0.051528722047805786, 0.002576436148956418, 0.0077293082140386105, 0.005152872297912836, 0.13451650738716125, 0.645679235458374, 0.08070990443229675, 0.02690330147743225, 0.02690330147743225, 0.02690330147743225, 0.0538066029548645, 0.02690330147743225, 0.7189012169837952, 0.0481049120426178, 0.07750236243009567, 0.050777409225702286, 0.01870746538043022, 0.07482986152172089, 0.002672495087608695, 0.002672495087608695, 0.002672495087608695, 0.04052869975566864, 0.9321600794792175, 0.23029370605945587, 0.20877093076705933, 0.12913665175437927, 0.101157046854496, 0.16572538018226624, 0.10330932587385178, 0.025827331468462944, 0.010761387646198273, 0.010761387646198273, 0.006456832867115736, 0.002152277622371912, 0.004304555244743824, 0.002152277622371912, 0.002152277622371912, 0.11676438897848129, 0.25020942091941833, 0.150125652551651, 0.06672251224517822, 0.23352877795696259, 0.06672251224517822, 0.03336125612258911, 0.016680628061294556, 0.016680628061294556, 0.03336125612258911, 0.5773260593414307, 0.043646641075611115, 0.1269720494747162, 0.1706186830997467, 0.009919690899550915, 0.003967876546084881, 0.03174301236867905, 0.013887567445635796, 0.003967876546084881, 0.007935753092169762, 0.003967876546084881, 0.003967876546084881, 0.0019839382730424404, 0.0019839382730424404, 0.37069061398506165, 0.37069061398506165, 0.18534530699253082, 0.266430139541626, 0.2699825167655945, 0.09236244112253189, 0.12078166007995605, 0.09236244112253189, 0.06039083003997803, 0.039076417684555054, 0.039076417684555054, 0.0035524016711860895, 0.0035524016711860895, 0.0035524016711860895, 0.007104803342372179, 0.022419553250074387, 0.3699226379394531, 0.22419553995132446, 0.1569368839263916, 0.022419553250074387, 0.13451732695102692, 0.011209776625037193, 0.022419553250074387, 0.022419553250074387, 0.011209776625037193, 0.39450952410697937, 0.19725476205348969, 0.19725476205348969, 0.09862738102674484, 0.27699142694473267, 0.2425546646118164, 0.1212773323059082, 0.10331031680107117, 0.09881856292486191, 0.10929932445287704, 0.014972509816288948, 0.004491752944886684, 0.011978007853031158, 0.004491752944886684, 0.0029945019632577896, 0.0014972509816288948, 0.0029945019632577896, 0.0014972509816288948, 0.0014972509816288948, 0.9288498163223267, 0.015116875059902668, 0.9674800038337708, 0.7333317399024963, 0.18333293497562408, 0.2305450588464737, 0.02305450476706028, 0.02305450476706028, 0.5533081293106079, 0.09221801906824112, 0.04610900953412056, 0.280855268239975, 0.1404276341199875, 0.280855268239975, 0.1404276341199875, 0.3730868995189667, 0.09327172487974167, 0.46635860204696655, 0.21434564888477325, 0.21434564888477325, 0.21434564888477325, 0.21434564888477325, 0.312791109085083, 0.625582218170166, 0.1563955545425415, 0.9726839065551758, 0.18645955622196198, 0.18645955622196198, 0.37291911244392395, 0.18645955622196198, 0.8520349860191345, 0.6477739810943604, 0.1619434952735901, 0.1619434952735901, 0.1619434952735901, 0.36016541719436646, 0.5402481555938721, 0.28526821732521057, 0.28526821732521057, 0.07131705433130264, 0.21395115554332733, 0.07131705433130264, 0.06188219040632248, 0.618821918964386, 0.24752876162528992, 0.9783710837364197, 0.34106647968292236, 0.1278999298810959, 0.15632213652133942, 0.1634276807308197, 0.07816106826066971, 0.07816106826066971, 0.021316654980182648, 0.01421110238879919, 0.007105551194399595, 0.021316654980182648, 0.5529426336288452, 0.0204793568700552, 0.2867110073566437, 0.0409587137401104, 0.0204793568700552, 0.06143806874752045, 0.0204793568700552, 0.1834288090467453, 0.7337152361869812, 0.31363722681999207, 0.4704558551311493, 0.15681861340999603, 0.9609900712966919, 0.016859475523233414, 0.008429737761616707, 0.21481001377105713, 0.01621207594871521, 0.012159056961536407, 0.7133313417434692, 0.008106037974357605, 0.0040530189871788025, 0.020265094935894012, 0.0040530189871788025, 0.0040530189871788025, 0.012562574818730354, 0.5904409885406494, 0.21356377005577087, 0.10050059854984283, 0.02512514963746071, 0.006281287409365177, 0.006281287409365177, 0.02512514963746071, 0.006281287409365177, 0.006281287409365177, 0.006281287409365177, 0.006281287409365177, 0.37355661392211914, 0.18677830696105957, 0.18677830696105957, 0.41107040643692017, 0.09486240148544312, 0.06550022959709167, 0.31620800495147705, 0.013551771640777588, 0.076793372631073, 0.009034514427185059, 0.006775885820388794, 0.004517257213592529, 0.0022586286067962646, 0.0022586286067962646, 0.5396974682807922, 0.17989914119243622, 0.17989914119243622, 0.8997512459754944, 0.10126534104347229, 0.050632670521736145, 0.20253068208694458, 0.20253068208694458, 0.40506136417388916, 0.025316335260868073, 0.09672588109970093, 0.4210420548915863, 0.017069272696971893, 0.03413854539394379, 0.3243161737918854, 0.03413854539394379, 0.028448788449168205, 0.011379515752196312, 0.005689757876098156, 0.011379515752196312, 0.005689757876098156, 0.005689757876098156, 0.9897268414497375, 0.6282752752304077, 0.1449865996837616, 0.16915103793144226, 0.024164434522390366, 0.0335971862077713, 0.23518028855323792, 0.1679859310388565, 0.28557607531547546, 0.01679859310388565, 0.1007915511727333, 0.01679859310388565, 0.0671943724155426, 0.01679859310388565, 0.01679859310388565, 0.01679859310388565, 0.2966006100177765, 0.01744709350168705, 0.523412823677063, 0.0348941870033741, 0.1046825647354126, 0.01744709350168705, 0.12840938568115234, 0.12840938568115234, 0.2568187713623047, 0.1926140934228897, 0.06420469284057617, 0.06420469284057617, 0.12840938568115234, 0.0725877657532692, 0.217763289809227, 0.5807021260261536, 0.1088816449046135, 0.3716643154621124, 0.24980716407299042, 0.048742860555648804, 0.048742860555648804, 0.2010643035173416, 0.030464287847280502, 0.0182785727083683, 0.0060928575694561005, 0.0060928575694561005, 0.012185715138912201, 0.31266942620277405, 0.13027893006801605, 0.1693626046180725, 0.1215936616063118, 0.04776893928647041, 0.1389641910791397, 0.043426308780908585, 0.004342630971223116, 0.008685261942446232, 0.004342630971223116, 0.008685261942446232, 0.004342630971223116, 0.008685261942446232, 0.06082070618867874, 0.459534227848053, 0.1757042557001114, 0.06757856160402298, 0.12839926779270172, 0.02703142538666725, 0.006757856346666813, 0.006757856346666813, 0.013515712693333626, 0.020273568108677864, 0.006757856346666813, 0.013515712693333626, 0.2362985759973526, 0.4725971519947052, 0.2362985759973526, 0.03374825045466423, 0.4134160876274109, 0.19405244290828705, 0.008437062613666058, 0.16874125599861145, 0.008437062613666058, 0.05905944108963013, 0.07593356817960739, 0.008437062613666058, 0.008437062613666058, 0.008437062613666058, 0.32064494490623474, 0.400806188583374, 0.08016123622655869, 0.08016123622655869, 0.08016123622655869, 0.5541647672653198, 0.13854119181632996, 0.13854119181632996, 0.24104535579681396, 0.08034845441579819, 0.5222649574279785, 0.08034845441579819, 0.040174227207899094, 0.03075111098587513, 0.38219237327575684, 0.21525777876377106, 0.035144127905368805, 0.21525777876377106, 0.03075111098587513, 0.03075111098587513, 0.026358095929026604, 0.004393015988171101, 0.004393015988171101, 0.013179047964513302, 0.004393015988171101, 0.0790749192237854, 0.8856390714645386, 0.01581498421728611, 0.3280467391014099, 0.17128103971481323, 0.13934728503227234, 0.14515343308448792, 0.10741353780031204, 0.049352165311574936, 0.023224547505378723, 0.011612273752689362, 0.008709205314517021, 0.011612273752689362, 0.005806136876344681, 0.3193376660346985, 0.19367237389087677, 0.1404494345188141, 0.16632169485092163, 0.03178592398762703, 0.07392075657844543, 0.03548196330666542, 0.014784150756895542, 0.006652867887169123, 0.004435245413333178, 0.0036960376892238855, 0.005913660395890474, 0.0014784150989726186, 0.0007392075494863093, 0.0007392075494863093, 0.04231514036655426, 0.25389084219932556, 0.004701682366430759, 0.056420184671878815, 0.5971136093139648, 0.028210092335939407, 0.009403364732861519, 0.841219425201416, 0.07010161876678467, 0.24153181910514832, 0.12076590955257416, 0.24153181910514832, 0.36229774355888367, 0.1098872497677803, 0.5494362711906433, 0.1098872497677803, 0.1098872497677803, 0.05174548551440239, 0.25872743129730225, 0.3622184097766876, 0.15523645281791687, 0.05174548551440239, 0.05174548551440239, 0.4053042531013489, 0.12098634243011475, 0.0592833086848259, 0.18510910868644714, 0.09436935186386108, 0.09073975682258606, 0.020567677915096283, 0.0036295903846621513, 0.004839453846216202, 0.002419726923108101, 0.004839453846216202, 0.0036295903846621513, 0.0012098634615540504, 0.9377802610397339, 0.413500040769577, 0.16540001332759857, 0.08270000666379929, 0.24810002744197845, 0.09204939007759094, 0.8284444808959961, 0.37959200143814087, 0.37959200143814087, 0.18979600071907043, 0.2518596053123474, 0.2399473339319229, 0.15315787494182587, 0.1259298026561737, 0.1038070023059845, 0.040842097252607346, 0.027228064835071564, 0.018719295039772987, 0.011912278831005096, 0.010210524313151836, 0.005105262156575918, 0.0017017540521919727, 0.005105262156575918, 0.0017017540521919727, 0.0034035081043839455, 0.09510213881731033, 0.09510213881731033, 0.4814545810222626, 0.005943883676081896, 0.12482155114412308, 0.005943883676081896, 0.1367093175649643, 0.011887767352163792, 0.005943883676081896, 0.017831651493906975, 0.023775534704327583, 0.005943883676081896, 0.005943883676081896, 0.09267248958349228, 0.40320661664009094, 0.16258330643177032, 0.058529991656541824, 0.10730498284101486, 0.047149159014225006, 0.08129165321588516, 0.014632497914135456, 0.008129165507853031, 0.0032516662031412125, 0.0032516662031412125, 0.008129165507853031, 0.0016258331015706062, 0.0032516662031412125, 0.0016258331015706062, 0.7591519355773926, 0.1084502786397934, 0.3145066201686859, 0.15725331008434296, 0.15725331008434296, 0.3145066201686859, 0.05139600858092308, 0.4882620573043823, 0.3340740501880646, 0.10279201716184616, 0.499660849571228, 0.06929603219032288, 0.025530116632580757, 0.13859206438064575, 0.051060233265161514, 0.16412217915058136, 0.007294319104403257, 0.03282443434000015, 0.0036471595522016287, 0.0036471595522016287, 0.007294319104403257, 0.4980432391166687, 0.1660144180059433, 0.1660144180059433, 0.1660144180059433, 0.9395544528961182, 0.02850339002907276, 0.005344385746866465, 0.9513006806373596, 0.003562923753634095, 0.00712584750726819, 0.15985770523548126, 0.8229711651802063, 0.011841312050819397, 0.9411730766296387, 0.14729507267475128, 0.2651311159133911, 0.21357785165309906, 0.05646311119198799, 0.13502047955989838, 0.06382786482572556, 0.07119261473417282, 0.03191393241286278, 0.004909835755825043, 0.007364753633737564, 0.004909835755825043, 0.0024549178779125214, 0.18564194440841675, 0.5569258332252502, 0.18564194440841675, 0.2446238100528717, 0.15932734310626984, 0.1689835488796234, 0.13840557634830475, 0.11265569925308228, 0.0756402537226677, 0.05632784962654114, 0.009656202979385853, 0.011265570297837257, 0.011265570297837257, 0.006437468808144331, 0.0032187344040721655, 0.0016093672020360827, 0.0016093672020360827, 0.26583245396614075, 0.3987486660480499, 0.13291622698307037, 0.14220255613327026, 0.3226315975189209, 0.1253829002380371, 0.07798204571008682, 0.09633076190948486, 0.15290597081184387, 0.029052134603261948, 0.029052134603261948, 0.006116238888353109, 0.0015290597220882773, 0.00458717904984951, 0.0015290597220882773, 0.00458717904984951, 0.00458717904984951, 0.13149617612361908, 0.2817775309085846, 0.06574808806180954, 0.03757033497095108, 0.3663107752799988, 0.046962920576334, 0.02817775309085846, 0.01878516748547554, 0.00939258374273777, 0.00939258374273777, 0.00939258374273777, 0.15369120240211487, 0.15369120240211487, 0.4610736072063446, 0.1620909571647644, 0.6969911456108093, 0.01620909571647644, 0.06483638286590576, 0.01620909571647644, 0.03241819143295288, 0.9603865742683411, 0.017784936353564262, 0.7167571783065796, 0.23891906440258026, 0.32270699739456177, 0.32270699739456177, 0.32270699739456177, 0.9823087453842163, 0.14008067548274994, 0.18677422404289246, 0.1763978749513626, 0.05706990137696266, 0.31647855043411255, 0.015564518980681896, 0.062258075922727585, 0.010376346297562122, 0.010376346297562122, 0.005188173148781061, 0.010376346297562122, 0.005188173148781061, 0.1889328807592392, 0.8010753989219666, 0.5655339360237122, 0.18851131200790405, 0.18851131200790405, 0.1811681091785431, 0.1811681091785431, 0.3623362183570862, 0.1811681091785431, 0.2891038954257965, 0.0667162835597992, 0.5337302684783936, 0.02223876118659973, 0.02223876118659973, 0.02223876118659973, 0.02223876118659973, 0.46185365319252014, 0.23092682659626007, 0.15395121276378632, 0.07697560638189316, 0.32339632511138916, 0.16169816255569458, 0.14941729605197906, 0.14532366394996643, 0.04912349209189415, 0.08391930162906647, 0.04707667976617813, 0.002046812092885375, 0.002046812092885375, 0.010234060697257519, 0.002046812092885375, 0.00409362418577075, 0.002046812092885375, 0.002046812092885375, 0.010234060697257519, 0.44001227617263794, 0.09711983054876328, 0.0693713054060936, 0.16649113595485687, 0.07531742006540298, 0.09711983054876328, 0.019820373505353928, 0.011892223730683327, 0.003964074421674013, 0.003964074421674013, 0.007928148843348026, 0.0019820372108370066, 0.0019820372108370066, 0.0019820372108370066, 0.11992774158716202, 0.6596025824546814, 0.17989161610603333, 0.1478397697210312, 0.01642663963139057, 0.3121061623096466, 0.13141311705112457, 0.03285327926278114, 0.06570655852556229, 0.2956795394420624, 0.1728021204471588, 0.25805115699768066, 0.14054572582244873, 0.1382416933774948, 0.15206585824489594, 0.059904735535383224, 0.02073625475168228, 0.02073625475168228, 0.011520140804350376, 0.00921611301600933, 0.004608056508004665, 0.004608056508004665, 0.0023040282540023327, 0.0023040282540023327, 0.28522464632987976, 0.181264266371727, 0.1479436308145523, 0.050647370517253876, 0.12261994928121567, 0.14927645027637482, 0.03998476639389992, 0.006664127577096224, 0.005331302061676979, 0.003998476546257734, 0.0026656510308384895, 0.0026656510308384895, 0.0013328255154192448, 0.9176697731018066, 0.8124918341636658, 0.04700366035103798, 0.026859233155846596, 0.08057770133018494, 0.013429616577923298, 0.013429616577923298, 0.9780964851379395, 0.8844354152679443, 0.08559052646160126, 0.36728811264038086, 0.17140111327171326, 0.0489717461168766, 0.0489717461168766, 0.0489717461168766, 0.17140111327171326, 0.0244858730584383, 0.0244858730584383, 0.0489717461168766, 0.0489717461168766, 0.5692978501319885, 0.18976594507694244, 0.18976594507694244, 0.1887599229812622, 0.30201587080955505, 0.2265119105577469, 0.11325595527887344, 0.07550396770238876, 0.03775198385119438, 0.18132136762142181, 0.5439640879631042, 0.18132136762142181, 0.17679595947265625, 0.17679595947265625, 0.17679595947265625, 0.3535919189453125, 0.2649160921573639, 0.2649160921573639, 0.5298321843147278, 0.487834095954895, 0.10840757936239243, 0.10840757936239243, 0.16261136531829834, 0.05420378968119621, 0.848814070224762, 0.011627590283751488, 0.011627590283751488, 0.023255180567502975, 0.08139313012361526, 0.4143204987049103, 0.15066199004650116, 0.07533099502325058, 0.2636584937572479, 0.03766549751162529, 0.03766549751162529, 0.2280392050743103, 0.13682352006435394, 0.5244901776313782, 0.04560784250497818, 0.02280392125248909, 0.02280392125248909, 0.11107012629508972, 0.11107012629508972, 0.555350661277771, 0.11107012629508972, 0.8888903856277466, 0.09016476571559906, 0.18032953143119812, 0.270494282245636, 0.4508238136768341, 0.9295337796211243, 0.5940704345703125, 0.1980234831571579, 0.1980234831571579, 0.3883284628391266, 0.1941642314195633, 0.1941642314195633, 0.1941642314195633, 0.8992481827735901, 0.3065478205680847, 0.6130956411361694, 0.8529487252235413, 0.39510858058929443, 0.012883976101875305, 0.2329852283000946, 0.26304784417152405, 0.04509391635656357, 0.011810311116278172, 0.024694286286830902, 0.0032209940254688263, 0.0021473292727023363, 0.0021473292727023363, 0.0021473292727023363, 0.004294658545404673, 0.0021473292727023363, 0.8070477843284607, 0.10088097304105759, 0.05044048652052879, 0.05044048652052879, 0.8929451704025269, 0.027475235983729362, 0.013737617991864681, 0.04121285304427147, 0.013737617991864681, 0.012833480723202229, 0.9796223640441895, 0.2868179976940155, 0.14340899884700775, 0.14340899884700775, 0.2868179976940155, 0.15900054574012756, 0.18951581418514252, 0.22966746985912323, 0.054606251418590546, 0.05300018563866615, 0.21842500567436218, 0.06263658404350281, 0.008030330762267113, 0.008030330762267113, 0.00321213249117136, 0.00321213249117136, 0.00642426498234272, 0.00481819873675704, 0.5985360145568848, 0.19951198995113373, 0.19951198995113373, 0.9215567111968994, 0.9550938606262207, 0.02809099666774273, 0.2749633491039276, 0.3116251528263092, 0.0183308906853199, 0.0549926720559597, 0.2932942509651184, 0.0366617813706398, 0.0183308906853199, 0.2060495913028717, 0.3008688688278198, 0.15134616196155548, 0.10393651574850082, 0.10028962045907974, 0.06929101049900055, 0.038292400538921356, 0.005470342934131622, 0.007293790578842163, 0.005470342934131622, 0.005470342934131622, 0.0018234476447105408, 0.0018234476447105408, 0.0018234476447105408, 0.16841952502727509, 0.8201298713684082, 0.007322588004171848, 0.8388912081718445, 0.37148284912109375, 0.1853916347026825, 0.11263415962457657, 0.12732557952404022, 0.04687260091304779, 0.08325133472681046, 0.044773828238248825, 0.014691412448883057, 0.0020987731404602528, 0.0041975462809205055, 0.0041975462809205055, 0.0006995910662226379, 0.0006995910662226379, 0.0013991821324452758, 0.06544439494609833, 0.6918407678604126, 0.11219039559364319, 0.056095197796821594, 0.028047598898410797, 0.009349199943244457, 0.028047598898410797, 0.009349199943244457, 0.4226245582103729, 0.09265230596065521, 0.172300785779953, 0.05689176917076111, 0.03901149705052376, 0.1788026988506317, 0.013003832660615444, 0.008127395063638687, 0.011378353461623192, 0.003250958165153861, 0.0016254790825769305, 0.8644958734512329, 0.07517355680465698, 0.03758677840232849, 0.31924203038215637, 0.10641401261091232, 0.06384840607643127, 0.19154521822929382, 0.0851312056183815, 0.14897961914539337, 0.06384840607643127, 0.4731488823890686, 0.3154325783252716, 0.1577162891626358, 0.7343173027038574, 0.14686346054077148, 0.5444360375404358, 0.18147867918014526, 0.18147867918014526, 0.26194319128990173, 0.06548579782247543, 0.2292003035545349, 0.06548579782247543, 0.29468610882759094, 0.03274289891123772, 0.03274289891123772, 0.6459156274795532, 0.1614789068698883, 0.1614789068698883, 0.6084807515144348, 0.16226153075695038, 0.16226153075695038, 0.040565382689237595, 0.23006735742092133, 0.19826942682266235, 0.16460104286670685, 0.07481865584850311, 0.11783938109874725, 0.13280311226844788, 0.04302072525024414, 0.01309326384216547, 0.0056113991886377335, 0.0056113991886377335, 0.0056113991886377335, 0.001870466279797256, 0.001870466279797256, 0.003740932559594512, 0.31616923213005066, 0.31616923213005066, 0.31616923213005066, 0.2942862808704376, 0.1471431404352188, 0.1471431404352188, 0.2942862808704376, 0.9025358557701111, 0.050140880048274994, 0.1386607438325882, 0.1386607438325882, 0.1386607438325882, 0.2773214876651764, 0.1386607438325882, 0.831626296043396, 0.015120478346943855, 0.015120478346943855, 0.10584334284067154, 0.015120478346943855, 0.5199093222618103, 0.06916224956512451, 0.07870186865329742, 0.10493582487106323, 0.01192452572286129, 0.10016601532697678, 0.09062639623880386, 0.014309430494904518, 0.007154715247452259, 0.002384905004873872, 0.1281064748764038, 0.1281064748764038, 0.3843194246292114, 0.1281064748764038, 0.1281064748764038, 0.47143980860710144, 0.1571466028690338, 0.1571466028690338, 0.20617389678955078, 0.27833476662635803, 0.16837534308433533, 0.08246956020593643, 0.12198621779680252, 0.053261589258909225, 0.03779854625463486, 0.027489852160215378, 0.00859057903289795, 0.005154347512871027, 0.0034362315200269222, 0.0017181157600134611, 0.0017181157600134611, 0.08495631068944931, 0.307149738073349, 0.14377222955226898, 0.029407955706119537, 0.27447423338890076, 0.02287285402417183, 0.0751536637544632, 0.026140404865145683, 0.009802651591598988, 0.009802651591598988, 0.0032675506081432104, 0.0032675506081432104, 0.0032675506081432104, 0.0032675506081432104, 0.9001064300537109, 0.14963890612125397, 0.2652689814567566, 0.237306147813797, 0.09220174700021744, 0.11563006043434143, 0.029474329203367233, 0.05441414564847946, 0.01813804917037487, 0.013603536412119865, 0.009069024585187435, 0.006046016234904528, 0.0037787603214383125, 0.001511504058726132, 0.002267256146296859, 0.002267256146296859, 0.09294238686561584, 0.32529833912849426, 0.04647119343280792, 0.4182407259941101, 0.04647119343280792, 0.06738883256912231, 0.44580307602882385, 0.20216651260852814, 0.025918783619999886, 0.07257258892059326, 0.04147005081176758, 0.062205079942941666, 0.062205079942941666, 0.005183756351470947, 0.005183756351470947, 0.005183756351470947, 0.005183756351470947, 0.6867549419403076, 0.2747019827365875, 0.24154254794120789, 0.25201910734176636, 0.172280952334404, 0.12746462225914001, 0.06518738716840744, 0.044234298169612885, 0.06402332335710526, 0.006402332801371813, 0.005238272249698639, 0.009894514456391335, 0.003492181422188878, 0.004074211698025465, 0.002328120870515704, 0.000582030217628926, 0.001164060435257852, 0.8018859624862671, 0.21927198767662048, 0.24787268042564392, 0.20497164130210876, 0.04766782000660896, 0.057201385498046875, 0.09056886285543442, 0.05243460461497307, 0.03813425824046135, 0.014300346374511719, 0.009533564560115337, 0.004766782280057669, 0.014300346374511719, 0.004766782280057669, 0.9807583689689636, 0.010777564719319344, 0.013705291785299778, 0.19187408685684204, 0.5070958137512207, 0.08223175257444382, 0.006852645892649889, 0.13705292344093323, 0.020557938143610954, 0.006852645892649889, 0.013705291785299778, 0.020557938143610954, 0.006852645892649889, 0.006852645892649889, 0.08982018381357193, 0.08982018381357193, 0.7185614705085754, 0.875150203704834, 0.23631927371025085, 0.2149329036474228, 0.15718974173069, 0.0930306613445282, 0.14008064568042755, 0.07057498395442963, 0.04277271777391434, 0.013901133090257645, 0.012831815518438816, 0.005346589721739292, 0.005346589721739292, 0.003207953879609704, 0.002138635842129588, 0.001069317921064794, 0.001069317921064794, 0.9849302172660828, 0.8951393961906433, 0.1813802719116211, 0.21421635150909424, 0.21734359860420227, 0.1250898391008377, 0.08443564176559448, 0.07974477112293243, 0.040654197335243225, 0.023454345762729645, 0.006254491861909628, 0.010945361107587814, 0.006254491861909628, 0.003127245930954814, 0.003127245930954814, 0.003127245930954814, 0.001563622965477407, 0.17059387266635895, 0.2652089595794678, 0.19209729135036469, 0.09604864567518234, 0.12758700549602509, 0.06164316087961197, 0.04300685599446297, 0.01146849524229765, 0.005734247621148825, 0.007167809642851353, 0.004300685599446297, 0.007167809642851353, 0.0028671238105744123, 0.0028671238105744123, 0.0014335619052872062, 0.35390153527259827, 0.17430971562862396, 0.16726689040660858, 0.11268506199121475, 0.07923168689012527, 0.06338535249233246, 0.015846338123083115, 0.014085632748901844, 0.007042816374450922, 0.0017607040936127305, 0.0017607040936127305, 0.003521408187225461, 0.0017607040936127305, 0.003521408187225461, 0.6443132758140564, 0.2761342525482178, 0.9822762608528137, 0.9212838411331177, 0.013257412239909172, 0.20681563019752502, 0.11401373893022537, 0.002651482354849577, 0.01856037601828575, 0.485221266746521, 0.12461967021226883, 0.026514824479818344, 0.005302964709699154, 0.8613210916519165, 0.09570234268903732, 0.9881865978240967, 0.8978759050369263, 0.04988199472427368, 0.5422632098197937, 0.24100585281848907, 0.07531432807445526, 0.030125731602311134, 0.030125731602311134, 0.030125731602311134, 0.045188598334789276, 0.0024394970387220383, 0.6708616614341736, 0.04391094669699669, 0.21955473721027374, 0.0024394970387220383, 0.007318491116166115, 0.007318491116166115, 0.0024394970387220383, 0.007318491116166115, 0.03171346336603165, 0.0024394970387220383, 0.8380013704299927, 0.13145118951797485, 0.016431398689746857, 0.008215699344873428, 0.7339721918106079, 0.18349304795265198, 0.08379505574703217, 0.837950587272644, 0.07033208012580872, 0.14066416025161743, 0.18755221366882324, 0.28132832050323486, 0.21099624037742615, 0.04688805341720581, 0.5761806964874268, 0.19206023216247559, 0.10116489976644516, 0.8093191981315613, 0.10116489976644516, 0.3116673231124878, 0.3116673231124878, 0.3116673231124878, 0.08587506413459778, 0.36496901512145996, 0.2790939509868622, 0.04293753206729889, 0.15028135478496552, 0.04293753206729889, 0.021468766033649445, 0.21533389389514923, 0.046142976731061935, 0.399905800819397, 0.046142976731061935, 0.06152396649122238, 0.169190913438797, 0.046142976731061935, 0.3858945965766907, 0.20070955157279968, 0.11754260957241058, 0.14304713904857635, 0.034375667572021484, 0.05322683975100517, 0.032157883048057556, 0.019960064440965652, 0.0011088924948126078, 0.0022177849896252155, 0.0033266774844378233, 0.0022177849896252155, 0.0011088924948126078, 0.0033266774844378233, 0.0011088924948126078, 0.38773804903030396, 0.19386902451515198, 0.19386902451515198, 0.19386902451515198, 0.6477199792861938, 0.16192999482154846, 0.16192999482154846, 0.11819952726364136, 0.8864964246749878, 0.10782978683710098, 0.32348933815956116, 0.1797163039445877, 0.10782978683710098, 0.10782978683710098, 0.03594326227903366, 0.03594326227903366, 0.03594326227903366, 0.07188652455806732, 0.9647784233093262, 0.013942104764282703, 0.001742763095535338, 0.001742763095535338, 0.9794328808784485, 0.001742763095535338, 0.6550307869911194, 0.03885775804519653, 0.08881773054599762, 0.05551108345389366, 0.01665332540869713, 0.11102216690778732, 0.005551108159124851, 0.011102216318249702, 0.005551108159124851, 0.005551108159124851, 0.005551108159124851, 0.03261731192469597, 0.9459021091461182, 0.9453292489051819, 0.3280011713504791, 0.09770247340202332, 0.3628948926925659, 0.06978747993707657, 0.006978747900575399, 0.034893739968538284, 0.034893739968538284, 0.034893739968538284, 0.013957495801150799, 0.8464789986610413, 0.13543663918972015, 0.1850283145904541, 0.2250344455242157, 0.320048987865448, 0.03000459261238575, 0.1300199031829834, 0.0600091852247715, 0.015002296306192875, 0.01000153087079525, 0.01000153087079525, 0.005000765435397625, 0.005000765435397625, 0.01000153087079525, 0.5031381845474243, 0.12578454613685608, 0.12578454613685608, 0.12578454613685608, 0.9427312612533569, 0.00864891055971384, 0.03459564223885536, 0.14841453731060028, 0.44524359703063965, 0.07420726865530014, 0.14841453731060028, 0.07420726865530014, 0.07420726865530014, 0.33298996090888977, 0.14752720296382904, 0.14331214129924774, 0.16860251128673553, 0.02529037743806839, 0.09273138642311096, 0.05479581654071808, 0.012645188719034195, 0.004215063061565161, 0.012645188719034195, 0.004215063061565161, 0.008430126123130322, 0.5703008770942688, 0.19010029733181, 0.19010029733181, 0.3921406865119934, 0.11533549427986145, 0.15570291876792908, 0.07496807724237442, 0.12110227346420288, 0.057667747139930725, 0.034600649029016495, 0.02306709997355938, 0.01153354998677969, 0.005766774993389845, 0.005766774993389845, 0.01153354998677969, 0.9088455438613892, 0.2312270998954773, 0.15415140986442566, 0.2697649598121643, 0.038537852466106415, 0.11561354994773865, 0.038537852466106415, 0.07707570493221283, 0.038537852466106415, 0.9839801788330078, 0.9295087456703186, 0.009600083343684673, 0.9792084693908691, 0.9461936354637146, 0.03291739150881767, 0.2633391320705414, 0.03291739150881767, 0.6254304647445679, 0.03291739150881767, 0.03291739150881767, 0.7526945471763611, 0.03584259748458862, 0.10752779245376587, 0.03584259748458862, 0.03584259748458862, 0.04081124812364578, 0.16324499249458313, 0.7346025109291077, 0.04081124812364578, 0.24457019567489624, 0.18601113557815552, 0.16189858317375183, 0.11022882163524628, 0.07578231394290924, 0.11022882163524628, 0.07233766466379166, 0.006889301352202892, 0.003444650676101446, 0.006889301352202892, 0.017223253846168518, 0.003444650676101446, 0.003444650676101446, 0.003444650676101446, 0.3579403758049011, 0.041500333696603775, 0.11996190249919891, 0.3073618412017822, 0.05252385884523392, 0.06549271196126938, 0.01880483888089657, 0.006484427023679018, 0.01167196873575449, 0.013617297634482384, 0.002593770856037736, 0.001296885428018868, 0.001296885428018868, 0.59691321849823, 0.11938264966011047, 0.23876529932022095, 0.7637106776237488, 0.2036561816930771, 0.1877424567937851, 0.20152172446250916, 0.11195651441812515, 0.1670735627412796, 0.11367891728878021, 0.1464046686887741, 0.0327257476747036, 0.017224078997969627, 0.0068896315060555935, 0.005167223513126373, 0.0034448157530277967, 0.0017224078765138984, 0.0017224078765138984, 0.16575735807418823, 0.4972720742225647, 0.16575735807418823, 0.960553765296936, 0.01047876849770546, 0.003492922754958272, 0.003492922754958272, 0.003492922754958272, 0.003492922754958272, 0.01047876849770546, 0.2826080322265625, 0.15397265553474426, 0.14812558889389038, 0.140329509973526, 0.10329810529947281, 0.12473733723163605, 0.023388251662254333, 0.0038980417884886265, 0.0038980417884886265, 0.005847062915563583, 0.0038980417884886265, 0.0019490208942443132, 0.0019490208942443132, 0.0038980417884886265, 0.10461819916963577, 0.5230910181999207, 0.10461819916963577, 0.10461819916963577, 0.10461819916963577, 0.10461819916963577, 0.33643296360969543, 0.09655474871397018, 0.12220210582017899, 0.06034671887755394, 0.016595348715782166, 0.3032422661781311, 0.027156023308634758, 0.012069343589246273, 0.0045260037295520306, 0.010560675524175167, 0.0030173358973115683, 0.0060346717946231365, 0.0015086679486557841, 0.5355026721954346, 0.35700178146362305, 0.4859454333782196, 0.32396364212036133, 0.16198182106018066, 0.941281259059906, 0.3999350965023041, 0.2666233777999878, 0.2666233777999878, 0.1663380265235901, 0.38065817952156067, 0.12795233726501465, 0.08636782318353653, 0.10236186534166336, 0.06717497110366821, 0.019192850217223167, 0.028789274394512177, 0.00639761658385396, 0.00639761658385396, 0.00319880829192698, 0.00639761658385396, 0.00319880829192698, 0.16678667068481445, 0.2501800060272217, 0.5003600120544434, 0.08339333534240723, 0.9186766147613525, 0.05403980240225792, 0.8789534568786621, 0.10146715492010117, 0.10146715492010117, 0.71027010679245, 0.9851304292678833, 0.1338796317577362, 0.20253585278987885, 0.2196999043226242, 0.08925308287143707, 0.13731244206428528, 0.085820272564888, 0.027462488040328026, 0.027462488040328026, 0.013731244020164013, 0.03432811051607132, 0.010298432782292366, 0.010298432782292366, 0.0034328110050410032, 0.0034328110050410032, 0.08667842298746109, 0.2648507356643677, 0.25040432810783386, 0.04815467819571495, 0.23435276746749878, 0.04173405468463898, 0.027287650853395462, 0.02086702734231949, 0.011236091144382954, 0.00481546763330698, 0.00481546763330698, 0.0032103119883686304, 0.0032103119883686304, 0.8790310621261597, 0.06579507142305374, 0.4605654776096344, 0.19738520681858063, 0.03289753571152687, 0.06579507142305374, 0.06579507142305374, 0.03289753571152687, 0.03289753571152687, 0.03289753571152687, 0.05536521226167679, 0.9042984843254089, 0.11320652067661285, 0.06792391091585159, 0.6565977931022644, 0.04528260603547096, 0.06792391091585159, 0.02264130301773548, 0.023459717631340027, 0.11729858815670013, 0.23459717631340027, 0.07037915289402008, 0.18767774105072021, 0.11729858815670013, 0.21113745868206024, 0.046919435262680054, 0.15006384253501892, 0.6502766609191895, 0.050021279603242874, 0.050021279603242874, 0.050021279603242874, 0.38796520233154297, 0.19398260116577148, 0.019398260861635208, 0.13578782975673676, 0.09699130058288574, 0.058194782584905624, 0.019398260861635208, 0.07759304344654083, 0.019398260861635208, 0.9620760679244995, 0.3454935848712921, 0.10329189151525497, 0.13890978693962097, 0.2564488351345062, 0.04274147376418114, 0.04986505210399628, 0.023151632398366928, 0.01246626302599907, 0.0017808947013691068, 0.01246626302599907, 0.007123578805476427, 0.0017808947013691068, 0.0017808947013691068, 0.0035617894027382135, 0.0017808947013691068, 0.11206324398517609, 0.21790075302124023, 0.28430861234664917, 0.12866520881652832, 0.13489094376564026, 0.045655395835638046, 0.022827697917819023, 0.022827697917819023, 0.002075245138257742, 0.012451471760869026, 0.002075245138257742, 0.004150490276515484, 0.006225735880434513, 0.002075245138257742, 0.03332051634788513, 0.7663719058036804, 0.13328206539154053, 0.03332051634788513, 0.32744038105010986, 0.16372019052505493, 0.16372019052505493, 0.16372019052505493, 0.16372019052505493, 0.31414395570755005, 0.15707197785377502, 0.31414395570755005, 0.15707197785377502, 0.10139954090118408, 0.8111963272094727, 0.1818937063217163, 0.5456811189651489, 0.1818937063217163, 0.31593838334083557, 0.15796919167041779, 0.31593838334083557, 0.15796919167041779, 0.8780421018600464, 0.5806226134300232, 0.38708174228668213, 0.7686669826507568, 0.1921667456626892, 0.15521930158138275, 0.620877206325531, 0.15521930158138275, 0.1921311616897583, 0.1921311616897583, 0.3842623233795166, 0.1921311616897583, 0.3850126266479492, 0.1925063133239746, 0.1925063133239746, 0.1925063133239746, 0.9536328911781311, 0.02538888528943062, 0.9647776484489441, 0.09149467945098877, 0.9149468541145325, 0.1759355068206787, 0.5278065204620361, 0.1759355068206787, 0.1595473289489746, 0.018409308046102524, 0.17795664072036743, 0.06136436015367508, 0.006136436015367508, 0.49091488122940063, 0.006136436015367508, 0.006136436015367508, 0.06750079244375229, 0.006136436015367508, 0.18472188711166382, 0.18472188711166382, 0.36944377422332764, 0.18472188711166382, 0.2493293732404709, 0.2493293732404709, 0.12466468662023544, 0.2493293732404709, 0.23053893446922302, 0.2561543583869934, 0.10246174782514572, 0.10246174782514572, 0.07684630900621414, 0.11526946723461151, 0.06403858959674835, 0.02561543695628643, 0.02561543695628643, 0.5116578340530396, 0.10771744698286057, 0.16157616674900055, 0.05385872349143028, 0.13464680314064026, 0.812191367149353, 0.1137067899107933, 0.032487653195858, 0.032487653195858, 0.07927779108285904, 0.23783336579799652, 0.07927779108285904, 0.14270001649856567, 0.2536889314651489, 0.07927779108285904, 0.06342223286628723, 0.015855558216571808, 0.047566674649715424, 0.015855558216571808, 0.26264360547065735, 0.234038844704628, 0.1300215870141983, 0.0806133821606636, 0.12222028523683548, 0.09361553937196732, 0.02340388484299183, 0.007801294792443514, 0.018203021958470345, 0.013002158142626286, 0.005200863350182772, 0.007801294792443514, 0.002600431675091386, 0.002600431675091386, 0.7570769786834717, 0.13765035569667816, 0.7677532434463501, 0.19193831086158752, 0.3390655219554901, 0.16953276097774506, 0.16953276097774506, 0.16953276097774506, 0.16953276097774506, 0.06427393108606339, 0.25709572434425354, 0.32136964797973633, 0.12854786217212677, 0.19282178580760956, 0.06427393108606339, 0.5142120122909546, 0.42851001024246216, 0.9085913896560669, 0.021378619596362114, 0.04275723919272423, 0.0053446548990905285, 0.0053446548990905285, 0.0053446548990905285, 0.0053446548990905285, 0.11169854551553726, 0.3723284900188446, 0.012410949915647507, 0.1861642450094223, 0.23580804467201233, 0.012410949915647507, 0.062054745852947235, 0.7363021373748779, 0.14726042747497559, 0.906869649887085, 0.017957815900444984, 0.053873445838689804, 0.008978907950222492, 0.9786930680274963, 0.7655548453330994, 0.07655548304319382, 0.05103699117898941, 0.025518495589494705, 0.05103699117898941, 0.5723904371261597, 0.19079682230949402, 0.19079682230949402, 0.37233975529670715, 0.18616987764835358, 0.18616987764835358, 0.18616987764835358, 0.15982548892498016, 0.15982548892498016, 0.4794764518737793, 0.10494457185268402, 0.8745380640029907, 0.18184588849544525, 0.5455376505851746, 0.18184588849544525, 0.8740001916885376, 0.4967940151691437, 0.09935880452394485, 0.09935880452394485, 0.1987176090478897, 0.3691518008708954, 0.1845759004354477, 0.1845759004354477, 0.1845759004354477, 0.9594499468803406, 0.38953012228012085, 0.2225886434316635, 0.05564716085791588, 0.11129432171583176, 0.11129432171583176, 0.05564716085791588, 0.07090286910533905, 0.35451433062553406, 0.16544002294540405, 0.11817144602537155, 0.16544002294540405, 0.0236342903226614, 0.0236342903226614, 0.07090286910533905, 0.9364400506019592, 0.031214667484164238, 0.25707513093948364, 0.12853756546974182, 0.12853756546974182, 0.25707513093948364, 0.12853756546974182, 0.5214462280273438, 0.043453849852085114, 0.17381539940834045, 0.21726925671100616, 0.043453849852085114, 0.2163355052471161, 0.4326710104942322, 0.2163355052471161, 0.15347543358802795, 0.3069508671760559, 0.6139017343521118, 0.06748148053884506, 0.5061110854148865, 0.16870369017124176, 0.06748148053884506, 0.03374074026942253, 0.1012222170829773, 0.03374074026942253, 0.35260719060897827, 0.23507146537303925, 0.11753573268651962, 0.23507146537303925, 0.9290425181388855, 0.92873615026474, 0.16236187517642975, 0.48708561062812805, 0.16236187517642975, 0.16236187517642975, 0.3355361819267273, 0.5771222114562988, 0.08052868396043777, 0.26650363206863403, 0.26650363206863403, 0.39975544810295105, 0.683365523815155, 0.13016486167907715, 0.09762364625930786, 0.03254121541976929, 0.3146696388721466, 0.17763610184192657, 0.10404399782419205, 0.2207762897014618, 0.012688292190432549, 0.11673229187726974, 0.015225950628519058, 0.007612975314259529, 0.020301267504692078, 0.0025376584380865097, 0.0025376584380865097, 0.0025376584380865097, 0.5694876909255981, 0.1898292452096939, 0.1898292452096939, 0.10125396400690079, 0.10125396400690079, 0.7087777256965637, 0.7517943978309631, 0.057830337435007095, 0.057830337435007095, 0.24227917194366455, 0.15301842987537384, 0.15301842987537384, 0.025503071025013924, 0.12751536071300507, 0.14026689529418945, 0.06375768035650253, 0.012751535512506962, 0.07650921493768692, 0.3681807816028595, 0.25894033908843994, 0.0849647969007492, 0.06473508477210999, 0.06878102570772171, 0.09710261970758438, 0.004045942798256874, 0.016183771193027496, 0.004045942798256874, 0.004045942798256874, 0.004045942798256874, 0.004045942798256874, 0.008091885596513748, 0.004045942798256874, 0.008091885596513748, 0.22588881850242615, 0.0847083032131195, 0.5647220611572266, 0.02823610231280327, 0.02823610231280327, 0.02823610231280327, 0.02823610231280327, 0.397676020860672, 0.198838010430336, 0.198838010430336, 0.7887027859687805, 0.19174738228321075, 0.3834947645664215, 0.19174738228321075, 0.19174738228321075, 0.5659599900245667, 0.2829799950122833, 0.14148999750614166, 0.20185023546218872, 0.3364170789718628, 0.10092511773109436, 0.13456682860851288, 0.13456682860851288, 0.03364170715212822, 0.03364170715212822, 0.5468844175338745, 0.13672110438346863, 0.13672110438346863, 0.8905163407325745, 0.015353729948401451, 0.0460611917078495, 0.015353729948401451, 0.015353729948401451, 0.438984215259552, 0.06271202862262726, 0.06271202862262726, 0.06271202862262726, 0.06271202862262726, 0.06271202862262726, 0.12542405724525452, 0.44913628697395325, 0.3208116292953491, 0.06416232883930206, 0.06416232883930206, 0.06416232883930206, 0.16834011673927307, 0.16834011673927307, 0.33668023347854614, 0.16834011673927307, 0.16834011673927307, 0.7096542119979858, 0.14193084836006165, 0.18025295436382294, 0.18025295436382294, 0.18025295436382294, 0.5407589077949524, 0.3672494888305664, 0.1836247444152832, 0.3672494888305664, 0.7621399760246277, 0.03779206424951553, 0.15746693313121796, 0.018896032124757767, 0.006298677530139685, 0.006298677530139685, 0.15824036300182343, 0.47472110390663147, 0.31648072600364685, 0.34861910343170166, 0.34861910343170166, 0.17430955171585083, 0.17430955171585083, 0.16144540905952454, 0.3228908181190491, 0.17758995294570923, 0.11301178485155106, 0.032289084047079086, 0.06457816809415817, 0.032289084047079086, 0.032289084047079086, 0.06457816809415817, 0.016144542023539543, 0.8501520156860352, 0.06182923540472984, 0.01545730885118246, 0.03091461770236492, 0.01545730885118246, 0.4018000364303589, 0.5755513906478882, 0.010859459638595581, 0.36551180481910706, 0.2741338610649109, 0.18275590240955353, 0.09137795120477676, 0.5606536269187927, 0.14016340672969818, 0.14016340672969818, 0.008403805084526539, 0.008403805084526539, 0.4706130623817444, 0.050422828644514084, 0.1848836988210678, 0.2100951224565506, 0.050422828644514084, 0.008403805084526539, 0.250624418258667, 0.7017483711242676, 0.1841987818479538, 0.1841987818479538, 0.1841987818479538, 0.3683975636959076, 0.3748820126056671, 0.09372050315141678, 0.23430125415325165, 0.18744100630283356, 0.04686025157570839, 0.04686025157570839, 0.17746207118034363, 0.44365519285202026, 0.08873103559017181, 0.17746207118034363, 0.549289882183075, 0.18309663236141205, 0.18309663236141205, 0.5463759303092957, 0.10927519202232361, 0.10927519202232361, 0.10927519202232361, 0.10927519202232361, 0.21796546876430511, 0.43593093752861023, 0.14531031250953674, 0.07265515625476837, 0.07265515625476837, 0.873961329460144, 0.06816971302032471, 0.27267885208129883, 0.06816971302032471, 0.06816971302032471, 0.06816971302032471, 0.47718802094459534, 0.5217120051383972, 0.07205966860055923, 0.05188296362757683, 0.11241308599710464, 0.017294321209192276, 0.1960023045539856, 0.023059094324707985, 0.002882386790588498, 0.002882386790588498, 0.5373527407646179, 0.1791175752878189, 0.21480165421962738, 0.061371900141239166, 0.3682314157485962, 0.09205785393714905, 0.030685950070619583, 0.15342974662780762, 0.030685950070619583, 0.397537499666214, 0.13251249492168427, 0.26502498984336853, 0.18022294342517853, 0.18022294342517853, 0.5406688451766968, 0.26932835578918457, 0.1601411998271942, 0.1383037567138672, 0.16742034256458282, 0.0691518783569336, 0.11282674968242645, 0.04003529995679855, 0.0036395725328475237, 0.007279145065695047, 0.007279145065695047, 0.0036395725328475237, 0.007279145065695047, 0.0036395725328475237, 0.0036395725328475237, 0.007279145065695047, 0.3430304527282715, 0.11434347927570343, 0.1270483136177063, 0.08893381804227829, 0.10163865238428116, 0.14822302758693695, 0.03387954831123352, 0.00846988707780838, 0.00423494353890419, 0.02540966309607029, 0.00423494353890419, 0.00423494353890419, 0.8957507014274597, 0.07464589178562164, 0.15432041883468628, 0.30864083766937256, 0.15432041883468628, 0.30864083766937256, 0.30617383122444153, 0.23937225341796875, 0.12803632020950317, 0.13916991651058197, 0.05845136567950249, 0.03340078145265579, 0.030617382377386093, 0.04175097495317459, 0.005566796753555536, 0.002783398376777768, 0.002783398376777768, 0.002783398376777768, 0.002783398376777768, 0.002783398376777768, 0.2553328275680542, 0.1276664137840271, 0.5106656551361084, 0.5475013852119446, 0.3650009036064148, 0.38137611746788025, 0.38137611746788025, 0.07627522200345993, 0.07627522200345993, 0.002856670180335641, 0.008570009842514992, 0.7998676300048828, 0.04285005107522011, 0.08855677396059036, 0.037136711180210114, 0.005713340360671282, 0.002856670180335641, 0.011426680721342564, 0.36162659525871277, 0.542439877986908, 0.8792039752006531, 0.7340947985649109, 0.18352369964122772, 0.44085052609443665, 0.24491696059703827, 0.09796678274869919, 0.14695017039775848, 0.2747410237789154, 0.15683133900165558, 0.2072005271911621, 0.053803451359272, 0.10188312828540802, 0.09615936130285263, 0.053803451359272, 0.010302788577973843, 0.014881805516779423, 0.00686852540820837, 0.016026560217142105, 0.005723771173506975, 0.001144754234701395, 0.5044065117835999, 0.3783048987388611, 0.06305081397294998, 0.04343217611312866, 0.3213981091976166, 0.20847444236278534, 0.030402522534132004, 0.2519066333770752, 0.04343217611312866, 0.039088957011699677, 0.026059305295348167, 0.004343217704445124, 0.017372870817780495, 0.004343217704445124, 0.004343217704445124, 0.008686435408890247, 0.9728607535362244, 0.09542238712310791, 0.26942792534828186, 0.16839244961738586, 0.07016351819038391, 0.2525886595249176, 0.05613081529736519, 0.053324274718761444, 0.011226163245737553, 0.011226163245737553, 0.002806540811434388, 0.002806540811434388, 0.002806540811434388, 0.002806540811434388, 0.002806540811434388, 0.09295462816953659, 0.7436370253562927, 0.09295462816953659, 0.5640338063240051, 0.013756921514868736, 0.2888953387737274, 0.027513843029737473, 0.04127076640725136, 0.04127076640725136, 0.013756921514868736, 0.37420880794525146, 0.37420880794525146, 0.18710440397262573, 0.31159913539886475, 0.31159913539886475, 0.31159913539886475, 0.16327428817749023, 0.2775662839412689, 0.16327428817749023, 0.05714599788188934, 0.12245570868253708, 0.08163714408874512, 0.08435837924480438, 0.013606189750134945, 0.016327427700161934, 0.002721237950026989, 0.008163713850080967, 0.002721237950026989, 0.002721237950026989, 0.03267313912510872, 0.03267313912510872, 0.6534627676010132, 0.03267313912510872, 0.1633656919002533, 0.03267313912510872, 0.03267313912510872, 0.03267313912510872, 0.2158004641532898, 0.20933936536312103, 0.17832612991333008, 0.09303972125053406, 0.11759186536073685, 0.11113077402114868, 0.02972102165222168, 0.01033774670213461, 0.01033774670213461, 0.006461091805249453, 0.005168873351067305, 0.0038766548968851566, 0.0012922183377668262, 0.0012922183377668262, 0.0038766548968851566, 0.04510869085788727, 0.5864130258560181, 0.2706521451473236, 0.04510869085788727, 0.08129400759935379, 0.32517603039741516, 0.08129400759935379, 0.12194100767374039, 0.12194100767374039, 0.040647003799676895, 0.12194100767374039, 0.040647003799676895, 0.040647003799676895, 0.02025943621993065, 0.5591604113578796, 0.1337122768163681, 0.05267453193664551, 0.07698585838079453, 0.01620754785835743, 0.07698585838079453, 0.008103773929178715, 0.0405188724398613, 0.01215566135942936, 0.004051886964589357, 0.004051886964589357, 0.004051886964589357, 0.017727205529808998, 0.49636173248291016, 0.14181764423847198, 0.17727205157279968, 0.07090882211923599, 0.017727205529808998, 0.017727205529808998, 0.035454411059617996, 0.8534024357795715, 0.8997056484222412, 0.270816445350647, 0.2014337182044983, 0.1298128366470337, 0.11190762370824814, 0.12533654272556305, 0.07609718292951584, 0.04252489656209946, 0.024619676172733307, 0.0022381525486707687, 0.008952610194683075, 0.0044763050973415375, 0.0022381525486707687, 0.08662901073694229, 0.8662900924682617, 0.44843876361846924, 0.14947958290576935, 0.2989591658115387, 0.5005608797073364, 0.1668536216020584, 0.1668536216020584, 0.0834268108010292, 0.2812283933162689, 0.2812283933162689, 0.2812283933162689, 0.31473538279533386, 0.15736769139766693, 0.4721030592918396, 0.15736769139766693, 0.2520048916339874, 0.21063095331192017, 0.17301827669143677, 0.13540561497211456, 0.06394153833389282, 0.07898660749197006, 0.03385140374302864, 0.011283800937235355, 0.007522534113377333, 0.015045068226754665, 0.0037612670566886663, 0.0037612670566886663, 0.0037612670566886663, 0.1532500684261322, 0.4597501754760742, 0.3065001368522644, 0.36848902702331543, 0.18424451351165771, 0.36848902702331543, 0.24872349202632904, 0.2625414729118347, 0.12436174601316452, 0.19345159828662872, 0.04145391657948494, 0.04145391657948494, 0.01381797157227993, 0.05527188628911972, 0.01381797157227993, 0.4802754521369934, 0.18010328710079193, 0.060034431517124176, 0.18010328710079193, 0.060034431517124176, 0.060034431517124176, 0.36978790163993835, 0.14856581389904022, 0.1561567634344101, 0.12796178460121155, 0.0628964751958847, 0.06506531685590744, 0.04554572328925133, 0.010844219475984573, 0.004337687976658344, 0.002168843988329172, 0.003253265982493758, 0.002168843988329172, 0.31153932213783264, 0.15576966106891632, 0.31153932213783264, 0.15576966106891632, 0.16018830239772797, 0.16018830239772797, 0.08009415119886398, 0.32037660479545593, 0.08009415119886398, 0.04004707559943199, 0.04004707559943199, 0.04004707559943199, 0.04004707559943199, 0.2674159109592438, 0.2674159109592438, 0.029712878167629242, 0.11885151267051697, 0.059425756335258484, 0.1485643833875656, 0.08913863450288773, 0.18151214718818665, 0.3630242943763733, 0.3630242943763733, 0.12250987440347672, 0.28585636615753174, 0.16334649920463562, 0.040836624801158905, 0.16334649920463562, 0.12250987440347672, 0.12250987440347672, 0.12754306197166443, 0.06377153098583221, 0.7014868259429932, 0.06377153098583221, 0.3116067945957184, 0.4674101769924164, 0.7736651301383972, 0.08289269357919693, 0.05526179447770119, 0.027630897238850594, 0.05526179447770119, 0.32884541153907776, 0.16442270576953888, 0.16442270576953888, 0.24663406610488892, 0.23436959087848663, 0.006793321575969458, 0.4347725808620453, 0.04585491865873337, 0.011888312175869942, 0.1528497338294983, 0.032268278300762177, 0.06793321669101715, 0.0016983303939923644, 0.0016983303939923644, 0.006793321575969458, 0.15546511113643646, 0.6218604445457458, 0.565422773361206, 0.017291216179728508, 0.02939506806433201, 0.015562094748020172, 0.003458243329077959, 0.36138641834259033, 0.003458243329077959, 0.0017291216645389795, 0.7391148209571838, 0.03861047700047493, 0.0717051699757576, 0.016547346487641335, 0.0055157821625471115, 0.0992840826511383, 0.016547346487641335, 0.0055157821625471115, 0.0055157821625471115, 0.0055157821625471115, 0.0055157821625471115, 0.2288830429315567, 0.2288830429315567, 0.010403774678707123, 0.3745358884334564, 0.020807549357414246, 0.07282642275094986, 0.04161509871482849, 0.010403774678707123, 0.7456232309341431, 0.10651760548353195, 0.10651760548353195, 0.16923372447490692, 0.33846744894981384, 0.16923372447490692, 0.16923372447490692, 0.0867515578866005, 0.8675156235694885, 0.04923707991838455, 0.7549685835838318, 0.05744326114654541, 0.10668034106492996, 0.008206180296838284, 0.008206180296838284, 0.27538129687309265, 0.258169949054718, 0.05163399130105972, 0.3786492645740509, 0.03442266210913658, 0.1874028444290161, 0.12493523210287094, 0.12493523210287094, 0.24987046420574188, 0.06246761605143547, 0.06246761605143547, 0.1874028444290161, 0.643717885017395, 0.16092947125434875, 0.4119083881378174, 0.11303026974201202, 0.09564100205898285, 0.14454832673072815, 0.057601965963840485, 0.12933272123336792, 0.02282342128455639, 0.003260488621890545, 0.005434147547930479, 0.003260488621890545, 0.004347318317741156, 0.002173659158870578, 0.001086829579435289, 0.004347318317741156, 0.8732402920722961, 0.03796697035431862, 0.03796697035431862, 0.03796697035431862, 0.031814876943826675, 0.3976859748363495, 0.1431669443845749, 0.02386115863919258, 0.16702811419963837, 0.15112067759037018, 0.02386115863919258, 0.02386115863919258, 0.007953719235956669, 0.007953719235956669, 0.007953719235956669, 0.015907438471913338, 0.07606128603219986, 0.32326045632362366, 0.06972284615039825, 0.057045962661504745, 0.32326045632362366, 0.02535376138985157, 0.044369082897901535, 0.03803064301609993, 0.012676880694925785, 0.012676880694925785, 0.0063384403474628925, 0.0063384403474628925, 0.27774980664253235, 0.2217518538236618, 0.11423580348491669, 0.15007448196411133, 0.04703827202320099, 0.09183662384748459, 0.05151810497045517, 0.02911892905831337, 0.0044798352755606174, 0.0044798352755606174, 0.0022399176377803087, 0.0044798352755606174, 0.0022399176377803087, 0.24070240557193756, 0.14442144334316254, 0.14442144334316254, 0.14442144334316254, 0.24070240557193756, 0.04814048111438751, 0.8774858117103577, 0.6902784705162048, 0.15339520573616028, 0.07669760286808014, 0.07669760286808014, 0.061409831047058105, 0.5731584429740906, 0.14328961074352264, 0.005117486231029034, 0.16375955939292908, 0.025587430223822594, 0.005117486231029034, 0.005117486231029034, 0.005117486231029034, 0.015352457761764526, 0.10314194858074188, 0.14439871907234192, 0.1237703338265419, 0.2681690454483032, 0.041256777942180634, 0.2475406676530838, 0.020628388971090317, 0.020628388971090317, 0.28531691431999207, 0.07132922857999802, 0.03566461428999901, 0.6062984466552734, 0.15914355218410492, 0.15914355218410492, 0.47743064165115356, 0.15914355218410492, 0.15914355218410492, 0.025460775941610336, 0.9420487284660339, 0.03204764798283577, 0.9614294767379761, 0.45816123485565186, 0.07636021077632904, 0.30544084310531616, 0.15272042155265808, 0.06765947490930557, 0.27678877115249634, 0.2583361864089966, 0.03690516948699951, 0.23988358676433563, 0.015377153642475605, 0.0830366238951683, 0.012301722541451454, 0.0030754306353628635, 0.0030754306353628635, 0.0030754306353628635, 0.18614940345287323, 0.46537351608276367, 0.09307470172643661, 0.09307470172643661, 0.09307470172643661, 0.09146320074796677, 0.18292640149593353, 0.25450628995895386, 0.04771992936730385, 0.246552973985672, 0.059649914503097534, 0.055673252791166306, 0.023859964683651924, 0.011929982341825962, 0.007953321561217308, 0.011929982341825962, 0.003976660780608654, 0.14112429320812225, 0.32375574111938477, 0.15772715210914612, 0.06641142815351486, 0.16602857410907745, 0.024904286488890648, 0.04150714352726936, 0.016602857038378716, 0.008301428519189358, 0.008301428519189358, 0.008301428519189358, 0.008301428519189358, 0.016602857038378716, 0.008301428519189358, 0.411893367767334, 0.13729777932167053, 0.13729777932167053, 0.27459555864334106, 0.2104520946741104, 0.3012353479862213, 0.1320483684539795, 0.08665674179792404, 0.09903628379106522, 0.07840371876955032, 0.03713860362768173, 0.020632557570934296, 0.008253023028373718, 0.008253023028373718, 0.008253023028373718, 0.008253023028373718, 0.004126511514186859, 0.1312272697687149, 0.721750020980835, 0.06561363488435745, 0.06561363488435745, 0.06342770904302597, 0.8879879713058472, 0.35931673645973206, 0.5389751195907593, 0.7348997592926025, 0.18372493982315063, 0.3127673268318176, 0.11373357474803925, 0.047388989478349686, 0.4265008866786957, 0.02843339368700981, 0.047388989478349686, 0.02843339368700981, 0.4131225049495697, 0.1004454717040062, 0.09396512061357498, 0.19441059231758118, 0.029161589220166206, 0.12312670797109604, 0.01620088331401348, 0.009720529429614544, 0.004860264714807272, 0.00810044165700674, 0.0016200883546844125, 0.0016200883546844125, 0.0016200883546844125, 0.377634733915329, 0.377634733915329, 0.07552694529294968, 0.15105389058589935, 0.10048577189445496, 0.8541290760040283, 0.02512144297361374, 0.14483578503131866, 0.8110803961753845, 0.9055759906768799, 0.9369857907295227, 0.775639533996582, 0.15512791275978088, 0.9274771809577942, 0.03567219898104668, 0.5472952723503113, 0.09121587127447128, 0.09121587127447128, 0.18243174254894257, 0.5444530248641968, 0.1361132562160492, 0.2722265124320984, 0.17725229263305664, 0.17725229263305664, 0.11816819757223129, 0.3545045852661133, 0.11816819757223129, 0.8175570368766785, 0.11679386347532272, 0.9032257795333862, 0.0821114331483841, 0.26000818610191345, 0.19500614702701569, 0.18757733702659607, 0.08357406407594681, 0.05571604147553444, 0.11700368672609329, 0.06314484775066376, 0.014857610687613487, 0.001857201335951686, 0.011143208481371403, 0.003714402671903372, 0.003714402671903372, 0.003714402671903372, 0.013513374142348766, 0.027026748284697533, 0.040540121495723724, 0.7702623009681702, 0.013513374142348766, 0.027026748284697533, 0.013513374142348766, 0.054053496569395065, 0.013513374142348766, 0.013513374142348766, 0.013513374142348766, 0.11011823266744614, 0.3303546905517578, 0.3303546905517578, 0.1651773452758789, 0.3126773238182068, 0.3126773238182068, 0.1563386619091034, 0.281274676322937, 0.06195477768778801, 0.08921487629413605, 0.37048956751823425, 0.013630051165819168, 0.14993055164813995, 0.017347337678074837, 0.004956381861120462, 0.002478190930560231, 0.002478190930560231, 0.0037172865122556686, 0.0012390954652801156, 0.34875524044036865, 0.1248817890882492, 0.14924895763397217, 0.19265300035476685, 0.029697498306632042, 0.08756954222917557, 0.039596665650606155, 0.010660639964044094, 0.0030458972323685884, 0.006091794464737177, 0.0022844229824841022, 0.0022844229824841022, 0.0007614743080921471, 0.0007614743080921471, 0.3796769976615906, 0.3796769976615906, 0.1898384988307953, 0.16830287873744965, 0.08415143936872482, 0.25245431065559387, 0.08415143936872482, 0.021037859842181206, 0.25245431065559387, 0.021037859842181206, 0.04207571968436241, 0.06311357766389847, 0.021037859842181206, 0.802489161491394, 0.05210968479514122, 0.08337549865245819, 0.020843874663114548, 0.020843874663114548, 0.010421937331557274, 0.2047753632068634, 0.24590545892715454, 0.16277016699314117, 0.14089244604110718, 0.10588811337947845, 0.05775715410709381, 0.03237901255488396, 0.01750216819345951, 0.009626192040741444, 0.007875975221395493, 0.008751084096729755, 0.001750216819345951, 0.001750216819345951, 0.0008751084096729755, 0.0008751084096729755, 0.27880722284317017, 0.09293574094772339, 0.18587148189544678, 0.09293574094772339, 0.09293574094772339, 0.18587148189544678, 0.38669565320014954, 0.19334782660007477, 0.19334782660007477, 0.33189311623573303, 0.1370023936033249, 0.1620873361825943, 0.11770627647638321, 0.07525483518838882, 0.09455094486474991, 0.052099499851465225, 0.0019296110840514302, 0.007718444336205721, 0.007718444336205721, 0.0038592221681028605, 0.0038592221681028605, 0.0019296110840514302, 0.0038592221681028605, 0.30981478095054626, 0.18573662638664246, 0.11646600067615509, 0.12636180222034454, 0.08297251164913177, 0.1233169436454773, 0.02740376442670822, 0.008373372256755829, 0.003806078340858221, 0.003806078340858221, 0.004567293915897608, 0.002283646957948804, 0.002283646957948804, 0.0007612156914547086, 0.0007612156914547086, 0.05556749552488327, 0.05556749552488327, 0.8335124254226685, 0.17383147776126862, 0.29510924220085144, 0.18191666901111603, 0.052553702145814896, 0.11925648152828217, 0.07680925726890564, 0.058617591857910156, 0.00808518473058939, 0.010106481611728668, 0.012127777561545372, 0.0020212961826473475, 0.004042592365294695, 0.0020212961826473475, 0.0020212961826473475, 0.4366926848888397, 0.19408564269542694, 0.24260704219341278, 0.048521410673856735, 0.048521410673856735, 0.4411182701587677, 0.08483043313026428, 0.08907195925712585, 0.008483043871819973, 0.06362282484769821, 0.2969065308570862, 0.0042415219359099865, 0.008483043871819973, 0.0042415219359099865, 0.15548786520957947, 0.31097573041915894, 0.15548786520957947, 0.31097573041915894, 0.24510936439037323, 0.49021872878074646, 0.12255468219518661, 0.852501630783081, 0.3369238078594208, 0.11230794340372086, 0.11230794340372086, 0.3369238078594208, 0.11230794340372086, 0.8520748019218445, 0.045087967067956924, 0.2975805699825287, 0.11722871661186218, 0.01803518645465374, 0.3607037365436554, 0.027052780613303185, 0.0811583399772644, 0.027052780613303185, 0.00901759322732687, 0.00901759322732687, 0.24520064890384674, 0.29808706045150757, 0.08654140681028366, 0.13461996614933014, 0.06250213086605072, 0.07692569494247437, 0.04327070340514183, 0.014423567801713943, 0.033654991537332535, 0.004807855933904648, 0.004807855933904648, 0.10992230474948883, 0.7144949436187744, 0.10992230474948883, 0.054961152374744415, 0.18792316317558289, 0.5637694597244263, 0.18792316317558289, 0.9536938667297363, 0.5862160921096802, 0.19540537893772125, 0.19540537893772125, 0.1854759305715561, 0.3709518611431122, 0.1854759305715561, 0.09273796528577805, 0.09273796528577805, 0.7480389475822449, 0.013357838615775108, 0.1602940559387207, 0.013357838615775108, 0.013357838615775108, 0.026715677231550217, 0.006678919307887554, 0.013357838615775108, 0.364542692899704, 0.182271346449852, 0.364542692899704, 0.49987828731536865, 0.16662609577178955, 0.16662609577178955, 0.9224259257316589, 0.05124588683247566, 0.8517889380455017, 0.19157789647579193, 0.38315579295158386, 0.19157789647579193, 0.19157789647579193, 0.8029961585998535, 0.8147255778312683, 0.09585007280111313, 0.047925036400556564, 0.6198117136955261, 0.15495292842388153, 0.15495292842388153, 0.8807798624038696, 0.34824687242507935, 0.17412343621253967, 0.17412343621253967, 0.17412343621253967, 0.02051239088177681, 0.225636288523674, 0.5948593020439148, 0.06153717264533043, 0.08204956352710724, 0.7729443907737732, 0.15458887815475464, 0.15552350878715515, 0.15552350878715515, 0.6220940351486206, 0.15552350878715515, 0.15092651546001434, 0.15092651546001434, 0.45277953147888184, 0.3018530309200287, 0.940864086151123, 0.18928192555904388, 0.37856385111808777, 0.18928192555904388, 0.18928192555904388, 0.920425295829773, 0.04183751344680786, 0.9090308547019958, 0.8538035750389099, 0.10102381557226181, 0.31822502613067627, 0.17679168283939362, 0.09597262740135193, 0.10102381557226181, 0.11112619936466217, 0.040409527719020844, 0.027781549841165543, 0.010102381929755211, 0.0025255954824388027, 0.0025255954824388027, 0.0050511909648776054, 0.0050511909648776054, 0.0025255954824388027, 0.0770663395524025, 0.42386487126350403, 0.03853316977620125, 0.34679850935935974, 0.03853316977620125, 0.03853316977620125, 0.8924741148948669, 0.05838615819811821, 0.01668175868690014, 0.00834087934345007, 0.025022638961672783, 0.07607974112033844, 0.6847176551818848, 0.15215948224067688, 0.16940908133983612, 0.11728321015834808, 0.01303146779537201, 0.5864160656929016, 0.05212587118148804, 0.03909440338611603, 0.01303146779537201, 0.01303146779537201, 0.3634292185306549, 0.1478356122970581, 0.1478356122970581, 0.15707533061504364, 0.040038809180259705, 0.05235844478011131, 0.049278534948825836, 0.018479451537132263, 0.018479451537132263, 0.0030799084343016148, 0.2410656213760376, 0.7231968641281128, 0.07182548195123672, 0.18854188919067383, 0.2244546264410019, 0.026934554800391197, 0.25138917565345764, 0.03591274097561836, 0.08978185057640076, 0.09876003116369247, 0.00897818524390459, 0.28833144903182983, 0.18057121336460114, 0.14562195539474487, 0.15435926616191864, 0.08737316727638245, 0.05533634126186371, 0.04368658363819122, 0.00873731728643179, 0.00873731728643179, 0.007281097583472729, 0.013105975463986397, 0.001456219470128417, 0.002912438940256834, 0.001456219470128417, 0.001456219470128417, 0.19929452240467072, 0.2420004904270172, 0.19116005301475525, 0.05694129317998886, 0.13218514621257782, 0.07931108772754669, 0.05897491052746773, 0.008134470321238041, 0.010168087668716908, 0.006100852973759174, 0.006100852973759174, 0.006100852973759174, 0.0040672351606190205, 0.0020336175803095102, 0.3763599693775177, 0.6057391166687012, 0.002226982032880187, 0.011134910397231579, 0.0975106954574585, 0.4875534772872925, 0.195021390914917, 0.195021390914917, 0.11864630877971649, 0.23729261755943298, 0.47458523511886597, 0.5972154140472412, 0.19907180964946747, 0.09953590482473373, 0.01693323813378811, 0.34289807081222534, 0.22013209760189056, 0.029633166268467903, 0.27093181014060974, 0.01693323813378811, 0.0719662606716156, 0.01693323813378811, 0.004233309533447027, 0.008466619066894054, 0.004233309533447027, 0.16262659430503845, 0.16262659430503845, 0.2845965325832367, 0.20328323543071747, 0.08131329715251923, 0.04065664857625961, 0.04065664857625961, 0.9904599785804749, 0.4185353219509125, 0.15875478088855743, 0.16597090661525726, 0.10463383048772812, 0.010824189521372318, 0.08659351617097855, 0.018040316179394722, 0.010824189521372318, 0.010824189521372318, 0.007216126192361116, 0.10823632031679153, 0.2414502501487732, 0.2664278745651245, 0.008325871080160141, 0.24977612495422363, 0.024977611377835274, 0.041629351675510406, 0.024977611377835274, 0.008325871080160141, 0.008325871080160141, 0.016651742160320282, 0.008325871080160141, 0.022794118151068687, 0.9664706587791443, 0.04123934358358383, 0.11340819299221039, 0.29898521304130554, 0.030929505825042725, 0.4123934209346771, 0.030929505825042725, 0.010309835895895958, 0.030929505825042725, 0.020619671791791916, 0.010309835895895958, 0.010309835895895958, 0.9361135363578796, 0.15518969297409058, 0.15518969297409058, 0.15518969297409058, 0.31037938594818115, 0.401211678981781, 0.15816998481750488, 0.12152084708213806, 0.14273877441883087, 0.03664914518594742, 0.06365377455949783, 0.04243585094809532, 0.015431218780577183, 0.005786707159131765, 0.0038578046951442957, 0.0019289023475721478, 0.0019289023475721478, 0.0019289023475721478, 0.0019289023475721478, 0.0019289023475721478, 0.3164278268814087, 0.47464174032211304, 0.16389288008213043, 0.32778576016426086, 0.32778576016426086, 0.16389288008213043, 0.2472672164440155, 0.15925684571266174, 0.15297038853168488, 0.2200259119272232, 0.06705551594495773, 0.09010584652423859, 0.02933678776025772, 0.01466839388012886, 0.004190969746559858, 0.004190969746559858, 0.002095484873279929, 0.008381939493119717, 0.28024932742118835, 0.4203740060329437, 0.28024932742118835, 0.30043599009513855, 0.11145206540822983, 0.12598928809165955, 0.1792924553155899, 0.0872233584523201, 0.10660632699728012, 0.048457421362400055, 0.009691484272480011, 0.0048457421362400055, 0.019382968544960022, 0.0048457421362400055, 0.02683318965137005, 0.24149870872497559, 0.2683318853378296, 0.013416594825685024, 0.308581680059433, 0.02683318965137005, 0.080499567091465, 0.013416594825685024, 0.02683318965137005, 0.1455051153898239, 0.8366544246673584, 0.006062712986022234, 0.009094069711863995, 0.24940243363380432, 0.23932556807994843, 0.14359533786773682, 0.17886437475681305, 0.0579419769346714, 0.0680188462138176, 0.010076865553855896, 0.015115298330783844, 0.010076865553855896, 0.007557649165391922, 0.01259608194231987, 0.002519216388463974, 0.002519216388463974, 0.002519216388463974, 0.002519216388463974, 0.1663081794977188, 0.3326163589954376, 0.17506124079227448, 0.10795442759990692, 0.0904483050107956, 0.05251837149262428, 0.035012248903512955, 0.014588436111807823, 0.008753062225878239, 0.011670748703181744, 0.002917687175795436, 0.002917687175795436, 0.005835374351590872, 0.12948662042617798, 0.4865557551383972, 0.10201975703239441, 0.06278138607740402, 0.10986743122339249, 0.03139069303870201, 0.023543020710349083, 0.003923836629837751, 0.003923836629837751, 0.015695346519351006, 0.011771510355174541, 0.015695346519351006, 0.003923836629837751, 0.09105568379163742, 0.5008062720298767, 0.09105568379163742, 0.13658352196216583, 0.13658352196216583, 0.04552784189581871, 0.3429328203201294, 0.1605217456817627, 0.11431094259023666, 0.09971805661916733, 0.0753965750336647, 0.15322530269622803, 0.01945718191564083, 0.009728590957820415, 0.002432147739455104, 0.007296442985534668, 0.004864295478910208, 0.002432147739455104, 0.004864295478910208, 0.002432147739455104, 0.002432147739455104, 0.31275704503059387, 0.10850755125284195, 0.2936086654663086, 0.08616776019334793, 0.06701936572790146, 0.05744517222046852, 0.031913984566926956, 0.015956992283463478, 0.019148390740156174, 0.0031913984566926956, 0.006382796913385391, 0.2709665596485138, 0.16830220818519592, 0.24403820931911469, 0.1228606179356575, 0.028611376881599426, 0.05890577286481857, 0.06732088327407837, 0.01178115513175726, 0.008415110409259796, 0.010098133236169815, 0.0050490666180849075, 0.001683022128418088, 0.003366044256836176, 0.38122934103012085, 0.125067338347435, 0.13109467923641205, 0.17931340634822845, 0.042191389948129654, 0.0889032855629921, 0.013561517931520939, 0.012054682709276676, 0.012054682709276676, 0.004520506132394075, 0.003013670677319169, 0.006027341354638338, 0.0015068353386595845, 0.9478944540023804, 0.930125892162323], \"Term\": [\"abbey\", \"abbey\", \"abbot\", \"abbot\", \"abide\", \"abide\", \"abide\", \"abide\", \"abundance\", \"abundance\", \"abundance\", \"abundance\", \"abundance\", \"abundance\", \"accursed\", \"accursed\", \"accursed\", \"accursed\", \"achieve\", \"aching\", \"aching\", \"aching\", \"aching\", \"act\", \"act\", \"act\", \"act\", \"act\", \"act\", \"act\", \"act\", \"act\", \"act\", \"added\", \"added\", \"added\", \"added\", \"added\", \"added\", \"added\", \"added\", \"added\", \"added\", \"added\", \"added\", \"added\", \"adele\", \"adele\", \"adele\", \"adele\", \"adele\", \"adele\", \"adieus\", \"adieus\", \"admirably\", \"admirably\", \"admirably\", \"admirably\", \"age\", \"age\", \"age\", \"age\", \"age\", \"age\", \"age\", \"age\", \"age\", \"age\", \"age\", \"air\", \"air\", \"air\", \"air\", \"air\", \"air\", \"air\", \"air\", \"air\", \"air\", \"air\", \"air\", \"air\", \"alfred\", \"alfred\", \"allenham\", \"amazing\", \"amazing\", \"ambitious\", \"amy\", \"amy\", \"antagonist\", \"antagonist\", \"antagonist\", \"antagonist\", \"apothecary\", \"apothecary\", \"apothecary\", \"apple\", \"apple\", \"apple\", \"apple\", \"apple\", \"apple\", \"apple\", \"apples\", \"apples\", \"apples\", \"apples\", \"apples\", \"apples\", \"apples\", \"apples\", \"april\", \"april\", \"april\", \"april\", \"april\", \"arguments\", \"arm\", \"arm\", \"arm\", \"arm\", \"arm\", \"arm\", \"arm\", \"arm\", \"arm\", \"arm\", \"arm\", \"asked\", \"asked\", \"asked\", \"asked\", \"asked\", \"asked\", \"asked\", \"asked\", \"asked\", \"asked\", \"asked\", \"asked\", \"asked\", \"asked\", \"aspect\", \"aspect\", \"aspect\", \"aspect\", \"aspect\", \"aspect\", \"aspect\", \"aspect\", \"aspect\", \"aspect\", \"assigned\", \"assigned\", \"assigned\", \"assigned\", \"assigned\", \"auburn\", \"auburn\", \"augusta\", \"augusta\", \"augusta\", \"aunt\", \"aunt\", \"aunt\", \"aunt\", \"aunt\", \"aunt\", \"aunt\", \"aunt\", \"aunt\", \"avert\", \"avert\", \"avert\", \"away\", \"away\", \"away\", \"away\", \"away\", \"away\", \"away\", \"away\", \"away\", \"away\", \"away\", \"away\", \"away\", \"away\", \"away\", \"baked\", \"baked\", \"baked\", \"baked\", \"baked\", \"baked\", \"baked\", \"baked\", \"ball\", \"ball\", \"ball\", \"ball\", \"ball\", \"ball\", \"ball\", \"ball\", \"bandaged\", \"bandaged\", \"bandaged\", \"bandaged\", \"bartlett\", \"barton\", \"barton\", \"bassompierre\", \"bassompierre\", \"bassompierre\", \"bassompierre\", \"bassompierre\", \"bates\", \"bates\", \"bates\", \"bates\", \"beck\", \"beck\", \"beck\", \"beck\", \"beck\", \"beck\", \"beck\", \"beck\", \"beck\", \"bed\", \"bed\", \"bed\", \"bed\", \"bed\", \"bed\", \"bed\", \"bed\", \"bed\", \"bed\", \"bed\", \"bed\", \"bedtime\", \"bedtime\", \"bedtime\", \"bedtime\", \"beech\", \"beech\", \"beech\", \"beech\", \"benefactress\", \"benefactress\", \"benefactress\", \"benefactress\", \"bennet\", \"berkeley\", \"bessie\", \"bessie\", \"bessie\", \"bessie\", \"better\", \"better\", \"better\", \"better\", \"better\", \"better\", \"better\", \"better\", \"better\", \"better\", \"better\", \"better\", \"better\", \"better\", \"bien\", \"bien\", \"bien\", \"bien\", \"bingley\", \"black\", \"black\", \"black\", \"black\", \"black\", \"black\", \"black\", \"black\", \"black\", \"black\", \"blew\", \"blew\", \"blond\", \"blood\", \"blood\", \"blood\", \"blood\", \"blood\", \"blood\", \"blood\", \"blood\", \"bloody\", \"bloody\", \"bloody\", \"blot\", \"blot\", \"blot\", \"boarder\", \"boards\", \"boards\", \"boards\", \"boards\", \"body\", \"body\", \"body\", \"body\", \"body\", \"body\", \"body\", \"body\", \"body\", \"body\", \"bon\", \"bon\", \"bondage\", \"bondage\", \"bonnets\", \"bonnets\", \"bonnets\", \"book\", \"book\", \"book\", \"book\", \"book\", \"book\", \"book\", \"book\", \"book\", \"book\", \"book\", \"book\", \"boulevard\", \"boulevard\", \"bouquet\", \"bourgh\", \"boy\", \"boy\", \"boy\", \"boy\", \"boy\", \"boy\", \"boy\", \"boy\", \"boy\", \"bragge\", \"brandon\", \"brandon\", \"bread\", \"bread\", \"bread\", \"bread\", \"bread\", \"bread\", \"bread\", \"bread\", \"bread\", \"breadth\", \"breadth\", \"breadth\", \"breadth\", \"breadth\", \"bretton\", \"bretton\", \"bretton\", \"bretton\", \"bretton\", \"bretton\", \"briggs\", \"brightly\", \"brightly\", \"brighton\", \"brittle\", \"brittle\", \"brittle\", \"brocklehurst\", \"brocklehurst\", \"brocklehurst\", \"brocklehurst\", \"brocklehurst\", \"brocklehurst\", \"brocklehurst\", \"brother\", \"brother\", \"brother\", \"brother\", \"brother\", \"brother\", \"brother\", \"brother\", \"brother\", \"burns\", \"burns\", \"burns\", \"burns\", \"ca\", \"ca\", \"came\", \"came\", \"came\", \"came\", \"came\", \"came\", \"came\", \"came\", \"came\", \"came\", \"came\", \"came\", \"came\", \"campbell\", \"campbell\", \"campbells\", \"campbells\", \"captive\", \"captive\", \"captive\", \"captive\", \"carlo\", \"carlo\", \"catherine\", \"causeway\", \"causeway\", \"ce\", \"ce\", \"ce\", \"ce\", \"celine\", \"celine\", \"cette\", \"chafed\", \"chapters\", \"chapters\", \"chapters\", \"chapters\", \"charade\", \"charade\", \"charlotte\", \"charlotte\", \"charlotte\", \"charm\", \"charm\", \"charm\", \"charm\", \"charm\", \"charm\", \"charm\", \"charm\", \"charm\", \"charm\", \"chastisement\", \"chastisement\", \"chastisement\", \"chastisement\", \"chastisement\", \"chatter\", \"chatter\", \"chatter\", \"chatter\", \"child\", \"child\", \"child\", \"child\", \"child\", \"child\", \"child\", \"child\", \"child\", \"child\", \"child\", \"chilled\", \"chilled\", \"chilled\", \"chilled\", \"chimneys\", \"chimneys\", \"chimneys\", \"chimneys\", \"chink\", \"chink\", \"chink\", \"chink\", \"chink\", \"church\", \"church\", \"church\", \"church\", \"church\", \"church\", \"church\", \"church\", \"churchill\", \"churchill\", \"churchill\", \"churchills\", \"ciel\", \"ciel\", \"ciel\", \"ciel\", \"city\", \"city\", \"city\", \"city\", \"city\", \"clay\", \"clay\", \"clay\", \"cleveland\", \"clock\", \"clock\", \"clock\", \"clock\", \"clock\", \"clock\", \"clock\", \"clock\", \"clock\", \"clock\", \"clock\", \"coarseness\", \"coarseness\", \"coarseness\", \"coarseness\", \"coarseness\", \"coast\", \"coast\", \"coast\", \"coast\", \"cold\", \"cold\", \"cold\", \"cold\", \"cold\", \"cold\", \"cold\", \"cold\", \"cold\", \"cold\", \"cold\", \"cold\", \"cold\", \"cold\", \"cole\", \"cole\", \"collins\", \"colonel\", \"colonel\", \"colonel\", \"colonel\", \"colonel\", \"colonel\", \"colonel\", \"combe\", \"combe\", \"come\", \"come\", \"come\", \"come\", \"come\", \"come\", \"come\", \"come\", \"come\", \"come\", \"come\", \"come\", \"come\", \"come\", \"come\", \"coming\", \"coming\", \"coming\", \"coming\", \"coming\", \"coming\", \"coming\", \"coming\", \"coming\", \"coming\", \"coming\", \"coming\", \"coming\", \"coming\", \"commented\", \"commented\", \"commonest\", \"commonest\", \"commonest\", \"complain\", \"complain\", \"complain\", \"complain\", \"complain\", \"complain\", \"comply\", \"comply\", \"comply\", \"conducting\", \"conducting\", \"conducting\", \"conducting\", \"conduit\", \"conformity\", \"conformity\", \"conformity\", \"conformity\", \"connexion\", \"connexion\", \"consecration\", \"consecration\", \"consecration\", \"consider\", \"consider\", \"consider\", \"consider\", \"consider\", \"consider\", \"consider\", \"consider\", \"consider\", \"consistency\", \"consistency\", \"consistency\", \"consistency\", \"containing\", \"containing\", \"containing\", \"containing\", \"containing\", \"containing\", \"containing\", \"containing\", \"contemplated\", \"contemplated\", \"contemplated\", \"cottage\", \"cottage\", \"cottage\", \"cottage\", \"cottage\", \"cottage\", \"cottage\", \"couldn\", \"couldn\", \"couple\", \"couple\", \"couple\", \"couple\", \"couple\", \"couple\", \"creed\", \"creed\", \"creed\", \"creed\", \"crib\", \"crib\", \"crib\", \"crib\", \"cries\", \"cries\", \"cries\", \"criminal\", \"criminal\", \"criminal\", \"crimsoned\", \"crimsoned\", \"crimsoned\", \"crimsoned\", \"crimsworth\", \"crimsworth\", \"crimsworth\", \"crimsworth\", \"crimsworth\", \"crimsworth\", \"crowd\", \"crowd\", \"crowd\", \"crowd\", \"crowd\", \"crowd\", \"crowd\", \"crown\", \"crown\", \"crown\", \"crown\", \"crown\", \"crown\", \"crown\", \"cruel\", \"cruel\", \"cruel\", \"cruel\", \"cruel\", \"cruel\", \"cruel\", \"cruel\", \"cruel\", \"cruel\", \"crushing\", \"crushing\", \"crushing\", \"crushing\", \"cultivate\", \"cultivate\", \"cultivate\", \"cultivate\", \"cultivated\", \"cultivated\", \"cursed\", \"cursed\", \"cursed\", \"cursed\", \"cursed\", \"curtain\", \"curtain\", \"curtain\", \"curtain\", \"curtain\", \"curtain\", \"dance\", \"dance\", \"dance\", \"dance\", \"dance\", \"dance\", \"dance\", \"dancer\", \"dancer\", \"dances\", \"dances\", \"dances\", \"dancing\", \"dancing\", \"dancing\", \"dancing\", \"dancing\", \"dancing\", \"darcy\", \"dark\", \"dark\", \"dark\", \"dark\", \"dark\", \"dark\", \"dark\", \"dark\", \"dark\", \"dark\", \"dark\", \"dark\", \"dark\", \"dark\", \"dart\", \"dart\", \"dashwood\", \"dashwood\", \"dashwood\", \"dashwoods\", \"dashwoods\", \"day\", \"day\", \"day\", \"day\", \"day\", \"day\", \"day\", \"day\", \"day\", \"day\", \"day\", \"day\", \"day\", \"day\", \"dear\", \"dear\", \"dear\", \"dear\", \"dear\", \"dear\", \"dear\", \"dear\", \"dear\", \"dear\", \"dear\", \"dear\", \"death\", \"death\", \"death\", \"death\", \"death\", \"death\", \"death\", \"death\", \"death\", \"death\", \"death\", \"death\", \"deep\", \"deep\", \"deep\", \"deep\", \"deep\", \"deep\", \"deep\", \"deep\", \"deep\", \"deep\", \"deep\", \"definite\", \"dejected\", \"dejected\", \"dejected\", \"dejected\", \"delaford\", \"delusion\", \"delusion\", \"delusion\", \"dent\", \"dent\", \"derbyshire\", \"descended\", \"descended\", \"descended\", \"descended\", \"descended\", \"desiree\", \"desiree\", \"desiree\", \"desk\", \"desk\", \"desk\", \"desk\", \"desk\", \"desk\", \"develop\", \"develop\", \"develop\", \"develop\", \"devonshire\", \"diana\", \"diana\", \"diana\", \"diana\", \"diana\", \"diana\", \"dilated\", \"dilated\", \"dilated\", \"dilated\", \"dim\", \"dim\", \"dim\", \"dim\", \"dim\", \"director\", \"director\", \"director\", \"director\", \"directress\", \"directress\", \"disk\", \"dislikes\", \"dislikes\", \"dislikes\", \"dislikes\", \"disparity\", \"disparity\", \"disparity\", \"divert\", \"divert\", \"divert\", \"dixon\", \"dixon\", \"doctor\", \"doctor\", \"doctor\", \"doctor\", \"doctor\", \"doctor\", \"doctor\", \"doll\", \"doll\", \"doll\", \"doll\", \"domestic\", \"domestic\", \"domestic\", \"domestic\", \"domestic\", \"donwell\", \"donwell\", \"door\", \"door\", \"door\", \"door\", \"door\", \"door\", \"door\", \"door\", \"door\", \"door\", \"door\", \"door\", \"door\", \"door\", \"dormitory\", \"dormitory\", \"dr\", \"dr\", \"dr\", \"dr\", \"dr\", \"dr\", \"dr\", \"dr\", \"dr\", \"dr\", \"draughts\", \"draughts\", \"draughts\", \"draughts\", \"dread\", \"dread\", \"dread\", \"dread\", \"dread\", \"dread\", \"dread\", \"dread\", \"dread\", \"drenched\", \"driver\", \"driver\", \"driver\", \"driver\", \"drooping\", \"drooping\", \"drooping\", \"drooping\", \"drooping\", \"drops\", \"drops\", \"drops\", \"drops\", \"dubious\", \"dubious\", \"dubious\", \"dubious\", \"echoed\", \"echoed\", \"echoed\", \"echoed\", \"edward\", \"edward\", \"edward\", \"edward\", \"edward\", \"edward\", \"edward\", \"edward\", \"edward\", \"eighty\", \"elders\", \"elders\", \"elinor\", \"elinor\", \"elinor\", \"elinor\", \"elinor\", \"elinor\", \"elinor\", \"elixir\", \"elixir\", \"elixir\", \"elixir\", \"elixir\", \"elizabeth\", \"elizabeth\", \"elizabeth\", \"elizabeth\", \"elle\", \"elle\", \"elton\", \"elton\", \"elton\", \"eltons\", \"eltons\", \"emanuel\", \"emanuel\", \"emanuel\", \"emanuel\", \"emanuel\", \"emanuel\", \"embers\", \"embers\", \"embers\", \"embracing\", \"embracing\", \"embracing\", \"embracing\", \"emma\", \"emma\", \"emma\", \"emma\", \"emma\", \"emma\", \"end\", \"end\", \"end\", \"end\", \"end\", \"end\", \"end\", \"end\", \"end\", \"end\", \"end\", \"engagement\", \"engagement\", \"engagement\", \"engagement\", \"english\", \"english\", \"english\", \"english\", \"english\", \"english\", \"english\", \"english\", \"english\", \"english\", \"english\", \"enquire\", \"err\", \"err\", \"err\", \"err\", \"err\", \"error\", \"error\", \"error\", \"error\", \"error\", \"error\", \"error\", \"eshton\", \"eshton\", \"est\", \"est\", \"est\", \"est\", \"est\", \"estrade\", \"estrade\", \"et\", \"et\", \"et\", \"et\", \"et\", \"et\", \"et\", \"evening\", \"evening\", \"evening\", \"evening\", \"evening\", \"evening\", \"evening\", \"evening\", \"evening\", \"evening\", \"evening\", \"evening\", \"evening\", \"evening\", \"evening\", \"event\", \"event\", \"event\", \"event\", \"event\", \"event\", \"event\", \"event\", \"example\", \"example\", \"example\", \"example\", \"example\", \"example\", \"example\", \"exceeded\", \"exceeded\", \"exceeded\", \"exceeded\", \"exeter\", \"extending\", \"extending\", \"extremely\", \"extremely\", \"extremely\", \"extremely\", \"extremely\", \"extremely\", \"extremities\", \"extremities\", \"extremities\", \"eye\", \"eye\", \"eye\", \"eye\", \"eye\", \"eye\", \"eye\", \"eye\", \"eye\", \"eye\", \"eye\", \"eye\", \"eye\", \"eye\", \"eyelids\", \"eyelids\", \"eyelids\", \"eyes\", \"eyes\", \"eyes\", \"eyes\", \"eyes\", \"eyes\", \"eyes\", \"eyes\", \"eyes\", \"eyes\", \"eyes\", \"eyes\", \"eyes\", \"eyes\", \"eyes\", \"eyre\", \"eyre\", \"eyre\", \"eyre\", \"eyre\", \"eyre\", \"eyre\", \"face\", \"face\", \"face\", \"face\", \"face\", \"face\", \"face\", \"face\", \"face\", \"face\", \"face\", \"face\", \"face\", \"face\", \"face\", \"faculty\", \"faculty\", \"faculty\", \"faculty\", \"faculty\", \"fairfax\", \"fairfax\", \"fairfax\", \"fairfax\", \"fairfax\", \"fairfax\", \"fairfax\", \"fairfax\", \"fairy\", \"fairy\", \"fairy\", \"fairy\", \"fairy\", \"fairy\", \"fairy\", \"fairy\", \"family\", \"family\", \"family\", \"family\", \"family\", \"family\", \"family\", \"family\", \"family\", \"fanny\", \"fanny\", \"far\", \"far\", \"far\", \"far\", \"far\", \"far\", \"far\", \"far\", \"far\", \"far\", \"far\", \"far\", \"far\", \"far\", \"fate\", \"fate\", \"fate\", \"fate\", \"fate\", \"fate\", \"fate\", \"fate\", \"fate\", \"fate\", \"father\", \"father\", \"father\", \"father\", \"father\", \"father\", \"father\", \"father\", \"father\", \"father\", \"father\", \"father\", \"father\", \"father\", \"fathers\", \"fathers\", \"fathers\", \"feeling\", \"feeling\", \"feeling\", \"feeling\", \"feeling\", \"feeling\", \"feeling\", \"feeling\", \"feeling\", \"feeling\", \"feeling\", \"feeling\", \"feet\", \"feet\", \"feet\", \"feet\", \"feet\", \"feet\", \"feet\", \"feet\", \"feet\", \"feet\", \"feigned\", \"feigned\", \"feigned\", \"feigned\", \"felt\", \"felt\", \"felt\", \"felt\", \"felt\", \"felt\", \"felt\", \"felt\", \"felt\", \"felt\", \"felt\", \"felt\", \"felt\", \"felt\", \"felt\", \"femme\", \"ferrars\", \"ferrars\", \"fervid\", \"fervid\", \"fields\", \"fields\", \"fields\", \"fields\", \"fields\", \"fields\", \"fiend\", \"fiend\", \"fiend\", \"fiend\", \"fifine\", \"fifine\", \"fifine\", \"fifth\", \"fifth\", \"fifth\", \"fifth\", \"firelight\", \"firelight\", \"firelight\", \"fitzwilliam\", \"flaming\", \"flaming\", \"flaming\", \"flaming\", \"flinging\", \"fluency\", \"fluency\", \"fluency\", \"fluency\", \"foam\", \"foam\", \"fold\", \"fold\", \"fold\", \"fold\", \"fold\", \"ford\", \"ford\", \"ford\", \"forster\", \"forward\", \"forward\", \"forward\", \"forward\", \"forward\", \"forward\", \"forward\", \"forward\", \"forward\", \"forward\", \"fossette\", \"fossette\", \"fossette\", \"fossette\", \"fossette\", \"fossette\", \"fossette\", \"fragments\", \"fragments\", \"frail\", \"frail\", \"frail\", \"frances\", \"frances\", \"frances\", \"frank\", \"frank\", \"frank\", \"frank\", \"frank\", \"frank\", \"frank\", \"frank\", \"frank\", \"french\", \"french\", \"french\", \"french\", \"french\", \"french\", \"french\", \"french\", \"french\", \"french\", \"french\", \"french\", \"frequented\", \"frequented\", \"frequented\", \"friend\", \"friend\", \"friend\", \"friend\", \"friend\", \"friend\", \"friend\", \"friend\", \"friend\", \"friend\", \"friend\", \"froid\", \"froid\", \"froid\", \"furrowed\", \"gallery\", \"gallery\", \"gallery\", \"gallery\", \"gallery\", \"gallery\", \"garden\", \"garden\", \"garden\", \"garden\", \"garden\", \"garden\", \"garden\", \"garden\", \"garden\", \"garden\", \"garden\", \"garden\", \"gardiner\", \"gateshead\", \"gateshead\", \"gateshead\", \"gateshead\", \"gathered\", \"gathered\", \"gathered\", \"gathered\", \"gathered\", \"gathered\", \"gathered\", \"gathered\", \"gathered\", \"gathered\", \"gathered\", \"georgiana\", \"georgiana\", \"georgiana\", \"georgiana\", \"georgiana\", \"georgiana\", \"gets\", \"gets\", \"gets\", \"gets\", \"gets\", \"gets\", \"gets\", \"ghost\", \"ghost\", \"ghost\", \"ghost\", \"girls\", \"girls\", \"girls\", \"girls\", \"girls\", \"girls\", \"girls\", \"girls\", \"girls\", \"girls\", \"glad\", \"glad\", \"glad\", \"glad\", \"glad\", \"glad\", \"glad\", \"glad\", \"glad\", \"glad\", \"glad\", \"glad\", \"glad\", \"glance\", \"glance\", \"glance\", \"glance\", \"glance\", \"glance\", \"glance\", \"glance\", \"glance\", \"glance\", \"glance\", \"glance\", \"glare\", \"glare\", \"glare\", \"glass\", \"glass\", \"glass\", \"glass\", \"glass\", \"glass\", \"glass\", \"glass\", \"glass\", \"glass\", \"glass\", \"glee\", \"glee\", \"glee\", \"glee\", \"glee\", \"glimpses\", \"glimpses\", \"glimpses\", \"glory\", \"glory\", \"glory\", \"glory\", \"glory\", \"god\", \"god\", \"god\", \"god\", \"god\", \"god\", \"god\", \"god\", \"god\", \"god\", \"god\", \"god\", \"goddard\", \"goddard\", \"goddard\", \"gone\", \"gone\", \"gone\", \"gone\", \"gone\", \"gone\", \"gone\", \"gone\", \"gone\", \"gone\", \"gone\", \"good\", \"good\", \"good\", \"good\", \"good\", \"good\", \"good\", \"good\", \"good\", \"good\", \"good\", \"good\", \"good\", \"good\", \"good\", \"graham\", \"graham\", \"graham\", \"graham\", \"graham\", \"graham\", \"graham\", \"grandmama\", \"grandmama\", \"granite\", \"granite\", \"granite\", \"granite\", \"grapes\", \"grapes\", \"grapes\", \"grapes\", \"grasp\", \"grasp\", \"grasp\", \"grasp\", \"grasp\", \"grasp\", \"great\", \"great\", \"great\", \"great\", \"great\", \"great\", \"great\", \"great\", \"great\", \"great\", \"great\", \"great\", \"great\", \"grec\", \"greek\", \"greek\", \"greek\", \"greek\", \"grenier\", \"grenier\", \"hag\", \"hag\", \"hag\", \"half\", \"half\", \"half\", \"half\", \"half\", \"half\", \"half\", \"half\", \"half\", \"half\", \"half\", \"half\", \"half\", \"half\", \"half\", \"hall\", \"hall\", \"hall\", \"hall\", \"hall\", \"hall\", \"hall\", \"hall\", \"hall\", \"hall\", \"hall\", \"hall\", \"hall\", \"hand\", \"hand\", \"hand\", \"hand\", \"hand\", \"hand\", \"hand\", \"hand\", \"hand\", \"hand\", \"hand\", \"hand\", \"hand\", \"hand\", \"hand\", \"handled\", \"handled\", \"handling\", \"handling\", \"handling\", \"handling\", \"hannah\", \"hannah\", \"hannah\", \"hannah\", \"happiness\", \"happiness\", \"happiness\", \"happiness\", \"happiness\", \"happiness\", \"happiness\", \"happiness\", \"happiness\", \"happiness\", \"happiness\", \"hardships\", \"hardships\", \"hardships\", \"hardships\", \"harley\", \"harriet\", \"harriet\", \"harriet\", \"harriet\", \"harriet\", \"hartfield\", \"hartfield\", \"hartfield\", \"hawkins\", \"head\", \"head\", \"head\", \"head\", \"head\", \"head\", \"head\", \"head\", \"head\", \"head\", \"head\", \"head\", \"heap\", \"heap\", \"heap\", \"heard\", \"heard\", \"heard\", \"heard\", \"heard\", \"heard\", \"heard\", \"heard\", \"heard\", \"heard\", \"heard\", \"heard\", \"heard\", \"heard\", \"hears\", \"hears\", \"hears\", \"heart\", \"heart\", \"heart\", \"heart\", \"heart\", \"heart\", \"heart\", \"heart\", \"heart\", \"heart\", \"heart\", \"heart\", \"heart\", \"heart\", \"heaven\", \"heaven\", \"heaven\", \"heaven\", \"heaven\", \"heaven\", \"heaven\", \"heaven\", \"heaven\", \"heaven\", \"heaven\", \"heights\", \"heights\", \"heights\", \"helen\", \"helen\", \"helen\", \"helen\", \"helen\", \"helen\", \"henri\", \"henri\", \"herald\", \"herald\", \"herd\", \"herd\", \"herd\", \"hertfordshire\", \"high\", \"high\", \"high\", \"high\", \"high\", \"high\", \"high\", \"high\", \"high\", \"high\", \"high\", \"high\", \"highbury\", \"highbury\", \"hire\", \"hire\", \"hire\", \"holland\", \"holland\", \"holland\", \"holland\", \"hollow\", \"hollow\", \"hollow\", \"hollow\", \"hollow\", \"hollow\", \"hollow\", \"holy\", \"holy\", \"holy\", \"holy\", \"home\", \"home\", \"home\", \"home\", \"home\", \"home\", \"home\", \"home\", \"home\", \"home\", \"home\", \"home\", \"home\", \"home\", \"home\", \"hope\", \"hope\", \"hope\", \"hope\", \"hope\", \"hope\", \"hope\", \"hope\", \"hope\", \"hope\", \"hope\", \"hope\", \"hope\", \"hope\", \"horizon\", \"horizon\", \"horizon\", \"horse\", \"horse\", \"horse\", \"horse\", \"horse\", \"horse\", \"horse\", \"hour\", \"hour\", \"hour\", \"hour\", \"hour\", \"hour\", \"hour\", \"hour\", \"hour\", \"hour\", \"hour\", \"hour\", \"hour\", \"hour\", \"house\", \"house\", \"house\", \"house\", \"house\", \"house\", \"house\", \"house\", \"house\", \"house\", \"house\", \"house\", \"house\", \"hovering\", \"hunsden\", \"hunsden\", \"hunsden\", \"hunsden\", \"hunsden\", \"hunsden\", \"hunsford\", \"hurst\", \"hurst\", \"illness\", \"illness\", \"illness\", \"illness\", \"illness\", \"illness\", \"illness\", \"illness\", \"illness\", \"illness\", \"imply\", \"imply\", \"imply\", \"individual\", \"individual\", \"individual\", \"individual\", \"individual\", \"individual\", \"infirm\", \"infirm\", \"infirm\", \"inflicting\", \"inflicting\", \"inflicting\", \"inflicting\", \"influences\", \"influences\", \"influences\", \"inform\", \"inform\", \"inform\", \"inform\", \"inform\", \"ingram\", \"ingram\", \"ingram\", \"ingram\", \"ingram\", \"injured\", \"injured\", \"injured\", \"injured\", \"injured\", \"injured\", \"inn\", \"inn\", \"inn\", \"inn\", \"inn\", \"inn\", \"insane\", \"insane\", \"insane\", \"insane\", \"inscription\", \"institution\", \"institution\", \"institution\", \"institution\", \"intending\", \"intentionally\", \"intentionally\", \"intentionally\", \"intimating\", \"intimating\", \"intimating\", \"intimating\", \"item\", \"jack\", \"jack\", \"jacket\", \"jane\", \"jane\", \"jane\", \"jane\", \"jane\", \"jane\", \"jane\", \"jane\", \"jane\", \"jane\", \"jane\", \"jane\", \"jane\", \"janet\", \"janet\", \"janet\", \"janet\", \"je\", \"je\", \"je\", \"je\", \"je\", \"jennings\", \"jennings\", \"job\", \"job\", \"job\", \"job\", \"john\", \"john\", \"john\", \"john\", \"john\", \"john\", \"john\", \"john\", \"john\", \"john\", \"john\", \"john\", \"john\", \"joyfully\", \"joyfully\", \"joyfully\", \"kent\", \"kitty\", \"kitty\", \"knee\", \"knee\", \"knee\", \"knee\", \"knee\", \"knee\", \"knee\", \"knew\", \"knew\", \"knew\", \"knew\", \"knew\", \"knew\", \"knew\", \"knew\", \"knew\", \"knew\", \"knew\", \"knew\", \"knew\", \"knew\", \"knightley\", \"knightley\", \"knightley\", \"knightleys\", \"know\", \"know\", \"know\", \"know\", \"know\", \"know\", \"know\", \"know\", \"know\", \"know\", \"know\", \"know\", \"know\", \"know\", \"la\", \"la\", \"la\", \"la\", \"la\", \"la\", \"la\", \"la\", \"lady\", \"lady\", \"lady\", \"lady\", \"lady\", \"lady\", \"lady\", \"lady\", \"lady\", \"lady\", \"lady\", \"ladyship\", \"ladyship\", \"ladyship\", \"lane\", \"lane\", \"lane\", \"lane\", \"lane\", \"lane\", \"lane\", \"lantern\", \"lantern\", \"lantern\", \"latticed\", \"latticed\", \"launched\", \"launched\", \"launched\", \"lawn\", \"lawn\", \"lawn\", \"lawn\", \"lawn\", \"lawn\", \"lawn\", \"leader\", \"leader\", \"leader\", \"leah\", \"leah\", \"leah\", \"leah\", \"left\", \"left\", \"left\", \"left\", \"left\", \"left\", \"left\", \"left\", \"left\", \"left\", \"left\", \"left\", \"left\", \"left\", \"legitimate\", \"legitimate\", \"legitimate\", \"lend\", \"lend\", \"lend\", \"lend\", \"les\", \"les\", \"lessened\", \"lessened\", \"lessened\", \"lessened\", \"lessened\", \"lessons\", \"lessons\", \"lessons\", \"lessons\", \"lessons\", \"letter\", \"letter\", \"letter\", \"letter\", \"letter\", \"letter\", \"letter\", \"letter\", \"letter\", \"letter\", \"liar\", \"liar\", \"liar\", \"liar\", \"liar\", \"liberally\", \"liberally\", \"liberally\", \"life\", \"life\", \"life\", \"life\", \"life\", \"life\", \"life\", \"life\", \"life\", \"life\", \"life\", \"life\", \"life\", \"light\", \"light\", \"light\", \"light\", \"light\", \"light\", \"light\", \"light\", \"light\", \"light\", \"light\", \"light\", \"light\", \"light\", \"lighting\", \"like\", \"like\", \"like\", \"like\", \"like\", \"like\", \"like\", \"like\", \"like\", \"like\", \"like\", \"like\", \"like\", \"like\", \"like\", \"lingered\", \"lingered\", \"lingered\", \"lingered\", \"lingered\", \"lips\", \"lips\", \"lips\", \"lips\", \"lips\", \"lips\", \"lips\", \"lips\", \"lips\", \"lips\", \"lips\", \"lips\", \"lisped\", \"lisped\", \"little\", \"little\", \"little\", \"little\", \"little\", \"little\", \"little\", \"little\", \"little\", \"little\", \"little\", \"little\", \"little\", \"little\", \"little\", \"littleness\", \"live\", \"live\", \"live\", \"live\", \"live\", \"live\", \"live\", \"live\", \"live\", \"live\", \"live\", \"live\", \"live\", \"lizzy\", \"lizzy\", \"ll\", \"ll\", \"ll\", \"ll\", \"ll\", \"ll\", \"ll\", \"ll\", \"ll\", \"ll\", \"ll\", \"ll\", \"lloyd\", \"lloyd\", \"lloyd\", \"load\", \"long\", \"long\", \"long\", \"long\", \"long\", \"long\", \"long\", \"long\", \"long\", \"long\", \"long\", \"long\", \"long\", \"long\", \"long\", \"longbourn\", \"longstaple\", \"look\", \"look\", \"look\", \"look\", \"look\", \"look\", \"look\", \"look\", \"look\", \"look\", \"look\", \"look\", \"look\", \"look\", \"look\", \"looked\", \"looked\", \"looked\", \"looked\", \"looked\", \"looked\", \"looked\", \"looked\", \"looked\", \"looked\", \"looked\", \"looked\", \"looked\", \"looked\", \"looked\", \"love\", \"love\", \"love\", \"love\", \"love\", \"love\", \"love\", \"love\", \"love\", \"love\", \"love\", \"love\", \"love\", \"love\", \"lowton\", \"lowton\", \"lucas\", \"lucases\", \"lucy\", \"lucy\", \"lucy\", \"lucy\", \"lucy\", \"lucy\", \"lucy\", \"lucy\", \"lucy\", \"lunatic\", \"lunatic\", \"lydia\", \"lynn\", \"lynn\", \"madam\", \"madam\", \"madam\", \"madam\", \"madam\", \"madam\", \"madam\", \"madame\", \"madame\", \"madame\", \"madame\", \"madame\", \"madame\", \"madame\", \"madame\", \"madame\", \"madame\", \"madame\", \"mademoiselle\", \"mademoiselle\", \"mademoiselle\", \"mademoiselle\", \"magi\", \"magi\", \"magna\", \"magna\", \"maid\", \"maid\", \"maid\", \"maid\", \"maid\", \"maid\", \"maintaining\", \"maintaining\", \"malady\", \"malady\", \"malady\", \"malicious\", \"malicious\", \"malicious\", \"mama\", \"mama\", \"mama\", \"mama\", \"mama\", \"mama\", \"mama\", \"mamma\", \"mamma\", \"mamma\", \"mamma\", \"mamma\", \"mamma\", \"mamma\", \"man\", \"man\", \"man\", \"man\", \"man\", \"man\", \"man\", \"man\", \"man\", \"man\", \"man\", \"man\", \"man\", \"man\", \"man\", \"manager\", \"manager\", \"manager\", \"manager\", \"maniac\", \"maniac\", \"maniac\", \"maple\", \"maple\", \"march\", \"march\", \"march\", \"march\", \"march\", \"march\", \"march\", \"march\", \"march\", \"margaret\", \"marianne\", \"marianne\", \"marianne\", \"marianne\", \"marianne\", \"marriage\", \"marriage\", \"marriage\", \"marriage\", \"marriage\", \"marriage\", \"marriage\", \"marriage\", \"marriage\", \"marriage\", \"marriage\", \"martin\", \"martin\", \"martins\", \"mary\", \"mary\", \"mary\", \"mary\", \"mary\", \"mary\", \"mary\", \"mary\", \"mary\", \"mason\", \"mason\", \"master\", \"master\", \"master\", \"master\", \"master\", \"master\", \"master\", \"master\", \"master\", \"master\", \"master\", \"master\", \"matches\", \"matches\", \"matches\", \"matches\", \"mdlle\", \"mdlle\", \"mdlle\", \"meals\", \"meals\", \"meals\", \"meals\", \"meals\", \"meals\", \"mean\", \"mean\", \"mean\", \"mean\", \"mean\", \"mean\", \"mean\", \"mean\", \"mean\", \"mean\", \"mean\", \"mean\", \"meets\", \"meets\", \"meets\", \"men\", \"men\", \"men\", \"men\", \"men\", \"men\", \"men\", \"men\", \"men\", \"men\", \"men\", \"men\", \"mender\", \"merry\", \"merry\", \"merry\", \"merry\", \"merry\", \"merry\", \"merry\", \"merry\", \"meryton\", \"messieurs\", \"middleton\", \"middleton\", \"middletons\", \"midnight\", \"midnight\", \"midnight\", \"midnight\", \"midnight\", \"midnight\", \"millcote\", \"millcote\", \"millcote\", \"millcote\", \"millcote\", \"miller\", \"miller\", \"miller\", \"miller\", \"minutes\", \"minutes\", \"minutes\", \"minutes\", \"minutes\", \"minutes\", \"minutes\", \"minutes\", \"minutes\", \"minutes\", \"minutes\", \"minutes\", \"minutes\", \"minutes\", \"miss\", \"miss\", \"miss\", \"miss\", \"miss\", \"miss\", \"miss\", \"miss\", \"miss\", \"miss\", \"miss\", \"miss\", \"miss\", \"mission\", \"mission\", \"mission\", \"missis\", \"missis\", \"moment\", \"moment\", \"moment\", \"moment\", \"moment\", \"moment\", \"moment\", \"moment\", \"moment\", \"moment\", \"moment\", \"moment\", \"moment\", \"monitor\", \"monitor\", \"monitor\", \"monsieur\", \"monsieur\", \"monsieur\", \"monsieur\", \"monsieur\", \"monsieur\", \"monsieur\", \"morning\", \"morning\", \"morning\", \"morning\", \"morning\", \"morning\", \"morning\", \"morning\", \"morning\", \"morning\", \"morning\", \"morning\", \"morning\", \"morning\", \"moss\", \"moss\", \"moss\", \"moss\", \"moss\", \"moss\", \"mother\", \"mother\", \"mother\", \"mother\", \"mother\", \"mother\", \"mother\", \"mother\", \"mother\", \"mother\", \"mother\", \"mother\", \"mother\", \"mysteries\", \"mysteries\", \"nailed\", \"nailed\", \"nailed\", \"nash\", \"nations\", \"nations\", \"nations\", \"nature\", \"nature\", \"nature\", \"nature\", \"nature\", \"nature\", \"nature\", \"nature\", \"nature\", \"nature\", \"nature\", \"nature\", \"nature\", \"naughty\", \"naughty\", \"naughty\", \"naughty\", \"ne\", \"ne\", \"necks\", \"nests\", \"nests\", \"nests\", \"netherfield\", \"new\", \"new\", \"new\", \"new\", \"new\", \"new\", \"new\", \"new\", \"new\", \"new\", \"new\", \"new\", \"new\", \"new\", \"night\", \"night\", \"night\", \"night\", \"night\", \"night\", \"night\", \"night\", \"night\", \"night\", \"night\", \"night\", \"night\", \"nightmare\", \"noon\", \"noon\", \"noon\", \"noon\", \"noon\", \"noon\", \"noon\", \"noon\", \"noon\", \"norland\", \"norland\", \"nun\", \"nun\", \"nun\", \"nun\", \"nun\", \"nun\", \"nursery\", \"nursery\", \"nursery\", \"nursery\", \"nursery\", \"nursery\", \"nursery\", \"nursery\", \"oak\", \"oak\", \"oak\", \"oak\", \"oak\", \"office\", \"office\", \"office\", \"office\", \"office\", \"office\", \"office\", \"office\", \"office\", \"officers\", \"oh\", \"oh\", \"oh\", \"oh\", \"oh\", \"oh\", \"oh\", \"oh\", \"oh\", \"oh\", \"oh\", \"oh\", \"oh\", \"oh\", \"oh\", \"old\", \"old\", \"old\", \"old\", \"old\", \"old\", \"old\", \"old\", \"old\", \"old\", \"old\", \"old\", \"old\", \"old\", \"oliver\", \"oliver\", \"oliver\", \"oliver\", \"ominous\", \"ominous\", \"ominous\", \"ominous\", \"ominous\", \"opens\", \"opens\", \"opens\", \"opens\", \"orb\", \"orb\", \"ordinarily\", \"ordinarily\", \"ordinarily\", \"organs\", \"organs\", \"organs\", \"organs\", \"oriental\", \"ostensible\", \"ostensible\", \"overtaken\", \"overtaken\", \"pagan\", \"pagan\", \"pagan\", \"paintings\", \"paintings\", \"paintings\", \"paintings\", \"palate\", \"palate\", \"palate\", \"palate\", \"paletot\", \"palmer\", \"palmer\", \"palmers\", \"palmers\", \"panels\", \"panels\", \"panels\", \"papa\", \"papa\", \"papa\", \"papa\", \"papa\", \"papa\", \"papa\", \"papa\", \"papa\", \"papa\", \"paralysed\", \"paralysed\", \"paralysed\", \"paralysed\", \"parcels\", \"parcels\", \"parcels\", \"parcels\", \"parlour\", \"parlour\", \"parlour\", \"parlour\", \"parlour\", \"parlour\", \"parlour\", \"parlour\", \"parlour\", \"partner\", \"partner\", \"partner\", \"partner\", \"partner\", \"pas\", \"pas\", \"pas\", \"pas\", \"passage\", \"passage\", \"passage\", \"passage\", \"passage\", \"passage\", \"passage\", \"passage\", \"passage\", \"passage\", \"passed\", \"passed\", \"passed\", \"passed\", \"passed\", \"passed\", \"passed\", \"passed\", \"passed\", \"passed\", \"passed\", \"passed\", \"passed\", \"passed\", \"passengers\", \"passengers\", \"patron\", \"patron\", \"patted\", \"patted\", \"patted\", \"patted\", \"patted\", \"pattern\", \"pattern\", \"pattern\", \"pattern\", \"pattern\", \"pattern\", \"patty\", \"patty\", \"paul\", \"paul\", \"paul\", \"paul\", \"paul\", \"paul\", \"paul\", \"paulina\", \"paulina\", \"paulina\", \"paulina\", \"paulina\", \"paulina\", \"paulina\", \"paved\", \"paved\", \"pelet\", \"pelet\", \"pelet\", \"pelet\", \"pemberley\", \"pere\", \"pere\", \"pere\", \"pere\", \"pere\", \"performances\", \"performances\", \"performances\", \"perils\", \"perils\", \"perils\", \"perils\", \"perishing\", \"perishing\", \"perishing\", \"perry\", \"perry\", \"personages\", \"personages\", \"personages\", \"pervaded\", \"pet\", \"pet\", \"pet\", \"pet\", \"philanthropy\", \"philanthropy\", \"philanthropy\", \"philanthropy\", \"phillips\", \"physician\", \"physician\", \"physician\", \"physician\", \"physician\", \"physician\", \"pictures\", \"pictures\", \"pictures\", \"pictures\", \"pictures\", \"pictures\", \"pictures\", \"pictures\", \"pierre\", \"pierre\", \"piled\", \"piled\", \"piled\", \"piled\", \"piled\", \"pilot\", \"pilot\", \"pilot\", \"pilot\", \"pilot\", \"piqued\", \"piqued\", \"piqued\", \"pit\", \"pit\", \"pit\", \"plate\", \"plate\", \"plate\", \"plate\", \"plate\", \"plate\", \"plate\", \"pleasantest\", \"pleasantest\", \"pleasantest\", \"pleasantest\", \"pledge\", \"plus\", \"polish\", \"polish\", \"polish\", \"polish\", \"polly\", \"polly\", \"polly\", \"pony\", \"pony\", \"pony\", \"poole\", \"poole\", \"poole\", \"poole\", \"poor\", \"poor\", \"poor\", \"poor\", \"poor\", \"poor\", \"poor\", \"poor\", \"poor\", \"poor\", \"poor\", \"poor\", \"population\", \"population\", \"population\", \"porte\", \"porte\", \"porte\", \"portress\", \"portress\", \"portress\", \"post\", \"post\", \"post\", \"post\", \"post\", \"post\", \"post\", \"post\", \"post\", \"power\", \"power\", \"power\", \"power\", \"power\", \"power\", \"power\", \"power\", \"power\", \"power\", \"power\", \"power\", \"power\", \"power\", \"power\", \"prayer\", \"prayer\", \"prayer\", \"prayer\", \"prayer\", \"prayer\", \"prayer\", \"precept\", \"precept\", \"precept\", \"precocious\", \"preoccupied\", \"preoccupied\", \"preoccupied\", \"preoccupied\", \"presentiment\", \"presentiment\", \"presentiment\", \"principles\", \"principles\", \"principles\", \"principles\", \"principles\", \"principles\", \"principles\", \"privations\", \"privations\", \"privations\", \"professor\", \"professor\", \"professor\", \"professor\", \"professor\", \"prolonged\", \"prolonged\", \"prolonged\", \"prolonged\", \"prolonged\", \"prolonged\", \"prolonged\", \"promptly\", \"promptly\", \"promptly\", \"promptly\", \"promptly\", \"protect\", \"protect\", \"protect\", \"protect\", \"protect\", \"protestants\", \"protestants\", \"proves\", \"proves\", \"proves\", \"proves\", \"punished\", \"punished\", \"punished\", \"pupils\", \"pupils\", \"pupils\", \"pupils\", \"pupils\", \"pupils\", \"purchases\", \"purchases\", \"purchases\", \"purer\", \"purer\", \"purer\", \"purer\", \"putting\", \"putting\", \"putting\", \"putting\", \"putting\", \"putting\", \"putting\", \"putting\", \"putting\", \"putting\", \"que\", \"que\", \"que\", \"que\", \"que\", \"randalls\", \"randalls\", \"randalls\", \"realized\", \"realized\", \"realized\", \"realized\", \"recommendations\", \"recommendations\", \"recommendations\", \"reed\", \"reed\", \"reed\", \"reed\", \"reed\", \"reed\", \"reed\", \"reed\", \"refectory\", \"refectory\", \"refreshments\", \"refreshments\", \"refreshments\", \"refreshments\", \"region\", \"region\", \"region\", \"region\", \"region\", \"region\", \"regions\", \"regions\", \"regions\", \"regions\", \"reine\", \"reine\", \"reine\", \"relatives\", \"relatives\", \"relatives\", \"relatives\", \"relatives\", \"remainder\", \"remainder\", \"remainder\", \"remainder\", \"remainder\", \"reminiscences\", \"remorse\", \"remorse\", \"remorse\", \"remorse\", \"remorse\", \"remorse\", \"replied\", \"replied\", \"replied\", \"replied\", \"replied\", \"replied\", \"replied\", \"replied\", \"replied\", \"reported\", \"reported\", \"residence\", \"residence\", \"residence\", \"residence\", \"residence\", \"residence\", \"residence\", \"resulting\", \"resulting\", \"resulting\", \"retiring\", \"retiring\", \"retiring\", \"return\", \"return\", \"return\", \"return\", \"return\", \"return\", \"return\", \"return\", \"return\", \"return\", \"return\", \"return\", \"return\", \"return\", \"return\", \"returned\", \"returned\", \"returned\", \"returned\", \"returned\", \"returned\", \"returned\", \"returned\", \"returned\", \"returned\", \"returned\", \"returned\", \"reuter\", \"reuter\", \"revolted\", \"revolted\", \"revolted\", \"revolted\", \"right\", \"right\", \"right\", \"right\", \"right\", \"right\", \"right\", \"right\", \"right\", \"right\", \"right\", \"right\", \"right\", \"right\", \"rivet\", \"rivet\", \"rivet\", \"robes\", \"robes\", \"robust\", \"robust\", \"robust\", \"robust\", \"rochester\", \"rochester\", \"rochester\", \"rochester\", \"rochester\", \"rochester\", \"rochester\", \"rochester\", \"rochester\", \"rocking\", \"rocking\", \"roman\", \"romanism\", \"romanism\", \"rome\", \"rome\", \"rome\", \"rome\", \"room\", \"room\", \"room\", \"room\", \"room\", \"room\", \"room\", \"room\", \"room\", \"room\", \"room\", \"room\", \"room\", \"rosamond\", \"rosamond\", \"rosamond\", \"rose\", \"rose\", \"rose\", \"rose\", \"rose\", \"rose\", \"rose\", \"rose\", \"rose\", \"rose\", \"rose\", \"rose\", \"rose\", \"rosings\", \"round\", \"round\", \"round\", \"round\", \"round\", \"round\", \"round\", \"round\", \"round\", \"round\", \"round\", \"round\", \"round\", \"round\", \"royal\", \"royal\", \"royal\", \"rue\", \"rue\", \"rue\", \"rue\", \"rue\", \"rue\", \"rue\", \"sanctioned\", \"sanctioned\", \"sanctioned\", \"sarah\", \"sarah\", \"sarah\", \"sat\", \"sat\", \"sat\", \"sat\", \"sat\", \"sat\", \"sat\", \"sat\", \"sat\", \"sat\", \"sat\", \"sat\", \"sat\", \"satin\", \"satin\", \"satin\", \"satin\", \"satin\", \"satin\", \"satin\", \"satin\", \"saw\", \"saw\", \"saw\", \"saw\", \"saw\", \"saw\", \"saw\", \"saw\", \"saw\", \"saw\", \"saw\", \"saw\", \"saw\", \"saw\", \"saw\", \"scatcherd\", \"scatcherd\", \"scatcherd\", \"scatcherd\", \"scattered\", \"scattered\", \"scattered\", \"scattered\", \"scattered\", \"scattered\", \"scattered\", \"scattered\", \"scattered\", \"school\", \"school\", \"school\", \"school\", \"school\", \"school\", \"school\", \"school\", \"school\", \"school\", \"school\", \"school\", \"school\", \"schoolroom\", \"schoolroom\", \"schoolroom\", \"schoolroom\", \"schoolroom\", \"schoolroom\", \"schoolroom\", \"schoolroom\", \"scrutinised\", \"seed\", \"seen\", \"seen\", \"seen\", \"seen\", \"seen\", \"seen\", \"seen\", \"seen\", \"seen\", \"seen\", \"seen\", \"seen\", \"selina\", \"selina\", \"semicircle\", \"semicircle\", \"semicircle\", \"september\", \"september\", \"september\", \"september\", \"sermon\", \"sermon\", \"sermon\", \"serving\", \"serving\", \"serving\", \"serving\", \"set\", \"set\", \"set\", \"set\", \"set\", \"set\", \"set\", \"set\", \"set\", \"set\", \"set\", \"set\", \"set\", \"sets\", \"sets\", \"sets\", \"settlement\", \"settlement\", \"settlement\", \"severe\", \"severe\", \"severe\", \"severe\", \"severe\", \"severe\", \"severe\", \"severe\", \"severe\", \"sewing\", \"sewing\", \"sewing\", \"sewing\", \"sewing\", \"sewing\", \"shall\", \"shall\", \"shall\", \"shall\", \"shall\", \"shall\", \"shall\", \"shall\", \"shall\", \"shall\", \"shall\", \"shall\", \"shift\", \"shift\", \"shift\", \"shift\", \"shoes\", \"shoes\", \"shoes\", \"shoes\", \"shoes\", \"shoes\", \"shoes\", \"shoes\", \"shoes\", \"shop\", \"shop\", \"shop\", \"shop\", \"shop\", \"shop\", \"shop\", \"shudder\", \"shudder\", \"shudder\", \"shy\", \"shy\", \"shy\", \"shy\", \"shy\", \"shy\", \"shy\", \"signal\", \"signal\", \"signal\", \"signal\", \"signified\", \"signified\", \"silas\", \"silas\", \"silas\", \"silas\", \"silas\", \"simpleton\", \"simpleton\", \"simpleton\", \"simpleton\", \"sir\", \"sir\", \"sir\", \"sir\", \"sir\", \"sir\", \"sir\", \"sir\", \"sir\", \"sir\", \"sir\", \"sire\", \"sire\", \"sister\", \"sister\", \"sister\", \"sister\", \"sister\", \"sister\", \"sister\", \"sister\", \"sisters\", \"sisters\", \"sisters\", \"sisters\", \"sisters\", \"sisters\", \"sisters\", \"sisters\", \"sisters\", \"sisters\", \"sisters\", \"sky\", \"sky\", \"sky\", \"sky\", \"sky\", \"sky\", \"sky\", \"sky\", \"slate\", \"slate\", \"slate\", \"slavery\", \"slavery\", \"slavery\", \"slavery\", \"smallridge\", \"smallridge\", \"smith\", \"smith\", \"smith\", \"smith\", \"smith\", \"smith\", \"snowe\", \"snowe\", \"snowe\", \"snowe\", \"snowe\", \"sold\", \"sold\", \"sold\", \"sold\", \"sold\", \"sold\", \"sold\", \"soliloquy\", \"soliloquy\", \"soon\", \"soon\", \"soon\", \"soon\", \"soon\", \"soon\", \"soon\", \"soon\", \"soon\", \"soon\", \"soon\", \"soon\", \"soon\", \"soon\", \"sophie\", \"sophie\", \"sophie\", \"sophie\", \"soul\", \"soul\", \"soul\", \"soul\", \"soul\", \"soul\", \"soul\", \"soul\", \"soul\", \"soul\", \"soul\", \"soul\", \"sound\", \"sound\", \"sound\", \"sound\", \"sound\", \"sound\", \"sound\", \"sound\", \"sound\", \"sound\", \"sound\", \"sound\", \"speak\", \"speak\", \"speak\", \"speak\", \"speak\", \"speak\", \"speak\", \"speak\", \"speak\", \"speak\", \"speak\", \"speak\", \"speak\", \"spectacles\", \"spectacles\", \"spectacles\", \"spectacles\", \"spectacles\", \"spectacles\", \"sped\", \"spiritual\", \"spiritual\", \"spiritual\", \"spiritual\", \"st\", \"st\", \"st\", \"st\", \"st\", \"st\", \"st\", \"st\", \"st\", \"st\", \"staircase\", \"staircase\", \"staircase\", \"staircase\", \"staircase\", \"staircase\", \"staircase\", \"staircase\", \"stars\", \"stars\", \"stars\", \"stars\", \"steadfast\", \"steadfast\", \"steadfast\", \"steadfast\", \"steadfast\", \"steele\", \"steele\", \"steeles\", \"steeles\", \"stile\", \"stile\", \"stile\", \"stile\", \"stood\", \"stood\", \"stood\", \"stood\", \"stood\", \"stood\", \"stood\", \"stood\", \"stood\", \"stood\", \"stood\", \"strained\", \"strained\", \"strained\", \"strained\", \"strained\", \"strange\", \"strange\", \"strange\", \"strange\", \"strange\", \"strange\", \"strange\", \"strange\", \"strange\", \"strange\", \"strange\", \"strange\", \"strength\", \"strength\", \"strength\", \"strength\", \"strength\", \"strength\", \"strength\", \"strength\", \"strength\", \"strength\", \"strength\", \"strength\", \"strength\", \"strength\", \"strings\", \"strings\", \"strings\", \"strings\", \"strong\", \"strong\", \"strong\", \"strong\", \"strong\", \"strong\", \"strong\", \"strong\", \"strong\", \"strong\", \"strong\", \"strong\", \"strong\", \"substitute\", \"substitute\", \"substitute\", \"substitute\", \"suckling\", \"suckling\", \"suggestive\", \"suggestive\", \"summits\", \"summits\", \"sun\", \"sun\", \"sun\", \"sun\", \"sun\", \"sun\", \"sun\", \"sure\", \"sure\", \"sure\", \"sure\", \"sure\", \"sure\", \"sure\", \"sure\", \"sure\", \"sure\", \"sure\", \"sure\", \"sure\", \"surgeon\", \"surgeon\", \"surgeon\", \"surgeon\", \"surprize\", \"surprize\", \"surprize\", \"surprized\", \"surprized\", \"sussex\", \"swiss\", \"sworn\", \"sworn\", \"sylvie\", \"sylvie\", \"sympathies\", \"sympathies\", \"sympathies\", \"sympathies\", \"tablet\", \"tablet\", \"tablet\", \"tales\", \"tales\", \"tales\", \"tales\", \"tales\", \"tap\", \"tap\", \"taylor\", \"taylor\", \"tell\", \"tell\", \"tell\", \"tell\", \"tell\", \"tell\", \"tell\", \"tell\", \"tell\", \"tell\", \"tell\", \"tell\", \"tell\", \"temple\", \"temple\", \"temple\", \"temple\", \"temple\", \"temple\", \"temple\", \"temple\", \"temple\", \"temple\", \"temple\", \"terrasse\", \"terrasse\", \"terrasse\", \"terrasse\", \"terribly\", \"terribly\", \"terribly\", \"thing\", \"thing\", \"thing\", \"thing\", \"thing\", \"thing\", \"thing\", \"thing\", \"thing\", \"thing\", \"thing\", \"thing\", \"think\", \"think\", \"think\", \"think\", \"think\", \"think\", \"think\", \"think\", \"think\", \"think\", \"think\", \"think\", \"think\", \"think\", \"thirdly\", \"thirdly\", \"thirdly\", \"thirty\", \"thirty\", \"thirty\", \"thirty\", \"thirty\", \"thirty\", \"thirty\", \"thirty\", \"thirty\", \"thirty\", \"thornfield\", \"thornfield\", \"thornfield\", \"thornfield\", \"thornfield\", \"thornfield\", \"thought\", \"thought\", \"thought\", \"thought\", \"thought\", \"thought\", \"thought\", \"thought\", \"thought\", \"thought\", \"thought\", \"thought\", \"thought\", \"thought\", \"thought\", \"threatening\", \"threatening\", \"threatening\", \"threatening\", \"threatening\", \"threatening\", \"thrusting\", \"thrusting\", \"thrusting\", \"till\", \"till\", \"till\", \"till\", \"till\", \"till\", \"till\", \"till\", \"till\", \"till\", \"till\", \"till\", \"till\", \"till\", \"time\", \"time\", \"time\", \"time\", \"time\", \"time\", \"time\", \"time\", \"time\", \"time\", \"time\", \"time\", \"time\", \"time\", \"time\", \"tomorrow\", \"tomorrow\", \"tomorrow\", \"took\", \"took\", \"took\", \"took\", \"took\", \"took\", \"took\", \"took\", \"took\", \"took\", \"took\", \"took\", \"took\", \"took\", \"torture\", \"torture\", \"torture\", \"torture\", \"torture\", \"town\", \"town\", \"town\", \"town\", \"town\", \"town\", \"town\", \"town\", \"town\", \"tractable\", \"tractable\", \"tractable\", \"tractable\", \"tramp\", \"tramp\", \"tramp\", \"trampled\", \"transformed\", \"transformed\", \"transformed\", \"transformed\", \"transformed\", \"treading\", \"trees\", \"trees\", \"trees\", \"trees\", \"trees\", \"trees\", \"trees\", \"trees\", \"trees\", \"trees\", \"truth\", \"truth\", \"truth\", \"truth\", \"truth\", \"truth\", \"truth\", \"truth\", \"truth\", \"truth\", \"truth\", \"turf\", \"turf\", \"turf\", \"turf\", \"turk\", \"turk\", \"turk\", \"tynedale\", \"unaccountably\", \"unaccountably\", \"unaccountably\", \"unchanged\", \"unchanged\", \"unchanged\", \"unchanged\", \"unchanged\", \"uncle\", \"uncle\", \"uncle\", \"uncle\", \"uncle\", \"uncle\", \"uncle\", \"uncle\", \"unclose\", \"unclose\", \"unclose\", \"understands\", \"understands\", \"understands\", \"une\", \"une\", \"unnumbered\", \"unselfish\", \"unselfish\", \"unselfish\", \"unselfish\", \"unsuspected\", \"vandenhuten\", \"vandenhuten\", \"vandenhuten\", \"vapid\", \"vapid\", \"vapid\", \"varens\", \"vases\", \"vases\", \"vases\", \"vases\", \"ve\", \"ve\", \"ve\", \"ve\", \"ve\", \"venerable\", \"venerable\", \"verdure\", \"verdure\", \"verdure\", \"verdure\", \"vicar\", \"vicar\", \"vicar\", \"vicar\", \"vicarage\", \"vices\", \"vices\", \"vices\", \"vices\", \"victor\", \"victor\", \"violets\", \"visionary\", \"voice\", \"voice\", \"voice\", \"voice\", \"voice\", \"voice\", \"voice\", \"voice\", \"voice\", \"voice\", \"voice\", \"voice\", \"voice\", \"voice\", \"void\", \"void\", \"void\", \"void\", \"void\", \"void\", \"vous\", \"vous\", \"vous\", \"vous\", \"vous\", \"waiter\", \"waiter\", \"waiter\", \"wall\", \"wall\", \"wall\", \"wall\", \"wall\", \"wall\", \"wall\", \"wall\", \"want\", \"want\", \"want\", \"want\", \"want\", \"want\", \"want\", \"want\", \"want\", \"want\", \"warren\", \"warren\", \"water\", \"water\", \"water\", \"water\", \"water\", \"water\", \"water\", \"water\", \"water\", \"way\", \"way\", \"way\", \"way\", \"way\", \"way\", \"way\", \"way\", \"way\", \"way\", \"way\", \"way\", \"way\", \"way\", \"way\", \"went\", \"went\", \"went\", \"went\", \"went\", \"went\", \"went\", \"went\", \"went\", \"went\", \"went\", \"went\", \"went\", \"went\", \"weston\", \"weston\", \"weston\", \"weston\", \"whim\", \"whim\", \"whim\", \"whim\", \"whip\", \"whip\", \"whip\", \"whitcross\", \"whitcross\", \"whitcross\", \"white\", \"white\", \"white\", \"white\", \"white\", \"white\", \"white\", \"white\", \"white\", \"white\", \"white\", \"wicked\", \"wicked\", \"wicked\", \"wicked\", \"wicked\", \"wicked\", \"wicked\", \"wickham\", \"wife\", \"wife\", \"wife\", \"wife\", \"wife\", \"wife\", \"wife\", \"wife\", \"wife\", \"wife\", \"wild\", \"wild\", \"wild\", \"wild\", \"wild\", \"wild\", \"wild\", \"wild\", \"wild\", \"wild\", \"wild\", \"wild\", \"willoughby\", \"willoughby\", \"wind\", \"wind\", \"wind\", \"wind\", \"wind\", \"wind\", \"wind\", \"wind\", \"wind\", \"wind\", \"wind\", \"winding\", \"wipe\", \"wipe\", \"wipe\", \"wipe\", \"wish\", \"wish\", \"wish\", \"wish\", \"wish\", \"wish\", \"wish\", \"wish\", \"wish\", \"wish\", \"wish\", \"wish\", \"wish\", \"wish\", \"wish\", \"withered\", \"withered\", \"woes\", \"woes\", \"woes\", \"woes\", \"woman\", \"woman\", \"woman\", \"woman\", \"woman\", \"woman\", \"woman\", \"woman\", \"woman\", \"woman\", \"woman\", \"woman\", \"womanly\", \"womanly\", \"womanly\", \"wonder\", \"wonder\", \"wonder\", \"wonder\", \"wonder\", \"wonder\", \"wonder\", \"wonder\", \"wonder\", \"wonder\", \"wonder\", \"wood\", \"wood\", \"wood\", \"wood\", \"wood\", \"wood\", \"wood\", \"wood\", \"wood\", \"woodhouse\", \"woodhouse\", \"woodhouse\", \"woodhouse\", \"word\", \"word\", \"word\", \"word\", \"word\", \"word\", \"word\", \"word\", \"word\", \"word\", \"word\", \"word\", \"word\", \"word\", \"word\", \"words\", \"words\", \"words\", \"words\", \"words\", \"words\", \"words\", \"words\", \"words\", \"words\", \"words\", \"words\", \"words\", \"work\", \"work\", \"work\", \"work\", \"work\", \"work\", \"work\", \"work\", \"work\", \"work\", \"work\", \"work\", \"work\", \"works\", \"works\", \"works\", \"works\", \"works\", \"works\", \"world\", \"world\", \"world\", \"world\", \"world\", \"world\", \"world\", \"world\", \"world\", \"world\", \"world\", \"world\", \"world\", \"world\", \"world\", \"years\", \"years\", \"years\", \"years\", \"years\", \"years\", \"years\", \"years\", \"years\", \"years\", \"years\", \"yes\", \"yes\", \"yes\", \"yes\", \"yes\", \"yes\", \"yes\", \"yes\", \"yes\", \"yes\", \"yes\", \"yes\", \"yes\", \"young\", \"young\", \"young\", \"young\", \"young\", \"young\", \"young\", \"young\", \"young\", \"young\", \"young\", \"young\", \"young\", \"zelie\", \"zoraide\"]}, \"R\": 30, \"lambda.step\": 0.01, \"plot.opts\": {\"xlab\": \"PC1\", \"ylab\": \"PC2\"}, \"topic.order\": [12, 2, 10, 11, 3, 1, 8, 4, 15, 5, 6, 13, 14, 7, 9]};\n",
       "\n",
       "function LDAvis_load_lib(url, callback){\n",
       "  var s = document.createElement('script');\n",
       "  s.src = url;\n",
       "  s.async = true;\n",
       "  s.onreadystatechange = s.onload = callback;\n",
       "  s.onerror = function(){console.warn(\"failed to load library \" + url);};\n",
       "  document.getElementsByTagName(\"head\")[0].appendChild(s);\n",
       "}\n",
       "\n",
       "if(typeof(LDAvis) !== \"undefined\"){\n",
       "   // already loaded: just create the visualization\n",
       "   !function(LDAvis){\n",
       "       new LDAvis(\"#\" + \"ldavis_el172430517747886167892355830\", ldavis_el172430517747886167892355830_data);\n",
       "   }(LDAvis);\n",
       "}else if(typeof define === \"function\" && define.amd){\n",
       "   // require.js is available: use it to load d3/LDAvis\n",
       "   require.config({paths: {d3: \"https://cdnjs.cloudflare.com/ajax/libs/d3/3.5.5/d3.min\"}});\n",
       "   require([\"d3\"], function(d3){\n",
       "      window.d3 = d3;\n",
       "      LDAvis_load_lib(\"https://cdn.rawgit.com/bmabey/pyLDAvis/files/ldavis.v1.0.0.js\", function(){\n",
       "        new LDAvis(\"#\" + \"ldavis_el172430517747886167892355830\", ldavis_el172430517747886167892355830_data);\n",
       "      });\n",
       "    });\n",
       "}else{\n",
       "    // require.js not available: dynamically load d3 & LDAvis\n",
       "    LDAvis_load_lib(\"https://cdnjs.cloudflare.com/ajax/libs/d3/3.5.5/d3.min.js\", function(){\n",
       "         LDAvis_load_lib(\"https://cdn.rawgit.com/bmabey/pyLDAvis/files/ldavis.v1.0.0.js\", function(){\n",
       "                 new LDAvis(\"#\" + \"ldavis_el172430517747886167892355830\", ldavis_el172430517747886167892355830_data);\n",
       "            })\n",
       "         });\n",
       "}\n",
       "</script>"
      ],
      "text/plain": [
       "PreparedData(topic_coordinates=              x         y  topics  cluster       Freq\n",
       "topic                                                \n",
       "11    -0.135095  0.035689       1        1  25.826874\n",
       "1      0.033036 -0.016663       2        1  22.538601\n",
       "9      0.003467 -0.051299       3        1  14.055024\n",
       "10    -0.165461  0.008277       4        1  11.031939\n",
       "2      0.061113 -0.059924       5        1   9.308050\n",
       "0     -0.166624  0.017999       6        1   8.690084\n",
       "7      0.015242 -0.100286       7        1   3.760586\n",
       "3      0.029476 -0.065524       8        1   1.433411\n",
       "14     0.061154 -0.031204       9        1   0.811141\n",
       "4      0.005177 -0.033241      10        1   0.733455\n",
       "5     -0.002030  0.030617      11        1   0.565847\n",
       "12     0.043379  0.023180      12        1   0.445688\n",
       "13     0.073901  0.095686      13        1   0.291726\n",
       "6      0.088867  0.090695      14        1   0.254584\n",
       "8      0.054400  0.055997      15        1   0.252989, topic_info=     Category         Freq       Term        Total  loglift  logprob\n",
       "86    Default   915.000000       emma   915.000000  30.0000  30.0000\n",
       "159   Default  1718.000000     little  1718.000000  29.0000  29.0000\n",
       "5852  Default   694.000000     elinor   694.000000  28.0000  28.0000\n",
       "403   Default  1323.000000       like  1323.000000  27.0000  27.0000\n",
       "183   Default  1542.000000       miss  1542.000000  26.0000  26.0000\n",
       "5857  Default   573.000000   marianne   573.000000  25.0000  25.0000\n",
       "372   Default  1352.000000       good  1352.000000  24.0000  24.0000\n",
       "148   Default   931.000000       jane   931.000000  23.0000  23.0000\n",
       "280   Default  1142.000000    thought  1142.000000  22.0000  22.0000\n",
       "1012  Default   561.000000    harriet   561.000000  21.0000  21.0000\n",
       "902   Default   873.000000       room   873.000000  20.0000  20.0000\n",
       "63    Default  1053.000000        day  1053.000000  19.0000  19.0000\n",
       "4922  Default   409.000000     madame   409.000000  18.0000  18.0000\n",
       "450   Default   588.000000        sir   588.000000  17.0000  17.0000\n",
       "284   Default  1313.000000       time  1313.000000  16.0000  16.0000\n",
       "399   Default  1429.000000       know  1429.000000  15.0000  15.0000\n",
       "279   Default  1313.000000      think  1313.000000  14.0000  14.0000\n",
       "260   Default   920.000000       soon   920.000000  13.0000  13.0000\n",
       "337   Default   827.000000       come   827.000000  12.0000  12.0000\n",
       "163   Default   935.000000       long   935.000000  11.0000  11.0000\n",
       "753   Default   773.000000        saw   773.000000  10.0000  10.0000\n",
       "133   Default   488.000000       home   488.000000   9.0000   9.0000\n",
       "164   Default   697.000000     looked   697.000000   8.0000   8.0000\n",
       "513   Default   415.000000      elton   415.000000   7.0000   7.0000\n",
       "129   Default   653.000000      heart   653.000000   6.0000   6.0000\n",
       "298   Default   686.000000        way   686.000000   5.0000   5.0000\n",
       "168   Default   901.000000        man   901.000000   4.0000   4.0000\n",
       "1445  Default   615.000000       hand   615.000000   3.0000   3.0000\n",
       "301   Default   449.000000     weston   449.000000   2.0000   2.0000\n",
       "7113  Default   286.000000   monsieur   286.000000   1.0000   1.0000\n",
       "...       ...          ...        ...          ...      ...      ...\n",
       "450   Topic15     3.633452        sir   588.813599   0.8917  -5.3857\n",
       "91    Topic15     1.772619      event   100.143982   1.9454  -6.1034\n",
       "1407  Topic15     2.371894      added   227.619476   1.4156  -5.8122\n",
       "82    Topic15     1.196256   domestic    34.040878   2.6312  -6.4967\n",
       "260   Topic15     3.696046       soon   920.107483   0.4624  -5.3686\n",
       "750   Topic15     2.348031     return   274.757538   1.2173  -5.8223\n",
       "325   Topic15     3.050725     better   613.064636   0.6765  -5.5605\n",
       "340   Topic15     2.373630     coming   302.526306   1.1318  -5.8115\n",
       "7002  Topic15     1.788257      adele   130.853409   1.6867  -6.0947\n",
       "753   Topic15     3.030321        saw   773.863037   0.4369  -5.5672\n",
       "2450  Topic15     2.395233    fairfax   388.133057   0.8917  -5.8024\n",
       "403   Topic15     3.154467       like  1323.185303  -0.0594  -5.5271\n",
       "1538  Topic15     2.573748       john   622.639343   0.4910  -5.7305\n",
       "419   Topic15     2.483764      night   622.992432   0.4548  -5.7661\n",
       "2081  Topic15     1.808172     master   199.969391   1.2737  -6.0836\n",
       "217   Topic15     1.832583      power   247.161194   1.0753  -6.0702\n",
       "1658  Topic15     1.926444      words   342.737213   0.7983  -6.0202\n",
       "370   Topic15     1.786806       glad   230.275162   1.1207  -6.0955\n",
       "365   Topic15     1.829072    feeling   281.499695   0.9433  -6.0721\n",
       "122   Topic15     1.796682  happiness   274.185974   0.9517  -6.0900\n",
       "1244  Topic15     1.851856      asked   394.263184   0.6187  -6.0597\n",
       "1313  Topic15     1.932963        yes   594.169250   0.2515  -6.0169\n",
       "148   Topic15     1.997442       jane   931.389526  -0.1652  -5.9840\n",
       "463   Topic15     1.904923       tell   538.444580   0.3353  -6.0315\n",
       "159   Topic15     2.016156     little  1718.123779  -0.7682  -5.9747\n",
       "119   Topic15     1.875732       half   587.628967   0.2325  -6.0469\n",
       "337   Topic15     1.892028       come   827.333923  -0.1010  -6.0383\n",
       "355   Topic15     1.862841       door   531.810425   0.3254  -6.0538\n",
       "283   Topic15     1.833172       till   518.239136   0.3352  -6.0699\n",
       "185   Topic15     1.830729    morning   513.078125   0.3439  -6.0712\n",
       "\n",
       "[1131 rows x 6 columns], token_table=      Topic      Freq       Term\n",
       "term                            \n",
       "792       1  0.058746      abbey\n",
       "792       4  0.910559      abbey\n",
       "6348      3  0.045800      abbot\n",
       "6348      9  0.870193      abbot\n",
       "2062      1  0.157286      abide\n",
       "2062      3  0.471859      abide\n",
       "2062      4  0.157286      abide\n",
       "2062     14  0.157286      abide\n",
       "3055      1  0.176852  abundance\n",
       "3055      2  0.294753  abundance\n",
       "3055      4  0.235802  abundance\n",
       "3055      5  0.117901  abundance\n",
       "3055     10  0.058951  abundance\n",
       "3055     14  0.058951  abundance\n",
       "7316      2  0.320127   accursed\n",
       "7316      3  0.320127   accursed\n",
       "7316      8  0.160063   accursed\n",
       "7316     14  0.160063   accursed\n",
       "6412      5  0.874184    achieve\n",
       "6102      1  0.389446     aching\n",
       "6102      3  0.194723     aching\n",
       "6102      9  0.194723     aching\n",
       "6102     14  0.194723     aching\n",
       "2063      1  0.327079        act\n",
       "2063      2  0.338760        act\n",
       "2063      3  0.105133        act\n",
       "2063      4  0.070088        act\n",
       "2063      5  0.023363        act\n",
       "2063      6  0.035044        act\n",
       "2063      8  0.081770        act\n",
       "...     ...       ...        ...\n",
       "308      12  0.003191      years\n",
       "308      14  0.006383      years\n",
       "1313      1  0.270967        yes\n",
       "1313      2  0.168302        yes\n",
       "1313      3  0.244038        yes\n",
       "1313      4  0.122861        yes\n",
       "1313      5  0.028611        yes\n",
       "1313      6  0.058906        yes\n",
       "1313      7  0.067321        yes\n",
       "1313      8  0.011781        yes\n",
       "1313      9  0.008415        yes\n",
       "1313     10  0.010098        yes\n",
       "1313     11  0.005049        yes\n",
       "1313     14  0.001683        yes\n",
       "1313     15  0.003366        yes\n",
       "611       1  0.381229      young\n",
       "611       2  0.125067      young\n",
       "611       3  0.131095      young\n",
       "611       4  0.179313      young\n",
       "611       5  0.042191      young\n",
       "611       6  0.088903      young\n",
       "611       7  0.013562      young\n",
       "611       8  0.012055      young\n",
       "611       9  0.012055      young\n",
       "611      10  0.004521      young\n",
       "611      11  0.003014      young\n",
       "611      12  0.006027      young\n",
       "611      14  0.001507      young\n",
       "8085      2  0.947894      zelie\n",
       "7899      2  0.930126    zoraide\n",
       "\n",
       "[4365 rows x 3 columns], R=30, lambda_step=0.01, plot_opts={'xlab': 'PC1', 'ylab': 'PC2'}, topic_order=[12, 2, 10, 11, 3, 1, 8, 4, 15, 5, 6, 13, 14, 7, 9])"
      ]
     },
     "execution_count": 105,
     "metadata": {},
     "output_type": "execute_result"
    }
   ],
   "source": [
    "pyLDAvis.gensim.prepare(lda, corpus, id2word)"
   ]
  },
  {
   "cell_type": "markdown",
   "metadata": {},
   "source": [
    "### Overall Model / Documents"
   ]
  },
  {
   "cell_type": "code",
   "execution_count": 107,
   "metadata": {},
   "outputs": [
    {
     "data": {
      "text/plain": [
       "[(10, 0.20714486), (11, 0.790849)]"
      ]
     },
     "execution_count": 107,
     "metadata": {},
     "output_type": "execute_result"
    }
   ],
   "source": [
    "lda[corpus[0]]"
   ]
  },
  {
   "cell_type": "code",
   "execution_count": 108,
   "metadata": {},
   "outputs": [],
   "source": [
    "distro = [lda[d] for d in corpus]"
   ]
  },
  {
   "cell_type": "code",
   "execution_count": 109,
   "metadata": {},
   "outputs": [
    {
     "data": {
      "text/plain": [
       "[(10, 0.20713635), (11, 0.7908575)]"
      ]
     },
     "execution_count": 109,
     "metadata": {},
     "output_type": "execute_result"
    }
   ],
   "source": [
    "distro[0]"
   ]
  },
  {
   "cell_type": "code",
   "execution_count": 110,
   "metadata": {},
   "outputs": [],
   "source": [
    "distro = [lda[d] for d in corpus]\n",
    "\n",
    "def update(doc):\n",
    "        d_dist = {k:0 for k in range(0,15)}\n",
    "        for t in doc:\n",
    "            d_dist[t[0]] = t[1]\n",
    "        return d_dist\n",
    "    \n",
    "new_distro = [update(d) for d in distro]"
   ]
  },
  {
   "cell_type": "code",
   "execution_count": 111,
   "metadata": {},
   "outputs": [],
   "source": [
    "df = pd.DataFrame.from_records(new_distro, index=titles)\n",
    "df.columns = topics\n",
    "df['author'] = df.reset_index()['index'].apply(lambda x: x.split('_')[0]).tolist()"
   ]
  },
  {
   "cell_type": "code",
   "execution_count": 112,
   "metadata": {},
   "outputs": [
    {
     "data": {
      "text/html": [
       "<div>\n",
       "<style scoped>\n",
       "    .dataframe tbody tr th:only-of-type {\n",
       "        vertical-align: middle;\n",
       "    }\n",
       "\n",
       "    .dataframe tbody tr th {\n",
       "        vertical-align: top;\n",
       "    }\n",
       "\n",
       "    .dataframe thead th {\n",
       "        text-align: right;\n",
       "    }\n",
       "</style>\n",
       "<table border=\"1\" class=\"dataframe\">\n",
       "  <thead>\n",
       "    <tr style=\"text-align: right;\">\n",
       "      <th></th>\n",
       "      <th>elinor marianne edward dashwood jennings</th>\n",
       "      <th>little like thought monsieur madame</th>\n",
       "      <th>like night long thought door</th>\n",
       "      <th>sir like jane know thought</th>\n",
       "      <th>miss little like papa new</th>\n",
       "      <th>room dancing thought way dance</th>\n",
       "      <th>jane heart old eye monsieur</th>\n",
       "      <th>graham little papa like bretton</th>\n",
       "      <th>home soon sir hannah rochester</th>\n",
       "      <th>like little rochester sir jane</th>\n",
       "      <th>emma harriet miss elton knightley</th>\n",
       "      <th>elizabeth miss know think good</th>\n",
       "      <th>madame child good little day</th>\n",
       "      <th>church little time rome strange</th>\n",
       "      <th>bessie reed abbot miss like</th>\n",
       "      <th>author</th>\n",
       "    </tr>\n",
       "  </thead>\n",
       "  <tbody>\n",
       "    <tr>\n",
       "      <th>Austen_Emma0000</th>\n",
       "      <td>0.0</td>\n",
       "      <td>0.0</td>\n",
       "      <td>0.0</td>\n",
       "      <td>0.0</td>\n",
       "      <td>0.0</td>\n",
       "      <td>0.0</td>\n",
       "      <td>0.0</td>\n",
       "      <td>0.0</td>\n",
       "      <td>0.0</td>\n",
       "      <td>0.0</td>\n",
       "      <td>0.207136</td>\n",
       "      <td>0.790858</td>\n",
       "      <td>0.0</td>\n",
       "      <td>0.0</td>\n",
       "      <td>0.0</td>\n",
       "      <td>Austen</td>\n",
       "    </tr>\n",
       "    <tr>\n",
       "      <th>Austen_Emma0001</th>\n",
       "      <td>0.0</td>\n",
       "      <td>0.0</td>\n",
       "      <td>0.0</td>\n",
       "      <td>0.0</td>\n",
       "      <td>0.0</td>\n",
       "      <td>0.0</td>\n",
       "      <td>0.0</td>\n",
       "      <td>0.0</td>\n",
       "      <td>0.0</td>\n",
       "      <td>0.0</td>\n",
       "      <td>0.498182</td>\n",
       "      <td>0.499376</td>\n",
       "      <td>0.0</td>\n",
       "      <td>0.0</td>\n",
       "      <td>0.0</td>\n",
       "      <td>Austen</td>\n",
       "    </tr>\n",
       "    <tr>\n",
       "      <th>Austen_Emma0002</th>\n",
       "      <td>0.0</td>\n",
       "      <td>0.0</td>\n",
       "      <td>0.0</td>\n",
       "      <td>0.0</td>\n",
       "      <td>0.0</td>\n",
       "      <td>0.0</td>\n",
       "      <td>0.0</td>\n",
       "      <td>0.0</td>\n",
       "      <td>0.0</td>\n",
       "      <td>0.0</td>\n",
       "      <td>0.445014</td>\n",
       "      <td>0.552724</td>\n",
       "      <td>0.0</td>\n",
       "      <td>0.0</td>\n",
       "      <td>0.0</td>\n",
       "      <td>Austen</td>\n",
       "    </tr>\n",
       "    <tr>\n",
       "      <th>Austen_Emma0003</th>\n",
       "      <td>0.0</td>\n",
       "      <td>0.0</td>\n",
       "      <td>0.0</td>\n",
       "      <td>0.0</td>\n",
       "      <td>0.0</td>\n",
       "      <td>0.0</td>\n",
       "      <td>0.0</td>\n",
       "      <td>0.0</td>\n",
       "      <td>0.0</td>\n",
       "      <td>0.0</td>\n",
       "      <td>0.221484</td>\n",
       "      <td>0.776386</td>\n",
       "      <td>0.0</td>\n",
       "      <td>0.0</td>\n",
       "      <td>0.0</td>\n",
       "      <td>Austen</td>\n",
       "    </tr>\n",
       "    <tr>\n",
       "      <th>Austen_Emma0004</th>\n",
       "      <td>0.0</td>\n",
       "      <td>0.0</td>\n",
       "      <td>0.0</td>\n",
       "      <td>0.0</td>\n",
       "      <td>0.0</td>\n",
       "      <td>0.0</td>\n",
       "      <td>0.0</td>\n",
       "      <td>0.0</td>\n",
       "      <td>0.0</td>\n",
       "      <td>0.0</td>\n",
       "      <td>0.417731</td>\n",
       "      <td>0.580267</td>\n",
       "      <td>0.0</td>\n",
       "      <td>0.0</td>\n",
       "      <td>0.0</td>\n",
       "      <td>Austen</td>\n",
       "    </tr>\n",
       "  </tbody>\n",
       "</table>\n",
       "</div>"
      ],
      "text/plain": [
       "                 elinor marianne edward dashwood jennings  \\\n",
       "Austen_Emma0000                                       0.0   \n",
       "Austen_Emma0001                                       0.0   \n",
       "Austen_Emma0002                                       0.0   \n",
       "Austen_Emma0003                                       0.0   \n",
       "Austen_Emma0004                                       0.0   \n",
       "\n",
       "                 little like thought monsieur madame  \\\n",
       "Austen_Emma0000                                  0.0   \n",
       "Austen_Emma0001                                  0.0   \n",
       "Austen_Emma0002                                  0.0   \n",
       "Austen_Emma0003                                  0.0   \n",
       "Austen_Emma0004                                  0.0   \n",
       "\n",
       "                 like night long thought door  sir like jane know thought  \\\n",
       "Austen_Emma0000                           0.0                         0.0   \n",
       "Austen_Emma0001                           0.0                         0.0   \n",
       "Austen_Emma0002                           0.0                         0.0   \n",
       "Austen_Emma0003                           0.0                         0.0   \n",
       "Austen_Emma0004                           0.0                         0.0   \n",
       "\n",
       "                 miss little like papa new  room dancing thought way dance  \\\n",
       "Austen_Emma0000                        0.0                             0.0   \n",
       "Austen_Emma0001                        0.0                             0.0   \n",
       "Austen_Emma0002                        0.0                             0.0   \n",
       "Austen_Emma0003                        0.0                             0.0   \n",
       "Austen_Emma0004                        0.0                             0.0   \n",
       "\n",
       "                 jane heart old eye monsieur  graham little papa like bretton  \\\n",
       "Austen_Emma0000                          0.0                              0.0   \n",
       "Austen_Emma0001                          0.0                              0.0   \n",
       "Austen_Emma0002                          0.0                              0.0   \n",
       "Austen_Emma0003                          0.0                              0.0   \n",
       "Austen_Emma0004                          0.0                              0.0   \n",
       "\n",
       "                 home soon sir hannah rochester  \\\n",
       "Austen_Emma0000                             0.0   \n",
       "Austen_Emma0001                             0.0   \n",
       "Austen_Emma0002                             0.0   \n",
       "Austen_Emma0003                             0.0   \n",
       "Austen_Emma0004                             0.0   \n",
       "\n",
       "                 like little rochester sir jane  \\\n",
       "Austen_Emma0000                             0.0   \n",
       "Austen_Emma0001                             0.0   \n",
       "Austen_Emma0002                             0.0   \n",
       "Austen_Emma0003                             0.0   \n",
       "Austen_Emma0004                             0.0   \n",
       "\n",
       "                 emma harriet miss elton knightley  \\\n",
       "Austen_Emma0000                           0.207136   \n",
       "Austen_Emma0001                           0.498182   \n",
       "Austen_Emma0002                           0.445014   \n",
       "Austen_Emma0003                           0.221484   \n",
       "Austen_Emma0004                           0.417731   \n",
       "\n",
       "                 elizabeth miss know think good  madame child good little day  \\\n",
       "Austen_Emma0000                        0.790858                           0.0   \n",
       "Austen_Emma0001                        0.499376                           0.0   \n",
       "Austen_Emma0002                        0.552724                           0.0   \n",
       "Austen_Emma0003                        0.776386                           0.0   \n",
       "Austen_Emma0004                        0.580267                           0.0   \n",
       "\n",
       "                 church little time rome strange  bessie reed abbot miss like  \\\n",
       "Austen_Emma0000                              0.0                          0.0   \n",
       "Austen_Emma0001                              0.0                          0.0   \n",
       "Austen_Emma0002                              0.0                          0.0   \n",
       "Austen_Emma0003                              0.0                          0.0   \n",
       "Austen_Emma0004                              0.0                          0.0   \n",
       "\n",
       "                 author  \n",
       "Austen_Emma0000  Austen  \n",
       "Austen_Emma0001  Austen  \n",
       "Austen_Emma0002  Austen  \n",
       "Austen_Emma0003  Austen  \n",
       "Austen_Emma0004  Austen  "
      ]
     },
     "execution_count": 112,
     "metadata": {},
     "output_type": "execute_result"
    }
   ],
   "source": [
    "df.head()"
   ]
  },
  {
   "cell_type": "code",
   "execution_count": 69,
   "metadata": {},
   "outputs": [
    {
     "data": {
      "text/html": [
       "<div>\n",
       "<style scoped>\n",
       "    .dataframe tbody tr th:only-of-type {\n",
       "        vertical-align: middle;\n",
       "    }\n",
       "\n",
       "    .dataframe tbody tr th {\n",
       "        vertical-align: top;\n",
       "    }\n",
       "\n",
       "    .dataframe thead th {\n",
       "        text-align: right;\n",
       "    }\n",
       "</style>\n",
       "<table border=\"1\" class=\"dataframe\">\n",
       "  <thead>\n",
       "    <tr style=\"text-align: right;\">\n",
       "      <th></th>\n",
       "      <th>marianne elinor willoughby sister jennings</th>\n",
       "      <th>elinor edward sister mother lucy</th>\n",
       "      <th>like miss rochester room lady</th>\n",
       "      <th>adele rochester ladies ll shall</th>\n",
       "      <th>emma harriet miss think thing</th>\n",
       "      <th>miss jane know thing think</th>\n",
       "      <th>hunsden like st face thought</th>\n",
       "      <th>monsieur mdlle pelet reuter english</th>\n",
       "      <th>elizabeth darcy bingley bennet jane</th>\n",
       "      <th>jane sir know like rochester</th>\n",
       "      <th>graham bretton papa lucy know</th>\n",
       "      <th>like thought long night hand</th>\n",
       "      <th>madame day beck know like</th>\n",
       "      <th>dr madame thought think sir</th>\n",
       "      <th>moon adele mademoiselle liked lowood</th>\n",
       "    </tr>\n",
       "    <tr>\n",
       "      <th>author</th>\n",
       "      <th></th>\n",
       "      <th></th>\n",
       "      <th></th>\n",
       "      <th></th>\n",
       "      <th></th>\n",
       "      <th></th>\n",
       "      <th></th>\n",
       "      <th></th>\n",
       "      <th></th>\n",
       "      <th></th>\n",
       "      <th></th>\n",
       "      <th></th>\n",
       "      <th></th>\n",
       "      <th></th>\n",
       "      <th></th>\n",
       "    </tr>\n",
       "  </thead>\n",
       "  <tbody>\n",
       "    <tr>\n",
       "      <th>Austen</th>\n",
       "      <td>0.071713</td>\n",
       "      <td>0.208254</td>\n",
       "      <td>0.010205</td>\n",
       "      <td>0.000000</td>\n",
       "      <td>0.380388</td>\n",
       "      <td>0.085653</td>\n",
       "      <td>0.000099</td>\n",
       "      <td>0.000079</td>\n",
       "      <td>0.203246</td>\n",
       "      <td>0.001405</td>\n",
       "      <td>0.022159</td>\n",
       "      <td>0.011784</td>\n",
       "      <td>0.000028</td>\n",
       "      <td>0.002325</td>\n",
       "      <td>0.0000</td>\n",
       "    </tr>\n",
       "    <tr>\n",
       "      <th>CBronte</th>\n",
       "      <td>0.000076</td>\n",
       "      <td>0.009987</td>\n",
       "      <td>0.119843</td>\n",
       "      <td>0.007553</td>\n",
       "      <td>0.009064</td>\n",
       "      <td>0.002825</td>\n",
       "      <td>0.043100</td>\n",
       "      <td>0.038763</td>\n",
       "      <td>0.000294</td>\n",
       "      <td>0.097633</td>\n",
       "      <td>0.040166</td>\n",
       "      <td>0.581370</td>\n",
       "      <td>0.021017</td>\n",
       "      <td>0.020656</td>\n",
       "      <td>0.0048</td>\n",
       "    </tr>\n",
       "  </tbody>\n",
       "</table>\n",
       "</div>"
      ],
      "text/plain": [
       "         marianne elinor willoughby sister jennings  \\\n",
       "author                                                \n",
       "Austen                                     0.071713   \n",
       "CBronte                                    0.000076   \n",
       "\n",
       "         elinor edward sister mother lucy  like miss rochester room lady  \\\n",
       "author                                                                     \n",
       "Austen                           0.208254                       0.010205   \n",
       "CBronte                          0.009987                       0.119843   \n",
       "\n",
       "         adele rochester ladies ll shall  emma harriet miss think thing  \\\n",
       "author                                                                    \n",
       "Austen                          0.000000                       0.380388   \n",
       "CBronte                         0.007553                       0.009064   \n",
       "\n",
       "         miss jane know thing think  hunsden like st face thought  \\\n",
       "author                                                              \n",
       "Austen                     0.085653                      0.000099   \n",
       "CBronte                    0.002825                      0.043100   \n",
       "\n",
       "         monsieur mdlle pelet reuter english  \\\n",
       "author                                         \n",
       "Austen                              0.000079   \n",
       "CBronte                             0.038763   \n",
       "\n",
       "         elizabeth darcy bingley bennet jane  jane sir know like rochester  \\\n",
       "author                                                                       \n",
       "Austen                              0.203246                      0.001405   \n",
       "CBronte                             0.000294                      0.097633   \n",
       "\n",
       "         graham bretton papa lucy know  like thought long night hand  \\\n",
       "author                                                                 \n",
       "Austen                        0.022159                      0.011784   \n",
       "CBronte                       0.040166                      0.581370   \n",
       "\n",
       "         madame day beck know like  dr madame thought think sir  \\\n",
       "author                                                            \n",
       "Austen                    0.000028                     0.002325   \n",
       "CBronte                   0.021017                     0.020656   \n",
       "\n",
       "         moon adele mademoiselle liked lowood  \n",
       "author                                         \n",
       "Austen                                 0.0000  \n",
       "CBronte                                0.0048  "
      ]
     },
     "execution_count": 69,
     "metadata": {},
     "output_type": "execute_result"
    }
   ],
   "source": [
    "df.groupby('author').mean()"
   ]
  },
  {
   "cell_type": "markdown",
   "metadata": {},
   "source": [
    "## Challenge\n",
    "### *Can we see if one of the authors focus more on men than women?*\n",
    "\n",
    "*  Use Spacy for text prepocessing\n",
    "*  Extract the Named Entities from the documents using Spacy (command is fairly straight forward)\n",
    "*  Create unique list of names from the authors (you'll find that there are different types of named entities not all people)\n",
    "*  Label the names with genders (can you this by hand or you use the US census name lists)\n",
    "*  Customize your processing to replace the proper name with your gender from the previous step's lookup table\n",
    "*  Then follow the rest of the LDA flow\n"
   ]
  },
  {
   "cell_type": "markdown",
   "metadata": {},
   "source": [
    "# Selecting the Number of Topics (Learn)\n",
    "<a id=\"#p4\"></a>"
   ]
  },
  {
   "cell_type": "markdown",
   "metadata": {},
   "source": [
    "## Overview"
   ]
  },
  {
   "cell_type": "markdown",
   "metadata": {},
   "source": [
    "## Follow Along"
   ]
  },
  {
   "cell_type": "code",
   "execution_count": 113,
   "metadata": {},
   "outputs": [],
   "source": [
    "from gensim.models.coherencemodel import CoherenceModel\n",
    "\n",
    "def compute_coherence_values(dictionary, corpus, path, limit, start=2, step=3, passes=5):\n",
    "    \"\"\"\n",
    "    Compute c_v coherence for various number of topics\n",
    "\n",
    "    Parameters:\n",
    "    ----------\n",
    "    dictionary : Gensim dictionary\n",
    "    corpus : Gensim corpus\n",
    "    path : path to input texts\n",
    "    limit : Max num of topics\n",
    "    passes: the number of times the entire lda model & coherence values are calculated\n",
    "\n",
    "    Returns:\n",
    "    -------\n",
    "    coherence_values : Coherence values corresponding to the LDA model with respective number of topics\n",
    "    \"\"\"\n",
    "    \n",
    "    coherence_values = []\n",
    "    \n",
    "    tokens = list(doc_stream(path))\n",
    "    \n",
    "    for iter_ in range(passes):\n",
    "        for num_topics in range(start, limit, step):\n",
    "            stream = doc_stream(path)\n",
    "            model = LdaMulticore(corpus=corpus, num_topics=num_topics, id2word=dictionary, workers=4)\n",
    "            coherencemodel = CoherenceModel(model=model,dictionary=dictionary,corpus=corpus, coherence='u_mass')\n",
    "            coherence_values.append({'pass': iter_, \n",
    "                                     'num_topics': num_topics, \n",
    "                                     'coherence_score': coherencemodel.get_coherence()\n",
    "                                    })\n",
    "\n",
    "    return coherence_values"
   ]
  },
  {
   "cell_type": "code",
   "execution_count": null,
   "metadata": {},
   "outputs": [],
   "source": [
    "# Can take a long time to run.\n",
    "coherence_values = compute_coherence_values(dictionary=id2word, \n",
    "                                                        corpus=corpus, \n",
    "                                                        path=path, \n",
    "                                                        start=2, \n",
    "                                                        limit=40, \n",
    "                                                        step=6,\n",
    "                                                        passes=40)"
   ]
  },
  {
   "cell_type": "code",
   "execution_count": 123,
   "metadata": {},
   "outputs": [],
   "source": [
    "topic_coherence = pd.DataFrame.from_records(coherence_values)"
   ]
  },
  {
   "cell_type": "code",
   "execution_count": 115,
   "metadata": {},
   "outputs": [
    {
     "ename": "NameError",
     "evalue": "name 'coherencemodel' is not defined",
     "output_type": "error",
     "traceback": [
      "\u001b[0;31m---------------------------------------------------------------------------\u001b[0m",
      "\u001b[0;31mNameError\u001b[0m                                 Traceback (most recent call last)",
      "\u001b[0;32m<ipython-input-115-463aad305d7a>\u001b[0m in \u001b[0;36m<module>\u001b[0;34m\u001b[0m\n\u001b[0;32m----> 1\u001b[0;31m \u001b[0mcoherencemodel\u001b[0m\u001b[0;34m\u001b[0m\u001b[0;34m\u001b[0m\u001b[0m\n\u001b[0m",
      "\u001b[0;31mNameError\u001b[0m: name 'coherencemodel' is not defined"
     ]
    }
   ],
   "source": []
  },
  {
   "cell_type": "code",
   "execution_count": 124,
   "metadata": {},
   "outputs": [
    {
     "data": {
      "text/html": [
       "<div>\n",
       "<style scoped>\n",
       "    .dataframe tbody tr th:only-of-type {\n",
       "        vertical-align: middle;\n",
       "    }\n",
       "\n",
       "    .dataframe tbody tr th {\n",
       "        vertical-align: top;\n",
       "    }\n",
       "\n",
       "    .dataframe thead th {\n",
       "        text-align: right;\n",
       "    }\n",
       "</style>\n",
       "<table border=\"1\" class=\"dataframe\">\n",
       "  <thead>\n",
       "    <tr style=\"text-align: right;\">\n",
       "      <th></th>\n",
       "      <th>coherence_score</th>\n",
       "      <th>num_topics</th>\n",
       "      <th>pass</th>\n",
       "    </tr>\n",
       "  </thead>\n",
       "  <tbody>\n",
       "    <tr>\n",
       "      <th>0</th>\n",
       "      <td>-0.935416</td>\n",
       "      <td>2</td>\n",
       "      <td>0</td>\n",
       "    </tr>\n",
       "    <tr>\n",
       "      <th>1</th>\n",
       "      <td>-0.939436</td>\n",
       "      <td>8</td>\n",
       "      <td>0</td>\n",
       "    </tr>\n",
       "    <tr>\n",
       "      <th>2</th>\n",
       "      <td>-0.952264</td>\n",
       "      <td>14</td>\n",
       "      <td>0</td>\n",
       "    </tr>\n",
       "    <tr>\n",
       "      <th>3</th>\n",
       "      <td>-0.912855</td>\n",
       "      <td>20</td>\n",
       "      <td>0</td>\n",
       "    </tr>\n",
       "    <tr>\n",
       "      <th>4</th>\n",
       "      <td>-0.905050</td>\n",
       "      <td>26</td>\n",
       "      <td>0</td>\n",
       "    </tr>\n",
       "  </tbody>\n",
       "</table>\n",
       "</div>"
      ],
      "text/plain": [
       "   coherence_score  num_topics  pass\n",
       "0        -0.935416           2     0\n",
       "1        -0.939436           8     0\n",
       "2        -0.952264          14     0\n",
       "3        -0.912855          20     0\n",
       "4        -0.905050          26     0"
      ]
     },
     "execution_count": 124,
     "metadata": {},
     "output_type": "execute_result"
    }
   ],
   "source": [
    "topic_coherence.head()"
   ]
  },
  {
   "cell_type": "code",
   "execution_count": 125,
   "metadata": {},
   "outputs": [
    {
     "data": {
      "image/png": "[encoded data removed]",
      "text/plain": [
       "<Figure size 432x288 with 1 Axes>"
      ]
     },
     "metadata": {
      "needs_background": "light"
     },
     "output_type": "display_data"
    }
   ],
   "source": [
    "import seaborn as sns\n",
    "\n",
    "ax = sns.lineplot(x=\"num_topics\", y=\"coherence_score\", data=topic_coherence)"
   ]
  },
  {
   "cell_type": "code",
   "execution_count": 76,
   "metadata": {},
   "outputs": [
    {
     "name": "stdout",
     "output_type": "stream",
     "text": [
      "Num Topics = 2  has Coherence Value of 0.2785\n",
      "Num Topics = 8  has Coherence Value of 0.3029\n",
      "Num Topics = 14  has Coherence Value of 0.2887\n",
      "Num Topics = 20  has Coherence Value of 0.2852\n",
      "Num Topics = 26  has Coherence Value of 0.2846\n",
      "Num Topics = 32  has Coherence Value of 0.2914\n",
      "Num Topics = 38  has Coherence Value of 0.2878\n"
     ]
    }
   ],
   "source": [
    "# Print the coherence scores\n",
    "for m, cv in zip(x, coherence_values):\n",
    "    print(\"Num Topics =\", m, \" has Coherence Value of\", round(cv, 4))"
   ]
  },
  {
   "cell_type": "code",
   "execution_count": 89,
   "metadata": {},
   "outputs": [
    {
     "data": {
      "text/plain": [
       "[(0, 0.02226036),\n",
       " (1, 0.022260414),\n",
       " (2, 0.022260347),\n",
       " (3, 0.022260347),\n",
       " (4, 0.022260392),\n",
       " (5, 0.0222604),\n",
       " (6, 0.022260347),\n",
       " (7, 0.35487327),\n",
       " (8, 0.022260398),\n",
       " (9, 0.022260517),\n",
       " (10, 0.022260416),\n",
       " (11, 0.022260422),\n",
       " (12, 0.3557417),\n",
       " (13, 0.022260347),\n",
       " (14, 0.022260347)]"
      ]
     },
     "execution_count": 89,
     "metadata": {},
     "output_type": "execute_result"
    }
   ],
   "source": [
    "lda[id2word.doc2bow(tokenize(\"This is a sample document to score with a topic distribution.\"))]"
   ]
  },
  {
   "cell_type": "markdown",
   "metadata": {},
   "source": [
    "## Challenge\n",
    "### *Can we see if one of the authors focus more on men than women?*\n",
    "\n",
    "*  Use Spacy for text prepocessing\n",
    "*  Extract the Named Entities from the documents using Spacy (command is fairly straight forward)\n",
    "*  Create unique list of names from the authors (you'll find that there are different types of named entities not all people)\n",
    "*  Label the names with genders (can you this by hand or you use the US census name lists)\n",
    "*  Customize your processing to replace the proper name with your gender from the previous step's lookup table\n",
    "*  Then follow the rest of the LDA flow"
   ]
  },
  {
   "cell_type": "code",
   "execution_count": 78,
   "metadata": {},
   "outputs": [
    {
     "name": "stderr",
     "output_type": "stream",
     "text": [
      "/Users/jonathansokoll/anaconda3/envs/U4-S1-NLP/lib/python3.7/site-packages/thinc/neural/train.py:7: DeprecationWarning: Using or importing the ABCs from 'collections' instead of from 'collections.abc' is deprecated, and in 3.8 it will stop working\n",
      "  from .optimizers import Adam, linear_decay\n",
      "/Users/jonathansokoll/anaconda3/envs/U4-S1-NLP/lib/python3.7/site-packages/thinc/check.py:4: DeprecationWarning: Using or importing the ABCs from 'collections' instead of from 'collections.abc' is deprecated, and in 3.8 it will stop working\n",
      "  from collections import Sequence, Sized, Iterable, Callable\n",
      "/Users/jonathansokoll/anaconda3/envs/U4-S1-NLP/lib/python3.7/site-packages/thinc/check.py:4: DeprecationWarning: Using or importing the ABCs from 'collections' instead of from 'collections.abc' is deprecated, and in 3.8 it will stop working\n",
      "  from collections import Sequence, Sized, Iterable, Callable\n"
     ]
    }
   ],
   "source": [
    "import spacy\n",
    "\n",
    "nlp = spacy.load('en_core_web_lg')"
   ]
  },
  {
   "cell_type": "code",
   "execution_count": 79,
   "metadata": {},
   "outputs": [],
   "source": [
    "test = \"Ned asked me a question about England today.\""
   ]
  },
  {
   "cell_type": "code",
   "execution_count": 80,
   "metadata": {},
   "outputs": [
    {
     "name": "stdout",
     "output_type": "stream",
     "text": [
      "Ned Ned PROPN\n",
      "asked ask VERB\n",
      "me -PRON- PRON\n",
      "a a DET\n",
      "question question NOUN\n",
      "about about ADP\n",
      "England England PROPN\n",
      "today today NOUN\n",
      ". . PUNCT\n"
     ]
    }
   ],
   "source": [
    "doc = nlp(test)\n",
    "\n",
    "for token in doc:\n",
    "    print(token.text, token.lemma_, token.pos_)"
   ]
  },
  {
   "cell_type": "code",
   "execution_count": 81,
   "metadata": {},
   "outputs": [
    {
     "name": "stdout",
     "output_type": "stream",
     "text": [
      "Ned PERSON\n",
      "England GPE\n",
      "today DATE\n"
     ]
    }
   ],
   "source": [
    "for ent in doc.ents:\n",
    "    print(ent.text, ent.label_)"
   ]
  },
  {
   "cell_type": "code",
   "execution_count": 82,
   "metadata": {},
   "outputs": [],
   "source": [
    "def doc_stream(path):\n",
    "    for f in os.listdir(path):\n",
    "        with open(os.path.join(path,f)) as t:\n",
    "            text = t.read().strip('\\n')\n",
    "            yield text\n",
    "\n",
    "def get_people(docstream):\n",
    "    \n",
    "    ppl = []\n",
    "    \n",
    "    for d in docstream:\n",
    "        \n",
    "        doc = nlp(d)\n",
    "        \n",
    "        for ent in doc.ents:\n",
    "            \n",
    "            if ent.label_ == \"PERSON\":\n",
    "                ppl.append(ent.lemma_)\n",
    "                \n",
    "    return set(ppl)"
   ]
  },
  {
   "cell_type": "code",
   "execution_count": 129,
   "metadata": {},
   "outputs": [],
   "source": [
    "people = get_people(doc_stream(path))"
   ]
  },
  {
   "cell_type": "code",
   "execution_count": 126,
   "metadata": {},
   "outputs": [],
   "source": [
    "doc = nlp(next(doc_stream(path)))"
   ]
  },
  {
   "cell_type": "code",
   "execution_count": 128,
   "metadata": {},
   "outputs": [
    {
     "data": {
      "text/plain": [
       "'yesterday'"
      ]
     },
     "execution_count": 128,
     "metadata": {},
     "output_type": "execute_result"
    }
   ],
   "source": [
    "doc.ents[0].lemma_"
   ]
  },
  {
   "cell_type": "markdown",
   "metadata": {},
   "source": [
    "# Sources\n",
    "\n",
    "### *References*\n",
    "* [Andrew Ng et al paper on LDA](https://ai.stanford.edu/~ang/papers/jair03-lda.pdf)\n",
    "* On [Coherence](https://pdfs.semanticscholar.org/1521/8d9c029cbb903ae7c729b2c644c24994c201.pdf)\n",
    "\n",
    "### *Resources*\n",
    "\n",
    "* [Gensim](https://radimrehurek.com/gensim/): Python package for topic modeling, nlp, word vectorization, and few other things. Well maintained and well documented.\n",
    "* [Topic Modeling with Gensim](http://www.machinelearningplus.com/nlp/topic-modeling-gensim-python/#11createthedictionaryandcorpusneededfortopicmodeling): A kind of cookbook for LDA with gensim. Excellent overview, but the you need to be aware of missing import statements and assumed prior knowledge.\n",
    "* [Chinese Restuarant Process](https://en.wikipedia.org/wiki/Chinese_restaurant_process): That really obscure stats thing I mentioned... \n",
    "* [PyLDAvis](https://github.com/bmabey/pyLDAvis): Library for visualizing the topic model and performing some exploratory work. Works well. Has a direct parrell implementation in R as well. \n",
    "* [Rare Technologies](https://rare-technologies.com/): The people that made & maintain gensim and a few other libraries.\n",
    "* [Jane Austen v. Charlotte Bronte](https://www.literaryladiesguide.com/literary-musings/jane-austen-charlotte-bronte-different-alike/)"
   ]
  }
 ],
 "metadata": {
  "kernelspec": {
   "display_name": "unit-4",
   "language": "python",
   "name": "unit-4"
  },
  "language_info": {
   "codemirror_mode": {
    "name": "ipython",
    "version": 3
   },
   "file_extension": ".py",
   "mimetype": "text/x-python",
   "name": "python",
   "nbconvert_exporter": "python",
   "pygments_lexer": "ipython3",
   "version": "3.7.0"
  }
 },
 "nbformat": 4,
 "nbformat_minor": 2
}

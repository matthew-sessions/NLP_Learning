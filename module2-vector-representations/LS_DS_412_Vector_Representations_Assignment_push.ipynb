{
 "cells": [
  {
   "cell_type": "markdown",
   "metadata": {},
   "source": [
    "<img align=\"left\" src=\"https://lever-client-logos.s3.amazonaws.com/864372b1-534c-480e-acd5-9711f850815c-1524247202159.png\" width=200>\n",
    "<br></br>\n",
    "\n",
    "# Vector Representations\n",
    "## *Data Science Unit 4 Sprint 2 Assignment 2*"
   ]
  },
  {
   "cell_type": "code",
   "execution_count": 1,
   "metadata": {
    "colab": {
     "base_uri": "https://localhost:8080/",
     "height": 159
    },
    "colab_type": "code",
    "id": "hyj-f9FDcVFp",
    "outputId": "5dd045fe-6e4c-458c-e2fc-253c3da9c805"
   },
   "outputs": [],
   "source": [
    "import re\n",
    "import string\n",
    "\n",
    "from sklearn.feature_extraction.text import CountVectorizer, TfidfVectorizer\n",
    "import matplotlib.pyplot as plt\n",
    "import pandas as pd\n",
    "import numpy as np\n",
    "import spacy"
   ]
  },
  {
   "cell_type": "code",
   "execution_count": 63,
   "metadata": {},
   "outputs": [
    {
     "name": "stdout",
     "output_type": "stream",
     "text": [
      "Collecting bs4\n",
      "  Using cached https://files.pythonhosted.org/packages/10/ed/7e8b97591f6f456174139ec089c769f89a94a1a4025fe967691de971f314/bs4-0.0.1.tar.gz\n",
      "Collecting beautifulsoup4\n",
      "  Downloading https://files.pythonhosted.org/packages/3b/c8/a55eb6ea11cd7e5ac4bacdf92bac4693b90d3ba79268be16527555e186f0/beautifulsoup4-4.8.1-py3-none-any.whl (101kB)\n",
      "Collecting soupsieve>=1.2\n",
      "  Downloading https://files.pythonhosted.org/packages/5d/42/d821581cf568e9b7dfc5b415aa61952b0f5e3dede4f3cbd650e3a1082992/soupsieve-1.9.4-py2.py3-none-any.whl\n",
      "Building wheels for collected packages: bs4\n",
      "  Building wheel for bs4 (setup.py): started\n",
      "  Building wheel for bs4 (setup.py): finished with status 'done'\n",
      "  Created wheel for bs4: filename=bs4-0.0.1-cp37-none-any.whl size=1278 sha256=408ffe081b05c45207b711dd71facab98e36cffeb88418f95328851b5beb2626\n",
      "  Stored in directory: C:\\Users\\WIN 10\\AppData\\Local\\pip\\Cache\\wheels\\a0\\b0\\b2\\4f80b9456b87abedbc0bf2d52235414c3467d8889be38dd472\n",
      "Successfully built bs4\n",
      "Installing collected packages: soupsieve, beautifulsoup4, bs4\n",
      "Successfully installed beautifulsoup4-4.8.1 bs4-0.0.1 soupsieve-1.9.4\n"
     ]
    }
   ],
   "source": [
    "!pip install bs4"
   ]
  },
  {
   "cell_type": "markdown",
   "metadata": {
    "colab_type": "text",
    "id": "M7bcmqfGXrFG"
   },
   "source": [
    "## 1) *Optional:* Scrape 100 Job Listings that contain the title \"Data Scientist\" from indeed.com\n",
    "\n",
    "At a minimum your final dataframe of job listings should contain\n",
    "- Job Title\n",
    "- Job Description\n",
    "\n",
    "If you choose to not to scrape the data, there is a CSV with outdated data in the directory. Remeber, if you scrape Indeed, you're helping yourself find a job. ;)"
   ]
  },
  {
   "cell_type": "code",
   "execution_count": 266,
   "metadata": {
    "colab": {},
    "colab_type": "code",
    "id": "KcYlc1URXhlC"
   },
   "outputs": [],
   "source": [
    "from bs4 import BeautifulSoup as bs\n",
    "import requests\n",
    "import pandas as pd\n",
    "\n",
    "job_df = pd.DataFrame([], columns=['title',\"description\"])\n",
    "\n",
    "def job_info(url):\n",
    "    \"\"\"Scrapes data from individual job posts\"\"\"\n",
    "    html_doc = requests.get(url)\n",
    "    soup = bs(html_doc.content, 'html.parser')\n",
    "    all_content = soup.find('div',class_='jobsearch-ViewJobLayout-jobDisplay icl-Grid-col icl-u-xs-span12 icl-u-lg-span7')\n",
    "    try:\n",
    "        title = all_content.find('h3').text.strip()\n",
    "    except:\n",
    "        title = np.NaN\n",
    "    try:\n",
    "        description = all_content.find('div',class_='jobsearch-jobDescriptionText').text.strip()\n",
    "    except:\n",
    "        description = np.NaN\n",
    "    df = pd.DataFrame({'title':[title],'description':[description]})\n",
    "    return(df)"
   ]
  },
  {
   "cell_type": "code",
   "execution_count": 267,
   "metadata": {},
   "outputs": [],
   "source": [
    "def job_links(url):\n",
    "    \"\"\"Collects the links for all the listing on a search results page.\"\"\"\n",
    "    html_doc = requests.get(url)\n",
    "    soup = bs(html_doc.content, 'html.parser')\n",
    "    all_content = soup.find_all('div',class_='title')\n",
    "    link_list = []\n",
    "    for i in all_content:\n",
    "        link = i.find('a', class_='jobtitle')['href']\n",
    "        link_list.append(f\"https://www.indeed.com{link}\")\n",
    " \n",
    "    return(link_list)"
   ]
  },
  {
   "cell_type": "code",
   "execution_count": 268,
   "metadata": {},
   "outputs": [],
   "source": [
    "a = job_links('https://www.indeed.com/jobs?q=data+scientist&l=seattle&start=0')\n"
   ]
  },
  {
   "cell_type": "code",
   "execution_count": 269,
   "metadata": {},
   "outputs": [
    {
     "name": "stdout",
     "output_type": "stream",
     "text": [
      "https://www.indeed.com/jobs?q=data+scientist&l=seattle&start=0\n",
      "https://www.indeed.com/jobs?q=data+scientist&l=seattle&start=10\n",
      "https://www.indeed.com/jobs?q=data+scientist&l=seattle&start=20\n",
      "https://www.indeed.com/jobs?q=data+scientist&l=seattle&start=30\n",
      "https://www.indeed.com/jobs?q=data+scientist&l=seattle&start=40\n",
      "https://www.indeed.com/jobs?q=data+scientist&l=seattle&start=50\n",
      "https://www.indeed.com/jobs?q=data+scientist&l=seattle&start=60\n",
      "https://www.indeed.com/jobs?q=data+scientist&l=seattle&start=70\n",
      "https://www.indeed.com/jobs?q=data+scientist&l=seattle&start=80\n",
      "https://www.indeed.com/jobs?q=data+scientist&l=seattle&start=90\n"
     ]
    }
   ],
   "source": [
    "job_df = pd.DataFrame([], columns=['title',\"description\"])\n",
    "for i in range(0,100,10):\n",
    "    #takes the indeed search link with the search parameters and iterates over the first 9 pages of results\n",
    "    #Note: q= the search query l= the location start= page number. Example: page 1 is 0, page 2 is 10, page 3 is 20\n",
    "    url = 'https://www.indeed.com/jobs?q=data+scientist&l=seattle&start='+str(i)\n",
    "    print(url)\n",
    "    jobs = job_links(url)\n",
    "    for job in jobs:\n",
    "        df = job_info(job)\n",
    "        job_df = job_df.append(df)"
   ]
  },
  {
   "cell_type": "code",
   "execution_count": 270,
   "metadata": {},
   "outputs": [],
   "source": [
    "job_df = job_df.reset_index().drop(['index'],axis=1)"
   ]
  },
  {
   "cell_type": "code",
   "execution_count": 271,
   "metadata": {},
   "outputs": [
    {
     "data": {
      "text/html": [
       "<div>\n",
       "<style scoped>\n",
       "    .dataframe tbody tr th:only-of-type {\n",
       "        vertical-align: middle;\n",
       "    }\n",
       "\n",
       "    .dataframe tbody tr th {\n",
       "        vertical-align: top;\n",
       "    }\n",
       "\n",
       "    .dataframe thead th {\n",
       "        text-align: right;\n",
       "    }\n",
       "</style>\n",
       "<table border=\"1\" class=\"dataframe\">\n",
       "  <thead>\n",
       "    <tr style=\"text-align: right;\">\n",
       "      <th></th>\n",
       "      <th>title</th>\n",
       "      <th>description</th>\n",
       "    </tr>\n",
       "  </thead>\n",
       "  <tbody>\n",
       "    <tr>\n",
       "      <th>158</th>\n",
       "      <td>Statistician</td>\n",
       "      <td>At Weyerhaeuser we believe trees are a remarka...</td>\n",
       "    </tr>\n",
       "    <tr>\n",
       "      <th>159</th>\n",
       "      <td>Senior Data Scientist</td>\n",
       "      <td>Porch is looking for an accomplished, hands-on...</td>\n",
       "    </tr>\n",
       "    <tr>\n",
       "      <th>160</th>\n",
       "      <td>Senior Data Analyst</td>\n",
       "      <td>Job Posting Title\\nSenior Data Analyst\\nSummar...</td>\n",
       "    </tr>\n",
       "    <tr>\n",
       "      <th>161</th>\n",
       "      <td>Lead Data Scientist</td>\n",
       "      <td>Porch is looking for an accomplished, hands-on...</td>\n",
       "    </tr>\n",
       "    <tr>\n",
       "      <th>162</th>\n",
       "      <td>Data Scientist/Machine Learning Engineer</td>\n",
       "      <td>We are looking for a Sr Data Scientist to help...</td>\n",
       "    </tr>\n",
       "  </tbody>\n",
       "</table>\n",
       "</div>"
      ],
      "text/plain": [
       "                                        title  \\\n",
       "158                              Statistician   \n",
       "159                     Senior Data Scientist   \n",
       "160                       Senior Data Analyst   \n",
       "161                       Lead Data Scientist   \n",
       "162  Data Scientist/Machine Learning Engineer   \n",
       "\n",
       "                                           description  \n",
       "158  At Weyerhaeuser we believe trees are a remarka...  \n",
       "159  Porch is looking for an accomplished, hands-on...  \n",
       "160  Job Posting Title\\nSenior Data Analyst\\nSummar...  \n",
       "161  Porch is looking for an accomplished, hands-on...  \n",
       "162  We are looking for a Sr Data Scientist to help...  "
      ]
     },
     "execution_count": 271,
     "metadata": {},
     "output_type": "execute_result"
    }
   ],
   "source": [
    "job_df.tail()"
   ]
  },
  {
   "cell_type": "code",
   "execution_count": 245,
   "metadata": {},
   "outputs": [
    {
     "data": {
      "text/plain": [
       "(168, 2)"
      ]
     },
     "execution_count": 245,
     "metadata": {},
     "output_type": "execute_result"
    }
   ],
   "source": [
    "job_df.shape"
   ]
  },
  {
   "cell_type": "markdown",
   "metadata": {
    "colab_type": "text",
    "id": "5C4xFZNtX1m2"
   },
   "source": [
    "## 2) Use Spacy to tokenize / clean the listings "
   ]
  },
  {
   "cell_type": "code",
   "execution_count": 52,
   "metadata": {
    "colab": {},
    "colab_type": "code",
    "id": "dhUHuMr-X-II"
   },
   "outputs": [],
   "source": [
    "##### Your Code Here #####\n",
    "df1 = pd.read_csv('data/job_listings.csv')\n"
   ]
  },
  {
   "cell_type": "code",
   "execution_count": 10,
   "metadata": {},
   "outputs": [
    {
     "data": {
      "text/html": [
       "<div>\n",
       "<style scoped>\n",
       "    .dataframe tbody tr th:only-of-type {\n",
       "        vertical-align: middle;\n",
       "    }\n",
       "\n",
       "    .dataframe tbody tr th {\n",
       "        vertical-align: top;\n",
       "    }\n",
       "\n",
       "    .dataframe thead th {\n",
       "        text-align: right;\n",
       "    }\n",
       "</style>\n",
       "<table border=\"1\" class=\"dataframe\">\n",
       "  <thead>\n",
       "    <tr style=\"text-align: right;\">\n",
       "      <th></th>\n",
       "      <th>Unnamed: 0</th>\n",
       "      <th>description</th>\n",
       "      <th>title</th>\n",
       "    </tr>\n",
       "  </thead>\n",
       "  <tbody>\n",
       "    <tr>\n",
       "      <th>0</th>\n",
       "      <td>0</td>\n",
       "      <td>b\"&lt;div&gt;&lt;div&gt;Job Requirements:&lt;/div&gt;&lt;ul&gt;&lt;li&gt;&lt;p&gt;...</td>\n",
       "      <td>Data scientist</td>\n",
       "    </tr>\n",
       "    <tr>\n",
       "      <th>1</th>\n",
       "      <td>1</td>\n",
       "      <td>b'&lt;div&gt;Job Description&lt;br/&gt;\\n&lt;br/&gt;\\n&lt;p&gt;As a Da...</td>\n",
       "      <td>Data Scientist I</td>\n",
       "    </tr>\n",
       "    <tr>\n",
       "      <th>2</th>\n",
       "      <td>2</td>\n",
       "      <td>b'&lt;div&gt;&lt;p&gt;As a Data Scientist you will be work...</td>\n",
       "      <td>Data Scientist - Entry Level</td>\n",
       "    </tr>\n",
       "    <tr>\n",
       "      <th>3</th>\n",
       "      <td>3</td>\n",
       "      <td>b'&lt;div class=\"jobsearch-JobMetadataHeader icl-...</td>\n",
       "      <td>Data Scientist</td>\n",
       "    </tr>\n",
       "    <tr>\n",
       "      <th>4</th>\n",
       "      <td>4</td>\n",
       "      <td>b'&lt;ul&gt;&lt;li&gt;Location: USA \\xe2\\x80\\x93 multiple ...</td>\n",
       "      <td>Data Scientist</td>\n",
       "    </tr>\n",
       "  </tbody>\n",
       "</table>\n",
       "</div>"
      ],
      "text/plain": [
       "   Unnamed: 0                                        description  \\\n",
       "0           0  b\"<div><div>Job Requirements:</div><ul><li><p>...   \n",
       "1           1  b'<div>Job Description<br/>\\n<br/>\\n<p>As a Da...   \n",
       "2           2  b'<div><p>As a Data Scientist you will be work...   \n",
       "3           3  b'<div class=\"jobsearch-JobMetadataHeader icl-...   \n",
       "4           4  b'<ul><li>Location: USA \\xe2\\x80\\x93 multiple ...   \n",
       "\n",
       "                          title  \n",
       "0               Data scientist   \n",
       "1              Data Scientist I  \n",
       "2  Data Scientist - Entry Level  \n",
       "3                Data Scientist  \n",
       "4                Data Scientist  "
      ]
     },
     "execution_count": 10,
     "metadata": {},
     "output_type": "execute_result"
    }
   ],
   "source": [
    "df.head()"
   ]
  },
  {
   "cell_type": "code",
   "execution_count": 11,
   "metadata": {},
   "outputs": [
    {
     "data": {
      "text/plain": [
       "(426, 3)"
      ]
     },
     "execution_count": 11,
     "metadata": {},
     "output_type": "execute_result"
    }
   ],
   "source": [
    "df.shape"
   ]
  },
  {
   "cell_type": "code",
   "execution_count": 247,
   "metadata": {},
   "outputs": [],
   "source": [
    "import spacy\n",
    "from spacy.tokenizer import Tokenizer\n",
    "\n",
    "nlp = spacy.load(\"en_core_web_lg\")\n",
    "\n",
    "# Tokenizer\n",
    "tokenizer = Tokenizer(nlp.vocab)"
   ]
  },
  {
   "cell_type": "code",
   "execution_count": 272,
   "metadata": {},
   "outputs": [],
   "source": [
    "df = job_df"
   ]
  },
  {
   "cell_type": "code",
   "execution_count": 273,
   "metadata": {},
   "outputs": [
    {
     "data": {
      "text/plain": [
       "Index(['title', 'description'], dtype='object')"
      ]
     },
     "execution_count": 273,
     "metadata": {},
     "output_type": "execute_result"
    }
   ],
   "source": [
    "df.columns"
   ]
  },
  {
   "cell_type": "code",
   "execution_count": 274,
   "metadata": {},
   "outputs": [],
   "source": [
    "df = df.dropna()"
   ]
  },
  {
   "cell_type": "code",
   "execution_count": 275,
   "metadata": {},
   "outputs": [],
   "source": [
    "tokens = []\n",
    "\n",
    "for doc in tokenizer.pipe(df.description, batch_size=500):\n",
    "    doc_tokens = []\n",
    "    for token in doc:\n",
    "        if (token.is_stop == False) & (token.is_punct == False):\n",
    "            doc_tokens.append(token.text.lower())\n",
    "    tokens.append(doc_tokens)"
   ]
  },
  {
   "cell_type": "code",
   "execution_count": 280,
   "metadata": {},
   "outputs": [
    {
     "name": "stderr",
     "output_type": "stream",
     "text": [
      "C:\\Users\\WIN 10\\Anaconda3\\envs\\unit-4\\lib\\site-packages\\ipykernel_launcher.py:1: SettingWithCopyWarning: \n",
      "A value is trying to be set on a copy of a slice from a DataFrame.\n",
      "Try using .loc[row_indexer,col_indexer] = value instead\n",
      "\n",
      "See the caveats in the documentation: http://pandas.pydata.org/pandas-docs/stable/indexing.html#indexing-view-versus-copy\n",
      "  \"\"\"Entry point for launching an IPython kernel.\n"
     ]
    },
    {
     "data": {
      "text/html": [
       "<div>\n",
       "<style scoped>\n",
       "    .dataframe tbody tr th:only-of-type {\n",
       "        vertical-align: middle;\n",
       "    }\n",
       "\n",
       "    .dataframe tbody tr th {\n",
       "        vertical-align: top;\n",
       "    }\n",
       "\n",
       "    .dataframe thead th {\n",
       "        text-align: right;\n",
       "    }\n",
       "</style>\n",
       "<table border=\"1\" class=\"dataframe\">\n",
       "  <thead>\n",
       "    <tr style=\"text-align: right;\">\n",
       "      <th></th>\n",
       "      <th>title</th>\n",
       "      <th>description</th>\n",
       "      <th>tokens</th>\n",
       "    </tr>\n",
       "  </thead>\n",
       "  <tbody>\n",
       "    <tr>\n",
       "      <th>0</th>\n",
       "      <td>Data Scientist/Machine Learning Engineer</td>\n",
       "      <td>We are looking for a Sr Data Scientist to help...</td>\n",
       "      <td>[looking, sr, data, scientist, help, develop, ...</td>\n",
       "    </tr>\n",
       "    <tr>\n",
       "      <th>2</th>\n",
       "      <td>Data Scientist / BI Developer (Remote)</td>\n",
       "      <td>XLFN Consulting provides large organizations w...</td>\n",
       "      <td>[xlfn, consulting, provides, large, organizati...</td>\n",
       "    </tr>\n",
       "    <tr>\n",
       "      <th>3</th>\n",
       "      <td>Database Engineer / Data Scientist</td>\n",
       "      <td>As part of a leading IT managed services speci...</td>\n",
       "      <td>[leading, managed, services, specialist, 12,00...</td>\n",
       "    </tr>\n",
       "    <tr>\n",
       "      <th>4</th>\n",
       "      <td>Data Scientist</td>\n",
       "      <td>Ring is looking for a Data Scientist to join a...</td>\n",
       "      <td>[ring, looking, data, scientist, join, new, pr...</td>\n",
       "    </tr>\n",
       "    <tr>\n",
       "      <th>5</th>\n",
       "      <td>Data Scientist</td>\n",
       "      <td>About Mason\\n\\nMason is a high-growth venture ...</td>\n",
       "      <td>[mason, \\n\\n, mason, high-growth, venture, bac...</td>\n",
       "    </tr>\n",
       "  </tbody>\n",
       "</table>\n",
       "</div>"
      ],
      "text/plain": [
       "                                      title  \\\n",
       "0  Data Scientist/Machine Learning Engineer   \n",
       "2    Data Scientist / BI Developer (Remote)   \n",
       "3        Database Engineer / Data Scientist   \n",
       "4                            Data Scientist   \n",
       "5                            Data Scientist   \n",
       "\n",
       "                                         description  \\\n",
       "0  We are looking for a Sr Data Scientist to help...   \n",
       "2  XLFN Consulting provides large organizations w...   \n",
       "3  As part of a leading IT managed services speci...   \n",
       "4  Ring is looking for a Data Scientist to join a...   \n",
       "5  About Mason\\n\\nMason is a high-growth venture ...   \n",
       "\n",
       "                                              tokens  \n",
       "0  [looking, sr, data, scientist, help, develop, ...  \n",
       "2  [xlfn, consulting, provides, large, organizati...  \n",
       "3  [leading, managed, services, specialist, 12,00...  \n",
       "4  [ring, looking, data, scientist, join, new, pr...  \n",
       "5  [mason, \\n\\n, mason, high-growth, venture, bac...  "
      ]
     },
     "execution_count": 280,
     "metadata": {},
     "output_type": "execute_result"
    }
   ],
   "source": [
    "df['tokens'] = tokens\n",
    "df.head()"
   ]
  },
  {
   "cell_type": "code",
   "execution_count": 281,
   "metadata": {},
   "outputs": [],
   "source": [
    "import squarify\n",
    "import matplotlib.pyplot as plt\n",
    "from collections import Counter\n",
    "\n",
    "def count(docs):\n",
    "\n",
    "        word_counts = Counter()\n",
    "        appears_in = Counter()\n",
    "        \n",
    "        total_docs = len(docs)\n",
    "\n",
    "        for doc in docs:\n",
    "            word_counts.update(doc)\n",
    "            appears_in.update(set(doc))\n",
    "\n",
    "        temp = zip(word_counts.keys(), word_counts.values())\n",
    "        \n",
    "        wc = pd.DataFrame(temp, columns = ['word', 'count'])\n",
    "\n",
    "        wc['rank'] = wc['count'].rank(method='first', ascending=False)\n",
    "        total = wc['count'].sum()\n",
    "\n",
    "        wc['pct_total'] = wc['count'].apply(lambda x: x / total)\n",
    "        \n",
    "        wc = wc.sort_values(by='rank')\n",
    "        wc['cul_pct_total'] = wc['pct_total'].cumsum()\n",
    "\n",
    "        t2 = zip(appears_in.keys(), appears_in.values())\n",
    "        ac = pd.DataFrame(t2, columns=['word', 'appears_in'])\n",
    "        wc = ac.merge(wc, on='word')\n",
    "\n",
    "        wc['appears_in_pct'] = wc['appears_in'].apply(lambda x: x / total_docs)\n",
    "        \n",
    "        return wc.sort_values(by='rank')"
   ]
  },
  {
   "cell_type": "code",
   "execution_count": 297,
   "metadata": {},
   "outputs": [],
   "source": [
    "stopwords = nlp.Defaults.stop_words.union([' ','','\\n\\n','\\n'])"
   ]
  },
  {
   "cell_type": "code",
   "execution_count": 298,
   "metadata": {},
   "outputs": [],
   "source": [
    "def make_token(df, column):\n",
    "    tokens = []\n",
    "    for doc in tokenizer.pipe(df[column], batch_size=500):\n",
    "        doc_tokens = []\n",
    "        for token in doc:\n",
    "            if token.text.lower() not in stopwords:\n",
    "                doc_tokens.append(token.text.lower())\n",
    "\n",
    "        tokens.append(doc_tokens)\n",
    "\n",
    "    df['tokens'] = tokens\n",
    "    wc = count(df['tokens'])\n",
    "    wc_top20 = wc[wc['rank'] <= 20]\n",
    "    s = squarify.plot(sizes=wc_top20['pct_total'], label=wc_top20['word'], alpha=.8)"
   ]
  },
  {
   "cell_type": "code",
   "execution_count": 299,
   "metadata": {},
   "outputs": [
    {
     "name": "stderr",
     "output_type": "stream",
     "text": [
      "C:\\Users\\WIN 10\\Anaconda3\\envs\\unit-4\\lib\\site-packages\\ipykernel_launcher.py:11: SettingWithCopyWarning: \n",
      "A value is trying to be set on a copy of a slice from a DataFrame.\n",
      "Try using .loc[row_indexer,col_indexer] = value instead\n",
      "\n",
      "See the caveats in the documentation: http://pandas.pydata.org/pandas-docs/stable/indexing.html#indexing-view-versus-copy\n",
      "  # This is added back by InteractiveShellApp.init_path()\n"
     ]
    },
    {
     "data": {
      "image/png": "[encoded data removed]",
      "text/plain": [
       "<Figure size 432x288 with 1 Axes>"
      ]
     },
     "metadata": {
      "needs_background": "light"
     },
     "output_type": "display_data"
    }
   ],
   "source": [
    "make_token(df,'description')"
   ]
  },
  {
   "cell_type": "code",
   "execution_count": 300,
   "metadata": {},
   "outputs": [
    {
     "data": {
      "image/png": "[encoded data removed]",
      "text/plain": [
       "<Figure size 432x288 with 1 Axes>"
      ]
     },
     "metadata": {
      "needs_background": "light"
     },
     "output_type": "display_data"
    }
   ],
   "source": [
    "wc = count(df['tokens'])\n",
    "wc_top20 = wc[wc['rank'] <= 20]\n",
    "\n",
    "squarify.plot(sizes=wc_top20['pct_total'], label=wc_top20['word'], alpha=.8 )\n",
    "plt.axis('off')\n",
    "plt.show()"
   ]
  },
  {
   "cell_type": "code",
   "execution_count": 301,
   "metadata": {},
   "outputs": [
    {
     "data": {
      "text/html": [
       "<div>\n",
       "<style scoped>\n",
       "    .dataframe tbody tr th:only-of-type {\n",
       "        vertical-align: middle;\n",
       "    }\n",
       "\n",
       "    .dataframe tbody tr th {\n",
       "        vertical-align: top;\n",
       "    }\n",
       "\n",
       "    .dataframe thead th {\n",
       "        text-align: right;\n",
       "    }\n",
       "</style>\n",
       "<table border=\"1\" class=\"dataframe\">\n",
       "  <thead>\n",
       "    <tr style=\"text-align: right;\">\n",
       "      <th></th>\n",
       "      <th>word</th>\n",
       "      <th>appears_in</th>\n",
       "      <th>count</th>\n",
       "      <th>rank</th>\n",
       "      <th>pct_total</th>\n",
       "      <th>cul_pct_total</th>\n",
       "      <th>appears_in_pct</th>\n",
       "    </tr>\n",
       "  </thead>\n",
       "  <tbody>\n",
       "    <tr>\n",
       "      <th>1</th>\n",
       "      <td>data</td>\n",
       "      <td>157</td>\n",
       "      <td>1371</td>\n",
       "      <td>1.0</td>\n",
       "      <td>0.026153</td>\n",
       "      <td>0.026153</td>\n",
       "      <td>0.987421</td>\n",
       "    </tr>\n",
       "    <tr>\n",
       "      <th>63</th>\n",
       "      <td>experience</td>\n",
       "      <td>146</td>\n",
       "      <td>612</td>\n",
       "      <td>2.0</td>\n",
       "      <td>0.011674</td>\n",
       "      <td>0.037827</td>\n",
       "      <td>0.918239</td>\n",
       "    </tr>\n",
       "    <tr>\n",
       "      <th>391</th>\n",
       "      <td>business</td>\n",
       "      <td>118</td>\n",
       "      <td>401</td>\n",
       "      <td>3.0</td>\n",
       "      <td>0.007649</td>\n",
       "      <td>0.045476</td>\n",
       "      <td>0.742138</td>\n",
       "    </tr>\n",
       "    <tr>\n",
       "      <th>113</th>\n",
       "      <td>work</td>\n",
       "      <td>135</td>\n",
       "      <td>400</td>\n",
       "      <td>4.0</td>\n",
       "      <td>0.007630</td>\n",
       "      <td>0.053106</td>\n",
       "      <td>0.849057</td>\n",
       "    </tr>\n",
       "    <tr>\n",
       "      <th>722</th>\n",
       "      <td>team</td>\n",
       "      <td>110</td>\n",
       "      <td>296</td>\n",
       "      <td>5.0</td>\n",
       "      <td>0.005646</td>\n",
       "      <td>0.058753</td>\n",
       "      <td>0.691824</td>\n",
       "    </tr>\n",
       "    <tr>\n",
       "      <th>116</th>\n",
       "      <td>science</td>\n",
       "      <td>102</td>\n",
       "      <td>283</td>\n",
       "      <td>6.0</td>\n",
       "      <td>0.005398</td>\n",
       "      <td>0.064151</td>\n",
       "      <td>0.641509</td>\n",
       "    </tr>\n",
       "    <tr>\n",
       "      <th>226</th>\n",
       "      <td>technical</td>\n",
       "      <td>86</td>\n",
       "      <td>275</td>\n",
       "      <td>7.0</td>\n",
       "      <td>0.005246</td>\n",
       "      <td>0.069397</td>\n",
       "      <td>0.540881</td>\n",
       "    </tr>\n",
       "    <tr>\n",
       "      <th>446</th>\n",
       "      <td>learning</td>\n",
       "      <td>96</td>\n",
       "      <td>261</td>\n",
       "      <td>8.0</td>\n",
       "      <td>0.004979</td>\n",
       "      <td>0.074376</td>\n",
       "      <td>0.603774</td>\n",
       "    </tr>\n",
       "    <tr>\n",
       "      <th>503</th>\n",
       "      <td>machine</td>\n",
       "      <td>100</td>\n",
       "      <td>253</td>\n",
       "      <td>9.0</td>\n",
       "      <td>0.004826</td>\n",
       "      <td>0.079202</td>\n",
       "      <td>0.628931</td>\n",
       "    </tr>\n",
       "    <tr>\n",
       "      <th>168</th>\n",
       "      <td>working</td>\n",
       "      <td>103</td>\n",
       "      <td>180</td>\n",
       "      <td>10.0</td>\n",
       "      <td>0.003434</td>\n",
       "      <td>0.082635</td>\n",
       "      <td>0.647799</td>\n",
       "    </tr>\n",
       "    <tr>\n",
       "      <th>33</th>\n",
       "      <td>skills</td>\n",
       "      <td>102</td>\n",
       "      <td>177</td>\n",
       "      <td>11.0</td>\n",
       "      <td>0.003376</td>\n",
       "      <td>0.086012</td>\n",
       "      <td>0.641509</td>\n",
       "    </tr>\n",
       "    <tr>\n",
       "      <th>399</th>\n",
       "      <td>statistical</td>\n",
       "      <td>85</td>\n",
       "      <td>177</td>\n",
       "      <td>12.0</td>\n",
       "      <td>0.003376</td>\n",
       "      <td>0.089388</td>\n",
       "      <td>0.534591</td>\n",
       "    </tr>\n",
       "    <tr>\n",
       "      <th>31</th>\n",
       "      <td>build</td>\n",
       "      <td>90</td>\n",
       "      <td>174</td>\n",
       "      <td>13.0</td>\n",
       "      <td>0.003319</td>\n",
       "      <td>0.092707</td>\n",
       "      <td>0.566038</td>\n",
       "    </tr>\n",
       "    <tr>\n",
       "      <th>414</th>\n",
       "      <td>product</td>\n",
       "      <td>68</td>\n",
       "      <td>174</td>\n",
       "      <td>14.0</td>\n",
       "      <td>0.003319</td>\n",
       "      <td>0.096027</td>\n",
       "      <td>0.427673</td>\n",
       "    </tr>\n",
       "    <tr>\n",
       "      <th>18</th>\n",
       "      <td>help</td>\n",
       "      <td>80</td>\n",
       "      <td>170</td>\n",
       "      <td>15.0</td>\n",
       "      <td>0.003243</td>\n",
       "      <td>0.099269</td>\n",
       "      <td>0.503145</td>\n",
       "    </tr>\n",
       "    <tr>\n",
       "      <th>435</th>\n",
       "      <td>new</td>\n",
       "      <td>89</td>\n",
       "      <td>168</td>\n",
       "      <td>16.0</td>\n",
       "      <td>0.003205</td>\n",
       "      <td>0.102474</td>\n",
       "      <td>0.559748</td>\n",
       "    </tr>\n",
       "    <tr>\n",
       "      <th>98</th>\n",
       "      <td>years</td>\n",
       "      <td>102</td>\n",
       "      <td>165</td>\n",
       "      <td>17.0</td>\n",
       "      <td>0.003147</td>\n",
       "      <td>0.105622</td>\n",
       "      <td>0.641509</td>\n",
       "    </tr>\n",
       "    <tr>\n",
       "      <th>17</th>\n",
       "      <td>solutions</td>\n",
       "      <td>84</td>\n",
       "      <td>150</td>\n",
       "      <td>18.0</td>\n",
       "      <td>0.002861</td>\n",
       "      <td>0.108483</td>\n",
       "      <td>0.528302</td>\n",
       "    </tr>\n",
       "    <tr>\n",
       "      <th>9</th>\n",
       "      <td>scientist</td>\n",
       "      <td>101</td>\n",
       "      <td>144</td>\n",
       "      <td>19.0</td>\n",
       "      <td>0.002747</td>\n",
       "      <td>0.111230</td>\n",
       "      <td>0.635220</td>\n",
       "    </tr>\n",
       "    <tr>\n",
       "      <th>158</th>\n",
       "      <td>analysis</td>\n",
       "      <td>84</td>\n",
       "      <td>139</td>\n",
       "      <td>20.0</td>\n",
       "      <td>0.002652</td>\n",
       "      <td>0.113881</td>\n",
       "      <td>0.528302</td>\n",
       "    </tr>\n",
       "  </tbody>\n",
       "</table>\n",
       "</div>"
      ],
      "text/plain": [
       "            word  appears_in  count  rank  pct_total  cul_pct_total  \\\n",
       "1           data         157   1371   1.0   0.026153       0.026153   \n",
       "63    experience         146    612   2.0   0.011674       0.037827   \n",
       "391     business         118    401   3.0   0.007649       0.045476   \n",
       "113         work         135    400   4.0   0.007630       0.053106   \n",
       "722         team         110    296   5.0   0.005646       0.058753   \n",
       "116      science         102    283   6.0   0.005398       0.064151   \n",
       "226    technical          86    275   7.0   0.005246       0.069397   \n",
       "446     learning          96    261   8.0   0.004979       0.074376   \n",
       "503      machine         100    253   9.0   0.004826       0.079202   \n",
       "168      working         103    180  10.0   0.003434       0.082635   \n",
       "33        skills         102    177  11.0   0.003376       0.086012   \n",
       "399  statistical          85    177  12.0   0.003376       0.089388   \n",
       "31         build          90    174  13.0   0.003319       0.092707   \n",
       "414      product          68    174  14.0   0.003319       0.096027   \n",
       "18          help          80    170  15.0   0.003243       0.099269   \n",
       "435          new          89    168  16.0   0.003205       0.102474   \n",
       "98         years         102    165  17.0   0.003147       0.105622   \n",
       "17     solutions          84    150  18.0   0.002861       0.108483   \n",
       "9      scientist         101    144  19.0   0.002747       0.111230   \n",
       "158     analysis          84    139  20.0   0.002652       0.113881   \n",
       "\n",
       "     appears_in_pct  \n",
       "1          0.987421  \n",
       "63         0.918239  \n",
       "391        0.742138  \n",
       "113        0.849057  \n",
       "722        0.691824  \n",
       "116        0.641509  \n",
       "226        0.540881  \n",
       "446        0.603774  \n",
       "503        0.628931  \n",
       "168        0.647799  \n",
       "33         0.641509  \n",
       "399        0.534591  \n",
       "31         0.566038  \n",
       "414        0.427673  \n",
       "18         0.503145  \n",
       "435        0.559748  \n",
       "98         0.641509  \n",
       "17         0.528302  \n",
       "9          0.635220  \n",
       "158        0.528302  "
      ]
     },
     "execution_count": 301,
     "metadata": {},
     "output_type": "execute_result"
    }
   ],
   "source": [
    "wc_top20"
   ]
  },
  {
   "cell_type": "markdown",
   "metadata": {
    "colab_type": "text",
    "id": "-lgCZNL_YycP"
   },
   "source": [
    "## 3) Use Scikit-Learn's CountVectorizer to get word counts for each listing."
   ]
  },
  {
   "cell_type": "code",
   "execution_count": 302,
   "metadata": {
    "colab": {},
    "colab_type": "code",
    "id": "X2PZ8Pj_YxcF"
   },
   "outputs": [],
   "source": [
    "import pandas as pd\n",
    "import seaborn as sns\n",
    "import matplotlib.pyplot as plt\n",
    "\n",
    "from sklearn.feature_extraction.text import CountVectorizer, TfidfVectorizer\n",
    "from sklearn.metrics.pairwise import cosine_similarity\n",
    "from sklearn.neighbors import NearestNeighbors\n",
    "from sklearn.decomposition import PCA\n",
    "\n",
    "import spacy\n",
    "from sklearn.feature_extraction.text import CountVectorizer\n",
    "\n",
    "# list of text documents\n",
    "text = df.description.values\n",
    "\n",
    "# create the transformer\n",
    "vect = CountVectorizer()\n",
    "\n",
    "# tokenize and build vocab\n",
    "vect.fit(text)\n",
    "\n",
    "# transform text\n",
    "dtm = vect.transform(text)"
   ]
  },
  {
   "cell_type": "code",
   "execution_count": 303,
   "metadata": {},
   "outputs": [],
   "source": [
    "vect = CountVectorizer(stop_words='english')\n",
    "# Use custom Spacy Vectorizer\n",
    "dtm = vect.fit(text)\n",
    "dtm = vect.transform(text)\n",
    "\n",
    "# BBC articles in `data` variable \n",
    "dtm = pd.DataFrame(dtm.todense(), columns=vect.get_feature_names())"
   ]
  },
  {
   "cell_type": "code",
   "execution_count": 304,
   "metadata": {},
   "outputs": [
    {
     "data": {
      "text/html": [
       "<div>\n",
       "<style scoped>\n",
       "    .dataframe tbody tr th:only-of-type {\n",
       "        vertical-align: middle;\n",
       "    }\n",
       "\n",
       "    .dataframe tbody tr th {\n",
       "        vertical-align: top;\n",
       "    }\n",
       "\n",
       "    .dataframe thead th {\n",
       "        text-align: right;\n",
       "    }\n",
       "</style>\n",
       "<table border=\"1\" class=\"dataframe\">\n",
       "  <thead>\n",
       "    <tr style=\"text-align: right;\">\n",
       "      <th></th>\n",
       "      <th>00</th>\n",
       "      <th>000</th>\n",
       "      <th>01</th>\n",
       "      <th>03</th>\n",
       "      <th>0660</th>\n",
       "      <th>07</th>\n",
       "      <th>10</th>\n",
       "      <th>100</th>\n",
       "      <th>1000</th>\n",
       "      <th>10x</th>\n",
       "      <th>...</th>\n",
       "      <th>yield</th>\n",
       "      <th>york</th>\n",
       "      <th>young</th>\n",
       "      <th>youtube</th>\n",
       "      <th>yy</th>\n",
       "      <th>zacharypiper</th>\n",
       "      <th>zillow</th>\n",
       "      <th>zoom</th>\n",
       "      <th>zulily</th>\n",
       "      <th>zuniversity</th>\n",
       "    </tr>\n",
       "  </thead>\n",
       "  <tbody>\n",
       "    <tr>\n",
       "      <th>0</th>\n",
       "      <td>0</td>\n",
       "      <td>0</td>\n",
       "      <td>0</td>\n",
       "      <td>0</td>\n",
       "      <td>0</td>\n",
       "      <td>0</td>\n",
       "      <td>0</td>\n",
       "      <td>0</td>\n",
       "      <td>0</td>\n",
       "      <td>0</td>\n",
       "      <td>...</td>\n",
       "      <td>0</td>\n",
       "      <td>0</td>\n",
       "      <td>0</td>\n",
       "      <td>0</td>\n",
       "      <td>0</td>\n",
       "      <td>0</td>\n",
       "      <td>0</td>\n",
       "      <td>0</td>\n",
       "      <td>0</td>\n",
       "      <td>0</td>\n",
       "    </tr>\n",
       "    <tr>\n",
       "      <th>1</th>\n",
       "      <td>2</td>\n",
       "      <td>2</td>\n",
       "      <td>0</td>\n",
       "      <td>0</td>\n",
       "      <td>0</td>\n",
       "      <td>0</td>\n",
       "      <td>0</td>\n",
       "      <td>0</td>\n",
       "      <td>0</td>\n",
       "      <td>0</td>\n",
       "      <td>...</td>\n",
       "      <td>0</td>\n",
       "      <td>0</td>\n",
       "      <td>0</td>\n",
       "      <td>0</td>\n",
       "      <td>0</td>\n",
       "      <td>0</td>\n",
       "      <td>0</td>\n",
       "      <td>0</td>\n",
       "      <td>0</td>\n",
       "      <td>0</td>\n",
       "    </tr>\n",
       "    <tr>\n",
       "      <th>2</th>\n",
       "      <td>0</td>\n",
       "      <td>1</td>\n",
       "      <td>0</td>\n",
       "      <td>0</td>\n",
       "      <td>0</td>\n",
       "      <td>0</td>\n",
       "      <td>0</td>\n",
       "      <td>0</td>\n",
       "      <td>1</td>\n",
       "      <td>0</td>\n",
       "      <td>...</td>\n",
       "      <td>0</td>\n",
       "      <td>0</td>\n",
       "      <td>0</td>\n",
       "      <td>0</td>\n",
       "      <td>0</td>\n",
       "      <td>0</td>\n",
       "      <td>0</td>\n",
       "      <td>0</td>\n",
       "      <td>0</td>\n",
       "      <td>0</td>\n",
       "    </tr>\n",
       "    <tr>\n",
       "      <th>3</th>\n",
       "      <td>0</td>\n",
       "      <td>0</td>\n",
       "      <td>0</td>\n",
       "      <td>0</td>\n",
       "      <td>0</td>\n",
       "      <td>0</td>\n",
       "      <td>0</td>\n",
       "      <td>0</td>\n",
       "      <td>0</td>\n",
       "      <td>0</td>\n",
       "      <td>...</td>\n",
       "      <td>0</td>\n",
       "      <td>0</td>\n",
       "      <td>0</td>\n",
       "      <td>0</td>\n",
       "      <td>0</td>\n",
       "      <td>0</td>\n",
       "      <td>0</td>\n",
       "      <td>0</td>\n",
       "      <td>0</td>\n",
       "      <td>0</td>\n",
       "    </tr>\n",
       "    <tr>\n",
       "      <th>4</th>\n",
       "      <td>0</td>\n",
       "      <td>0</td>\n",
       "      <td>0</td>\n",
       "      <td>0</td>\n",
       "      <td>0</td>\n",
       "      <td>0</td>\n",
       "      <td>0</td>\n",
       "      <td>0</td>\n",
       "      <td>0</td>\n",
       "      <td>0</td>\n",
       "      <td>...</td>\n",
       "      <td>0</td>\n",
       "      <td>0</td>\n",
       "      <td>0</td>\n",
       "      <td>0</td>\n",
       "      <td>0</td>\n",
       "      <td>0</td>\n",
       "      <td>0</td>\n",
       "      <td>0</td>\n",
       "      <td>0</td>\n",
       "      <td>0</td>\n",
       "    </tr>\n",
       "  </tbody>\n",
       "</table>\n",
       "<p>5 rows × 4631 columns</p>\n",
       "</div>"
      ],
      "text/plain": [
       "   00  000  01  03  0660  07  10  100  1000  10x  ...  yield  york  young  \\\n",
       "0   0    0   0   0     0   0   0    0     0    0  ...      0     0      0   \n",
       "1   2    2   0   0     0   0   0    0     0    0  ...      0     0      0   \n",
       "2   0    1   0   0     0   0   0    0     1    0  ...      0     0      0   \n",
       "3   0    0   0   0     0   0   0    0     0    0  ...      0     0      0   \n",
       "4   0    0   0   0     0   0   0    0     0    0  ...      0     0      0   \n",
       "\n",
       "   youtube  yy  zacharypiper  zillow  zoom  zulily  zuniversity  \n",
       "0        0   0             0       0     0       0            0  \n",
       "1        0   0             0       0     0       0            0  \n",
       "2        0   0             0       0     0       0            0  \n",
       "3        0   0             0       0     0       0            0  \n",
       "4        0   0             0       0     0       0            0  \n",
       "\n",
       "[5 rows x 4631 columns]"
      ]
     },
     "execution_count": 304,
     "metadata": {},
     "output_type": "execute_result"
    }
   ],
   "source": [
    "dtm.head()"
   ]
  },
  {
   "cell_type": "code",
   "execution_count": null,
   "metadata": {},
   "outputs": [],
   "source": []
  },
  {
   "cell_type": "markdown",
   "metadata": {
    "colab_type": "text",
    "id": "Zo1iH_UeY7_n"
   },
   "source": [
    "## 4) Visualize the most common word counts"
   ]
  },
  {
   "cell_type": "code",
   "execution_count": 305,
   "metadata": {
    "colab": {},
    "colab_type": "code",
    "id": "M5LB00uyZKV5"
   },
   "outputs": [
    {
     "data": {
      "image/png": "[encoded data removed]",
      "text/plain": [
       "<Figure size 432x288 with 1 Axes>"
      ]
     },
     "metadata": {
      "needs_background": "light"
     },
     "output_type": "display_data"
    }
   ],
   "source": [
    "wc = count(df['tokens'])\n",
    "wc_top20 = wc[wc['rank'] <= 20]\n",
    "\n",
    "squarify.plot(sizes=wc_top20['pct_total'], label=wc_top20['word'], alpha=.8 )\n",
    "plt.axis('off')\n",
    "plt.show()"
   ]
  },
  {
   "cell_type": "markdown",
   "metadata": {
    "colab_type": "text",
    "id": "bwFsTqrVZMYi"
   },
   "source": [
    "## 5) Use Scikit-Learn's tfidfVectorizer to get a TF-IDF feature matrix"
   ]
  },
  {
   "cell_type": "code",
   "execution_count": 306,
   "metadata": {
    "colab": {},
    "colab_type": "code",
    "id": "-gx2gZCbl5Np"
   },
   "outputs": [
    {
     "data": {
      "text/html": [
       "<div>\n",
       "<style scoped>\n",
       "    .dataframe tbody tr th:only-of-type {\n",
       "        vertical-align: middle;\n",
       "    }\n",
       "\n",
       "    .dataframe tbody tr th {\n",
       "        vertical-align: top;\n",
       "    }\n",
       "\n",
       "    .dataframe thead th {\n",
       "        text-align: right;\n",
       "    }\n",
       "</style>\n",
       "<table border=\"1\" class=\"dataframe\">\n",
       "  <thead>\n",
       "    <tr style=\"text-align: right;\">\n",
       "      <th></th>\n",
       "      <th></th>\n",
       "      <th></th>\n",
       "      <th>1</th>\n",
       "      <th>10</th>\n",
       "      <th>2</th>\n",
       "      <th>3</th>\n",
       "      <th>4</th>\n",
       "      <th>5</th>\n",
       "      <th>6</th>\n",
       "      <th>7</th>\n",
       "      <th>...</th>\n",
       "      <th>’ beginning</th>\n",
       "      <th>’ team</th>\n",
       "      <th>’ welcome</th>\n",
       "      <th>’s</th>\n",
       "      <th>’s degree</th>\n",
       "      <th>’s goal</th>\n",
       "      <th>’s large</th>\n",
       "      <th>’s pottery</th>\n",
       "      <th>’s skill</th>\n",
       "      <th>™</th>\n",
       "    </tr>\n",
       "  </thead>\n",
       "  <tbody>\n",
       "    <tr>\n",
       "      <th>0</th>\n",
       "      <td>0.000000</td>\n",
       "      <td>0.0</td>\n",
       "      <td>0.0</td>\n",
       "      <td>0.0</td>\n",
       "      <td>0.0</td>\n",
       "      <td>0.000000</td>\n",
       "      <td>0.0</td>\n",
       "      <td>0.0</td>\n",
       "      <td>0.0</td>\n",
       "      <td>0.0</td>\n",
       "      <td>...</td>\n",
       "      <td>0.0</td>\n",
       "      <td>0.0</td>\n",
       "      <td>0.0</td>\n",
       "      <td>0.00000</td>\n",
       "      <td>0.000000</td>\n",
       "      <td>0.0</td>\n",
       "      <td>0.0</td>\n",
       "      <td>0.0</td>\n",
       "      <td>0.0</td>\n",
       "      <td>0.000000</td>\n",
       "    </tr>\n",
       "    <tr>\n",
       "      <th>1</th>\n",
       "      <td>0.000000</td>\n",
       "      <td>0.0</td>\n",
       "      <td>0.0</td>\n",
       "      <td>0.0</td>\n",
       "      <td>0.0</td>\n",
       "      <td>0.000000</td>\n",
       "      <td>0.0</td>\n",
       "      <td>0.0</td>\n",
       "      <td>0.0</td>\n",
       "      <td>0.0</td>\n",
       "      <td>...</td>\n",
       "      <td>0.0</td>\n",
       "      <td>0.0</td>\n",
       "      <td>0.0</td>\n",
       "      <td>0.00000</td>\n",
       "      <td>0.000000</td>\n",
       "      <td>0.0</td>\n",
       "      <td>0.0</td>\n",
       "      <td>0.0</td>\n",
       "      <td>0.0</td>\n",
       "      <td>0.000000</td>\n",
       "    </tr>\n",
       "    <tr>\n",
       "      <th>2</th>\n",
       "      <td>0.392202</td>\n",
       "      <td>0.0</td>\n",
       "      <td>0.0</td>\n",
       "      <td>0.0</td>\n",
       "      <td>0.0</td>\n",
       "      <td>0.056610</td>\n",
       "      <td>0.0</td>\n",
       "      <td>0.0</td>\n",
       "      <td>0.0</td>\n",
       "      <td>0.0</td>\n",
       "      <td>...</td>\n",
       "      <td>0.0</td>\n",
       "      <td>0.0</td>\n",
       "      <td>0.0</td>\n",
       "      <td>0.02881</td>\n",
       "      <td>0.055571</td>\n",
       "      <td>0.0</td>\n",
       "      <td>0.0</td>\n",
       "      <td>0.0</td>\n",
       "      <td>0.0</td>\n",
       "      <td>0.146845</td>\n",
       "    </tr>\n",
       "    <tr>\n",
       "      <th>3</th>\n",
       "      <td>0.410843</td>\n",
       "      <td>0.0</td>\n",
       "      <td>0.0</td>\n",
       "      <td>0.0</td>\n",
       "      <td>0.0</td>\n",
       "      <td>0.114366</td>\n",
       "      <td>0.0</td>\n",
       "      <td>0.0</td>\n",
       "      <td>0.0</td>\n",
       "      <td>0.0</td>\n",
       "      <td>...</td>\n",
       "      <td>0.0</td>\n",
       "      <td>0.0</td>\n",
       "      <td>0.0</td>\n",
       "      <td>0.00000</td>\n",
       "      <td>0.000000</td>\n",
       "      <td>0.0</td>\n",
       "      <td>0.0</td>\n",
       "      <td>0.0</td>\n",
       "      <td>0.0</td>\n",
       "      <td>0.000000</td>\n",
       "    </tr>\n",
       "    <tr>\n",
       "      <th>4</th>\n",
       "      <td>0.471112</td>\n",
       "      <td>0.0</td>\n",
       "      <td>0.0</td>\n",
       "      <td>0.0</td>\n",
       "      <td>0.0</td>\n",
       "      <td>0.000000</td>\n",
       "      <td>0.0</td>\n",
       "      <td>0.0</td>\n",
       "      <td>0.0</td>\n",
       "      <td>0.0</td>\n",
       "      <td>...</td>\n",
       "      <td>0.0</td>\n",
       "      <td>0.0</td>\n",
       "      <td>0.0</td>\n",
       "      <td>0.00000</td>\n",
       "      <td>0.000000</td>\n",
       "      <td>0.0</td>\n",
       "      <td>0.0</td>\n",
       "      <td>0.0</td>\n",
       "      <td>0.0</td>\n",
       "      <td>0.000000</td>\n",
       "    </tr>\n",
       "  </tbody>\n",
       "</table>\n",
       "<p>5 rows × 4505 columns</p>\n",
       "</div>"
      ],
      "text/plain": [
       "                    1   10    2         3    4    5    6    7  ...  \\\n",
       "0  0.000000  0.0  0.0  0.0  0.0  0.000000  0.0  0.0  0.0  0.0  ...   \n",
       "1  0.000000  0.0  0.0  0.0  0.0  0.000000  0.0  0.0  0.0  0.0  ...   \n",
       "2  0.392202  0.0  0.0  0.0  0.0  0.056610  0.0  0.0  0.0  0.0  ...   \n",
       "3  0.410843  0.0  0.0  0.0  0.0  0.114366  0.0  0.0  0.0  0.0  ...   \n",
       "4  0.471112  0.0  0.0  0.0  0.0  0.000000  0.0  0.0  0.0  0.0  ...   \n",
       "\n",
       "   ’ beginning  ’ team  ’ welcome       ’s  ’s degree  ’s goal  ’s large  \\\n",
       "0          0.0     0.0        0.0  0.00000   0.000000      0.0       0.0   \n",
       "1          0.0     0.0        0.0  0.00000   0.000000      0.0       0.0   \n",
       "2          0.0     0.0        0.0  0.02881   0.055571      0.0       0.0   \n",
       "3          0.0     0.0        0.0  0.00000   0.000000      0.0       0.0   \n",
       "4          0.0     0.0        0.0  0.00000   0.000000      0.0       0.0   \n",
       "\n",
       "   ’s pottery  ’s skill         ™  \n",
       "0         0.0       0.0  0.000000  \n",
       "1         0.0       0.0  0.000000  \n",
       "2         0.0       0.0  0.146845  \n",
       "3         0.0       0.0  0.000000  \n",
       "4         0.0       0.0  0.000000  \n",
       "\n",
       "[5 rows x 4505 columns]"
      ]
     },
     "execution_count": 306,
     "metadata": {},
     "output_type": "execute_result"
    }
   ],
   "source": [
    "from sklearn.feature_extraction.text import TfidfVectorizer\n",
    "\n",
    "def tokenize(document):\n",
    "    \n",
    "    doc = nlp(document)\n",
    "    \n",
    "    return [token.lemma_.strip() for token in doc if (token.is_stop != True) and (token.is_punct != True)]\n",
    "\n",
    "tfidf = TfidfVectorizer(tokenizer=tokenize, min_df=0.025, max_df=.98, ngram_range=(1,2))\n",
    "\n",
    "# Create a vocabulary and get word counts per document\n",
    "dtm = tfidf.fit_transform(text) # Similiar to fit_predict\n",
    "\n",
    "# Print word counts\n",
    "\n",
    "# Get feature names to use as dataframe column headers\n",
    "dtm = pd.DataFrame(dtm.todense(), columns=tfidf.get_feature_names())\n",
    "\n",
    "# View Feature Matrix as DataFrame\n",
    "dtm.head()"
   ]
  },
  {
   "cell_type": "code",
   "execution_count": 307,
   "metadata": {},
   "outputs": [
    {
     "data": {
      "text/plain": [
       "(159, 159)"
      ]
     },
     "execution_count": 307,
     "metadata": {},
     "output_type": "execute_result"
    }
   ],
   "source": [
    "from sklearn.metrics.pairwise import cosine_similarity\n",
    "\n",
    "dist_matrix  = cosine_similarity(dtm)\n",
    "df = pd.DataFrame(dist_matrix)\n",
    "\n",
    "df.shape"
   ]
  },
  {
   "cell_type": "code",
   "execution_count": 313,
   "metadata": {},
   "outputs": [
    {
     "data": {
      "text/plain": [
       "5      1.000000\n",
       "83     0.280249\n",
       "82     0.278131\n",
       "37     0.261511\n",
       "56     0.260976\n",
       "21     0.256268\n",
       "87     0.245946\n",
       "22     0.244808\n",
       "144    0.239572\n",
       "115    0.230203\n",
       "Name: 5, dtype: float64"
      ]
     },
     "execution_count": 313,
     "metadata": {},
     "output_type": "execute_result"
    }
   ],
   "source": [
    "df[5].sort_values(ascending=False)[:10]"
   ]
  },
  {
   "cell_type": "code",
   "execution_count": null,
   "metadata": {},
   "outputs": [],
   "source": []
  },
  {
   "cell_type": "code",
   "execution_count": 314,
   "metadata": {},
   "outputs": [
    {
     "data": {
      "text/html": [
       "<div>\n",
       "<style scoped>\n",
       "    .dataframe tbody tr th:only-of-type {\n",
       "        vertical-align: middle;\n",
       "    }\n",
       "\n",
       "    .dataframe tbody tr th {\n",
       "        vertical-align: top;\n",
       "    }\n",
       "\n",
       "    .dataframe thead th {\n",
       "        text-align: right;\n",
       "    }\n",
       "</style>\n",
       "<table border=\"1\" class=\"dataframe\">\n",
       "  <thead>\n",
       "    <tr style=\"text-align: right;\">\n",
       "      <th></th>\n",
       "      <th>0</th>\n",
       "      <th>1</th>\n",
       "      <th>2</th>\n",
       "      <th>3</th>\n",
       "      <th>4</th>\n",
       "      <th>5</th>\n",
       "      <th>6</th>\n",
       "      <th>7</th>\n",
       "      <th>8</th>\n",
       "      <th>9</th>\n",
       "      <th>...</th>\n",
       "      <th>149</th>\n",
       "      <th>150</th>\n",
       "      <th>151</th>\n",
       "      <th>152</th>\n",
       "      <th>153</th>\n",
       "      <th>154</th>\n",
       "      <th>155</th>\n",
       "      <th>156</th>\n",
       "      <th>157</th>\n",
       "      <th>158</th>\n",
       "    </tr>\n",
       "  </thead>\n",
       "  <tbody>\n",
       "    <tr>\n",
       "      <th>0</th>\n",
       "      <td>1.000000</td>\n",
       "      <td>0.038308</td>\n",
       "      <td>0.024459</td>\n",
       "      <td>0.025979</td>\n",
       "      <td>0.024303</td>\n",
       "      <td>0.063238</td>\n",
       "      <td>0.024303</td>\n",
       "      <td>0.032966</td>\n",
       "      <td>0.049145</td>\n",
       "      <td>0.032548</td>\n",
       "      <td>...</td>\n",
       "      <td>0.041457</td>\n",
       "      <td>0.037294</td>\n",
       "      <td>0.014302</td>\n",
       "      <td>0.026946</td>\n",
       "      <td>0.008753</td>\n",
       "      <td>0.011808</td>\n",
       "      <td>0.022118</td>\n",
       "      <td>0.014258</td>\n",
       "      <td>0.024054</td>\n",
       "      <td>1.000000</td>\n",
       "    </tr>\n",
       "    <tr>\n",
       "      <th>1</th>\n",
       "      <td>0.038308</td>\n",
       "      <td>1.000000</td>\n",
       "      <td>0.120914</td>\n",
       "      <td>0.100520</td>\n",
       "      <td>0.072820</td>\n",
       "      <td>0.082545</td>\n",
       "      <td>0.072820</td>\n",
       "      <td>0.060879</td>\n",
       "      <td>0.124983</td>\n",
       "      <td>0.071371</td>\n",
       "      <td>...</td>\n",
       "      <td>0.100925</td>\n",
       "      <td>0.122985</td>\n",
       "      <td>0.062374</td>\n",
       "      <td>0.082948</td>\n",
       "      <td>0.049868</td>\n",
       "      <td>0.042211</td>\n",
       "      <td>0.061323</td>\n",
       "      <td>0.050041</td>\n",
       "      <td>0.060501</td>\n",
       "      <td>0.038308</td>\n",
       "    </tr>\n",
       "    <tr>\n",
       "      <th>2</th>\n",
       "      <td>0.024459</td>\n",
       "      <td>0.120914</td>\n",
       "      <td>1.000000</td>\n",
       "      <td>0.287240</td>\n",
       "      <td>0.272961</td>\n",
       "      <td>0.192529</td>\n",
       "      <td>0.272961</td>\n",
       "      <td>0.150081</td>\n",
       "      <td>0.264884</td>\n",
       "      <td>0.039610</td>\n",
       "      <td>...</td>\n",
       "      <td>0.187862</td>\n",
       "      <td>0.318554</td>\n",
       "      <td>0.200950</td>\n",
       "      <td>0.141269</td>\n",
       "      <td>0.049101</td>\n",
       "      <td>0.172773</td>\n",
       "      <td>0.061486</td>\n",
       "      <td>0.231826</td>\n",
       "      <td>0.075626</td>\n",
       "      <td>0.024459</td>\n",
       "    </tr>\n",
       "    <tr>\n",
       "      <th>3</th>\n",
       "      <td>0.025979</td>\n",
       "      <td>0.100520</td>\n",
       "      <td>0.287240</td>\n",
       "      <td>1.000000</td>\n",
       "      <td>0.345731</td>\n",
       "      <td>0.212489</td>\n",
       "      <td>0.345731</td>\n",
       "      <td>0.227959</td>\n",
       "      <td>0.272679</td>\n",
       "      <td>0.121380</td>\n",
       "      <td>...</td>\n",
       "      <td>0.280082</td>\n",
       "      <td>0.356869</td>\n",
       "      <td>0.297201</td>\n",
       "      <td>0.255688</td>\n",
       "      <td>0.083504</td>\n",
       "      <td>0.242393</td>\n",
       "      <td>0.159268</td>\n",
       "      <td>0.274659</td>\n",
       "      <td>0.158520</td>\n",
       "      <td>0.025979</td>\n",
       "    </tr>\n",
       "    <tr>\n",
       "      <th>4</th>\n",
       "      <td>0.024303</td>\n",
       "      <td>0.072820</td>\n",
       "      <td>0.272961</td>\n",
       "      <td>0.345731</td>\n",
       "      <td>1.000000</td>\n",
       "      <td>0.185037</td>\n",
       "      <td>1.000000</td>\n",
       "      <td>0.198885</td>\n",
       "      <td>0.291171</td>\n",
       "      <td>0.061120</td>\n",
       "      <td>...</td>\n",
       "      <td>0.260450</td>\n",
       "      <td>0.262285</td>\n",
       "      <td>0.255432</td>\n",
       "      <td>0.196680</td>\n",
       "      <td>0.059806</td>\n",
       "      <td>0.203202</td>\n",
       "      <td>0.079119</td>\n",
       "      <td>0.268248</td>\n",
       "      <td>0.088733</td>\n",
       "      <td>0.024303</td>\n",
       "    </tr>\n",
       "  </tbody>\n",
       "</table>\n",
       "<p>5 rows × 159 columns</p>\n",
       "</div>"
      ],
      "text/plain": [
       "        0         1         2         3         4         5         6    \\\n",
       "0  1.000000  0.038308  0.024459  0.025979  0.024303  0.063238  0.024303   \n",
       "1  0.038308  1.000000  0.120914  0.100520  0.072820  0.082545  0.072820   \n",
       "2  0.024459  0.120914  1.000000  0.287240  0.272961  0.192529  0.272961   \n",
       "3  0.025979  0.100520  0.287240  1.000000  0.345731  0.212489  0.345731   \n",
       "4  0.024303  0.072820  0.272961  0.345731  1.000000  0.185037  1.000000   \n",
       "\n",
       "        7         8         9    ...       149       150       151       152  \\\n",
       "0  0.032966  0.049145  0.032548  ...  0.041457  0.037294  0.014302  0.026946   \n",
       "1  0.060879  0.124983  0.071371  ...  0.100925  0.122985  0.062374  0.082948   \n",
       "2  0.150081  0.264884  0.039610  ...  0.187862  0.318554  0.200950  0.141269   \n",
       "3  0.227959  0.272679  0.121380  ...  0.280082  0.356869  0.297201  0.255688   \n",
       "4  0.198885  0.291171  0.061120  ...  0.260450  0.262285  0.255432  0.196680   \n",
       "\n",
       "        153       154       155       156       157       158  \n",
       "0  0.008753  0.011808  0.022118  0.014258  0.024054  1.000000  \n",
       "1  0.049868  0.042211  0.061323  0.050041  0.060501  0.038308  \n",
       "2  0.049101  0.172773  0.061486  0.231826  0.075626  0.024459  \n",
       "3  0.083504  0.242393  0.159268  0.274659  0.158520  0.025979  \n",
       "4  0.059806  0.203202  0.079119  0.268248  0.088733  0.024303  \n",
       "\n",
       "[5 rows x 159 columns]"
      ]
     },
     "execution_count": 314,
     "metadata": {},
     "output_type": "execute_result"
    }
   ],
   "source": [
    "df.head()"
   ]
  },
  {
   "cell_type": "markdown",
   "metadata": {},
   "source": [
    "## 6) Create a NearestNeighbor Model. Write the description of your ideal datascience job and query your job listings. "
   ]
  },
  {
   "cell_type": "code",
   "execution_count": 315,
   "metadata": {
    "collapsed": false,
    "inputHidden": false,
    "jupyter": {
     "outputs_hidden": false
    },
    "outputHidden": false
   },
   "outputs": [
    {
     "data": {
      "text/plain": [
       "NearestNeighbors(algorithm='kd_tree', leaf_size=30, metric='minkowski',\n",
       "         metric_params=None, n_jobs=None, n_neighbors=5, p=2, radius=1.0)"
      ]
     },
     "execution_count": 315,
     "metadata": {},
     "output_type": "execute_result"
    }
   ],
   "source": [
    "from sklearn.neighbors import NearestNeighbors\n",
    "\n",
    "# Fit on TF-IDF Vectors\n",
    "nn  = NearestNeighbors(n_neighbors=5, algorithm='kd_tree')\n",
    "nn.fit(dtm)"
   ]
  },
  {
   "cell_type": "code",
   "execution_count": 322,
   "metadata": {},
   "outputs": [
    {
     "data": {
      "text/plain": [
       "(array([[0.        , 1.19979242, 1.20155682, 1.21530979, 1.21574991]]),\n",
       " array([[ 5, 83, 82, 37, 56]], dtype=int64))"
      ]
     },
     "execution_count": 322,
     "metadata": {},
     "output_type": "execute_result"
    }
   ],
   "source": [
    "nn.kneighbors([dtm.iloc[5]])"
   ]
  },
  {
   "cell_type": "code",
   "execution_count": 324,
   "metadata": {},
   "outputs": [
    {
     "data": {
      "text/plain": [
       "'About Mason\\n\\nMason is a high-growth venture backed startup based in Seattle, Washington.\\n\\nMason is transforming mobile deployments the same way AWS transformed web app development, making it easy for companies to deploy their software on single-use Android devices anywhere in the world.\\n\\nOur customers range from public companies deploying patient engagement software on 22” devices in hospitals, to'"
      ]
     },
     "execution_count": 324,
     "metadata": {},
     "output_type": "execute_result"
    }
   ],
   "source": [
    "job_df.description[5][:400]"
   ]
  },
  {
   "cell_type": "code",
   "execution_count": 325,
   "metadata": {},
   "outputs": [
    {
     "data": {
      "text/plain": [
       "'We are looking for a Sr Data Scientist to help develop digital marketing solutions for us. You should be strong in developing Data Algorithms as well as data pipelines to make recommendations about content delivery. If this sounds interesting to you, please apply ASAP and we will get back to you immediately.Job Type: Full-time'"
      ]
     },
     "execution_count": 325,
     "metadata": {},
     "output_type": "execute_result"
    }
   ],
   "source": [
    "job_df.description[82][:400]"
   ]
  },
  {
   "cell_type": "markdown",
   "metadata": {
    "colab_type": "text",
    "id": "FiDfTWceoRkH"
   },
   "source": [
    "## Stretch Goals\n",
    "\n",
    " - Try different visualizations for words and frequencies - what story do you want to tell with the data?\n",
    " - Scrape Job Listings for the job title \"Data Analyst\". How do these differ from Data Scientist Job Listings\n",
    " - Try and identify requirements for experience specific technologies that are asked for in the job listings. How are those distributed among the job listings?\n",
    " - Use a clustering algorithm to cluster documents by their most important terms. Do the clusters reveal any common themes?\n",
    "  - **Hint:** K-means might not be the best algorithm for this. Do a little bit of research to see what might be good for this. Also, remember that algorithms that depend on Euclidean distance break down with high dimensional data.\n",
    " - Create a labeled dataset - which jobs will you apply for? Train a model to select the jobs you are most likely to apply for. :) "
   ]
  }
 ],
 "metadata": {
  "colab": {
   "collapsed_sections": [],
   "name": "LS_DS_422_BOW_Assignment.ipynb",
   "provenance": [],
   "version": "0.3.2"
  },
  "kernel_info": {
   "name": "python3"
  },
  "kernelspec": {
   "display_name": "unit-4",
   "language": "python",
   "name": "unit-4"
  },
  "language_info": {
   "codemirror_mode": {
    "name": "ipython",
    "version": 3
   },
   "file_extension": ".py",
   "mimetype": "text/x-python",
   "name": "python",
   "nbconvert_exporter": "python",
   "pygments_lexer": "ipython3",
   "version": "3.7.0"
  },
  "nteract": {
   "version": "0.14.3"
  }
 },
 "nbformat": 4,
 "nbformat_minor": 4
}
